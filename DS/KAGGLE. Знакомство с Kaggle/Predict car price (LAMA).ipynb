{
 "cells": [
  {
   "cell_type": "markdown",
   "id": "c22c7f17",
   "metadata": {},
   "source": [
    "# Introduction\n",
    "\n",
    "### Задача:  \n",
    "Необходимо предсказать адекватную цену автомобиля основываясь на характеристиках машины из объявления. \n",
    "\n",
    "_Условия соревнования:_  \n",
    "- Тестовая выборка представлена в Лидерборде целиком. Поэтому лучшие и победные решения буду проверяться на их \"адекватность\" (чтоб не было подгонки под тестовую выборку).\n",
    "- Разрешено использовать любые ML алгоритмы и библиотеки (кроме DL).\n",
    "- Ваш сабмит в соревнование должен выглядеть как `sample_submission.csv` файл - содержать 10697 строк с предсказаниями для каждого `row_ID` от 35000 до 45696 включительно.\n",
    "\n",
    "_Метрика:_  \n",
    "\n",
    "Метрикой в данном соревновании является __MAE - среднее абсолютное отклонение (mean absolute error).__ MAE вычисляет среднее абсолютное значение разности между прогнозами модели и фактическими значениями целевой переменной.   \n",
    "\n",
    "Причины выбора MAE:\n",
    "- Интерпретируемость - MAE легко интерпретируется, так как он представляет абсолютное среднее значение ошибки в исходных единицах измерения целевой переменной. \n",
    "- Устойчивость к выбросам - MAE менее чувствителен к выбросам в данных по сравнению с другими метриками, такими как среднеквадратическая ошибка (MSE). Здесь учитывается абсолютное отклонение и не уделяет большого внимания значениям, которые сильно выбиваются из общей тенденции. Но отсюда же и вытекает минус в некоторых задачах, эта метрика не штрафует за выбросы как MSE.\n",
    "- Простота: Вычисление MAE просто и не требует сложных математических операций, как в случае MSE.\n",
    "\n",
    "### Данные\n",
    "\n",
    "_Данные у нас представленны тремя файлами:_\n",
    "- sample_submission.csv - пример как должен выглядить наш сабмит.\n",
    "- test_data.csv - тестовые данные на которых будет проверяться наша обученная модель.\n",
    "- train_data.csv - данные на которых мы будет тренировать нашу модель.\n",
    "\n",
    "_Описание признаков:_\n",
    "- row_id - ID объявления\n",
    "- vehicle_manufacturer - марка автомобиля\n",
    "- vehicle_model - модель автомобиля\n",
    "- vehicle_category - тип машины\n",
    "- current_mileage - текущий пробег\n",
    "- vehicle_year - год выпуска\n",
    "- vehicle_gearbox_type - тип коробки передач\n",
    "- doors_cnt - количество дверей\n",
    "- wheels - левый/правый руль\n",
    "- vehicle_color - цвет машины\n",
    "- vehicle_interior_color - цвет салона машины\n",
    "- car_vin - VIN номер автомобиля\n",
    "- car_leather_interior - флаг наличия кожаного салоона\n",
    "- deal_type - тип объявления: продажа или аренда\n",
    "- final_price - стоимость машины (Целевая переменная)"
   ]
  },
  {
   "cell_type": "markdown",
   "id": "720c5866",
   "metadata": {},
   "source": [
    "### Imports\n",
    "Import libraries and write settings here."
   ]
  },
  {
   "cell_type": "code",
   "execution_count": 1,
   "id": "d6811069",
   "metadata": {
    "ExecuteTime": {
     "end_time": "2023-09-24T19:12:09.600627Z",
     "start_time": "2023-09-24T19:12:03.201497Z"
    }
   },
   "outputs": [
    {
     "ename": "TypeError",
     "evalue": "cannot set 'get_record_history_wrapper' attribute of immutable type 'object'",
     "output_type": "error",
     "traceback": [
      "\u001b[0;31m---------------------------------------------------------------------------\u001b[0m",
      "\u001b[0;31mTypeError\u001b[0m                                 Traceback (most recent call last)",
      "Cell \u001b[0;32mIn[1], line 13\u001b[0m\n\u001b[1;32m     10\u001b[0m \u001b[38;5;28;01mimport\u001b[39;00m \u001b[38;5;21;01mtorch\u001b[39;00m\n\u001b[1;32m     12\u001b[0m \u001b[38;5;66;03m# LightAutoML presets, task and report generation\u001b[39;00m\n\u001b[0;32m---> 13\u001b[0m \u001b[38;5;28;01mfrom\u001b[39;00m \u001b[38;5;21;01mlightautoml\u001b[39;00m\u001b[38;5;21;01m.\u001b[39;00m\u001b[38;5;21;01mautoml\u001b[39;00m\u001b[38;5;21;01m.\u001b[39;00m\u001b[38;5;21;01mpresets\u001b[39;00m\u001b[38;5;21;01m.\u001b[39;00m\u001b[38;5;21;01mtabular_presets\u001b[39;00m \u001b[38;5;28;01mimport\u001b[39;00m TabularAutoML\n\u001b[1;32m     14\u001b[0m \u001b[38;5;28;01mfrom\u001b[39;00m \u001b[38;5;21;01mlightautoml\u001b[39;00m\u001b[38;5;21;01m.\u001b[39;00m\u001b[38;5;21;01mtasks\u001b[39;00m \u001b[38;5;28;01mimport\u001b[39;00m Task\n\u001b[1;32m     16\u001b[0m \u001b[38;5;66;03m# Options for pandas\u001b[39;00m\n",
      "File \u001b[0;32m~/anaconda3/envs/python=3.11.4/lib/python3.11/site-packages/lightautoml/__init__.py:16\u001b[0m\n\u001b[1;32m     12\u001b[0m     \u001b[38;5;28;01mimport\u001b[39;00m \u001b[38;5;21;01mimportlib_metadata\u001b[39;00m\n\u001b[1;32m     14\u001b[0m __version__ \u001b[38;5;241m=\u001b[39m importlib_metadata\u001b[38;5;241m.\u001b[39mversion(\u001b[38;5;18m__name__\u001b[39m)\n\u001b[0;32m---> 16\u001b[0m \u001b[38;5;28;01mfrom\u001b[39;00m \u001b[38;5;21;01m.\u001b[39;00m\u001b[38;5;21;01maddons\u001b[39;00m \u001b[38;5;28;01mimport\u001b[39;00m \u001b[38;5;241m*\u001b[39m\n\u001b[1;32m     17\u001b[0m \u001b[38;5;28;01mfrom\u001b[39;00m \u001b[38;5;21;01m.\u001b[39;00m\u001b[38;5;21;01maddons\u001b[39;00m\u001b[38;5;21;01m.\u001b[39;00m\u001b[38;5;21;01mutilization\u001b[39;00m \u001b[38;5;28;01mimport\u001b[39;00m \u001b[38;5;241m*\u001b[39m\n\u001b[1;32m     18\u001b[0m \u001b[38;5;28;01mfrom\u001b[39;00m \u001b[38;5;21;01m.\u001b[39;00m\u001b[38;5;21;01mautoml\u001b[39;00m \u001b[38;5;28;01mimport\u001b[39;00m \u001b[38;5;241m*\u001b[39m\n",
      "File \u001b[0;32m~/anaconda3/envs/python=3.11.4/lib/python3.11/site-packages/lightautoml/addons/utilization/__init__.py:2\u001b[0m\n\u001b[1;32m      1\u001b[0m \u001b[38;5;124;03m\"\"\"Tools to configure resources utilization.\"\"\"\u001b[39;00m\n\u001b[0;32m----> 2\u001b[0m \u001b[38;5;28;01mfrom\u001b[39;00m \u001b[38;5;21;01m.\u001b[39;00m\u001b[38;5;21;01mutilization\u001b[39;00m \u001b[38;5;28;01mimport\u001b[39;00m TimeUtilization\n\u001b[1;32m      4\u001b[0m __all__ \u001b[38;5;241m=\u001b[39m [\u001b[38;5;124m'\u001b[39m\u001b[38;5;124mTimeUtilization\u001b[39m\u001b[38;5;124m'\u001b[39m]\n",
      "File \u001b[0;32m~/anaconda3/envs/python=3.11.4/lib/python3.11/site-packages/lightautoml/addons/utilization/utilization.py:8\u001b[0m\n\u001b[1;32m      4\u001b[0m \u001b[38;5;28;01mfrom\u001b[39;00m \u001b[38;5;21;01mtyping\u001b[39;00m \u001b[38;5;28;01mimport\u001b[39;00m Optional, Any, Sequence, Type, Union, Iterable\n\u001b[1;32m      6\u001b[0m \u001b[38;5;28;01mfrom\u001b[39;00m \u001b[38;5;21;01mlog_calls\u001b[39;00m \u001b[38;5;28;01mimport\u001b[39;00m record_history\n\u001b[0;32m----> 8\u001b[0m \u001b[38;5;28;01mfrom\u001b[39;00m \u001b[38;5;21;01m.\u001b[39;00m\u001b[38;5;21;01m.\u001b[39;00m\u001b[38;5;21;01m.\u001b[39;00m\u001b[38;5;21;01mautoml\u001b[39;00m\u001b[38;5;21;01m.\u001b[39;00m\u001b[38;5;21;01mbase\u001b[39;00m \u001b[38;5;28;01mimport\u001b[39;00m AutoML\n\u001b[1;32m      9\u001b[0m \u001b[38;5;28;01mfrom\u001b[39;00m \u001b[38;5;21;01m.\u001b[39;00m\u001b[38;5;21;01m.\u001b[39;00m\u001b[38;5;21;01m.\u001b[39;00m\u001b[38;5;21;01mautoml\u001b[39;00m\u001b[38;5;21;01m.\u001b[39;00m\u001b[38;5;21;01mblend\u001b[39;00m \u001b[38;5;28;01mimport\u001b[39;00m Blender, BestModelSelector\n\u001b[1;32m     10\u001b[0m \u001b[38;5;28;01mfrom\u001b[39;00m \u001b[38;5;21;01m.\u001b[39;00m\u001b[38;5;21;01m.\u001b[39;00m\u001b[38;5;21;01m.\u001b[39;00m\u001b[38;5;21;01mautoml\u001b[39;00m\u001b[38;5;21;01m.\u001b[39;00m\u001b[38;5;21;01mpresets\u001b[39;00m\u001b[38;5;21;01m.\u001b[39;00m\u001b[38;5;21;01mbase\u001b[39;00m \u001b[38;5;28;01mimport\u001b[39;00m AutoMLPreset\n",
      "File \u001b[0;32m~/anaconda3/envs/python=3.11.4/lib/python3.11/site-packages/lightautoml/automl/base.py:8\u001b[0m\n\u001b[1;32m      4\u001b[0m \u001b[38;5;28;01mfrom\u001b[39;00m \u001b[38;5;21;01mtyping\u001b[39;00m \u001b[38;5;28;01mimport\u001b[39;00m Sequence, Any, Optional, Iterable, Dict, List\n\u001b[1;32m      6\u001b[0m \u001b[38;5;28;01mfrom\u001b[39;00m \u001b[38;5;21;01mlog_calls\u001b[39;00m \u001b[38;5;28;01mimport\u001b[39;00m record_history\n\u001b[0;32m----> 8\u001b[0m \u001b[38;5;28;01mfrom\u001b[39;00m \u001b[38;5;21;01m.\u001b[39;00m\u001b[38;5;21;01mblend\u001b[39;00m \u001b[38;5;28;01mimport\u001b[39;00m Blender, BestModelSelector\n\u001b[1;32m      9\u001b[0m \u001b[38;5;28;01mfrom\u001b[39;00m \u001b[38;5;21;01m.\u001b[39;00m\u001b[38;5;21;01m.\u001b[39;00m\u001b[38;5;21;01mdataset\u001b[39;00m\u001b[38;5;21;01m.\u001b[39;00m\u001b[38;5;21;01mbase\u001b[39;00m \u001b[38;5;28;01mimport\u001b[39;00m LAMLDataset\n\u001b[1;32m     10\u001b[0m \u001b[38;5;28;01mfrom\u001b[39;00m \u001b[38;5;21;01m.\u001b[39;00m\u001b[38;5;21;01m.\u001b[39;00m\u001b[38;5;21;01mdataset\u001b[39;00m\u001b[38;5;21;01m.\u001b[39;00m\u001b[38;5;21;01mutils\u001b[39;00m \u001b[38;5;28;01mimport\u001b[39;00m concatenate\n",
      "File \u001b[0;32m~/anaconda3/envs/python=3.11.4/lib/python3.11/site-packages/lightautoml/automl/blend.py:9\u001b[0m\n\u001b[1;32m      6\u001b[0m \u001b[38;5;28;01mfrom\u001b[39;00m \u001b[38;5;21;01mlog_calls\u001b[39;00m \u001b[38;5;28;01mimport\u001b[39;00m record_history\n\u001b[1;32m      7\u001b[0m \u001b[38;5;28;01mfrom\u001b[39;00m \u001b[38;5;21;01mscipy\u001b[39;00m\u001b[38;5;21;01m.\u001b[39;00m\u001b[38;5;21;01moptimize\u001b[39;00m \u001b[38;5;28;01mimport\u001b[39;00m minimize_scalar\n\u001b[0;32m----> 9\u001b[0m \u001b[38;5;28;01mfrom\u001b[39;00m \u001b[38;5;21;01m.\u001b[39;00m\u001b[38;5;21;01m.\u001b[39;00m\u001b[38;5;21;01mdataset\u001b[39;00m\u001b[38;5;21;01m.\u001b[39;00m\u001b[38;5;21;01mbase\u001b[39;00m \u001b[38;5;28;01mimport\u001b[39;00m LAMLDataset\n\u001b[1;32m     10\u001b[0m \u001b[38;5;28;01mfrom\u001b[39;00m \u001b[38;5;21;01m.\u001b[39;00m\u001b[38;5;21;01m.\u001b[39;00m\u001b[38;5;21;01mdataset\u001b[39;00m\u001b[38;5;21;01m.\u001b[39;00m\u001b[38;5;21;01mnp_pd_dataset\u001b[39;00m \u001b[38;5;28;01mimport\u001b[39;00m NumpyDataset\n\u001b[1;32m     11\u001b[0m \u001b[38;5;28;01mfrom\u001b[39;00m \u001b[38;5;21;01m.\u001b[39;00m\u001b[38;5;21;01m.\u001b[39;00m\u001b[38;5;21;01mdataset\u001b[39;00m\u001b[38;5;21;01m.\u001b[39;00m\u001b[38;5;21;01mroles\u001b[39;00m \u001b[38;5;28;01mimport\u001b[39;00m NumericRole\n",
      "File \u001b[0;32m~/anaconda3/envs/python=3.11.4/lib/python3.11/site-packages/lightautoml/dataset/base.py:8\u001b[0m\n\u001b[1;32m      4\u001b[0m \u001b[38;5;28;01mfrom\u001b[39;00m \u001b[38;5;21;01mtyping\u001b[39;00m \u001b[38;5;28;01mimport\u001b[39;00m Any, Optional, Dict, List, Tuple, Sequence, Union, TypeVar\n\u001b[1;32m      6\u001b[0m \u001b[38;5;28;01mfrom\u001b[39;00m \u001b[38;5;21;01mlog_calls\u001b[39;00m \u001b[38;5;28;01mimport\u001b[39;00m record_history\n\u001b[0;32m----> 8\u001b[0m \u001b[38;5;28;01mfrom\u001b[39;00m \u001b[38;5;21;01m.\u001b[39;00m\u001b[38;5;21;01mroles\u001b[39;00m \u001b[38;5;28;01mimport\u001b[39;00m ColumnRole\n\u001b[1;32m      9\u001b[0m \u001b[38;5;28;01mfrom\u001b[39;00m \u001b[38;5;21;01m.\u001b[39;00m\u001b[38;5;21;01m.\u001b[39;00m\u001b[38;5;21;01mtasks\u001b[39;00m\u001b[38;5;21;01m.\u001b[39;00m\u001b[38;5;21;01mbase\u001b[39;00m \u001b[38;5;28;01mimport\u001b[39;00m Task\n\u001b[1;32m     11\u001b[0m valid_array_attributes \u001b[38;5;241m=\u001b[39m (\u001b[38;5;124m'\u001b[39m\u001b[38;5;124mtarget\u001b[39m\u001b[38;5;124m'\u001b[39m, \u001b[38;5;124m'\u001b[39m\u001b[38;5;124mgroup\u001b[39m\u001b[38;5;124m'\u001b[39m, \u001b[38;5;124m'\u001b[39m\u001b[38;5;124mfolds\u001b[39m\u001b[38;5;124m'\u001b[39m, \u001b[38;5;124m'\u001b[39m\u001b[38;5;124mweights\u001b[39m\u001b[38;5;124m'\u001b[39m)\n",
      "File \u001b[0;32m~/anaconda3/envs/python=3.11.4/lib/python3.11/site-packages/lightautoml/dataset/roles.py:14\u001b[0m\n\u001b[1;32m      9\u001b[0m Dtype \u001b[38;5;241m=\u001b[39m Union[Callable, \u001b[38;5;28mtype\u001b[39m, \u001b[38;5;28mstr\u001b[39m]\n\u001b[1;32m     12\u001b[0m \u001b[38;5;66;03m# valid_features_str_names = []\u001b[39;00m\n\u001b[0;32m---> 14\u001b[0m \u001b[38;5;129m@record_history\u001b[39m(enabled\u001b[38;5;241m=\u001b[39m\u001b[38;5;28;01mFalse\u001b[39;00m)\n\u001b[1;32m     15\u001b[0m \u001b[38;5;28;01mclass\u001b[39;00m \u001b[38;5;21;01mColumnRole\u001b[39;00m:\n\u001b[1;32m     16\u001b[0m \u001b[38;5;250m    \u001b[39m\u001b[38;5;124;03m\"\"\"Abstract class for column role.\u001b[39;00m\n\u001b[1;32m     17\u001b[0m \n\u001b[1;32m     18\u001b[0m \u001b[38;5;124;03m    Role type defines column dtype,\u001b[39;00m\n\u001b[0;32m   (...)\u001b[0m\n\u001b[1;32m     22\u001b[0m \n\u001b[1;32m     23\u001b[0m \u001b[38;5;124;03m    \"\"\"\u001b[39;00m\n\u001b[1;32m     24\u001b[0m     dtype \u001b[38;5;241m=\u001b[39m \u001b[38;5;28mobject\u001b[39m\n",
      "File \u001b[0;32m~/anaconda3/envs/python=3.11.4/lib/python3.11/site-packages/log_calls/log_calls.py:1691\u001b[0m, in \u001b[0;36m_deco_base.__call__\u001b[0;34m(self, f_or_klass)\u001b[0m\n\u001b[1;32m   1684\u001b[0m \u001b[38;5;28mself\u001b[39m\u001b[38;5;241m.\u001b[39mcls \u001b[38;5;241m=\u001b[39m klass\n\u001b[1;32m   1686\u001b[0m \u001b[38;5;28;01mif\u001b[39;00m klass:\n\u001b[1;32m   1687\u001b[0m     \u001b[38;5;66;03m#+*+*+*+*+*+*+*+*+*+*+*+*+*+*+*+*+*+*+*+*+*+*+*+*+*+*+*+*+*+*+*+*\u001b[39;00m\n\u001b[1;32m   1688\u001b[0m     \u001b[38;5;66;03m# 0.3.0 -- case \"f_or_klass is a class\" -- namely, klass\u001b[39;00m\n\u001b[1;32m   1689\u001b[0m     \u001b[38;5;66;03m#+*+*+*+*+*+*+*+*+*+*+*+*+*+*+*+*+*+*+*+*+*+*+*+*+*+*+*+*+*+*+*+*\u001b[39;00m\n\u001b[0;32m-> 1691\u001b[0m     \u001b[38;5;28mself\u001b[39m\u001b[38;5;241m.\u001b[39m_class__call__(klass)      \u001b[38;5;66;03m# modifies klass (methods & inner classes) (if not builtin)\u001b[39;00m\n\u001b[1;32m   1692\u001b[0m     \u001b[38;5;28mself\u001b[39m\u001b[38;5;241m.\u001b[39m_add_class_attrs(klass)    \u001b[38;5;66;03m# v0.3.0v20 traps TypeError for builtins\u001b[39;00m\n\u001b[1;32m   1693\u001b[0m     \u001b[38;5;28;01mreturn\u001b[39;00m klass\n",
      "File \u001b[0;32m~/anaconda3/envs/python=3.11.4/lib/python3.11/site-packages/log_calls/log_calls.py:1482\u001b[0m, in \u001b[0;36m_deco_base._class__call__\u001b[0;34m(self, klass)\u001b[0m\n\u001b[1;32m   1479\u001b[0m     new_only \u001b[38;5;241m=\u001b[39m deco_obj\u001b[38;5;241m.\u001b[39m_only \u001b[38;5;129;01mor\u001b[39;00m \u001b[38;5;28mself\u001b[39m\u001b[38;5;241m.\u001b[39m_only\n\u001b[1;32m   1480\u001b[0m     new_omit \u001b[38;5;241m+\u001b[39m\u001b[38;5;241m=\u001b[39m deco_obj\u001b[38;5;241m.\u001b[39m_omit\n\u001b[0;32m-> 1482\u001b[0m new_class \u001b[38;5;241m=\u001b[39m \u001b[38;5;28mself\u001b[39m\u001b[38;5;241m.\u001b[39m\u001b[38;5;18m__class__\u001b[39m(\n\u001b[1;32m   1483\u001b[0m     settings\u001b[38;5;241m=\u001b[39mnew_settings,\n\u001b[1;32m   1484\u001b[0m     only\u001b[38;5;241m=\u001b[39mnew_only,\n\u001b[1;32m   1485\u001b[0m     omit\u001b[38;5;241m=\u001b[39mnew_omit\n\u001b[1;32m   1486\u001b[0m )(item)\n\u001b[1;32m   1487\u001b[0m \u001b[38;5;66;03m# and replace in class dict\u001b[39;00m\n\u001b[1;32m   1488\u001b[0m \u001b[38;5;28msetattr\u001b[39m(klass, name, new_class)\n",
      "File \u001b[0;32m~/anaconda3/envs/python=3.11.4/lib/python3.11/site-packages/log_calls/log_calls.py:1692\u001b[0m, in \u001b[0;36m_deco_base.__call__\u001b[0;34m(self, f_or_klass)\u001b[0m\n\u001b[1;32m   1686\u001b[0m \u001b[38;5;28;01mif\u001b[39;00m klass:\n\u001b[1;32m   1687\u001b[0m     \u001b[38;5;66;03m#+*+*+*+*+*+*+*+*+*+*+*+*+*+*+*+*+*+*+*+*+*+*+*+*+*+*+*+*+*+*+*+*\u001b[39;00m\n\u001b[1;32m   1688\u001b[0m     \u001b[38;5;66;03m# 0.3.0 -- case \"f_or_klass is a class\" -- namely, klass\u001b[39;00m\n\u001b[1;32m   1689\u001b[0m     \u001b[38;5;66;03m#+*+*+*+*+*+*+*+*+*+*+*+*+*+*+*+*+*+*+*+*+*+*+*+*+*+*+*+*+*+*+*+*\u001b[39;00m\n\u001b[1;32m   1691\u001b[0m     \u001b[38;5;28mself\u001b[39m\u001b[38;5;241m.\u001b[39m_class__call__(klass)      \u001b[38;5;66;03m# modifies klass (methods & inner classes) (if not builtin)\u001b[39;00m\n\u001b[0;32m-> 1692\u001b[0m     \u001b[38;5;28mself\u001b[39m\u001b[38;5;241m.\u001b[39m_add_class_attrs(klass)    \u001b[38;5;66;03m# v0.3.0v20 traps TypeError for builtins\u001b[39;00m\n\u001b[1;32m   1693\u001b[0m     \u001b[38;5;28;01mreturn\u001b[39;00m klass\n\u001b[1;32m   1695\u001b[0m \u001b[38;5;28;01melif\u001b[39;00m \u001b[38;5;129;01mnot\u001b[39;00m f:\n\u001b[1;32m   1696\u001b[0m     \u001b[38;5;66;03m#+*+*+*+*+*+*+*+*+*+*+*+*+*+*+*+*+*+*+*+*+*+*+*+*+*+*+*+*+*+*+*+*\u001b[39;00m\n\u001b[1;32m   1697\u001b[0m     \u001b[38;5;66;03m# 0.3.0 -- case \"f_or_klass is a callable but not a function\"\u001b[39;00m\n\u001b[0;32m   (...)\u001b[0m\n\u001b[1;32m   1701\u001b[0m     \u001b[38;5;66;03m# Callable builtins e.g. len are not functions in the isfunction sense,\u001b[39;00m\n\u001b[1;32m   1702\u001b[0m     \u001b[38;5;66;03m# can't deco anyway. Just give up (quietly):\u001b[39;00m\n",
      "File \u001b[0;32m~/anaconda3/envs/python=3.11.4/lib/python3.11/site-packages/log_calls/log_calls.py:2138\u001b[0m, in \u001b[0;36m_deco_base._add_class_attrs\u001b[0;34m(self, klass)\u001b[0m\n\u001b[1;32m   2136\u001b[0m this_deco_class \u001b[38;5;241m=\u001b[39m \u001b[38;5;28mself\u001b[39m\u001b[38;5;241m.\u001b[39m\u001b[38;5;18m__class__\u001b[39m\n\u001b[1;32m   2137\u001b[0m this_deco_class_name \u001b[38;5;241m=\u001b[39m this_deco_class\u001b[38;5;241m.\u001b[39m\u001b[38;5;18m__name__\u001b[39m\n\u001b[0;32m-> 2138\u001b[0m \u001b[38;5;28msetattr\u001b[39m(\n\u001b[1;32m   2139\u001b[0m     klass,\n\u001b[1;32m   2140\u001b[0m     \u001b[38;5;124m'\u001b[39m\u001b[38;5;124mget_\u001b[39m\u001b[38;5;124m'\u001b[39m \u001b[38;5;241m+\u001b[39m this_deco_class_name \u001b[38;5;241m+\u001b[39m \u001b[38;5;124m'\u001b[39m\u001b[38;5;124m_wrapper\u001b[39m\u001b[38;5;124m'\u001b[39m,\n\u001b[1;32m   2141\u001b[0m     \u001b[38;5;28mclassmethod\u001b[39m(partial(_get_deco_wrapper, this_deco_class))\n\u001b[1;32m   2142\u001b[0m )\n\u001b[1;32m   2143\u001b[0m \u001b[38;5;66;03m# Make it even easier for methods to find their own log_calls wrappers,\u001b[39;00m\n\u001b[1;32m   2144\u001b[0m \u001b[38;5;66;03m# via `get_own_log_calls_wrapper(fname)`\u001b[39;00m\n\u001b[1;32m   2145\u001b[0m \u001b[38;5;66;03m# or `get_own_record_history_wrapper(fname)`\u001b[39;00m\n\u001b[1;32m   2146\u001b[0m \u001b[38;5;66;03m# This can be called on a deco'd class or on an instance thereof.\u001b[39;00m\n\u001b[1;32m   2147\u001b[0m this_deco_class \u001b[38;5;241m=\u001b[39m \u001b[38;5;28mself\u001b[39m\u001b[38;5;241m.\u001b[39m\u001b[38;5;18m__class__\u001b[39m\n",
      "\u001b[0;31mTypeError\u001b[0m: cannot set 'get_record_history_wrapper' attribute of immutable type 'object'"
     ]
    }
   ],
   "source": [
    "# Standard python libraries\n",
    "import os\n",
    "import time\n",
    "\n",
    "# Essential DS libraries\n",
    "import numpy as np\n",
    "import pandas as pd\n",
    "from sklearn.metrics import mean_absolute_error\n",
    "from sklearn.model_selection import train_test_split\n",
    "import torch\n",
    "\n",
    "# LightAutoML presets, task and report generation\n",
    "from lightautoml.automl.presets.tabular_presets import TabularAutoML\n",
    "from lightautoml.tasks import Task\n",
    "\n",
    "# Options for pandas\n",
    "pd.options.display.max_columns = 50\n",
    "pd.options.display.max_rows = 30\n",
    "\n",
    "# Display all cell outputs\n",
    "from IPython.core.interactiveshell import InteractiveShell\n",
    "InteractiveShell.ast_node_interactivity = 'all'\n",
    "\n",
    "from IPython import get_ipython\n",
    "ipython = get_ipython()\n",
    "\n",
    "# autoreload extension\n",
    "if 'autoreload' not in ipython.extension_manager.loaded:\n",
    "    %load_ext autoreload\n",
    "\n",
    "%autoreload 2\n",
    "\n",
    "# Visualizations\n",
    "import matplotlib.pyplot as plt\n",
    "import seaborn as sns\n",
    "import plotly.express as px\n",
    "import plotly.graph_objects as go\n",
    "\n",
    "# Set aspects of the visual theme\n",
    "sns.set_theme(\"notebook\") # установка предварительных настроек маштабирования\n",
    "sns.set_palette(\"husl\") # установка предварительной световой палитры"
   ]
  },
  {
   "cell_type": "code",
   "execution_count": 2,
   "id": "b15c6acd",
   "metadata": {
    "ExecuteTime": {
     "end_time": "2023-09-24T19:12:29.624905Z",
     "start_time": "2023-09-24T19:12:14.377405Z"
    },
    "scrolled": false
   },
   "outputs": [
    {
     "name": "stdout",
     "output_type": "stream",
     "text": [
      "Requirement already satisfied: lightautoml==0.3.8b1 in /Users/admin/anaconda3/lib/python3.10/site-packages (0.3.8b1)\n",
      "Requirement already satisfied: autowoe>=1.2 in /Users/admin/anaconda3/lib/python3.10/site-packages (from lightautoml==0.3.8b1) (1.3.2)\n",
      "Requirement already satisfied: catboost>=0.26.1 in /Users/admin/anaconda3/lib/python3.10/site-packages (from lightautoml==0.3.8b1) (1.2)\n",
      "Requirement already satisfied: cmaes in /Users/admin/anaconda3/lib/python3.10/site-packages (from lightautoml==0.3.8b1) (0.10.0)\n",
      "Requirement already satisfied: holidays in /Users/admin/anaconda3/lib/python3.10/site-packages (from lightautoml==0.3.8b1) (0.33)\n",
      "Requirement already satisfied: jinja2 in /Users/admin/anaconda3/lib/python3.10/site-packages (from lightautoml==0.3.8b1) (3.1.2)\n",
      "Requirement already satisfied: joblib<1.3.0 in /Users/admin/anaconda3/lib/python3.10/site-packages (from lightautoml==0.3.8b1) (1.2.0)\n",
      "Requirement already satisfied: json2html in /Users/admin/anaconda3/lib/python3.10/site-packages (from lightautoml==0.3.8b1) (1.3.0)\n",
      "Requirement already satisfied: lightgbm<=3.2.1,>=2.3 in /Users/admin/anaconda3/lib/python3.10/site-packages (from lightautoml==0.3.8b1) (2.3.1)\n",
      "Requirement already satisfied: networkx in /Users/admin/anaconda3/lib/python3.10/site-packages (from lightautoml==0.3.8b1) (3.1)\n",
      "Requirement already satisfied: numpy<1.24.0 in /Users/admin/anaconda3/lib/python3.10/site-packages (from lightautoml==0.3.8b1) (1.23.5)\n",
      "Requirement already satisfied: optuna in /Users/admin/anaconda3/lib/python3.10/site-packages (from lightautoml==0.3.8b1) (3.3.0)\n",
      "Requirement already satisfied: pandas<=1.4.3 in /Users/admin/anaconda3/lib/python3.10/site-packages (from lightautoml==0.3.8b1) (1.4.3)\n",
      "Requirement already satisfied: poetry-core<2.0.0,>=1.0.0 in /Users/admin/anaconda3/lib/python3.10/site-packages (from lightautoml==0.3.8b1) (1.7.0)\n",
      "Requirement already satisfied: pyyaml in /Users/admin/anaconda3/lib/python3.10/site-packages (from lightautoml==0.3.8b1) (6.0)\n",
      "Requirement already satisfied: scikit-learn>=0.22 in /Users/admin/anaconda3/lib/python3.10/site-packages (from lightautoml==0.3.8b1) (1.3.1)\n",
      "Requirement already satisfied: seaborn in /Users/admin/anaconda3/lib/python3.10/site-packages (from lightautoml==0.3.8b1) (0.12.2)\n",
      "Requirement already satisfied: statsmodels<=0.14.0 in /Users/admin/anaconda3/lib/python3.10/site-packages (from lightautoml==0.3.8b1) (0.14.0)\n",
      "Requirement already satisfied: torch>=1.0.0 in /Users/admin/anaconda3/lib/python3.10/site-packages (from lightautoml==0.3.8b1) (2.0.1)\n",
      "Requirement already satisfied: tqdm in /Users/admin/anaconda3/lib/python3.10/site-packages (from lightautoml==0.3.8b1) (4.65.0)\n",
      "Requirement already satisfied: StrEnum<0.5.0,>=0.4.7 in /Users/admin/anaconda3/lib/python3.10/site-packages (from autowoe>=1.2->lightautoml==0.3.8b1) (0.4.15)\n",
      "Requirement already satisfied: matplotlib in /Users/admin/anaconda3/lib/python3.10/site-packages (from autowoe>=1.2->lightautoml==0.3.8b1) (3.7.2)\n",
      "Requirement already satisfied: pytest in /Users/admin/anaconda3/lib/python3.10/site-packages (from autowoe>=1.2->lightautoml==0.3.8b1) (7.4.2)\n",
      "Requirement already satisfied: pytz in /Users/admin/anaconda3/lib/python3.10/site-packages (from autowoe>=1.2->lightautoml==0.3.8b1) (2022.7)\n",
      "Requirement already satisfied: scipy in /Users/admin/anaconda3/lib/python3.10/site-packages (from autowoe>=1.2->lightautoml==0.3.8b1) (1.11.1)\n",
      "Requirement already satisfied: sphinx in /Users/admin/anaconda3/lib/python3.10/site-packages (from autowoe>=1.2->lightautoml==0.3.8b1) (7.2.6)\n",
      "Requirement already satisfied: sphinx-rtd-theme in /Users/admin/anaconda3/lib/python3.10/site-packages (from autowoe>=1.2->lightautoml==0.3.8b1) (1.3.0)\n",
      "Requirement already satisfied: graphviz in /Users/admin/anaconda3/lib/python3.10/site-packages (from catboost>=0.26.1->lightautoml==0.3.8b1) (0.20.1)\n",
      "Requirement already satisfied: plotly in /Users/admin/anaconda3/lib/python3.10/site-packages (from catboost>=0.26.1->lightautoml==0.3.8b1) (5.16.0)\n",
      "Requirement already satisfied: six in /Users/admin/anaconda3/lib/python3.10/site-packages (from catboost>=0.26.1->lightautoml==0.3.8b1) (1.16.0)\n",
      "Requirement already satisfied: python-dateutil>=2.8.1 in /Users/admin/anaconda3/lib/python3.10/site-packages (from pandas<=1.4.3->lightautoml==0.3.8b1) (2.8.2)\n",
      "Requirement already satisfied: threadpoolctl>=2.0.0 in /Users/admin/anaconda3/lib/python3.10/site-packages (from scikit-learn>=0.22->lightautoml==0.3.8b1) (3.2.0)\n",
      "Requirement already satisfied: patsy>=0.5.2 in /Users/admin/anaconda3/lib/python3.10/site-packages (from statsmodels<=0.14.0->lightautoml==0.3.8b1) (0.5.3)\n",
      "Requirement already satisfied: packaging>=21.3 in /Users/admin/anaconda3/lib/python3.10/site-packages (from statsmodels<=0.14.0->lightautoml==0.3.8b1) (23.0)\n",
      "Requirement already satisfied: filelock in /Users/admin/anaconda3/lib/python3.10/site-packages (from torch>=1.0.0->lightautoml==0.3.8b1) (3.9.0)\n",
      "Requirement already satisfied: typing-extensions in /Users/admin/anaconda3/lib/python3.10/site-packages (from torch>=1.0.0->lightautoml==0.3.8b1) (4.7.1)\n",
      "Requirement already satisfied: sympy in /Users/admin/anaconda3/lib/python3.10/site-packages (from torch>=1.0.0->lightautoml==0.3.8b1) (1.12)\n",
      "Requirement already satisfied: MarkupSafe>=2.0 in /Users/admin/anaconda3/lib/python3.10/site-packages (from jinja2->lightautoml==0.3.8b1) (2.1.1)\n",
      "Requirement already satisfied: alembic>=1.5.0 in /Users/admin/anaconda3/lib/python3.10/site-packages (from optuna->lightautoml==0.3.8b1) (1.12.0)\n",
      "Requirement already satisfied: colorlog in /Users/admin/anaconda3/lib/python3.10/site-packages (from optuna->lightautoml==0.3.8b1) (6.7.0)\n",
      "Requirement already satisfied: sqlalchemy>=1.3.0 in /Users/admin/anaconda3/lib/python3.10/site-packages (from optuna->lightautoml==0.3.8b1) (2.0.21)\n",
      "Requirement already satisfied: Mako in /Users/admin/anaconda3/lib/python3.10/site-packages (from alembic>=1.5.0->optuna->lightautoml==0.3.8b1) (1.2.4)\n",
      "Requirement already satisfied: contourpy>=1.0.1 in /Users/admin/anaconda3/lib/python3.10/site-packages (from matplotlib->autowoe>=1.2->lightautoml==0.3.8b1) (1.0.5)\n",
      "Requirement already satisfied: cycler>=0.10 in /Users/admin/anaconda3/lib/python3.10/site-packages (from matplotlib->autowoe>=1.2->lightautoml==0.3.8b1) (0.11.0)\n",
      "Requirement already satisfied: fonttools>=4.22.0 in /Users/admin/anaconda3/lib/python3.10/site-packages (from matplotlib->autowoe>=1.2->lightautoml==0.3.8b1) (4.25.0)\n",
      "Requirement already satisfied: kiwisolver>=1.0.1 in /Users/admin/anaconda3/lib/python3.10/site-packages (from matplotlib->autowoe>=1.2->lightautoml==0.3.8b1) (1.4.4)\n",
      "Requirement already satisfied: pillow>=6.2.0 in /Users/admin/anaconda3/lib/python3.10/site-packages (from matplotlib->autowoe>=1.2->lightautoml==0.3.8b1) (9.4.0)\n",
      "Requirement already satisfied: pyparsing<3.1,>=2.3.1 in /Users/admin/anaconda3/lib/python3.10/site-packages (from matplotlib->autowoe>=1.2->lightautoml==0.3.8b1) (3.0.9)\n",
      "Requirement already satisfied: greenlet!=0.4.17 in /Users/admin/anaconda3/lib/python3.10/site-packages (from sqlalchemy>=1.3.0->optuna->lightautoml==0.3.8b1) (2.0.2)\n",
      "Requirement already satisfied: tenacity>=6.2.0 in /Users/admin/anaconda3/lib/python3.10/site-packages (from plotly->catboost>=0.26.1->lightautoml==0.3.8b1) (8.2.2)\n",
      "Requirement already satisfied: iniconfig in /Users/admin/anaconda3/lib/python3.10/site-packages (from pytest->autowoe>=1.2->lightautoml==0.3.8b1) (2.0.0)\n",
      "Requirement already satisfied: pluggy<2.0,>=0.12 in /Users/admin/anaconda3/lib/python3.10/site-packages (from pytest->autowoe>=1.2->lightautoml==0.3.8b1) (1.0.0)\n",
      "Requirement already satisfied: exceptiongroup>=1.0.0rc8 in /Users/admin/anaconda3/lib/python3.10/site-packages (from pytest->autowoe>=1.2->lightautoml==0.3.8b1) (1.1.3)\n",
      "Requirement already satisfied: tomli>=1.0.0 in /Users/admin/anaconda3/lib/python3.10/site-packages (from pytest->autowoe>=1.2->lightautoml==0.3.8b1) (2.0.1)\n",
      "Requirement already satisfied: sphinxcontrib-applehelp in /Users/admin/anaconda3/lib/python3.10/site-packages (from sphinx->autowoe>=1.2->lightautoml==0.3.8b1) (1.0.7)\n",
      "Requirement already satisfied: sphinxcontrib-devhelp in /Users/admin/anaconda3/lib/python3.10/site-packages (from sphinx->autowoe>=1.2->lightautoml==0.3.8b1) (1.0.5)\n",
      "Requirement already satisfied: sphinxcontrib-jsmath in /Users/admin/anaconda3/lib/python3.10/site-packages (from sphinx->autowoe>=1.2->lightautoml==0.3.8b1) (1.0.1)\n",
      "Requirement already satisfied: sphinxcontrib-htmlhelp>=2.0.0 in /Users/admin/anaconda3/lib/python3.10/site-packages (from sphinx->autowoe>=1.2->lightautoml==0.3.8b1) (2.0.4)\n",
      "Requirement already satisfied: sphinxcontrib-serializinghtml>=1.1.9 in /Users/admin/anaconda3/lib/python3.10/site-packages (from sphinx->autowoe>=1.2->lightautoml==0.3.8b1) (1.1.9)\n",
      "Requirement already satisfied: sphinxcontrib-qthelp in /Users/admin/anaconda3/lib/python3.10/site-packages (from sphinx->autowoe>=1.2->lightautoml==0.3.8b1) (1.0.6)\n",
      "Requirement already satisfied: Pygments>=2.14 in /Users/admin/anaconda3/lib/python3.10/site-packages (from sphinx->autowoe>=1.2->lightautoml==0.3.8b1) (2.15.1)\n",
      "Requirement already satisfied: docutils<0.21,>=0.18.1 in /Users/admin/anaconda3/lib/python3.10/site-packages (from sphinx->autowoe>=1.2->lightautoml==0.3.8b1) (0.18.1)\n",
      "Requirement already satisfied: snowballstemmer>=2.0 in /Users/admin/anaconda3/lib/python3.10/site-packages (from sphinx->autowoe>=1.2->lightautoml==0.3.8b1) (2.2.0)\n",
      "Requirement already satisfied: babel>=2.9 in /Users/admin/anaconda3/lib/python3.10/site-packages (from sphinx->autowoe>=1.2->lightautoml==0.3.8b1) (2.11.0)\n",
      "Requirement already satisfied: alabaster<0.8,>=0.7 in /Users/admin/anaconda3/lib/python3.10/site-packages (from sphinx->autowoe>=1.2->lightautoml==0.3.8b1) (0.7.13)\n",
      "Requirement already satisfied: imagesize>=1.3 in /Users/admin/anaconda3/lib/python3.10/site-packages (from sphinx->autowoe>=1.2->lightautoml==0.3.8b1) (1.4.1)\n",
      "Requirement already satisfied: requests>=2.25.0 in /Users/admin/anaconda3/lib/python3.10/site-packages (from sphinx->autowoe>=1.2->lightautoml==0.3.8b1) (2.31.0)\n",
      "Requirement already satisfied: sphinxcontrib-jquery<5,>=4 in /Users/admin/anaconda3/lib/python3.10/site-packages (from sphinx-rtd-theme->autowoe>=1.2->lightautoml==0.3.8b1) (4.1)\n",
      "Requirement already satisfied: mpmath>=0.19 in /Users/admin/anaconda3/lib/python3.10/site-packages (from sympy->torch>=1.0.0->lightautoml==0.3.8b1) (1.3.0)\n"
     ]
    },
    {
     "name": "stdout",
     "output_type": "stream",
     "text": [
      "Requirement already satisfied: charset-normalizer<4,>=2 in /Users/admin/anaconda3/lib/python3.10/site-packages (from requests>=2.25.0->sphinx->autowoe>=1.2->lightautoml==0.3.8b1) (2.0.4)\n",
      "Requirement already satisfied: idna<4,>=2.5 in /Users/admin/anaconda3/lib/python3.10/site-packages (from requests>=2.25.0->sphinx->autowoe>=1.2->lightautoml==0.3.8b1) (3.4)\n",
      "Requirement already satisfied: urllib3<3,>=1.21.1 in /Users/admin/anaconda3/lib/python3.10/site-packages (from requests>=2.25.0->sphinx->autowoe>=1.2->lightautoml==0.3.8b1) (1.26.16)\n",
      "Requirement already satisfied: certifi>=2017.4.17 in /Users/admin/anaconda3/lib/python3.10/site-packages (from requests>=2.25.0->sphinx->autowoe>=1.2->lightautoml==0.3.8b1) (2023.7.22)\n",
      "Collecting pandas==1.5.3\n",
      "  Downloading pandas-1.5.3-cp310-cp310-macosx_10_9_x86_64.whl (12.0 MB)\n",
      "\u001b[2K     \u001b[90m━━━━━━━━━━━━━━━━━━━━━━━━━━━━━━━━━━━━━━━━\u001b[0m \u001b[32m12.0/12.0 MB\u001b[0m \u001b[31m7.1 MB/s\u001b[0m eta \u001b[36m0:00:00\u001b[0m00:01\u001b[0m00:01\u001b[0m\n",
      "\u001b[?25hRequirement already satisfied: python-dateutil>=2.8.1 in /Users/admin/anaconda3/lib/python3.10/site-packages (from pandas==1.5.3) (2.8.2)\n",
      "Requirement already satisfied: pytz>=2020.1 in /Users/admin/anaconda3/lib/python3.10/site-packages (from pandas==1.5.3) (2022.7)\n",
      "Requirement already satisfied: numpy>=1.21.0 in /Users/admin/anaconda3/lib/python3.10/site-packages (from pandas==1.5.3) (1.23.5)\n",
      "Requirement already satisfied: six>=1.5 in /Users/admin/anaconda3/lib/python3.10/site-packages (from python-dateutil>=2.8.1->pandas==1.5.3) (1.16.0)\n",
      "Installing collected packages: pandas\n",
      "  Attempting uninstall: pandas\n",
      "    Found existing installation: pandas 1.4.3\n",
      "    Uninstalling pandas-1.4.3:\n",
      "      Successfully uninstalled pandas-1.4.3\n",
      "\u001b[31mERROR: pip's dependency resolver does not currently take into account all the packages that are installed. This behaviour is the source of the following dependency conflicts.\n",
      "lightautoml 0.3.8b1 requires pandas<=1.4.3; python_version >= \"3.8\", but you have pandas 1.5.3 which is incompatible.\u001b[0m\u001b[31m\n",
      "\u001b[0mSuccessfully installed pandas-1.5.3\n"
     ]
    }
   ],
   "source": [
    "!pip install -U lightautoml==0.3.8b1\n",
    "\n",
    "!pip install pandas==1.5.3"
   ]
  },
  {
   "cell_type": "markdown",
   "id": "023646b7",
   "metadata": {},
   "source": [
    "# Analysis/Modeling\n",
    "Do work here"
   ]
  },
  {
   "cell_type": "markdown",
   "id": "92907bbb",
   "metadata": {},
   "source": [
    "# Results\n",
    "Show graphs and stats here"
   ]
  },
  {
   "cell_type": "markdown",
   "id": "a1e3d8d2",
   "metadata": {},
   "source": [
    "# Conclusions and Next Steps\n",
    "Summarize findings here"
   ]
  },
  {
   "cell_type": "code",
   "execution_count": null,
   "id": "4d1bd4c8",
   "metadata": {},
   "outputs": [],
   "source": []
  }
 ],
 "metadata": {
  "kernelspec": {
   "display_name": "Python 3 (ipykernel)",
   "language": "python",
   "name": "python3"
  },
  "language_info": {
   "codemirror_mode": {
    "name": "ipython",
    "version": 3
   },
   "file_extension": ".py",
   "mimetype": "text/x-python",
   "name": "python",
   "nbconvert_exporter": "python",
   "pygments_lexer": "ipython3",
   "version": "3.11.4"
  }
 },
 "nbformat": 4,
 "nbformat_minor": 5
}
