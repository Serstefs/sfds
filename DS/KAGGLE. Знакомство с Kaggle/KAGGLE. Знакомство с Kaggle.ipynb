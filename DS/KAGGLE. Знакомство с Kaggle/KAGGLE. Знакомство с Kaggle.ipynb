{
 "cells": [
  {
   "cell_type": "markdown",
   "id": "00c1b8bf",
   "metadata": {},
   "source": [
    "# Introduction\n",
    "State notebook purpose here"
   ]
  },
  {
   "cell_type": "markdown",
   "id": "02c58fa8",
   "metadata": {},
   "source": [
    "### Imports\n",
    "Import libraries and write settings here."
   ]
  },
  {
   "cell_type": "code",
   "execution_count": 2,
   "id": "6f7a3e39",
   "metadata": {
    "ExecuteTime": {
     "end_time": "2023-09-22T13:31:04.734407Z",
     "start_time": "2023-09-22T13:31:04.676221Z"
    }
   },
   "outputs": [
    {
     "name": "stdout",
     "output_type": "stream",
     "text": [
      "The autoreload extension is already loaded. To reload it, use:\n",
      "  %reload_ext autoreload\n"
     ]
    },
    {
     "ename": "ImportError",
     "evalue": "\nThe plotly.plotly module is deprecated,\nplease install the chart-studio package and use the\nchart_studio.plotly module instead. \n",
     "output_type": "error",
     "traceback": [
      "\u001b[0;31m---------------------------------------------------------------------------\u001b[0m",
      "\u001b[0;31mImportError\u001b[0m                               Traceback (most recent call last)",
      "Cell \u001b[0;32mIn[2], line 23\u001b[0m\n\u001b[1;32m     20\u001b[0m get_ipython()\u001b[38;5;241m.\u001b[39mrun_line_magic(\u001b[38;5;124m'\u001b[39m\u001b[38;5;124mautoreload\u001b[39m\u001b[38;5;124m'\u001b[39m, \u001b[38;5;124m'\u001b[39m\u001b[38;5;124m2\u001b[39m\u001b[38;5;124m'\u001b[39m)\n\u001b[1;32m     22\u001b[0m \u001b[38;5;66;03m# Visualizations\u001b[39;00m\n\u001b[0;32m---> 23\u001b[0m \u001b[38;5;28;01mimport\u001b[39;00m \u001b[38;5;21;01mplotly\u001b[39;00m\u001b[38;5;21;01m.\u001b[39;00m\u001b[38;5;21;01mplotly\u001b[39;00m \u001b[38;5;28;01mas\u001b[39;00m \u001b[38;5;21;01mpy\u001b[39;00m\n\u001b[1;32m     24\u001b[0m \u001b[38;5;28;01mimport\u001b[39;00m \u001b[38;5;21;01mplotly\u001b[39;00m\u001b[38;5;21;01m.\u001b[39;00m\u001b[38;5;21;01mgraph_objs\u001b[39;00m \u001b[38;5;28;01mas\u001b[39;00m \u001b[38;5;21;01mgo\u001b[39;00m\n\u001b[1;32m     25\u001b[0m \u001b[38;5;28;01mfrom\u001b[39;00m \u001b[38;5;21;01mplotly\u001b[39;00m\u001b[38;5;21;01m.\u001b[39;00m\u001b[38;5;21;01moffline\u001b[39;00m \u001b[38;5;28;01mimport\u001b[39;00m iplot, init_notebook_mode\n",
      "File \u001b[0;32m~/anaconda3/envs/python=3.11.4/lib/python3.11/site-packages/plotly/plotly/__init__.py:4\u001b[0m\n\u001b[1;32m      1\u001b[0m \u001b[38;5;28;01mfrom\u001b[39;00m \u001b[38;5;21;01m__future__\u001b[39;00m \u001b[38;5;28;01mimport\u001b[39;00m absolute_import\n\u001b[1;32m      2\u001b[0m \u001b[38;5;28;01mfrom\u001b[39;00m \u001b[38;5;21;01m_plotly_future_\u001b[39;00m \u001b[38;5;28;01mimport\u001b[39;00m _chart_studio_error\n\u001b[0;32m----> 4\u001b[0m _chart_studio_error(\u001b[38;5;124m\"\u001b[39m\u001b[38;5;124mplotly\u001b[39m\u001b[38;5;124m\"\u001b[39m)\n",
      "File \u001b[0;32m~/anaconda3/envs/python=3.11.4/lib/python3.11/site-packages/_plotly_future_/__init__.py:43\u001b[0m, in \u001b[0;36m_chart_studio_error\u001b[0;34m(submodule)\u001b[0m\n\u001b[1;32m     42\u001b[0m \u001b[38;5;28;01mdef\u001b[39;00m \u001b[38;5;21m_chart_studio_error\u001b[39m(submodule):\n\u001b[0;32m---> 43\u001b[0m     \u001b[38;5;28;01mraise\u001b[39;00m \u001b[38;5;167;01mImportError\u001b[39;00m(\n\u001b[1;32m     44\u001b[0m \u001b[38;5;250m        \u001b[39m\u001b[38;5;124;03m\"\"\"\u001b[39;00m\n\u001b[1;32m     45\u001b[0m \u001b[38;5;124;03mThe plotly.{submodule} module is deprecated,\u001b[39;00m\n\u001b[1;32m     46\u001b[0m \u001b[38;5;124;03mplease install the chart-studio package and use the\u001b[39;00m\n\u001b[1;32m     47\u001b[0m \u001b[38;5;124;03mchart_studio.{submodule} module instead. \u001b[39;00m\n\u001b[1;32m     48\u001b[0m \u001b[38;5;124;03m\"\"\"\u001b[39;00m\u001b[38;5;241m.\u001b[39mformat(\n\u001b[1;32m     49\u001b[0m             submodule\u001b[38;5;241m=\u001b[39msubmodule\n\u001b[1;32m     50\u001b[0m         )\n\u001b[1;32m     51\u001b[0m     )\n",
      "\u001b[0;31mImportError\u001b[0m: \nThe plotly.plotly module is deprecated,\nplease install the chart-studio package and use the\nchart_studio.plotly module instead. \n"
     ]
    }
   ],
   "source": [
    "# Data manipulation\n",
    "import pandas as pd\n",
    "import numpy as np\n",
    "\n",
    "# Options for pandas\n",
    "pd.options.display.max_columns = 50\n",
    "pd.options.display.max_rows = 30\n",
    "\n",
    "# Display all cell outputs\n",
    "from IPython.core.interactiveshell import InteractiveShell\n",
    "InteractiveShell.ast_node_interactivity = 'all'\n",
    "\n",
    "from IPython import get_ipython\n",
    "ipython = get_ipython()\n",
    "\n",
    "# autoreload extension\n",
    "if 'autoreload' not in ipython.extension_manager.loaded:\n",
    "    %load_ext autoreload\n",
    "\n",
    "%autoreload 2\n",
    "\n",
    "# Visualizations\n",
    "import plotly.plotly as py\n",
    "import plotly.graph_objs as go\n",
    "from plotly.offline import iplot, init_notebook_mode\n",
    "init_notebook_mode(connected=True)\n",
    "\n",
    "import cufflinks as cf\n",
    "cf.go_offline(connected=True)\n",
    "cf.set_config_file(theme='white')"
   ]
  },
  {
   "cell_type": "markdown",
   "id": "ec20edba",
   "metadata": {},
   "source": [
    "# ЦЕЛИ МОДУЛЯ: \n",
    "\n",
    "- ✔️ Познакомиться с площадкой Kaggle и зарегистрироваться на ней, отточить основные навыки.\n",
    "- ✔️ Узнать, за что на Kaggle можно получить различные статусы, медали и очки рейтинга.\n",
    "- ✔️ Научиться создавать собственный контент на Kaggle: ноутбуки, посты на форуме, датасеты.\n",
    "- ✔️ Пройти путь участника соревнования от понимания поставленной задачи до сабмита результатов своей работы. \n",
    "- ✔️ Продумать план своего дальнейшего развития на площадке Kaggle.\n",
    "\n",
    "# 2. Основы Kaggle\n",
    ">Kaggle — международная платформа для проведения соревнований по анализу данных на основе реальных задач от различных компаний. Эта площадка может похвастаться самым большим Data Science-комьюнити со всего мира — более 200 тысяч участников, с которыми можно взаимодействовать посредством разных активностей.\n",
    "\n",
    "__Рейтинги составляются по четырём видам активностей:__   \n",
    "- Competitions (участие в соревнованиях);\n",
    "- Datasets (публикация открытых датасетов);\n",
    "- Notebooks (создание ноутбуков);\n",
    "- Discussions (публикация сообщений на форуме).\n",
    "\n",
    "Пользователи Kaggle могут последовательно достичь следующих пяти разных уровней статуса в любой из категорий:\n",
    "- Novice,\n",
    "- Contributor,\n",
    "- Expert,\n",
    "- Master\n",
    "- Grandmaster. \n",
    "\n",
    "1. Novice (Новичок). Для получения ранга достаточно зарегистрироваться на платформе.\n",
    "1. Contributor (Активный пользователь). Для получения ранга необходимо запустить один ноутбук или скрипт + подать одну заявку на соревнование + оставить один комментарий + один раз проголосовать. \n",
    "2. Expert (Эксперт). Для получения ранга необходимо 2 бронзовых медали в соревнованиях ИЛИ 3 бронзовых медали за датасеты ИЛИ 5 бронзовых медалей за ноутбуки ИЛИ 50 бронзовых медалей за обсуждения.\n",
    "3. Master (Мастер). Для получения ранга необходима 1 золотая медаль + 2 серебряные медали в соревнованиях ИЛИ 1 золотая медаль + 4 серебряных медали за датасеты ИЛИ 10 серебряных медалей за ноутбуки ИЛИ 50 серебряных медалей + 200 медалей в общем за обсуждения.\n",
    "4. Grandmaster (Грандмастер). Для получения ранга необходимо 5 золотых медалей + одна сольная золотая медаль в соревнованиях ИЛИ 5 золотых медалей + 5 серебряных медалей за датасеты ИЛИ 15 золотых медалей за ноутбуки ИЛИ 50 золотых медалей + 500 медалей итого за обсуждения.\n",
    "\n",
    "Подробную информацию о принципах работы рейтинга и рангах пользователей можно найти, нажав на ссылку [Learn more about rankings](https://www.kaggle.com/progression).\n",
    "\n",
    "На странице каждого соревнования вы увидите несколько вкладок: \n",
    "\n",
    "- Overview. Во вкладке расположена информация с описанием соревнования (Description) и об оценке решения (Evaluation). Обращайте особое внимание на эту информацию: в дальнейшем вы убедитесь, что внимательное отношение к метрикам может значительно изменить итоговую оценку вашего решения!\n",
    "\n",
    "Обратите внимание на блок информации в нижней части раздела Description. Здесь вы увидите данные об участниках и о том, учитываются ли результаты соревнования в обновлении рангов и начисляются ли за него очки рейтинга.\n",
    "\n",
    "- Data. Здесь располагаются датасеты к соревнованию. Скачать файлы можно только после согласия с правилами соревнования.\n",
    "- Code. Здесь находятся ноутбуки и бейзлайны, созданные как вами, так и другими участниками соревнования. Правило хорошего тона — ставить Upvote ноутбукам.\n",
    "- Discussion. В этом разделе можно принять участие в обсуждении, поблагодарить авторов, задать вопрос и ознакомиться с комментариями сообщества.\n",
    "- Leaderboard. В этом разделе отображаются результаты сабмитов — публичные и приватные. Очки и медали начисляются за результаты в приватных лидербордах. Обратите внимание на правила расчёта позиций в лидербордах. В этом соревновании позиции в публичном лидерборде рассчитываются по Score, полученному на 50 % тестовой выборки. Поскольку соревнование ещё не завершено, финальный результат будет рассчитан по Score, полученному на оставшейся половине тестовой выборки.\n",
    "- Rules. Информация о правилах соревнования: можно ли объединяться в команды, какие библиотеки можно использовать и так далее.\n",
    "\n",
    "# 3. Работа с ноутбуками в Kaggle"
   ]
  },
  {
   "cell_type": "code",
   "execution_count": null,
   "id": "bba38245",
   "metadata": {},
   "outputs": [],
   "source": []
  },
  {
   "cell_type": "code",
   "execution_count": null,
   "id": "18ea39de",
   "metadata": {},
   "outputs": [],
   "source": []
  },
  {
   "cell_type": "code",
   "execution_count": null,
   "id": "c80c1b32",
   "metadata": {},
   "outputs": [],
   "source": []
  },
  {
   "cell_type": "code",
   "execution_count": null,
   "id": "7bb9b782",
   "metadata": {},
   "outputs": [],
   "source": []
  },
  {
   "cell_type": "code",
   "execution_count": null,
   "id": "628c1e85",
   "metadata": {},
   "outputs": [],
   "source": []
  },
  {
   "cell_type": "markdown",
   "id": "73eff0ec",
   "metadata": {},
   "source": [
    "# Results\n",
    "Show graphs and stats here"
   ]
  },
  {
   "cell_type": "markdown",
   "id": "00b47c4b",
   "metadata": {},
   "source": [
    "# Conclusions and Next Steps\n",
    "Summarize findings here"
   ]
  },
  {
   "cell_type": "code",
   "execution_count": null,
   "id": "2c978fb9",
   "metadata": {},
   "outputs": [],
   "source": []
  }
 ],
 "metadata": {
  "kernelspec": {
   "display_name": "Python 3 (ipykernel)",
   "language": "python",
   "name": "python3"
  },
  "language_info": {
   "codemirror_mode": {
    "name": "ipython",
    "version": 3
   },
   "file_extension": ".py",
   "mimetype": "text/x-python",
   "name": "python",
   "nbconvert_exporter": "python",
   "pygments_lexer": "ipython3",
   "version": "3.11.4"
  }
 },
 "nbformat": 4,
 "nbformat_minor": 5
}
