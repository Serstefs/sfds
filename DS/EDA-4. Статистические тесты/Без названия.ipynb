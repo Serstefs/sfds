{
 "cells": [
  {
   "cell_type": "markdown",
   "id": "b3462fa6",
   "metadata": {},
   "source": [
    "# <center> Статистические тесты в контексте EDA. \n",
    "## <center> ИССЛЕДОВАНИЕ ДАННЫХ HR-АГЕНТСТВА"
   ]
  },
  {
   "cell_type": "markdown",
   "id": "ab979f07",
   "metadata": {},
   "source": [
    "## Бизнес проблема.\n",
    "\n",
    "HR-агентство изучает тренды на рынке труда в IT. Компания хочет провести исследование на основе данных о зарплатах в сфере Data Science за 2020–2022 годы и получить некоторые выводы.\n",
    "\n",
    "В процессе анализа мы должны:\n",
    "\n",
    "1. Выяснить, какие факторы влияют на зарплату специалиста Data Scientist.\n",
    "2. А также ответить на ключевые вопросы HR-агентства:\n",
    "    - Наблюдается ли ежегодный рост зарплат у специалистов Data Scientist?\n",
    "    - Как соотносятся зарплаты Data Scientist и Data Engineer в 2022 году?\n",
    "    - Как соотносятся зарплаты специалистов Data Scientist в компаниях различных размеров?\n",
    "    - Есть ли связь между наличием должностей Data Scientist и Data Engineer и размером компании?\n",
    "\n",
    "- Если мы найдём в данных интересные закономерности, также отметьтим их в своём анализе.\n",
    "\n",
    "Продемонстрируем использование разных тестов для проверки статистической значимости сделанных выводов:\n",
    "\n",
    "- тесты для количественного признака:\n",
    "    - для одной выборки;\n",
    "    - для двух выборок;\n",
    "    - для нескольких выборок;\n",
    "- тест для категориальных признаков.\n",
    "\n",
    "Мы будем использовать уровень значимости $\\alpha$ - порог для оценки результата как статистически значимого. Если показатель значимости будет ниже уровня значимости, результат будет считается статистически значимым. \n",
    "\n",
    "__На каждый вопрос мы будем отвечать с уровнем значимости $\\alpha=0.05$.__\n",
    "\n",
    "Это значит, что вероятность случайного получения статистически значимого результата составляет менее 5% - т.е мы готовы в 5% допустить ошибку 1 рода - сделать вывод, что эффект есть, хотя на самом деле его нет.\n",
    "\n",
    "Ошибка 1 рода - вероятность отклонить нулевую гипотезу, когда она верна.\n",
    "***\n",
    "\n",
    "У нас есть датасет с данными о зарплате в сфере Data Science за 2020–2022 годы. Датасет содержит следующие столбцы-параметры.\n",
    "\n",
    "- work_year - Год, в котором была выплачена зарплата.\n",
    "- experience_level - Опыт работы на этой должности в течение года со следующими возможными значениями:\n",
    "    - EN — Entry-level/Junior;\n",
    "    - MI — Mid-level/Intermediate;\n",
    "    - SE — Senior-level/Expert;\n",
    "    - EX — Executive-level/Director.\n",
    "- employment_type - Тип трудоустройства для этой роли:\n",
    "    - PT — неполный рабочий день;\n",
    "    - FT — полный рабочий день;\n",
    "    - CT — контракт;\n",
    "    - FL — фриланс.\n",
    "- job_title - Роль, в которой соискатель работал в течение года.\n",
    "- salary - Общая выплаченная валовая сумма заработной платы.\n",
    "- salary_currency - Валюта выплачиваемой заработной платы в виде кода валюты ISO 4217.\n",
    "- salary_in_usd - Зарплата в долларах США (валютный курс, делённый на среднее значение курса доллара США за соответствующий год через fxdata.foorilla.com).\n",
    "- employee_residence - Основная страна проживания сотрудника в течение рабочего года в виде кода страны ISO 3166.\n",
    "- remote_ratio - Общий объём работы, выполняемой удалённо. Возможные значения:\n",
    "    - 0 — удалённой работы нет (менее 20 %);\n",
    "    - 50 — частично удалённая работа;\n",
    "    - 100 — полностью удалённая работа (более 80 %).\n",
    "- company_location - Страна главного офиса работодателя или филиала по контракту в виде кода страны ISO 3166.\n",
    "- company_size - Среднее количество людей, работавших в компании в течение года:\n",
    "    - S — менее 50 сотрудников (небольшая компания);\n",
    "    - M — от 50 до 250 сотрудников (средняя компания);\n",
    "    - L — более 250 сотрудников (крупная компания)."
   ]
  },
  {
   "cell_type": "markdown",
   "id": "c79900d1",
   "metadata": {},
   "source": [
    "### Imports\n",
    "Import libraries and write settings."
   ]
  },
  {
   "cell_type": "code",
   "execution_count": 1,
   "id": "fb2c1b73",
   "metadata": {
    "ExecuteTime": {
     "end_time": "2023-08-31T11:48:48.693346Z",
     "start_time": "2023-08-31T11:48:45.205504Z"
    }
   },
   "outputs": [],
   "source": [
    "# Data manipulation\n",
    "import pandas as pd\n",
    "import numpy as np\n",
    "from scipy import stats\n",
    "from scipy.stats import norm\n",
    "import statsmodels.api as sm\n",
    "from statsmodels import stats as sms\n",
    "\n",
    "\n",
    "# Options for pandas\n",
    "pd.options.display.max_columns = 50\n",
    "pd.options.display.max_rows = 30\n",
    "\n",
    "# Display all cell outputs\n",
    "from IPython.core.interactiveshell import InteractiveShell\n",
    "InteractiveShell.ast_node_interactivity = 'all'\n",
    "\n",
    "from IPython import get_ipython\n",
    "ipython = get_ipython()\n",
    "\n",
    "# autoreload extension\n",
    "if 'autoreload' not in ipython.extension_manager.loaded:\n",
    "    %load_ext autoreload\n",
    "\n",
    "%autoreload 2\n",
    "\n",
    "# Visualizations\n",
    "import matplotlib.pyplot as plt\n",
    "import seaborn as sns\n",
    "import plotly.express as px\n",
    "import plotly.graph_objects as go\n",
    "\n",
    "# Set aspects of the visual theme\n",
    "sns.set_theme(\"notebook\") # установка предварительных настроек маштабирования\n",
    "sns.set_palette(\"husl\") # установка предварительной световой палитры"
   ]
  },
  {
   "cell_type": "code",
   "execution_count": 2,
   "id": "37213846",
   "metadata": {
    "ExecuteTime": {
     "end_time": "2023-08-31T11:48:48.742886Z",
     "start_time": "2023-08-31T11:48:48.696986Z"
    }
   },
   "outputs": [
    {
     "name": "stdout",
     "output_type": "stream",
     "text": [
      "Уровень значимости alpha = 0.05\n"
     ]
    }
   ],
   "source": [
    "# задаём уровень значимости\n",
    "alpha = 0.05 \n",
    "print(\"Уровень значимости alpha = {:.2f}\".format(alpha))"
   ]
  },
  {
   "cell_type": "markdown",
   "id": "33a58639",
   "metadata": {},
   "source": [
    "# Analysis/Modeling\n",
    "\n",
    "### Исследование структуры данных."
   ]
  },
  {
   "cell_type": "code",
   "execution_count": 3,
   "id": "a72ab1b4",
   "metadata": {
    "ExecuteTime": {
     "end_time": "2023-08-31T11:48:48.812442Z",
     "start_time": "2023-08-31T11:48:48.745958Z"
    }
   },
   "outputs": [
    {
     "data": {
      "text/html": [
       "<div>\n",
       "<style scoped>\n",
       "    .dataframe tbody tr th:only-of-type {\n",
       "        vertical-align: middle;\n",
       "    }\n",
       "\n",
       "    .dataframe tbody tr th {\n",
       "        vertical-align: top;\n",
       "    }\n",
       "\n",
       "    .dataframe thead th {\n",
       "        text-align: right;\n",
       "    }\n",
       "</style>\n",
       "<table border=\"1\" class=\"dataframe\">\n",
       "  <thead>\n",
       "    <tr style=\"text-align: right;\">\n",
       "      <th></th>\n",
       "      <th>Unnamed: 0</th>\n",
       "      <th>work_year</th>\n",
       "      <th>experience_level</th>\n",
       "      <th>employment_type</th>\n",
       "      <th>job_title</th>\n",
       "      <th>salary</th>\n",
       "      <th>salary_currency</th>\n",
       "      <th>salary_in_usd</th>\n",
       "      <th>employee_residence</th>\n",
       "      <th>remote_ratio</th>\n",
       "      <th>company_location</th>\n",
       "      <th>company_size</th>\n",
       "    </tr>\n",
       "  </thead>\n",
       "  <tbody>\n",
       "    <tr>\n",
       "      <th>0</th>\n",
       "      <td>0</td>\n",
       "      <td>2020</td>\n",
       "      <td>MI</td>\n",
       "      <td>FT</td>\n",
       "      <td>Data Scientist</td>\n",
       "      <td>70000</td>\n",
       "      <td>EUR</td>\n",
       "      <td>79833</td>\n",
       "      <td>DE</td>\n",
       "      <td>0</td>\n",
       "      <td>DE</td>\n",
       "      <td>L</td>\n",
       "    </tr>\n",
       "    <tr>\n",
       "      <th>1</th>\n",
       "      <td>1</td>\n",
       "      <td>2020</td>\n",
       "      <td>SE</td>\n",
       "      <td>FT</td>\n",
       "      <td>Machine Learning Scientist</td>\n",
       "      <td>260000</td>\n",
       "      <td>USD</td>\n",
       "      <td>260000</td>\n",
       "      <td>JP</td>\n",
       "      <td>0</td>\n",
       "      <td>JP</td>\n",
       "      <td>S</td>\n",
       "    </tr>\n",
       "    <tr>\n",
       "      <th>2</th>\n",
       "      <td>2</td>\n",
       "      <td>2020</td>\n",
       "      <td>SE</td>\n",
       "      <td>FT</td>\n",
       "      <td>Big Data Engineer</td>\n",
       "      <td>85000</td>\n",
       "      <td>GBP</td>\n",
       "      <td>109024</td>\n",
       "      <td>GB</td>\n",
       "      <td>50</td>\n",
       "      <td>GB</td>\n",
       "      <td>M</td>\n",
       "    </tr>\n",
       "    <tr>\n",
       "      <th>3</th>\n",
       "      <td>3</td>\n",
       "      <td>2020</td>\n",
       "      <td>MI</td>\n",
       "      <td>FT</td>\n",
       "      <td>Product Data Analyst</td>\n",
       "      <td>20000</td>\n",
       "      <td>USD</td>\n",
       "      <td>20000</td>\n",
       "      <td>HN</td>\n",
       "      <td>0</td>\n",
       "      <td>HN</td>\n",
       "      <td>S</td>\n",
       "    </tr>\n",
       "    <tr>\n",
       "      <th>4</th>\n",
       "      <td>4</td>\n",
       "      <td>2020</td>\n",
       "      <td>SE</td>\n",
       "      <td>FT</td>\n",
       "      <td>Machine Learning Engineer</td>\n",
       "      <td>150000</td>\n",
       "      <td>USD</td>\n",
       "      <td>150000</td>\n",
       "      <td>US</td>\n",
       "      <td>50</td>\n",
       "      <td>US</td>\n",
       "      <td>L</td>\n",
       "    </tr>\n",
       "    <tr>\n",
       "      <th>...</th>\n",
       "      <td>...</td>\n",
       "      <td>...</td>\n",
       "      <td>...</td>\n",
       "      <td>...</td>\n",
       "      <td>...</td>\n",
       "      <td>...</td>\n",
       "      <td>...</td>\n",
       "      <td>...</td>\n",
       "      <td>...</td>\n",
       "      <td>...</td>\n",
       "      <td>...</td>\n",
       "      <td>...</td>\n",
       "    </tr>\n",
       "    <tr>\n",
       "      <th>602</th>\n",
       "      <td>602</td>\n",
       "      <td>2022</td>\n",
       "      <td>SE</td>\n",
       "      <td>FT</td>\n",
       "      <td>Data Engineer</td>\n",
       "      <td>154000</td>\n",
       "      <td>USD</td>\n",
       "      <td>154000</td>\n",
       "      <td>US</td>\n",
       "      <td>100</td>\n",
       "      <td>US</td>\n",
       "      <td>M</td>\n",
       "    </tr>\n",
       "    <tr>\n",
       "      <th>603</th>\n",
       "      <td>603</td>\n",
       "      <td>2022</td>\n",
       "      <td>SE</td>\n",
       "      <td>FT</td>\n",
       "      <td>Data Engineer</td>\n",
       "      <td>126000</td>\n",
       "      <td>USD</td>\n",
       "      <td>126000</td>\n",
       "      <td>US</td>\n",
       "      <td>100</td>\n",
       "      <td>US</td>\n",
       "      <td>M</td>\n",
       "    </tr>\n",
       "    <tr>\n",
       "      <th>604</th>\n",
       "      <td>604</td>\n",
       "      <td>2022</td>\n",
       "      <td>SE</td>\n",
       "      <td>FT</td>\n",
       "      <td>Data Analyst</td>\n",
       "      <td>129000</td>\n",
       "      <td>USD</td>\n",
       "      <td>129000</td>\n",
       "      <td>US</td>\n",
       "      <td>0</td>\n",
       "      <td>US</td>\n",
       "      <td>M</td>\n",
       "    </tr>\n",
       "    <tr>\n",
       "      <th>605</th>\n",
       "      <td>605</td>\n",
       "      <td>2022</td>\n",
       "      <td>SE</td>\n",
       "      <td>FT</td>\n",
       "      <td>Data Analyst</td>\n",
       "      <td>150000</td>\n",
       "      <td>USD</td>\n",
       "      <td>150000</td>\n",
       "      <td>US</td>\n",
       "      <td>100</td>\n",
       "      <td>US</td>\n",
       "      <td>M</td>\n",
       "    </tr>\n",
       "    <tr>\n",
       "      <th>606</th>\n",
       "      <td>606</td>\n",
       "      <td>2022</td>\n",
       "      <td>MI</td>\n",
       "      <td>FT</td>\n",
       "      <td>AI Scientist</td>\n",
       "      <td>200000</td>\n",
       "      <td>USD</td>\n",
       "      <td>200000</td>\n",
       "      <td>IN</td>\n",
       "      <td>100</td>\n",
       "      <td>US</td>\n",
       "      <td>L</td>\n",
       "    </tr>\n",
       "  </tbody>\n",
       "</table>\n",
       "<p>607 rows × 12 columns</p>\n",
       "</div>"
      ],
      "text/plain": [
       "     Unnamed: 0  work_year experience_level employment_type  \\\n",
       "0             0       2020               MI              FT   \n",
       "1             1       2020               SE              FT   \n",
       "2             2       2020               SE              FT   \n",
       "3             3       2020               MI              FT   \n",
       "4             4       2020               SE              FT   \n",
       "..          ...        ...              ...             ...   \n",
       "602         602       2022               SE              FT   \n",
       "603         603       2022               SE              FT   \n",
       "604         604       2022               SE              FT   \n",
       "605         605       2022               SE              FT   \n",
       "606         606       2022               MI              FT   \n",
       "\n",
       "                      job_title  salary salary_currency  salary_in_usd  \\\n",
       "0                Data Scientist   70000             EUR          79833   \n",
       "1    Machine Learning Scientist  260000             USD         260000   \n",
       "2             Big Data Engineer   85000             GBP         109024   \n",
       "3          Product Data Analyst   20000             USD          20000   \n",
       "4     Machine Learning Engineer  150000             USD         150000   \n",
       "..                          ...     ...             ...            ...   \n",
       "602               Data Engineer  154000             USD         154000   \n",
       "603               Data Engineer  126000             USD         126000   \n",
       "604                Data Analyst  129000             USD         129000   \n",
       "605                Data Analyst  150000             USD         150000   \n",
       "606                AI Scientist  200000             USD         200000   \n",
       "\n",
       "    employee_residence  remote_ratio company_location company_size  \n",
       "0                   DE             0               DE            L  \n",
       "1                   JP             0               JP            S  \n",
       "2                   GB            50               GB            M  \n",
       "3                   HN             0               HN            S  \n",
       "4                   US            50               US            L  \n",
       "..                 ...           ...              ...          ...  \n",
       "602                 US           100               US            M  \n",
       "603                 US           100               US            M  \n",
       "604                 US             0               US            M  \n",
       "605                 US           100               US            M  \n",
       "606                 IN           100               US            L  \n",
       "\n",
       "[607 rows x 12 columns]"
      ]
     },
     "metadata": {},
     "output_type": "display_data"
    }
   ],
   "source": [
    "# загружаем датасет\n",
    "data = pd.read_csv('data/ds_salaries.zip')\n",
    "display(data)"
   ]
  },
  {
   "cell_type": "code",
   "execution_count": 4,
   "id": "ff281491",
   "metadata": {
    "ExecuteTime": {
     "end_time": "2023-08-31T11:48:48.866328Z",
     "start_time": "2023-08-31T11:48:48.815754Z"
    }
   },
   "outputs": [
    {
     "data": {
      "text/plain": [
       "(607, 12)"
      ]
     },
     "metadata": {},
     "output_type": "display_data"
    }
   ],
   "source": [
    "# Посмотрим размерность данных\n",
    "display(data.shape)"
   ]
  },
  {
   "cell_type": "code",
   "execution_count": 5,
   "id": "608bc862",
   "metadata": {
    "ExecuteTime": {
     "end_time": "2023-08-31T11:48:48.924355Z",
     "start_time": "2023-08-31T11:48:48.868901Z"
    }
   },
   "outputs": [
    {
     "name": "stdout",
     "output_type": "stream",
     "text": [
      "<class 'pandas.core.frame.DataFrame'>\n",
      "RangeIndex: 607 entries, 0 to 606\n",
      "Data columns (total 12 columns):\n",
      " #   Column              Non-Null Count  Dtype \n",
      "---  ------              --------------  ----- \n",
      " 0   Unnamed: 0          607 non-null    int64 \n",
      " 1   work_year           607 non-null    int64 \n",
      " 2   experience_level    607 non-null    object\n",
      " 3   employment_type     607 non-null    object\n",
      " 4   job_title           607 non-null    object\n",
      " 5   salary              607 non-null    int64 \n",
      " 6   salary_currency     607 non-null    object\n",
      " 7   salary_in_usd       607 non-null    int64 \n",
      " 8   employee_residence  607 non-null    object\n",
      " 9   remote_ratio        607 non-null    int64 \n",
      " 10  company_location    607 non-null    object\n",
      " 11  company_size        607 non-null    object\n",
      "dtypes: int64(5), object(7)\n",
      "memory usage: 57.0+ KB\n"
     ]
    },
    {
     "data": {
      "text/plain": [
       "None"
      ]
     },
     "metadata": {},
     "output_type": "display_data"
    }
   ],
   "source": [
    "# Оценим информацию о датафрейме\n",
    "display(data.info())"
   ]
  },
  {
   "cell_type": "code",
   "execution_count": 6,
   "id": "adf49078",
   "metadata": {
    "ExecuteTime": {
     "end_time": "2023-08-31T11:48:49.002259Z",
     "start_time": "2023-08-31T11:48:48.926966Z"
    }
   },
   "outputs": [
    {
     "data": {
      "text/html": [
       "<div>\n",
       "<style scoped>\n",
       "    .dataframe tbody tr th:only-of-type {\n",
       "        vertical-align: middle;\n",
       "    }\n",
       "\n",
       "    .dataframe tbody tr th {\n",
       "        vertical-align: top;\n",
       "    }\n",
       "\n",
       "    .dataframe thead th {\n",
       "        text-align: right;\n",
       "    }\n",
       "</style>\n",
       "<table border=\"1\" class=\"dataframe\">\n",
       "  <thead>\n",
       "    <tr style=\"text-align: right;\">\n",
       "      <th></th>\n",
       "      <th>Unnamed: 0</th>\n",
       "      <th>work_year</th>\n",
       "      <th>experience_level</th>\n",
       "      <th>employment_type</th>\n",
       "      <th>job_title</th>\n",
       "      <th>salary</th>\n",
       "      <th>salary_currency</th>\n",
       "      <th>salary_in_usd</th>\n",
       "      <th>employee_residence</th>\n",
       "      <th>remote_ratio</th>\n",
       "      <th>company_location</th>\n",
       "      <th>company_size</th>\n",
       "    </tr>\n",
       "  </thead>\n",
       "  <tbody>\n",
       "    <tr>\n",
       "      <th>count</th>\n",
       "      <td>607.000000</td>\n",
       "      <td>607.000000</td>\n",
       "      <td>607</td>\n",
       "      <td>607</td>\n",
       "      <td>607</td>\n",
       "      <td>6.070000e+02</td>\n",
       "      <td>607</td>\n",
       "      <td>607.000000</td>\n",
       "      <td>607</td>\n",
       "      <td>607.00000</td>\n",
       "      <td>607</td>\n",
       "      <td>607</td>\n",
       "    </tr>\n",
       "    <tr>\n",
       "      <th>unique</th>\n",
       "      <td>NaN</td>\n",
       "      <td>NaN</td>\n",
       "      <td>4</td>\n",
       "      <td>4</td>\n",
       "      <td>50</td>\n",
       "      <td>NaN</td>\n",
       "      <td>17</td>\n",
       "      <td>NaN</td>\n",
       "      <td>57</td>\n",
       "      <td>NaN</td>\n",
       "      <td>50</td>\n",
       "      <td>3</td>\n",
       "    </tr>\n",
       "    <tr>\n",
       "      <th>top</th>\n",
       "      <td>NaN</td>\n",
       "      <td>NaN</td>\n",
       "      <td>SE</td>\n",
       "      <td>FT</td>\n",
       "      <td>Data Scientist</td>\n",
       "      <td>NaN</td>\n",
       "      <td>USD</td>\n",
       "      <td>NaN</td>\n",
       "      <td>US</td>\n",
       "      <td>NaN</td>\n",
       "      <td>US</td>\n",
       "      <td>M</td>\n",
       "    </tr>\n",
       "    <tr>\n",
       "      <th>freq</th>\n",
       "      <td>NaN</td>\n",
       "      <td>NaN</td>\n",
       "      <td>280</td>\n",
       "      <td>588</td>\n",
       "      <td>143</td>\n",
       "      <td>NaN</td>\n",
       "      <td>398</td>\n",
       "      <td>NaN</td>\n",
       "      <td>332</td>\n",
       "      <td>NaN</td>\n",
       "      <td>355</td>\n",
       "      <td>326</td>\n",
       "    </tr>\n",
       "    <tr>\n",
       "      <th>mean</th>\n",
       "      <td>303.000000</td>\n",
       "      <td>2021.405272</td>\n",
       "      <td>NaN</td>\n",
       "      <td>NaN</td>\n",
       "      <td>NaN</td>\n",
       "      <td>3.240001e+05</td>\n",
       "      <td>NaN</td>\n",
       "      <td>112297.869852</td>\n",
       "      <td>NaN</td>\n",
       "      <td>70.92257</td>\n",
       "      <td>NaN</td>\n",
       "      <td>NaN</td>\n",
       "    </tr>\n",
       "    <tr>\n",
       "      <th>std</th>\n",
       "      <td>175.370085</td>\n",
       "      <td>0.692133</td>\n",
       "      <td>NaN</td>\n",
       "      <td>NaN</td>\n",
       "      <td>NaN</td>\n",
       "      <td>1.544357e+06</td>\n",
       "      <td>NaN</td>\n",
       "      <td>70957.259411</td>\n",
       "      <td>NaN</td>\n",
       "      <td>40.70913</td>\n",
       "      <td>NaN</td>\n",
       "      <td>NaN</td>\n",
       "    </tr>\n",
       "    <tr>\n",
       "      <th>min</th>\n",
       "      <td>0.000000</td>\n",
       "      <td>2020.000000</td>\n",
       "      <td>NaN</td>\n",
       "      <td>NaN</td>\n",
       "      <td>NaN</td>\n",
       "      <td>4.000000e+03</td>\n",
       "      <td>NaN</td>\n",
       "      <td>2859.000000</td>\n",
       "      <td>NaN</td>\n",
       "      <td>0.00000</td>\n",
       "      <td>NaN</td>\n",
       "      <td>NaN</td>\n",
       "    </tr>\n",
       "    <tr>\n",
       "      <th>25%</th>\n",
       "      <td>151.500000</td>\n",
       "      <td>2021.000000</td>\n",
       "      <td>NaN</td>\n",
       "      <td>NaN</td>\n",
       "      <td>NaN</td>\n",
       "      <td>7.000000e+04</td>\n",
       "      <td>NaN</td>\n",
       "      <td>62726.000000</td>\n",
       "      <td>NaN</td>\n",
       "      <td>50.00000</td>\n",
       "      <td>NaN</td>\n",
       "      <td>NaN</td>\n",
       "    </tr>\n",
       "    <tr>\n",
       "      <th>50%</th>\n",
       "      <td>303.000000</td>\n",
       "      <td>2022.000000</td>\n",
       "      <td>NaN</td>\n",
       "      <td>NaN</td>\n",
       "      <td>NaN</td>\n",
       "      <td>1.150000e+05</td>\n",
       "      <td>NaN</td>\n",
       "      <td>101570.000000</td>\n",
       "      <td>NaN</td>\n",
       "      <td>100.00000</td>\n",
       "      <td>NaN</td>\n",
       "      <td>NaN</td>\n",
       "    </tr>\n",
       "    <tr>\n",
       "      <th>75%</th>\n",
       "      <td>454.500000</td>\n",
       "      <td>2022.000000</td>\n",
       "      <td>NaN</td>\n",
       "      <td>NaN</td>\n",
       "      <td>NaN</td>\n",
       "      <td>1.650000e+05</td>\n",
       "      <td>NaN</td>\n",
       "      <td>150000.000000</td>\n",
       "      <td>NaN</td>\n",
       "      <td>100.00000</td>\n",
       "      <td>NaN</td>\n",
       "      <td>NaN</td>\n",
       "    </tr>\n",
       "    <tr>\n",
       "      <th>max</th>\n",
       "      <td>606.000000</td>\n",
       "      <td>2022.000000</td>\n",
       "      <td>NaN</td>\n",
       "      <td>NaN</td>\n",
       "      <td>NaN</td>\n",
       "      <td>3.040000e+07</td>\n",
       "      <td>NaN</td>\n",
       "      <td>600000.000000</td>\n",
       "      <td>NaN</td>\n",
       "      <td>100.00000</td>\n",
       "      <td>NaN</td>\n",
       "      <td>NaN</td>\n",
       "    </tr>\n",
       "  </tbody>\n",
       "</table>\n",
       "</div>"
      ],
      "text/plain": [
       "        Unnamed: 0    work_year experience_level employment_type  \\\n",
       "count   607.000000   607.000000              607             607   \n",
       "unique         NaN          NaN                4               4   \n",
       "top            NaN          NaN               SE              FT   \n",
       "freq           NaN          NaN              280             588   \n",
       "mean    303.000000  2021.405272              NaN             NaN   \n",
       "std     175.370085     0.692133              NaN             NaN   \n",
       "min       0.000000  2020.000000              NaN             NaN   \n",
       "25%     151.500000  2021.000000              NaN             NaN   \n",
       "50%     303.000000  2022.000000              NaN             NaN   \n",
       "75%     454.500000  2022.000000              NaN             NaN   \n",
       "max     606.000000  2022.000000              NaN             NaN   \n",
       "\n",
       "             job_title        salary salary_currency  salary_in_usd  \\\n",
       "count              607  6.070000e+02             607     607.000000   \n",
       "unique              50           NaN              17            NaN   \n",
       "top     Data Scientist           NaN             USD            NaN   \n",
       "freq               143           NaN             398            NaN   \n",
       "mean               NaN  3.240001e+05             NaN  112297.869852   \n",
       "std                NaN  1.544357e+06             NaN   70957.259411   \n",
       "min                NaN  4.000000e+03             NaN    2859.000000   \n",
       "25%                NaN  7.000000e+04             NaN   62726.000000   \n",
       "50%                NaN  1.150000e+05             NaN  101570.000000   \n",
       "75%                NaN  1.650000e+05             NaN  150000.000000   \n",
       "max                NaN  3.040000e+07             NaN  600000.000000   \n",
       "\n",
       "       employee_residence  remote_ratio company_location company_size  \n",
       "count                 607     607.00000              607          607  \n",
       "unique                 57           NaN               50            3  \n",
       "top                    US           NaN               US            M  \n",
       "freq                  332           NaN              355          326  \n",
       "mean                  NaN      70.92257              NaN          NaN  \n",
       "std                   NaN      40.70913              NaN          NaN  \n",
       "min                   NaN       0.00000              NaN          NaN  \n",
       "25%                   NaN      50.00000              NaN          NaN  \n",
       "50%                   NaN     100.00000              NaN          NaN  \n",
       "75%                   NaN     100.00000              NaN          NaN  \n",
       "max                   NaN     100.00000              NaN          NaN  "
      ]
     },
     "metadata": {},
     "output_type": "display_data"
    }
   ],
   "source": [
    "# Посмотрим статистическую информацию по всем столбцам\n",
    "display(data.describe(include = 'all'))"
   ]
  },
  {
   "cell_type": "code",
   "execution_count": 7,
   "id": "42d429c9",
   "metadata": {
    "ExecuteTime": {
     "end_time": "2023-08-31T11:48:49.052042Z",
     "start_time": "2023-08-31T11:48:49.004314Z"
    }
   },
   "outputs": [
    {
     "name": "stdout",
     "output_type": "stream",
     "text": [
      "Число найденных дубликатов: 42\n"
     ]
    }
   ],
   "source": [
    "# Поищем дубликаты. Предварительно создадим список столбцов dupl_columns, по которым \n",
    "# будем искать совпадения (все столбцы, не включая Unnamed: 0, т.к. он задает каждой \n",
    "# строке свой уникальный индентификатор). \n",
    "dupl_columns = list(data.columns)\n",
    "dupl_columns.remove('Unnamed: 0')\n",
    "# Создадим маску дубликатов с помощью метода duplicated() и произведём фильтрацию. \n",
    "# Результат заносим в переменную data_duplicates. Выведем число строк.\n",
    "mask = data.duplicated(subset=dupl_columns)\n",
    "data_duplicates = data[mask]\n",
    "print(f'Число найденных дубликатов: {data_duplicates.shape[0]}')"
   ]
  },
  {
   "cell_type": "code",
   "execution_count": 8,
   "id": "95260511",
   "metadata": {
    "ExecuteTime": {
     "end_time": "2023-08-31T11:48:49.098848Z",
     "start_time": "2023-08-31T11:48:49.054316Z"
    }
   },
   "outputs": [
    {
     "data": {
      "text/plain": [
       "Unnamed: 0            0\n",
       "work_year             0\n",
       "experience_level      0\n",
       "employment_type       0\n",
       "job_title             0\n",
       "salary                0\n",
       "salary_currency       0\n",
       "salary_in_usd         0\n",
       "employee_residence    0\n",
       "remote_ratio          0\n",
       "company_location      0\n",
       "company_size          0\n",
       "dtype: int64"
      ]
     },
     "metadata": {},
     "output_type": "display_data"
    }
   ],
   "source": [
    "# Посмотрим пропуски\n",
    "display(data.isnull().sum())"
   ]
  },
  {
   "cell_type": "markdown",
   "id": "8d4212d8",
   "metadata": {},
   "source": [
    "<hr style=\"border-style: dashed;\">\n",
    "\n",
    "У нас есть датасет со следующими данными:   \n",
    "- размерность 607 строк и 12 параметров (столбцов)\n",
    "- 5 параметров числовых: Unnamed: 0, work_year, salary, salary_in_usd, remote_ratio\n",
    "- 7 категориальных: experience_level, employment_type, job_title, salary_currency, employee_residence, company_location, company_size\n",
    "- в датасете 42 дубликата\n",
    "- пропусков у нас нет\n",
    "\n",
    "__Вывод__:  \n",
    "Нам надо будет удалить параметр - 'Unnamed: 0', так как он не представляет для нас ценности и представляет из себя идентификатор строк датафрейма. Также надо удалить 42 найденных дубликата. Возможно нам надо будет перекодировать категориальные данные при более близком знакомстве с ними. При более близком знакомстве с параметрами возможно, еще что то удалим (кандидаты - salary, salary_currency) \n",
    "<hr style=\"border-style: dashed;\">"
   ]
  },
  {
   "cell_type": "code",
   "execution_count": 9,
   "id": "3bc4d331",
   "metadata": {
    "ExecuteTime": {
     "end_time": "2023-08-31T11:48:49.143935Z",
     "start_time": "2023-08-31T11:48:49.101057Z"
    }
   },
   "outputs": [
    {
     "name": "stdout",
     "output_type": "stream",
     "text": [
      "Размер таблицы после удаления: (565, 11)\n"
     ]
    }
   ],
   "source": [
    "# Удаляем дубликаты и параметр.\n",
    "data = data.drop(['Unnamed: 0'], axis=1)\n",
    "data = data.drop_duplicates()\n",
    "print('Размер таблицы после удаления: {}'.format(data.shape))"
   ]
  },
  {
   "cell_type": "markdown",
   "id": "36f20168",
   "metadata": {},
   "source": [
    "# <center> Проведем одномерный анализ данных\n",
    "\n",
    "Мы исследуем каждый столбец и посмотрим распределение данных и другую информацию которую сможем найти. \n",
    "Сначала исследуем числовые данные, затем категориальнные.\n",
    "    \n",
    "## <center> Числовые данные\n",
    "\n",
    "- work_year\n",
    "- salary \n",
    "- salary_in_usd\n",
    "- remote_ratio\n",
    "\n",
    "    \n",
    "###  <center> Распределение зарплаты DS (salary_in_usd)\n",
    "    \n",
    "Так как нам надо сравнивать данные с зарплатой, то изучим общее распределение зарплат DS, как они располагаються с точки зрения наблюдений. Изучать мы будем столбец - salary_in_usd, так как здесь зарплата приведенна к обшему знаменателю.\n",
    "Так как, мы хотим посмотреть распределение числового признака, то воспользуемся гистограммой."
   ]
  },
  {
   "cell_type": "code",
   "execution_count": 54,
   "id": "e320d9a2",
   "metadata": {
    "ExecuteTime": {
     "end_time": "2023-08-31T13:45:04.390142Z",
     "start_time": "2023-08-31T13:45:04.117502Z"
    },
    "scrolled": false
   },
   "outputs": [
    {
     "data": {
      "application/vnd.plotly.v1+json": {
       "config": {
        "plotlyServerURL": "https://plot.ly"
       },
       "data": [
        {
         "alignmentgroup": "True",
         "bingroup": "x",
         "hovertemplate": "salary_in_usd=%{x}<br>count=%{y}<extra></extra>",
         "legendgroup": "",
         "marker": {
          "color": "lightskyblue",
          "pattern": {
           "shape": ""
          }
         },
         "name": "",
         "nbinsx": 100,
         "offsetgroup": "",
         "orientation": "v",
         "showlegend": false,
         "type": "histogram",
         "x": [
          79833,
          260000,
          109024,
          20000,
          150000,
          72000,
          190000,
          35735,
          135000,
          125000,
          51321,
          40481,
          39916,
          87000,
          85000,
          8000,
          41689,
          114047,
          5707,
          56000,
          43331,
          6072,
          47899,
          98000,
          115000,
          325000,
          42000,
          33511,
          100000,
          117104,
          59303,
          70000,
          68428,
          450000,
          46759,
          74130,
          103000,
          250000,
          10000,
          138000,
          45760,
          79833,
          50180,
          106000,
          112872,
          15966,
          76958,
          188000,
          105000,
          70139,
          6072,
          91000,
          45896,
          54742,
          60000,
          148261,
          38776,
          118000,
          120000,
          138350,
          110000,
          130800,
          21669,
          412000,
          45618,
          62726,
          49268,
          190200,
          105000,
          91237,
          62726,
          42197,
          82528,
          150000,
          235000,
          53192,
          100000,
          5409,
          270000,
          80000,
          79197,
          140000,
          54238,
          47282,
          153667,
          28476,
          59102,
          110000,
          170000,
          80000,
          88654,
          76833,
          19609,
          276000,
          29751,
          89294,
          12000,
          450000,
          70000,
          95746,
          75000,
          150000,
          36259,
          62000,
          73000,
          51519,
          187442,
          115000,
          150000,
          30428,
          94564,
          113476,
          103160,
          12000,
          45391,
          225000,
          50000,
          40189,
          90000,
          200000,
          60000,
          200000,
          50000,
          110037,
          10354,
          151000,
          120000,
          9466,
          20000,
          40570,
          100000,
          49646,
          38400,
          24000,
          100000,
          90000,
          63711,
          77364,
          220000,
          80000,
          135000,
          240000,
          150000,
          82500,
          100000,
          82744,
          62649,
          90000,
          153000,
          160000,
          168000,
          150000,
          75774,
          13400,
          144000,
          127221,
          119059,
          423000,
          120000,
          125000,
          230000,
          85000,
          28369,
          63831,
          130026,
          165000,
          80000,
          250000,
          55000,
          150000,
          170000,
          82528,
          60000,
          235000,
          60757,
          174000,
          2859,
          40038,
          81000,
          5679,
          22611,
          90734,
          26005,
          61896,
          12000,
          4000,
          50000,
          69741,
          76833,
          74000,
          152000,
          21844,
          18000,
          174000,
          96113,
          147000,
          9272,
          24342,
          54094,
          90000,
          61467,
          195000,
          37825,
          50000,
          160000,
          12901,
          200000,
          165000,
          20000,
          120000,
          24823,
          56738,
          66022,
          5882,
          24823,
          185000,
          28609,
          88654,
          140000,
          46597,
          116914,
          33808,
          56256,
          225000,
          416000,
          87738,
          88654,
          135000,
          71786,
          16228,
          256000,
          200000,
          200000,
          180000,
          110000,
          63810,
          46809,
          4000,
          21637,
          103691,
          80000,
          110000,
          165000,
          18053,
          72212,
          36643,
          12103,
          96282,
          170000,
          115000,
          90000,
          600000,
          28399,
          93000,
          99703,
          173762,
          185000,
          141846,
          130000,
          63831,
          16904,
          66265,
          25532,
          160000,
          93150,
          111775,
          28016,
          65013,
          72500,
          18907,
          76833,
          85000,
          77684,
          100000,
          58000,
          55000,
          20171,
          59102,
          112000,
          100000,
          69741,
          105000,
          69999,
          94665,
          102839,
          109000,
          51064,
          135000,
          155000,
          120600,
          130000,
          90000,
          170000,
          150000,
          102100,
          84900,
          136620,
          99360,
          117789,
          104702,
          146000,
          123000,
          52351,
          99000,
          116000,
          106260,
          126500,
          242000,
          200000,
          65438,
          39263,
          78526,
          52351,
          165220,
          45807,
          120160,
          90320,
          181940,
          132320,
          220110,
          160080,
          180000,
          120000,
          124190,
          130000,
          110000,
          170000,
          115500,
          112900,
          165400,
          132320,
          167000,
          243900,
          136600,
          109280,
          128875,
          93700,
          224000,
          167875,
          175000,
          156600,
          108800,
          95550,
          113000,
          135000,
          161342,
          137141,
          167000,
          78526,
          65438,
          150000,
          211500,
          192400,
          90700,
          130000,
          61300,
          160000,
          138600,
          136000,
          58000,
          135000,
          170000,
          189650,
          164996,
          54957,
          118187,
          132000,
          208775,
          147800,
          136994,
          101570,
          128875,
          93700,
          79039,
          37300,
          164000,
          155000,
          124333,
          98158,
          120000,
          145000,
          105400,
          87932,
          117789,
          215300,
          158200,
          209100,
          154600,
          115934,
          81666,
          175000,
          98158,
          183600,
          52351,
          180000,
          71982,
          45807,
          65949,
          49461,
          78526,
          58894,
          260000,
          60000,
          63900,
          160000,
          112300,
          241000,
          159000,
          180000,
          80000,
          82900,
          100800,
          49461,
          140400,
          39263,
          43966,
          32974,
          87932,
          76940,
          104702,
          91614,
          65949,
          87932,
          43966,
          32974,
          98158,
          215300,
          76940,
          180000,
          21983,
          80000,
          78791,
          196979,
          120000,
          125000,
          37236,
          105000,
          87932,
          18442,
          31615,
          58255,
          100000,
          54957,
          18442,
          162674,
          120000,
          144000,
          104890,
          100000,
          140000,
          135000,
          50000,
          220000,
          183228,
          91614,
          185100,
          220000,
          200000,
          120000,
          120000,
          65000,
          324000,
          216000,
          210000,
          120000,
          230000,
          100000,
          100000,
          31875,
          200000,
          75000,
          35590,
          78791,
          100000,
          153000,
          58035,
          165000,
          93427,
          52396,
          62651,
          32974,
          40000,
          87425,
          115000,
          86703,
          75000,
          64849,
          120000,
          157000,
          150000,
          70912,
          65000,
          71444,
          20000,
          48000,
          152500,
          68147,
          122346,
          380000,
          69336,
          10000,
          20000,
          405000,
          135000,
          177000,
          78000,
          100000,
          85000,
          75000,
          214000,
          192600,
          266400,
          213120,
          141300,
          102100,
          115934,
          81666,
          206699,
          99100,
          130000,
          110500,
          99050,
          160000,
          205300,
          176000,
          144000,
          200100,
          145000,
          70500,
          205300,
          140400,
          205300,
          184700,
          175100,
          140250,
          116150,
          54000,
          65438,
          80000,
          210000,
          69000,
          150075,
          25000,
          126500,
          106260,
          220110,
          160080,
          105000,
          110925,
          45807,
          60000,
          192564,
          144854,
          150000,
          150260,
          109280,
          160000,
          130000,
          67000,
          52000,
          154000,
          126000,
          129000,
          150000,
          200000
         ],
         "xaxis": "x",
         "yaxis": "y"
        },
        {
         "alignmentgroup": "True",
         "hovertemplate": "salary_in_usd=%{x}<extra></extra>",
         "legendgroup": "",
         "marker": {
          "color": "lightskyblue"
         },
         "name": "",
         "notched": true,
         "offsetgroup": "",
         "showlegend": false,
         "type": "box",
         "x": [
          79833,
          260000,
          109024,
          20000,
          150000,
          72000,
          190000,
          35735,
          135000,
          125000,
          51321,
          40481,
          39916,
          87000,
          85000,
          8000,
          41689,
          114047,
          5707,
          56000,
          43331,
          6072,
          47899,
          98000,
          115000,
          325000,
          42000,
          33511,
          100000,
          117104,
          59303,
          70000,
          68428,
          450000,
          46759,
          74130,
          103000,
          250000,
          10000,
          138000,
          45760,
          79833,
          50180,
          106000,
          112872,
          15966,
          76958,
          188000,
          105000,
          70139,
          6072,
          91000,
          45896,
          54742,
          60000,
          148261,
          38776,
          118000,
          120000,
          138350,
          110000,
          130800,
          21669,
          412000,
          45618,
          62726,
          49268,
          190200,
          105000,
          91237,
          62726,
          42197,
          82528,
          150000,
          235000,
          53192,
          100000,
          5409,
          270000,
          80000,
          79197,
          140000,
          54238,
          47282,
          153667,
          28476,
          59102,
          110000,
          170000,
          80000,
          88654,
          76833,
          19609,
          276000,
          29751,
          89294,
          12000,
          450000,
          70000,
          95746,
          75000,
          150000,
          36259,
          62000,
          73000,
          51519,
          187442,
          115000,
          150000,
          30428,
          94564,
          113476,
          103160,
          12000,
          45391,
          225000,
          50000,
          40189,
          90000,
          200000,
          60000,
          200000,
          50000,
          110037,
          10354,
          151000,
          120000,
          9466,
          20000,
          40570,
          100000,
          49646,
          38400,
          24000,
          100000,
          90000,
          63711,
          77364,
          220000,
          80000,
          135000,
          240000,
          150000,
          82500,
          100000,
          82744,
          62649,
          90000,
          153000,
          160000,
          168000,
          150000,
          75774,
          13400,
          144000,
          127221,
          119059,
          423000,
          120000,
          125000,
          230000,
          85000,
          28369,
          63831,
          130026,
          165000,
          80000,
          250000,
          55000,
          150000,
          170000,
          82528,
          60000,
          235000,
          60757,
          174000,
          2859,
          40038,
          81000,
          5679,
          22611,
          90734,
          26005,
          61896,
          12000,
          4000,
          50000,
          69741,
          76833,
          74000,
          152000,
          21844,
          18000,
          174000,
          96113,
          147000,
          9272,
          24342,
          54094,
          90000,
          61467,
          195000,
          37825,
          50000,
          160000,
          12901,
          200000,
          165000,
          20000,
          120000,
          24823,
          56738,
          66022,
          5882,
          24823,
          185000,
          28609,
          88654,
          140000,
          46597,
          116914,
          33808,
          56256,
          225000,
          416000,
          87738,
          88654,
          135000,
          71786,
          16228,
          256000,
          200000,
          200000,
          180000,
          110000,
          63810,
          46809,
          4000,
          21637,
          103691,
          80000,
          110000,
          165000,
          18053,
          72212,
          36643,
          12103,
          96282,
          170000,
          115000,
          90000,
          600000,
          28399,
          93000,
          99703,
          173762,
          185000,
          141846,
          130000,
          63831,
          16904,
          66265,
          25532,
          160000,
          93150,
          111775,
          28016,
          65013,
          72500,
          18907,
          76833,
          85000,
          77684,
          100000,
          58000,
          55000,
          20171,
          59102,
          112000,
          100000,
          69741,
          105000,
          69999,
          94665,
          102839,
          109000,
          51064,
          135000,
          155000,
          120600,
          130000,
          90000,
          170000,
          150000,
          102100,
          84900,
          136620,
          99360,
          117789,
          104702,
          146000,
          123000,
          52351,
          99000,
          116000,
          106260,
          126500,
          242000,
          200000,
          65438,
          39263,
          78526,
          52351,
          165220,
          45807,
          120160,
          90320,
          181940,
          132320,
          220110,
          160080,
          180000,
          120000,
          124190,
          130000,
          110000,
          170000,
          115500,
          112900,
          165400,
          132320,
          167000,
          243900,
          136600,
          109280,
          128875,
          93700,
          224000,
          167875,
          175000,
          156600,
          108800,
          95550,
          113000,
          135000,
          161342,
          137141,
          167000,
          78526,
          65438,
          150000,
          211500,
          192400,
          90700,
          130000,
          61300,
          160000,
          138600,
          136000,
          58000,
          135000,
          170000,
          189650,
          164996,
          54957,
          118187,
          132000,
          208775,
          147800,
          136994,
          101570,
          128875,
          93700,
          79039,
          37300,
          164000,
          155000,
          124333,
          98158,
          120000,
          145000,
          105400,
          87932,
          117789,
          215300,
          158200,
          209100,
          154600,
          115934,
          81666,
          175000,
          98158,
          183600,
          52351,
          180000,
          71982,
          45807,
          65949,
          49461,
          78526,
          58894,
          260000,
          60000,
          63900,
          160000,
          112300,
          241000,
          159000,
          180000,
          80000,
          82900,
          100800,
          49461,
          140400,
          39263,
          43966,
          32974,
          87932,
          76940,
          104702,
          91614,
          65949,
          87932,
          43966,
          32974,
          98158,
          215300,
          76940,
          180000,
          21983,
          80000,
          78791,
          196979,
          120000,
          125000,
          37236,
          105000,
          87932,
          18442,
          31615,
          58255,
          100000,
          54957,
          18442,
          162674,
          120000,
          144000,
          104890,
          100000,
          140000,
          135000,
          50000,
          220000,
          183228,
          91614,
          185100,
          220000,
          200000,
          120000,
          120000,
          65000,
          324000,
          216000,
          210000,
          120000,
          230000,
          100000,
          100000,
          31875,
          200000,
          75000,
          35590,
          78791,
          100000,
          153000,
          58035,
          165000,
          93427,
          52396,
          62651,
          32974,
          40000,
          87425,
          115000,
          86703,
          75000,
          64849,
          120000,
          157000,
          150000,
          70912,
          65000,
          71444,
          20000,
          48000,
          152500,
          68147,
          122346,
          380000,
          69336,
          10000,
          20000,
          405000,
          135000,
          177000,
          78000,
          100000,
          85000,
          75000,
          214000,
          192600,
          266400,
          213120,
          141300,
          102100,
          115934,
          81666,
          206699,
          99100,
          130000,
          110500,
          99050,
          160000,
          205300,
          176000,
          144000,
          200100,
          145000,
          70500,
          205300,
          140400,
          205300,
          184700,
          175100,
          140250,
          116150,
          54000,
          65438,
          80000,
          210000,
          69000,
          150075,
          25000,
          126500,
          106260,
          220110,
          160080,
          105000,
          110925,
          45807,
          60000,
          192564,
          144854,
          150000,
          150260,
          109280,
          160000,
          130000,
          67000,
          52000,
          154000,
          126000,
          129000,
          150000,
          200000
         ],
         "xaxis": "x2",
         "yaxis": "y2"
        }
       ],
       "layout": {
        "annotations": [
         {
          "showarrow": false,
          "text": "mean of salary - 110610",
          "x": 110610.34336283186,
          "xanchor": "left",
          "xref": "x",
          "y": 1,
          "yanchor": "top",
          "yref": "y domain"
         },
         {
          "showarrow": false,
          "text": "mean of salary - 110610",
          "x": 110610.34336283186,
          "xanchor": "left",
          "xref": "x2",
          "y": 1,
          "yanchor": "top",
          "yref": "y2 domain"
         }
        ],
        "barmode": "relative",
        "height": 700,
        "legend": {
         "tracegroupgap": 0
        },
        "shapes": [
         {
          "line": {
           "color": "green",
           "dash": "dash",
           "width": 1
          },
          "type": "line",
          "x0": 110610.34336283186,
          "x1": 110610.34336283186,
          "xref": "x",
          "y0": 0,
          "y1": 1,
          "yref": "y domain"
         },
         {
          "line": {
           "color": "green",
           "dash": "dash",
           "width": 1
          },
          "type": "line",
          "x0": 110610.34336283186,
          "x1": 110610.34336283186,
          "xref": "x2",
          "y0": 0,
          "y1": 1,
          "yref": "y2 domain"
         }
        ],
        "template": {
         "data": {
          "bar": [
           {
            "error_x": {
             "color": "#2a3f5f"
            },
            "error_y": {
             "color": "#2a3f5f"
            },
            "marker": {
             "line": {
              "color": "#E5ECF6",
              "width": 0.5
             },
             "pattern": {
              "fillmode": "overlay",
              "size": 10,
              "solidity": 0.2
             }
            },
            "type": "bar"
           }
          ],
          "barpolar": [
           {
            "marker": {
             "line": {
              "color": "#E5ECF6",
              "width": 0.5
             },
             "pattern": {
              "fillmode": "overlay",
              "size": 10,
              "solidity": 0.2
             }
            },
            "type": "barpolar"
           }
          ],
          "carpet": [
           {
            "aaxis": {
             "endlinecolor": "#2a3f5f",
             "gridcolor": "white",
             "linecolor": "white",
             "minorgridcolor": "white",
             "startlinecolor": "#2a3f5f"
            },
            "baxis": {
             "endlinecolor": "#2a3f5f",
             "gridcolor": "white",
             "linecolor": "white",
             "minorgridcolor": "white",
             "startlinecolor": "#2a3f5f"
            },
            "type": "carpet"
           }
          ],
          "choropleth": [
           {
            "colorbar": {
             "outlinewidth": 0,
             "ticks": ""
            },
            "type": "choropleth"
           }
          ],
          "contour": [
           {
            "colorbar": {
             "outlinewidth": 0,
             "ticks": ""
            },
            "colorscale": [
             [
              0,
              "#0d0887"
             ],
             [
              0.1111111111111111,
              "#46039f"
             ],
             [
              0.2222222222222222,
              "#7201a8"
             ],
             [
              0.3333333333333333,
              "#9c179e"
             ],
             [
              0.4444444444444444,
              "#bd3786"
             ],
             [
              0.5555555555555556,
              "#d8576b"
             ],
             [
              0.6666666666666666,
              "#ed7953"
             ],
             [
              0.7777777777777778,
              "#fb9f3a"
             ],
             [
              0.8888888888888888,
              "#fdca26"
             ],
             [
              1,
              "#f0f921"
             ]
            ],
            "type": "contour"
           }
          ],
          "contourcarpet": [
           {
            "colorbar": {
             "outlinewidth": 0,
             "ticks": ""
            },
            "type": "contourcarpet"
           }
          ],
          "heatmap": [
           {
            "colorbar": {
             "outlinewidth": 0,
             "ticks": ""
            },
            "colorscale": [
             [
              0,
              "#0d0887"
             ],
             [
              0.1111111111111111,
              "#46039f"
             ],
             [
              0.2222222222222222,
              "#7201a8"
             ],
             [
              0.3333333333333333,
              "#9c179e"
             ],
             [
              0.4444444444444444,
              "#bd3786"
             ],
             [
              0.5555555555555556,
              "#d8576b"
             ],
             [
              0.6666666666666666,
              "#ed7953"
             ],
             [
              0.7777777777777778,
              "#fb9f3a"
             ],
             [
              0.8888888888888888,
              "#fdca26"
             ],
             [
              1,
              "#f0f921"
             ]
            ],
            "type": "heatmap"
           }
          ],
          "heatmapgl": [
           {
            "colorbar": {
             "outlinewidth": 0,
             "ticks": ""
            },
            "colorscale": [
             [
              0,
              "#0d0887"
             ],
             [
              0.1111111111111111,
              "#46039f"
             ],
             [
              0.2222222222222222,
              "#7201a8"
             ],
             [
              0.3333333333333333,
              "#9c179e"
             ],
             [
              0.4444444444444444,
              "#bd3786"
             ],
             [
              0.5555555555555556,
              "#d8576b"
             ],
             [
              0.6666666666666666,
              "#ed7953"
             ],
             [
              0.7777777777777778,
              "#fb9f3a"
             ],
             [
              0.8888888888888888,
              "#fdca26"
             ],
             [
              1,
              "#f0f921"
             ]
            ],
            "type": "heatmapgl"
           }
          ],
          "histogram": [
           {
            "marker": {
             "pattern": {
              "fillmode": "overlay",
              "size": 10,
              "solidity": 0.2
             }
            },
            "type": "histogram"
           }
          ],
          "histogram2d": [
           {
            "colorbar": {
             "outlinewidth": 0,
             "ticks": ""
            },
            "colorscale": [
             [
              0,
              "#0d0887"
             ],
             [
              0.1111111111111111,
              "#46039f"
             ],
             [
              0.2222222222222222,
              "#7201a8"
             ],
             [
              0.3333333333333333,
              "#9c179e"
             ],
             [
              0.4444444444444444,
              "#bd3786"
             ],
             [
              0.5555555555555556,
              "#d8576b"
             ],
             [
              0.6666666666666666,
              "#ed7953"
             ],
             [
              0.7777777777777778,
              "#fb9f3a"
             ],
             [
              0.8888888888888888,
              "#fdca26"
             ],
             [
              1,
              "#f0f921"
             ]
            ],
            "type": "histogram2d"
           }
          ],
          "histogram2dcontour": [
           {
            "colorbar": {
             "outlinewidth": 0,
             "ticks": ""
            },
            "colorscale": [
             [
              0,
              "#0d0887"
             ],
             [
              0.1111111111111111,
              "#46039f"
             ],
             [
              0.2222222222222222,
              "#7201a8"
             ],
             [
              0.3333333333333333,
              "#9c179e"
             ],
             [
              0.4444444444444444,
              "#bd3786"
             ],
             [
              0.5555555555555556,
              "#d8576b"
             ],
             [
              0.6666666666666666,
              "#ed7953"
             ],
             [
              0.7777777777777778,
              "#fb9f3a"
             ],
             [
              0.8888888888888888,
              "#fdca26"
             ],
             [
              1,
              "#f0f921"
             ]
            ],
            "type": "histogram2dcontour"
           }
          ],
          "mesh3d": [
           {
            "colorbar": {
             "outlinewidth": 0,
             "ticks": ""
            },
            "type": "mesh3d"
           }
          ],
          "parcoords": [
           {
            "line": {
             "colorbar": {
              "outlinewidth": 0,
              "ticks": ""
             }
            },
            "type": "parcoords"
           }
          ],
          "pie": [
           {
            "automargin": true,
            "type": "pie"
           }
          ],
          "scatter": [
           {
            "fillpattern": {
             "fillmode": "overlay",
             "size": 10,
             "solidity": 0.2
            },
            "type": "scatter"
           }
          ],
          "scatter3d": [
           {
            "line": {
             "colorbar": {
              "outlinewidth": 0,
              "ticks": ""
             }
            },
            "marker": {
             "colorbar": {
              "outlinewidth": 0,
              "ticks": ""
             }
            },
            "type": "scatter3d"
           }
          ],
          "scattercarpet": [
           {
            "marker": {
             "colorbar": {
              "outlinewidth": 0,
              "ticks": ""
             }
            },
            "type": "scattercarpet"
           }
          ],
          "scattergeo": [
           {
            "marker": {
             "colorbar": {
              "outlinewidth": 0,
              "ticks": ""
             }
            },
            "type": "scattergeo"
           }
          ],
          "scattergl": [
           {
            "marker": {
             "colorbar": {
              "outlinewidth": 0,
              "ticks": ""
             }
            },
            "type": "scattergl"
           }
          ],
          "scattermapbox": [
           {
            "marker": {
             "colorbar": {
              "outlinewidth": 0,
              "ticks": ""
             }
            },
            "type": "scattermapbox"
           }
          ],
          "scatterpolar": [
           {
            "marker": {
             "colorbar": {
              "outlinewidth": 0,
              "ticks": ""
             }
            },
            "type": "scatterpolar"
           }
          ],
          "scatterpolargl": [
           {
            "marker": {
             "colorbar": {
              "outlinewidth": 0,
              "ticks": ""
             }
            },
            "type": "scatterpolargl"
           }
          ],
          "scatterternary": [
           {
            "marker": {
             "colorbar": {
              "outlinewidth": 0,
              "ticks": ""
             }
            },
            "type": "scatterternary"
           }
          ],
          "surface": [
           {
            "colorbar": {
             "outlinewidth": 0,
             "ticks": ""
            },
            "colorscale": [
             [
              0,
              "#0d0887"
             ],
             [
              0.1111111111111111,
              "#46039f"
             ],
             [
              0.2222222222222222,
              "#7201a8"
             ],
             [
              0.3333333333333333,
              "#9c179e"
             ],
             [
              0.4444444444444444,
              "#bd3786"
             ],
             [
              0.5555555555555556,
              "#d8576b"
             ],
             [
              0.6666666666666666,
              "#ed7953"
             ],
             [
              0.7777777777777778,
              "#fb9f3a"
             ],
             [
              0.8888888888888888,
              "#fdca26"
             ],
             [
              1,
              "#f0f921"
             ]
            ],
            "type": "surface"
           }
          ],
          "table": [
           {
            "cells": {
             "fill": {
              "color": "#EBF0F8"
             },
             "line": {
              "color": "white"
             }
            },
            "header": {
             "fill": {
              "color": "#C8D4E3"
             },
             "line": {
              "color": "white"
             }
            },
            "type": "table"
           }
          ]
         },
         "layout": {
          "annotationdefaults": {
           "arrowcolor": "#2a3f5f",
           "arrowhead": 0,
           "arrowwidth": 1
          },
          "autotypenumbers": "strict",
          "coloraxis": {
           "colorbar": {
            "outlinewidth": 0,
            "ticks": ""
           }
          },
          "colorscale": {
           "diverging": [
            [
             0,
             "#8e0152"
            ],
            [
             0.1,
             "#c51b7d"
            ],
            [
             0.2,
             "#de77ae"
            ],
            [
             0.3,
             "#f1b6da"
            ],
            [
             0.4,
             "#fde0ef"
            ],
            [
             0.5,
             "#f7f7f7"
            ],
            [
             0.6,
             "#e6f5d0"
            ],
            [
             0.7,
             "#b8e186"
            ],
            [
             0.8,
             "#7fbc41"
            ],
            [
             0.9,
             "#4d9221"
            ],
            [
             1,
             "#276419"
            ]
           ],
           "sequential": [
            [
             0,
             "#0d0887"
            ],
            [
             0.1111111111111111,
             "#46039f"
            ],
            [
             0.2222222222222222,
             "#7201a8"
            ],
            [
             0.3333333333333333,
             "#9c179e"
            ],
            [
             0.4444444444444444,
             "#bd3786"
            ],
            [
             0.5555555555555556,
             "#d8576b"
            ],
            [
             0.6666666666666666,
             "#ed7953"
            ],
            [
             0.7777777777777778,
             "#fb9f3a"
            ],
            [
             0.8888888888888888,
             "#fdca26"
            ],
            [
             1,
             "#f0f921"
            ]
           ],
           "sequentialminus": [
            [
             0,
             "#0d0887"
            ],
            [
             0.1111111111111111,
             "#46039f"
            ],
            [
             0.2222222222222222,
             "#7201a8"
            ],
            [
             0.3333333333333333,
             "#9c179e"
            ],
            [
             0.4444444444444444,
             "#bd3786"
            ],
            [
             0.5555555555555556,
             "#d8576b"
            ],
            [
             0.6666666666666666,
             "#ed7953"
            ],
            [
             0.7777777777777778,
             "#fb9f3a"
            ],
            [
             0.8888888888888888,
             "#fdca26"
            ],
            [
             1,
             "#f0f921"
            ]
           ]
          },
          "colorway": [
           "#636efa",
           "#EF553B",
           "#00cc96",
           "#ab63fa",
           "#FFA15A",
           "#19d3f3",
           "#FF6692",
           "#B6E880",
           "#FF97FF",
           "#FECB52"
          ],
          "font": {
           "color": "#2a3f5f"
          },
          "geo": {
           "bgcolor": "white",
           "lakecolor": "white",
           "landcolor": "#E5ECF6",
           "showlakes": true,
           "showland": true,
           "subunitcolor": "white"
          },
          "hoverlabel": {
           "align": "left"
          },
          "hovermode": "closest",
          "mapbox": {
           "style": "light"
          },
          "paper_bgcolor": "white",
          "plot_bgcolor": "#E5ECF6",
          "polar": {
           "angularaxis": {
            "gridcolor": "white",
            "linecolor": "white",
            "ticks": ""
           },
           "bgcolor": "#E5ECF6",
           "radialaxis": {
            "gridcolor": "white",
            "linecolor": "white",
            "ticks": ""
           }
          },
          "scene": {
           "xaxis": {
            "backgroundcolor": "#E5ECF6",
            "gridcolor": "white",
            "gridwidth": 2,
            "linecolor": "white",
            "showbackground": true,
            "ticks": "",
            "zerolinecolor": "white"
           },
           "yaxis": {
            "backgroundcolor": "#E5ECF6",
            "gridcolor": "white",
            "gridwidth": 2,
            "linecolor": "white",
            "showbackground": true,
            "ticks": "",
            "zerolinecolor": "white"
           },
           "zaxis": {
            "backgroundcolor": "#E5ECF6",
            "gridcolor": "white",
            "gridwidth": 2,
            "linecolor": "white",
            "showbackground": true,
            "ticks": "",
            "zerolinecolor": "white"
           }
          },
          "shapedefaults": {
           "line": {
            "color": "#2a3f5f"
           }
          },
          "ternary": {
           "aaxis": {
            "gridcolor": "white",
            "linecolor": "white",
            "ticks": ""
           },
           "baxis": {
            "gridcolor": "white",
            "linecolor": "white",
            "ticks": ""
           },
           "bgcolor": "#E5ECF6",
           "caxis": {
            "gridcolor": "white",
            "linecolor": "white",
            "ticks": ""
           }
          },
          "title": {
           "x": 0.05
          },
          "xaxis": {
           "automargin": true,
           "gridcolor": "white",
           "linecolor": "white",
           "ticks": "",
           "title": {
            "standoff": 15
           },
           "zerolinecolor": "white",
           "zerolinewidth": 2
          },
          "yaxis": {
           "automargin": true,
           "gridcolor": "white",
           "linecolor": "white",
           "ticks": "",
           "title": {
            "standoff": 15
           },
           "zerolinecolor": "white",
           "zerolinewidth": 2
          }
         }
        },
        "title": {
         "text": "Распределение зарплат DS в USD"
        },
        "width": 1000,
        "xaxis": {
         "anchor": "y",
         "domain": [
          0,
          1
         ],
         "title": {
          "text": "salary_in_usd"
         }
        },
        "xaxis2": {
         "anchor": "y2",
         "domain": [
          0,
          1
         ],
         "matches": "x",
         "showgrid": true,
         "showticklabels": false
        },
        "yaxis": {
         "anchor": "x",
         "domain": [
          0,
          0.8316
         ],
         "title": {
          "text": "count"
         }
        },
        "yaxis2": {
         "anchor": "x2",
         "domain": [
          0.8416,
          1
         ],
         "matches": "y2",
         "showgrid": false,
         "showline": false,
         "showticklabels": false,
         "ticks": ""
        }
       }
      },
      "text/html": [
       "<div>                            <div id=\"b64b84a8-b5ba-4c5a-821b-ee66ddef83d4\" class=\"plotly-graph-div\" style=\"height:700px; width:1000px;\"></div>            <script type=\"text/javascript\">                require([\"plotly\"], function(Plotly) {                    window.PLOTLYENV=window.PLOTLYENV || {};                                    if (document.getElementById(\"b64b84a8-b5ba-4c5a-821b-ee66ddef83d4\")) {                    Plotly.newPlot(                        \"b64b84a8-b5ba-4c5a-821b-ee66ddef83d4\",                        [{\"alignmentgroup\":\"True\",\"bingroup\":\"x\",\"hovertemplate\":\"salary_in_usd=%{x}\\u003cbr\\u003ecount=%{y}\\u003cextra\\u003e\\u003c\\u002fextra\\u003e\",\"legendgroup\":\"\",\"marker\":{\"color\":\"lightskyblue\",\"pattern\":{\"shape\":\"\"}},\"name\":\"\",\"nbinsx\":100,\"offsetgroup\":\"\",\"orientation\":\"v\",\"showlegend\":false,\"x\":[79833,260000,109024,20000,150000,72000,190000,35735,135000,125000,51321,40481,39916,87000,85000,8000,41689,114047,5707,56000,43331,6072,47899,98000,115000,325000,42000,33511,100000,117104,59303,70000,68428,450000,46759,74130,103000,250000,10000,138000,45760,79833,50180,106000,112872,15966,76958,188000,105000,70139,6072,91000,45896,54742,60000,148261,38776,118000,120000,138350,110000,130800,21669,412000,45618,62726,49268,190200,105000,91237,62726,42197,82528,150000,235000,53192,100000,5409,270000,80000,79197,140000,54238,47282,153667,28476,59102,110000,170000,80000,88654,76833,19609,276000,29751,89294,12000,450000,70000,95746,75000,150000,36259,62000,73000,51519,187442,115000,150000,30428,94564,113476,103160,12000,45391,225000,50000,40189,90000,200000,60000,200000,50000,110037,10354,151000,120000,9466,20000,40570,100000,49646,38400,24000,100000,90000,63711,77364,220000,80000,135000,240000,150000,82500,100000,82744,62649,90000,153000,160000,168000,150000,75774,13400,144000,127221,119059,423000,120000,125000,230000,85000,28369,63831,130026,165000,80000,250000,55000,150000,170000,82528,60000,235000,60757,174000,2859,40038,81000,5679,22611,90734,26005,61896,12000,4000,50000,69741,76833,74000,152000,21844,18000,174000,96113,147000,9272,24342,54094,90000,61467,195000,37825,50000,160000,12901,200000,165000,20000,120000,24823,56738,66022,5882,24823,185000,28609,88654,140000,46597,116914,33808,56256,225000,416000,87738,88654,135000,71786,16228,256000,200000,200000,180000,110000,63810,46809,4000,21637,103691,80000,110000,165000,18053,72212,36643,12103,96282,170000,115000,90000,600000,28399,93000,99703,173762,185000,141846,130000,63831,16904,66265,25532,160000,93150,111775,28016,65013,72500,18907,76833,85000,77684,100000,58000,55000,20171,59102,112000,100000,69741,105000,69999,94665,102839,109000,51064,135000,155000,120600,130000,90000,170000,150000,102100,84900,136620,99360,117789,104702,146000,123000,52351,99000,116000,106260,126500,242000,200000,65438,39263,78526,52351,165220,45807,120160,90320,181940,132320,220110,160080,180000,120000,124190,130000,110000,170000,115500,112900,165400,132320,167000,243900,136600,109280,128875,93700,224000,167875,175000,156600,108800,95550,113000,135000,161342,137141,167000,78526,65438,150000,211500,192400,90700,130000,61300,160000,138600,136000,58000,135000,170000,189650,164996,54957,118187,132000,208775,147800,136994,101570,128875,93700,79039,37300,164000,155000,124333,98158,120000,145000,105400,87932,117789,215300,158200,209100,154600,115934,81666,175000,98158,183600,52351,180000,71982,45807,65949,49461,78526,58894,260000,60000,63900,160000,112300,241000,159000,180000,80000,82900,100800,49461,140400,39263,43966,32974,87932,76940,104702,91614,65949,87932,43966,32974,98158,215300,76940,180000,21983,80000,78791,196979,120000,125000,37236,105000,87932,18442,31615,58255,100000,54957,18442,162674,120000,144000,104890,100000,140000,135000,50000,220000,183228,91614,185100,220000,200000,120000,120000,65000,324000,216000,210000,120000,230000,100000,100000,31875,200000,75000,35590,78791,100000,153000,58035,165000,93427,52396,62651,32974,40000,87425,115000,86703,75000,64849,120000,157000,150000,70912,65000,71444,20000,48000,152500,68147,122346,380000,69336,10000,20000,405000,135000,177000,78000,100000,85000,75000,214000,192600,266400,213120,141300,102100,115934,81666,206699,99100,130000,110500,99050,160000,205300,176000,144000,200100,145000,70500,205300,140400,205300,184700,175100,140250,116150,54000,65438,80000,210000,69000,150075,25000,126500,106260,220110,160080,105000,110925,45807,60000,192564,144854,150000,150260,109280,160000,130000,67000,52000,154000,126000,129000,150000,200000],\"xaxis\":\"x\",\"yaxis\":\"y\",\"type\":\"histogram\"},{\"alignmentgroup\":\"True\",\"hovertemplate\":\"salary_in_usd=%{x}\\u003cextra\\u003e\\u003c\\u002fextra\\u003e\",\"legendgroup\":\"\",\"marker\":{\"color\":\"lightskyblue\"},\"name\":\"\",\"notched\":true,\"offsetgroup\":\"\",\"showlegend\":false,\"x\":[79833,260000,109024,20000,150000,72000,190000,35735,135000,125000,51321,40481,39916,87000,85000,8000,41689,114047,5707,56000,43331,6072,47899,98000,115000,325000,42000,33511,100000,117104,59303,70000,68428,450000,46759,74130,103000,250000,10000,138000,45760,79833,50180,106000,112872,15966,76958,188000,105000,70139,6072,91000,45896,54742,60000,148261,38776,118000,120000,138350,110000,130800,21669,412000,45618,62726,49268,190200,105000,91237,62726,42197,82528,150000,235000,53192,100000,5409,270000,80000,79197,140000,54238,47282,153667,28476,59102,110000,170000,80000,88654,76833,19609,276000,29751,89294,12000,450000,70000,95746,75000,150000,36259,62000,73000,51519,187442,115000,150000,30428,94564,113476,103160,12000,45391,225000,50000,40189,90000,200000,60000,200000,50000,110037,10354,151000,120000,9466,20000,40570,100000,49646,38400,24000,100000,90000,63711,77364,220000,80000,135000,240000,150000,82500,100000,82744,62649,90000,153000,160000,168000,150000,75774,13400,144000,127221,119059,423000,120000,125000,230000,85000,28369,63831,130026,165000,80000,250000,55000,150000,170000,82528,60000,235000,60757,174000,2859,40038,81000,5679,22611,90734,26005,61896,12000,4000,50000,69741,76833,74000,152000,21844,18000,174000,96113,147000,9272,24342,54094,90000,61467,195000,37825,50000,160000,12901,200000,165000,20000,120000,24823,56738,66022,5882,24823,185000,28609,88654,140000,46597,116914,33808,56256,225000,416000,87738,88654,135000,71786,16228,256000,200000,200000,180000,110000,63810,46809,4000,21637,103691,80000,110000,165000,18053,72212,36643,12103,96282,170000,115000,90000,600000,28399,93000,99703,173762,185000,141846,130000,63831,16904,66265,25532,160000,93150,111775,28016,65013,72500,18907,76833,85000,77684,100000,58000,55000,20171,59102,112000,100000,69741,105000,69999,94665,102839,109000,51064,135000,155000,120600,130000,90000,170000,150000,102100,84900,136620,99360,117789,104702,146000,123000,52351,99000,116000,106260,126500,242000,200000,65438,39263,78526,52351,165220,45807,120160,90320,181940,132320,220110,160080,180000,120000,124190,130000,110000,170000,115500,112900,165400,132320,167000,243900,136600,109280,128875,93700,224000,167875,175000,156600,108800,95550,113000,135000,161342,137141,167000,78526,65438,150000,211500,192400,90700,130000,61300,160000,138600,136000,58000,135000,170000,189650,164996,54957,118187,132000,208775,147800,136994,101570,128875,93700,79039,37300,164000,155000,124333,98158,120000,145000,105400,87932,117789,215300,158200,209100,154600,115934,81666,175000,98158,183600,52351,180000,71982,45807,65949,49461,78526,58894,260000,60000,63900,160000,112300,241000,159000,180000,80000,82900,100800,49461,140400,39263,43966,32974,87932,76940,104702,91614,65949,87932,43966,32974,98158,215300,76940,180000,21983,80000,78791,196979,120000,125000,37236,105000,87932,18442,31615,58255,100000,54957,18442,162674,120000,144000,104890,100000,140000,135000,50000,220000,183228,91614,185100,220000,200000,120000,120000,65000,324000,216000,210000,120000,230000,100000,100000,31875,200000,75000,35590,78791,100000,153000,58035,165000,93427,52396,62651,32974,40000,87425,115000,86703,75000,64849,120000,157000,150000,70912,65000,71444,20000,48000,152500,68147,122346,380000,69336,10000,20000,405000,135000,177000,78000,100000,85000,75000,214000,192600,266400,213120,141300,102100,115934,81666,206699,99100,130000,110500,99050,160000,205300,176000,144000,200100,145000,70500,205300,140400,205300,184700,175100,140250,116150,54000,65438,80000,210000,69000,150075,25000,126500,106260,220110,160080,105000,110925,45807,60000,192564,144854,150000,150260,109280,160000,130000,67000,52000,154000,126000,129000,150000,200000],\"xaxis\":\"x2\",\"yaxis\":\"y2\",\"type\":\"box\"}],                        {\"template\":{\"data\":{\"histogram2dcontour\":[{\"type\":\"histogram2dcontour\",\"colorbar\":{\"outlinewidth\":0,\"ticks\":\"\"},\"colorscale\":[[0.0,\"#0d0887\"],[0.1111111111111111,\"#46039f\"],[0.2222222222222222,\"#7201a8\"],[0.3333333333333333,\"#9c179e\"],[0.4444444444444444,\"#bd3786\"],[0.5555555555555556,\"#d8576b\"],[0.6666666666666666,\"#ed7953\"],[0.7777777777777778,\"#fb9f3a\"],[0.8888888888888888,\"#fdca26\"],[1.0,\"#f0f921\"]]}],\"choropleth\":[{\"type\":\"choropleth\",\"colorbar\":{\"outlinewidth\":0,\"ticks\":\"\"}}],\"histogram2d\":[{\"type\":\"histogram2d\",\"colorbar\":{\"outlinewidth\":0,\"ticks\":\"\"},\"colorscale\":[[0.0,\"#0d0887\"],[0.1111111111111111,\"#46039f\"],[0.2222222222222222,\"#7201a8\"],[0.3333333333333333,\"#9c179e\"],[0.4444444444444444,\"#bd3786\"],[0.5555555555555556,\"#d8576b\"],[0.6666666666666666,\"#ed7953\"],[0.7777777777777778,\"#fb9f3a\"],[0.8888888888888888,\"#fdca26\"],[1.0,\"#f0f921\"]]}],\"heatmap\":[{\"type\":\"heatmap\",\"colorbar\":{\"outlinewidth\":0,\"ticks\":\"\"},\"colorscale\":[[0.0,\"#0d0887\"],[0.1111111111111111,\"#46039f\"],[0.2222222222222222,\"#7201a8\"],[0.3333333333333333,\"#9c179e\"],[0.4444444444444444,\"#bd3786\"],[0.5555555555555556,\"#d8576b\"],[0.6666666666666666,\"#ed7953\"],[0.7777777777777778,\"#fb9f3a\"],[0.8888888888888888,\"#fdca26\"],[1.0,\"#f0f921\"]]}],\"heatmapgl\":[{\"type\":\"heatmapgl\",\"colorbar\":{\"outlinewidth\":0,\"ticks\":\"\"},\"colorscale\":[[0.0,\"#0d0887\"],[0.1111111111111111,\"#46039f\"],[0.2222222222222222,\"#7201a8\"],[0.3333333333333333,\"#9c179e\"],[0.4444444444444444,\"#bd3786\"],[0.5555555555555556,\"#d8576b\"],[0.6666666666666666,\"#ed7953\"],[0.7777777777777778,\"#fb9f3a\"],[0.8888888888888888,\"#fdca26\"],[1.0,\"#f0f921\"]]}],\"contourcarpet\":[{\"type\":\"contourcarpet\",\"colorbar\":{\"outlinewidth\":0,\"ticks\":\"\"}}],\"contour\":[{\"type\":\"contour\",\"colorbar\":{\"outlinewidth\":0,\"ticks\":\"\"},\"colorscale\":[[0.0,\"#0d0887\"],[0.1111111111111111,\"#46039f\"],[0.2222222222222222,\"#7201a8\"],[0.3333333333333333,\"#9c179e\"],[0.4444444444444444,\"#bd3786\"],[0.5555555555555556,\"#d8576b\"],[0.6666666666666666,\"#ed7953\"],[0.7777777777777778,\"#fb9f3a\"],[0.8888888888888888,\"#fdca26\"],[1.0,\"#f0f921\"]]}],\"surface\":[{\"type\":\"surface\",\"colorbar\":{\"outlinewidth\":0,\"ticks\":\"\"},\"colorscale\":[[0.0,\"#0d0887\"],[0.1111111111111111,\"#46039f\"],[0.2222222222222222,\"#7201a8\"],[0.3333333333333333,\"#9c179e\"],[0.4444444444444444,\"#bd3786\"],[0.5555555555555556,\"#d8576b\"],[0.6666666666666666,\"#ed7953\"],[0.7777777777777778,\"#fb9f3a\"],[0.8888888888888888,\"#fdca26\"],[1.0,\"#f0f921\"]]}],\"mesh3d\":[{\"type\":\"mesh3d\",\"colorbar\":{\"outlinewidth\":0,\"ticks\":\"\"}}],\"scatter\":[{\"fillpattern\":{\"fillmode\":\"overlay\",\"size\":10,\"solidity\":0.2},\"type\":\"scatter\"}],\"parcoords\":[{\"type\":\"parcoords\",\"line\":{\"colorbar\":{\"outlinewidth\":0,\"ticks\":\"\"}}}],\"scatterpolargl\":[{\"type\":\"scatterpolargl\",\"marker\":{\"colorbar\":{\"outlinewidth\":0,\"ticks\":\"\"}}}],\"bar\":[{\"error_x\":{\"color\":\"#2a3f5f\"},\"error_y\":{\"color\":\"#2a3f5f\"},\"marker\":{\"line\":{\"color\":\"#E5ECF6\",\"width\":0.5},\"pattern\":{\"fillmode\":\"overlay\",\"size\":10,\"solidity\":0.2}},\"type\":\"bar\"}],\"scattergeo\":[{\"type\":\"scattergeo\",\"marker\":{\"colorbar\":{\"outlinewidth\":0,\"ticks\":\"\"}}}],\"scatterpolar\":[{\"type\":\"scatterpolar\",\"marker\":{\"colorbar\":{\"outlinewidth\":0,\"ticks\":\"\"}}}],\"histogram\":[{\"marker\":{\"pattern\":{\"fillmode\":\"overlay\",\"size\":10,\"solidity\":0.2}},\"type\":\"histogram\"}],\"scattergl\":[{\"type\":\"scattergl\",\"marker\":{\"colorbar\":{\"outlinewidth\":0,\"ticks\":\"\"}}}],\"scatter3d\":[{\"type\":\"scatter3d\",\"line\":{\"colorbar\":{\"outlinewidth\":0,\"ticks\":\"\"}},\"marker\":{\"colorbar\":{\"outlinewidth\":0,\"ticks\":\"\"}}}],\"scattermapbox\":[{\"type\":\"scattermapbox\",\"marker\":{\"colorbar\":{\"outlinewidth\":0,\"ticks\":\"\"}}}],\"scatterternary\":[{\"type\":\"scatterternary\",\"marker\":{\"colorbar\":{\"outlinewidth\":0,\"ticks\":\"\"}}}],\"scattercarpet\":[{\"type\":\"scattercarpet\",\"marker\":{\"colorbar\":{\"outlinewidth\":0,\"ticks\":\"\"}}}],\"carpet\":[{\"aaxis\":{\"endlinecolor\":\"#2a3f5f\",\"gridcolor\":\"white\",\"linecolor\":\"white\",\"minorgridcolor\":\"white\",\"startlinecolor\":\"#2a3f5f\"},\"baxis\":{\"endlinecolor\":\"#2a3f5f\",\"gridcolor\":\"white\",\"linecolor\":\"white\",\"minorgridcolor\":\"white\",\"startlinecolor\":\"#2a3f5f\"},\"type\":\"carpet\"}],\"table\":[{\"cells\":{\"fill\":{\"color\":\"#EBF0F8\"},\"line\":{\"color\":\"white\"}},\"header\":{\"fill\":{\"color\":\"#C8D4E3\"},\"line\":{\"color\":\"white\"}},\"type\":\"table\"}],\"barpolar\":[{\"marker\":{\"line\":{\"color\":\"#E5ECF6\",\"width\":0.5},\"pattern\":{\"fillmode\":\"overlay\",\"size\":10,\"solidity\":0.2}},\"type\":\"barpolar\"}],\"pie\":[{\"automargin\":true,\"type\":\"pie\"}]},\"layout\":{\"autotypenumbers\":\"strict\",\"colorway\":[\"#636efa\",\"#EF553B\",\"#00cc96\",\"#ab63fa\",\"#FFA15A\",\"#19d3f3\",\"#FF6692\",\"#B6E880\",\"#FF97FF\",\"#FECB52\"],\"font\":{\"color\":\"#2a3f5f\"},\"hovermode\":\"closest\",\"hoverlabel\":{\"align\":\"left\"},\"paper_bgcolor\":\"white\",\"plot_bgcolor\":\"#E5ECF6\",\"polar\":{\"bgcolor\":\"#E5ECF6\",\"angularaxis\":{\"gridcolor\":\"white\",\"linecolor\":\"white\",\"ticks\":\"\"},\"radialaxis\":{\"gridcolor\":\"white\",\"linecolor\":\"white\",\"ticks\":\"\"}},\"ternary\":{\"bgcolor\":\"#E5ECF6\",\"aaxis\":{\"gridcolor\":\"white\",\"linecolor\":\"white\",\"ticks\":\"\"},\"baxis\":{\"gridcolor\":\"white\",\"linecolor\":\"white\",\"ticks\":\"\"},\"caxis\":{\"gridcolor\":\"white\",\"linecolor\":\"white\",\"ticks\":\"\"}},\"coloraxis\":{\"colorbar\":{\"outlinewidth\":0,\"ticks\":\"\"}},\"colorscale\":{\"sequential\":[[0.0,\"#0d0887\"],[0.1111111111111111,\"#46039f\"],[0.2222222222222222,\"#7201a8\"],[0.3333333333333333,\"#9c179e\"],[0.4444444444444444,\"#bd3786\"],[0.5555555555555556,\"#d8576b\"],[0.6666666666666666,\"#ed7953\"],[0.7777777777777778,\"#fb9f3a\"],[0.8888888888888888,\"#fdca26\"],[1.0,\"#f0f921\"]],\"sequentialminus\":[[0.0,\"#0d0887\"],[0.1111111111111111,\"#46039f\"],[0.2222222222222222,\"#7201a8\"],[0.3333333333333333,\"#9c179e\"],[0.4444444444444444,\"#bd3786\"],[0.5555555555555556,\"#d8576b\"],[0.6666666666666666,\"#ed7953\"],[0.7777777777777778,\"#fb9f3a\"],[0.8888888888888888,\"#fdca26\"],[1.0,\"#f0f921\"]],\"diverging\":[[0,\"#8e0152\"],[0.1,\"#c51b7d\"],[0.2,\"#de77ae\"],[0.3,\"#f1b6da\"],[0.4,\"#fde0ef\"],[0.5,\"#f7f7f7\"],[0.6,\"#e6f5d0\"],[0.7,\"#b8e186\"],[0.8,\"#7fbc41\"],[0.9,\"#4d9221\"],[1,\"#276419\"]]},\"xaxis\":{\"gridcolor\":\"white\",\"linecolor\":\"white\",\"ticks\":\"\",\"title\":{\"standoff\":15},\"zerolinecolor\":\"white\",\"automargin\":true,\"zerolinewidth\":2},\"yaxis\":{\"gridcolor\":\"white\",\"linecolor\":\"white\",\"ticks\":\"\",\"title\":{\"standoff\":15},\"zerolinecolor\":\"white\",\"automargin\":true,\"zerolinewidth\":2},\"scene\":{\"xaxis\":{\"backgroundcolor\":\"#E5ECF6\",\"gridcolor\":\"white\",\"linecolor\":\"white\",\"showbackground\":true,\"ticks\":\"\",\"zerolinecolor\":\"white\",\"gridwidth\":2},\"yaxis\":{\"backgroundcolor\":\"#E5ECF6\",\"gridcolor\":\"white\",\"linecolor\":\"white\",\"showbackground\":true,\"ticks\":\"\",\"zerolinecolor\":\"white\",\"gridwidth\":2},\"zaxis\":{\"backgroundcolor\":\"#E5ECF6\",\"gridcolor\":\"white\",\"linecolor\":\"white\",\"showbackground\":true,\"ticks\":\"\",\"zerolinecolor\":\"white\",\"gridwidth\":2}},\"shapedefaults\":{\"line\":{\"color\":\"#2a3f5f\"}},\"annotationdefaults\":{\"arrowcolor\":\"#2a3f5f\",\"arrowhead\":0,\"arrowwidth\":1},\"geo\":{\"bgcolor\":\"white\",\"landcolor\":\"#E5ECF6\",\"subunitcolor\":\"white\",\"showland\":true,\"showlakes\":true,\"lakecolor\":\"white\"},\"title\":{\"x\":0.05},\"mapbox\":{\"style\":\"light\"}}},\"xaxis\":{\"anchor\":\"y\",\"domain\":[0.0,1.0],\"title\":{\"text\":\"salary_in_usd\"}},\"yaxis\":{\"anchor\":\"x\",\"domain\":[0.0,0.8316],\"title\":{\"text\":\"count\"}},\"xaxis2\":{\"anchor\":\"y2\",\"domain\":[0.0,1.0],\"matches\":\"x\",\"showticklabels\":false,\"showgrid\":true},\"yaxis2\":{\"anchor\":\"x2\",\"domain\":[0.8416,1.0],\"matches\":\"y2\",\"showticklabels\":false,\"showline\":false,\"ticks\":\"\",\"showgrid\":false},\"legend\":{\"tracegroupgap\":0},\"title\":{\"text\":\"\\u0420\\u0430\\u0441\\u043f\\u0440\\u0435\\u0434\\u0435\\u043b\\u0435\\u043d\\u0438\\u0435 \\u0437\\u0430\\u0440\\u043f\\u043b\\u0430\\u0442 DS \\u0432 USD\"},\"barmode\":\"relative\",\"height\":700,\"width\":1000,\"shapes\":[{\"line\":{\"color\":\"green\",\"dash\":\"dash\",\"width\":1},\"type\":\"line\",\"x0\":110610.34336283186,\"x1\":110610.34336283186,\"xref\":\"x\",\"y0\":0,\"y1\":1,\"yref\":\"y domain\"},{\"line\":{\"color\":\"green\",\"dash\":\"dash\",\"width\":1},\"type\":\"line\",\"x0\":110610.34336283186,\"x1\":110610.34336283186,\"xref\":\"x2\",\"y0\":0,\"y1\":1,\"yref\":\"y2 domain\"}],\"annotations\":[{\"showarrow\":false,\"text\":\"mean of salary - 110610\",\"x\":110610.34336283186,\"xanchor\":\"left\",\"xref\":\"x\",\"y\":1,\"yanchor\":\"top\",\"yref\":\"y domain\"},{\"showarrow\":false,\"text\":\"mean of salary - 110610\",\"x\":110610.34336283186,\"xanchor\":\"left\",\"xref\":\"x2\",\"y\":1,\"yanchor\":\"top\",\"yref\":\"y2 domain\"}]},                        {\"responsive\": true}                    ).then(function(){\n",
       "                            \n",
       "var gd = document.getElementById('b64b84a8-b5ba-4c5a-821b-ee66ddef83d4');\n",
       "var x = new MutationObserver(function (mutations, observer) {{\n",
       "        var display = window.getComputedStyle(gd).display;\n",
       "        if (!display || display === 'none') {{\n",
       "            console.log([gd, 'removed!']);\n",
       "            Plotly.purge(gd);\n",
       "            observer.disconnect();\n",
       "        }}\n",
       "}});\n",
       "\n",
       "// Listen for the removal of the full notebook cells\n",
       "var notebookContainer = gd.closest('#notebook-container');\n",
       "if (notebookContainer) {{\n",
       "    x.observe(notebookContainer, {childList: true});\n",
       "}}\n",
       "\n",
       "// Listen for the clearing of the current output cell\n",
       "var outputEl = gd.closest('.output');\n",
       "if (outputEl) {{\n",
       "    x.observe(outputEl, {childList: true});\n",
       "}}\n",
       "\n",
       "                        })                };                });            </script>        </div>"
      ]
     },
     "metadata": {},
     "output_type": "display_data"
    },
    {
     "data": {
      "application/vnd.plotly.v1+json": {
       "config": {
        "plotlyServerURL": "https://plot.ly"
       },
       "data": [
        {
         "alignmentgroup": "True",
         "bingroup": "x",
         "hovertemplate": "salary_in_usd=%{x}<br>count=%{y}<extra></extra>",
         "legendgroup": "",
         "marker": {
          "color": "lightskyblue",
          "pattern": {
           "shape": ""
          }
         },
         "name": "",
         "nbinsx": 100,
         "offsetgroup": "",
         "orientation": "v",
         "showlegend": false,
         "type": "histogram",
         "x": [
          79833,
          260000,
          109024,
          20000,
          150000,
          72000,
          190000,
          35735,
          135000,
          125000,
          51321,
          40481,
          39916,
          87000,
          85000,
          8000,
          41689,
          114047,
          5707,
          56000,
          43331,
          6072,
          47899,
          98000,
          115000,
          325000,
          42000,
          33511,
          100000,
          117104,
          59303,
          70000,
          68428,
          450000,
          46759,
          74130,
          103000,
          250000,
          10000,
          138000,
          45760,
          79833,
          50180,
          106000,
          112872,
          15966,
          76958,
          188000,
          105000,
          70139,
          6072,
          91000,
          45896,
          54742,
          60000,
          148261,
          38776,
          118000,
          120000,
          138350,
          110000,
          130800,
          21669,
          412000,
          45618,
          62726,
          49268,
          190200,
          105000,
          91237,
          62726,
          42197,
          82528,
          150000,
          235000,
          53192,
          100000,
          5409,
          270000,
          80000,
          79197,
          140000,
          54238,
          47282,
          153667,
          28476,
          59102,
          110000,
          170000,
          80000,
          88654,
          76833,
          19609,
          276000,
          29751,
          89294,
          12000,
          450000,
          70000,
          95746,
          75000,
          150000,
          36259,
          62000,
          73000,
          51519,
          187442,
          115000,
          150000,
          30428,
          94564,
          113476,
          103160,
          12000,
          45391,
          225000,
          50000,
          40189,
          90000,
          200000,
          60000,
          200000,
          50000,
          110037,
          10354,
          151000,
          120000,
          9466,
          20000,
          40570,
          100000,
          49646,
          38400,
          24000,
          100000,
          90000,
          63711,
          77364,
          220000,
          80000,
          135000,
          240000,
          150000,
          82500,
          100000,
          82744,
          62649,
          90000,
          153000,
          160000,
          168000,
          150000,
          75774,
          13400,
          144000,
          127221,
          119059,
          423000,
          120000,
          125000,
          230000,
          85000,
          28369,
          63831,
          130026,
          165000,
          80000,
          250000,
          55000,
          150000,
          170000,
          82528,
          60000,
          235000,
          60757,
          174000,
          2859,
          40038,
          81000,
          5679,
          22611,
          90734,
          26005,
          61896,
          12000,
          4000,
          50000,
          69741,
          76833,
          74000,
          152000,
          21844,
          18000,
          174000,
          96113,
          147000,
          9272,
          24342,
          54094,
          90000,
          61467,
          195000,
          37825,
          50000,
          160000,
          12901,
          200000,
          165000,
          20000,
          120000,
          24823,
          56738,
          66022,
          5882,
          24823,
          185000,
          28609,
          88654,
          140000,
          46597,
          116914,
          33808,
          56256,
          225000,
          416000,
          87738,
          88654,
          135000,
          71786,
          16228,
          256000,
          200000,
          200000,
          180000,
          110000,
          63810,
          46809,
          4000,
          21637,
          103691,
          80000,
          110000,
          165000,
          18053,
          72212,
          36643,
          12103,
          96282,
          170000,
          115000,
          90000,
          600000,
          28399,
          93000,
          99703,
          173762,
          185000,
          141846,
          130000,
          63831,
          16904,
          66265,
          25532,
          160000,
          93150,
          111775,
          28016,
          65013,
          72500,
          18907,
          76833,
          85000,
          77684,
          100000,
          58000,
          55000,
          20171,
          59102,
          112000,
          100000,
          69741,
          105000,
          69999,
          94665,
          102839,
          109000,
          51064,
          135000,
          155000,
          120600,
          130000,
          90000,
          170000,
          150000,
          102100,
          84900,
          136620,
          99360,
          117789,
          104702,
          146000,
          123000,
          52351,
          99000,
          116000,
          106260,
          126500,
          242000,
          200000,
          65438,
          39263,
          78526,
          52351,
          165220,
          45807,
          120160,
          90320,
          181940,
          132320,
          220110,
          160080,
          180000,
          120000,
          124190,
          130000,
          110000,
          170000,
          115500,
          112900,
          165400,
          132320,
          167000,
          243900,
          136600,
          109280,
          128875,
          93700,
          224000,
          167875,
          175000,
          156600,
          108800,
          95550,
          113000,
          135000,
          161342,
          137141,
          167000,
          78526,
          65438,
          150000,
          211500,
          192400,
          90700,
          130000,
          61300,
          160000,
          138600,
          136000,
          58000,
          135000,
          170000,
          189650,
          164996,
          54957,
          118187,
          132000,
          208775,
          147800,
          136994,
          101570,
          128875,
          93700,
          79039,
          37300,
          164000,
          155000,
          124333,
          98158,
          120000,
          145000,
          105400,
          87932,
          117789,
          215300,
          158200,
          209100,
          154600,
          115934,
          81666,
          175000,
          98158,
          183600,
          52351,
          180000,
          71982,
          45807,
          65949,
          49461,
          78526,
          58894,
          260000,
          60000,
          63900,
          160000,
          112300,
          241000,
          159000,
          180000,
          80000,
          82900,
          100800,
          49461,
          140400,
          39263,
          43966,
          32974,
          87932,
          76940,
          104702,
          91614,
          65949,
          87932,
          43966,
          32974,
          98158,
          215300,
          76940,
          180000,
          21983,
          80000,
          78791,
          196979,
          120000,
          125000,
          37236,
          105000,
          87932,
          18442,
          31615,
          58255,
          100000,
          54957,
          18442,
          162674,
          120000,
          144000,
          104890,
          100000,
          140000,
          135000,
          50000,
          220000,
          183228,
          91614,
          185100,
          220000,
          200000,
          120000,
          120000,
          65000,
          324000,
          216000,
          210000,
          120000,
          230000,
          100000,
          100000,
          31875,
          200000,
          75000,
          35590,
          78791,
          100000,
          153000,
          58035,
          165000,
          93427,
          52396,
          62651,
          32974,
          40000,
          87425,
          115000,
          86703,
          75000,
          64849,
          120000,
          157000,
          150000,
          70912,
          65000,
          71444,
          20000,
          48000,
          152500,
          68147,
          122346,
          380000,
          69336,
          10000,
          20000,
          405000,
          135000,
          177000,
          78000,
          100000,
          85000,
          75000,
          214000,
          192600,
          266400,
          213120,
          141300,
          102100,
          115934,
          81666,
          206699,
          99100,
          130000,
          110500,
          99050,
          160000,
          205300,
          176000,
          144000,
          200100,
          145000,
          70500,
          205300,
          140400,
          205300,
          184700,
          175100,
          140250,
          116150,
          54000,
          65438,
          80000,
          210000,
          69000,
          150075,
          25000,
          126500,
          106260,
          220110,
          160080,
          105000,
          110925,
          45807,
          60000,
          192564,
          144854,
          150000,
          150260,
          109280,
          160000,
          130000,
          67000,
          52000,
          154000,
          126000,
          129000,
          150000,
          200000
         ],
         "xaxis": "x",
         "yaxis": "y"
        },
        {
         "alignmentgroup": "True",
         "hovertemplate": "salary_in_usd=%{x}<extra></extra>",
         "legendgroup": "",
         "marker": {
          "color": "lightskyblue"
         },
         "name": "",
         "notched": true,
         "offsetgroup": "",
         "showlegend": false,
         "type": "box",
         "x": [
          79833,
          260000,
          109024,
          20000,
          150000,
          72000,
          190000,
          35735,
          135000,
          125000,
          51321,
          40481,
          39916,
          87000,
          85000,
          8000,
          41689,
          114047,
          5707,
          56000,
          43331,
          6072,
          47899,
          98000,
          115000,
          325000,
          42000,
          33511,
          100000,
          117104,
          59303,
          70000,
          68428,
          450000,
          46759,
          74130,
          103000,
          250000,
          10000,
          138000,
          45760,
          79833,
          50180,
          106000,
          112872,
          15966,
          76958,
          188000,
          105000,
          70139,
          6072,
          91000,
          45896,
          54742,
          60000,
          148261,
          38776,
          118000,
          120000,
          138350,
          110000,
          130800,
          21669,
          412000,
          45618,
          62726,
          49268,
          190200,
          105000,
          91237,
          62726,
          42197,
          82528,
          150000,
          235000,
          53192,
          100000,
          5409,
          270000,
          80000,
          79197,
          140000,
          54238,
          47282,
          153667,
          28476,
          59102,
          110000,
          170000,
          80000,
          88654,
          76833,
          19609,
          276000,
          29751,
          89294,
          12000,
          450000,
          70000,
          95746,
          75000,
          150000,
          36259,
          62000,
          73000,
          51519,
          187442,
          115000,
          150000,
          30428,
          94564,
          113476,
          103160,
          12000,
          45391,
          225000,
          50000,
          40189,
          90000,
          200000,
          60000,
          200000,
          50000,
          110037,
          10354,
          151000,
          120000,
          9466,
          20000,
          40570,
          100000,
          49646,
          38400,
          24000,
          100000,
          90000,
          63711,
          77364,
          220000,
          80000,
          135000,
          240000,
          150000,
          82500,
          100000,
          82744,
          62649,
          90000,
          153000,
          160000,
          168000,
          150000,
          75774,
          13400,
          144000,
          127221,
          119059,
          423000,
          120000,
          125000,
          230000,
          85000,
          28369,
          63831,
          130026,
          165000,
          80000,
          250000,
          55000,
          150000,
          170000,
          82528,
          60000,
          235000,
          60757,
          174000,
          2859,
          40038,
          81000,
          5679,
          22611,
          90734,
          26005,
          61896,
          12000,
          4000,
          50000,
          69741,
          76833,
          74000,
          152000,
          21844,
          18000,
          174000,
          96113,
          147000,
          9272,
          24342,
          54094,
          90000,
          61467,
          195000,
          37825,
          50000,
          160000,
          12901,
          200000,
          165000,
          20000,
          120000,
          24823,
          56738,
          66022,
          5882,
          24823,
          185000,
          28609,
          88654,
          140000,
          46597,
          116914,
          33808,
          56256,
          225000,
          416000,
          87738,
          88654,
          135000,
          71786,
          16228,
          256000,
          200000,
          200000,
          180000,
          110000,
          63810,
          46809,
          4000,
          21637,
          103691,
          80000,
          110000,
          165000,
          18053,
          72212,
          36643,
          12103,
          96282,
          170000,
          115000,
          90000,
          600000,
          28399,
          93000,
          99703,
          173762,
          185000,
          141846,
          130000,
          63831,
          16904,
          66265,
          25532,
          160000,
          93150,
          111775,
          28016,
          65013,
          72500,
          18907,
          76833,
          85000,
          77684,
          100000,
          58000,
          55000,
          20171,
          59102,
          112000,
          100000,
          69741,
          105000,
          69999,
          94665,
          102839,
          109000,
          51064,
          135000,
          155000,
          120600,
          130000,
          90000,
          170000,
          150000,
          102100,
          84900,
          136620,
          99360,
          117789,
          104702,
          146000,
          123000,
          52351,
          99000,
          116000,
          106260,
          126500,
          242000,
          200000,
          65438,
          39263,
          78526,
          52351,
          165220,
          45807,
          120160,
          90320,
          181940,
          132320,
          220110,
          160080,
          180000,
          120000,
          124190,
          130000,
          110000,
          170000,
          115500,
          112900,
          165400,
          132320,
          167000,
          243900,
          136600,
          109280,
          128875,
          93700,
          224000,
          167875,
          175000,
          156600,
          108800,
          95550,
          113000,
          135000,
          161342,
          137141,
          167000,
          78526,
          65438,
          150000,
          211500,
          192400,
          90700,
          130000,
          61300,
          160000,
          138600,
          136000,
          58000,
          135000,
          170000,
          189650,
          164996,
          54957,
          118187,
          132000,
          208775,
          147800,
          136994,
          101570,
          128875,
          93700,
          79039,
          37300,
          164000,
          155000,
          124333,
          98158,
          120000,
          145000,
          105400,
          87932,
          117789,
          215300,
          158200,
          209100,
          154600,
          115934,
          81666,
          175000,
          98158,
          183600,
          52351,
          180000,
          71982,
          45807,
          65949,
          49461,
          78526,
          58894,
          260000,
          60000,
          63900,
          160000,
          112300,
          241000,
          159000,
          180000,
          80000,
          82900,
          100800,
          49461,
          140400,
          39263,
          43966,
          32974,
          87932,
          76940,
          104702,
          91614,
          65949,
          87932,
          43966,
          32974,
          98158,
          215300,
          76940,
          180000,
          21983,
          80000,
          78791,
          196979,
          120000,
          125000,
          37236,
          105000,
          87932,
          18442,
          31615,
          58255,
          100000,
          54957,
          18442,
          162674,
          120000,
          144000,
          104890,
          100000,
          140000,
          135000,
          50000,
          220000,
          183228,
          91614,
          185100,
          220000,
          200000,
          120000,
          120000,
          65000,
          324000,
          216000,
          210000,
          120000,
          230000,
          100000,
          100000,
          31875,
          200000,
          75000,
          35590,
          78791,
          100000,
          153000,
          58035,
          165000,
          93427,
          52396,
          62651,
          32974,
          40000,
          87425,
          115000,
          86703,
          75000,
          64849,
          120000,
          157000,
          150000,
          70912,
          65000,
          71444,
          20000,
          48000,
          152500,
          68147,
          122346,
          380000,
          69336,
          10000,
          20000,
          405000,
          135000,
          177000,
          78000,
          100000,
          85000,
          75000,
          214000,
          192600,
          266400,
          213120,
          141300,
          102100,
          115934,
          81666,
          206699,
          99100,
          130000,
          110500,
          99050,
          160000,
          205300,
          176000,
          144000,
          200100,
          145000,
          70500,
          205300,
          140400,
          205300,
          184700,
          175100,
          140250,
          116150,
          54000,
          65438,
          80000,
          210000,
          69000,
          150075,
          25000,
          126500,
          106260,
          220110,
          160080,
          105000,
          110925,
          45807,
          60000,
          192564,
          144854,
          150000,
          150260,
          109280,
          160000,
          130000,
          67000,
          52000,
          154000,
          126000,
          129000,
          150000,
          200000
         ],
         "xaxis": "x2",
         "yaxis": "y2"
        }
       ],
       "layout": {
        "annotations": [
         {
          "showarrow": false,
          "text": "mean of salary - 110610",
          "x": 110610.34336283186,
          "xanchor": "left",
          "xref": "x",
          "y": 1,
          "yanchor": "top",
          "yref": "y domain"
         },
         {
          "showarrow": false,
          "text": "mean of salary - 110610",
          "x": 110610.34336283186,
          "xanchor": "left",
          "xref": "x2",
          "y": 1,
          "yanchor": "top",
          "yref": "y2 domain"
         }
        ],
        "barmode": "relative",
        "height": 700,
        "legend": {
         "tracegroupgap": 0
        },
        "shapes": [
         {
          "line": {
           "color": "green",
           "dash": "dash",
           "width": 1
          },
          "type": "line",
          "x0": 110610.34336283186,
          "x1": 110610.34336283186,
          "xref": "x",
          "y0": 0,
          "y1": 1,
          "yref": "y domain"
         },
         {
          "line": {
           "color": "green",
           "dash": "dash",
           "width": 1
          },
          "type": "line",
          "x0": 110610.34336283186,
          "x1": 110610.34336283186,
          "xref": "x2",
          "y0": 0,
          "y1": 1,
          "yref": "y2 domain"
         }
        ],
        "template": {
         "data": {
          "bar": [
           {
            "error_x": {
             "color": "#2a3f5f"
            },
            "error_y": {
             "color": "#2a3f5f"
            },
            "marker": {
             "line": {
              "color": "#E5ECF6",
              "width": 0.5
             },
             "pattern": {
              "fillmode": "overlay",
              "size": 10,
              "solidity": 0.2
             }
            },
            "type": "bar"
           }
          ],
          "barpolar": [
           {
            "marker": {
             "line": {
              "color": "#E5ECF6",
              "width": 0.5
             },
             "pattern": {
              "fillmode": "overlay",
              "size": 10,
              "solidity": 0.2
             }
            },
            "type": "barpolar"
           }
          ],
          "carpet": [
           {
            "aaxis": {
             "endlinecolor": "#2a3f5f",
             "gridcolor": "white",
             "linecolor": "white",
             "minorgridcolor": "white",
             "startlinecolor": "#2a3f5f"
            },
            "baxis": {
             "endlinecolor": "#2a3f5f",
             "gridcolor": "white",
             "linecolor": "white",
             "minorgridcolor": "white",
             "startlinecolor": "#2a3f5f"
            },
            "type": "carpet"
           }
          ],
          "choropleth": [
           {
            "colorbar": {
             "outlinewidth": 0,
             "ticks": ""
            },
            "type": "choropleth"
           }
          ],
          "contour": [
           {
            "colorbar": {
             "outlinewidth": 0,
             "ticks": ""
            },
            "colorscale": [
             [
              0,
              "#0d0887"
             ],
             [
              0.1111111111111111,
              "#46039f"
             ],
             [
              0.2222222222222222,
              "#7201a8"
             ],
             [
              0.3333333333333333,
              "#9c179e"
             ],
             [
              0.4444444444444444,
              "#bd3786"
             ],
             [
              0.5555555555555556,
              "#d8576b"
             ],
             [
              0.6666666666666666,
              "#ed7953"
             ],
             [
              0.7777777777777778,
              "#fb9f3a"
             ],
             [
              0.8888888888888888,
              "#fdca26"
             ],
             [
              1,
              "#f0f921"
             ]
            ],
            "type": "contour"
           }
          ],
          "contourcarpet": [
           {
            "colorbar": {
             "outlinewidth": 0,
             "ticks": ""
            },
            "type": "contourcarpet"
           }
          ],
          "heatmap": [
           {
            "colorbar": {
             "outlinewidth": 0,
             "ticks": ""
            },
            "colorscale": [
             [
              0,
              "#0d0887"
             ],
             [
              0.1111111111111111,
              "#46039f"
             ],
             [
              0.2222222222222222,
              "#7201a8"
             ],
             [
              0.3333333333333333,
              "#9c179e"
             ],
             [
              0.4444444444444444,
              "#bd3786"
             ],
             [
              0.5555555555555556,
              "#d8576b"
             ],
             [
              0.6666666666666666,
              "#ed7953"
             ],
             [
              0.7777777777777778,
              "#fb9f3a"
             ],
             [
              0.8888888888888888,
              "#fdca26"
             ],
             [
              1,
              "#f0f921"
             ]
            ],
            "type": "heatmap"
           }
          ],
          "heatmapgl": [
           {
            "colorbar": {
             "outlinewidth": 0,
             "ticks": ""
            },
            "colorscale": [
             [
              0,
              "#0d0887"
             ],
             [
              0.1111111111111111,
              "#46039f"
             ],
             [
              0.2222222222222222,
              "#7201a8"
             ],
             [
              0.3333333333333333,
              "#9c179e"
             ],
             [
              0.4444444444444444,
              "#bd3786"
             ],
             [
              0.5555555555555556,
              "#d8576b"
             ],
             [
              0.6666666666666666,
              "#ed7953"
             ],
             [
              0.7777777777777778,
              "#fb9f3a"
             ],
             [
              0.8888888888888888,
              "#fdca26"
             ],
             [
              1,
              "#f0f921"
             ]
            ],
            "type": "heatmapgl"
           }
          ],
          "histogram": [
           {
            "marker": {
             "pattern": {
              "fillmode": "overlay",
              "size": 10,
              "solidity": 0.2
             }
            },
            "type": "histogram"
           }
          ],
          "histogram2d": [
           {
            "colorbar": {
             "outlinewidth": 0,
             "ticks": ""
            },
            "colorscale": [
             [
              0,
              "#0d0887"
             ],
             [
              0.1111111111111111,
              "#46039f"
             ],
             [
              0.2222222222222222,
              "#7201a8"
             ],
             [
              0.3333333333333333,
              "#9c179e"
             ],
             [
              0.4444444444444444,
              "#bd3786"
             ],
             [
              0.5555555555555556,
              "#d8576b"
             ],
             [
              0.6666666666666666,
              "#ed7953"
             ],
             [
              0.7777777777777778,
              "#fb9f3a"
             ],
             [
              0.8888888888888888,
              "#fdca26"
             ],
             [
              1,
              "#f0f921"
             ]
            ],
            "type": "histogram2d"
           }
          ],
          "histogram2dcontour": [
           {
            "colorbar": {
             "outlinewidth": 0,
             "ticks": ""
            },
            "colorscale": [
             [
              0,
              "#0d0887"
             ],
             [
              0.1111111111111111,
              "#46039f"
             ],
             [
              0.2222222222222222,
              "#7201a8"
             ],
             [
              0.3333333333333333,
              "#9c179e"
             ],
             [
              0.4444444444444444,
              "#bd3786"
             ],
             [
              0.5555555555555556,
              "#d8576b"
             ],
             [
              0.6666666666666666,
              "#ed7953"
             ],
             [
              0.7777777777777778,
              "#fb9f3a"
             ],
             [
              0.8888888888888888,
              "#fdca26"
             ],
             [
              1,
              "#f0f921"
             ]
            ],
            "type": "histogram2dcontour"
           }
          ],
          "mesh3d": [
           {
            "colorbar": {
             "outlinewidth": 0,
             "ticks": ""
            },
            "type": "mesh3d"
           }
          ],
          "parcoords": [
           {
            "line": {
             "colorbar": {
              "outlinewidth": 0,
              "ticks": ""
             }
            },
            "type": "parcoords"
           }
          ],
          "pie": [
           {
            "automargin": true,
            "type": "pie"
           }
          ],
          "scatter": [
           {
            "fillpattern": {
             "fillmode": "overlay",
             "size": 10,
             "solidity": 0.2
            },
            "type": "scatter"
           }
          ],
          "scatter3d": [
           {
            "line": {
             "colorbar": {
              "outlinewidth": 0,
              "ticks": ""
             }
            },
            "marker": {
             "colorbar": {
              "outlinewidth": 0,
              "ticks": ""
             }
            },
            "type": "scatter3d"
           }
          ],
          "scattercarpet": [
           {
            "marker": {
             "colorbar": {
              "outlinewidth": 0,
              "ticks": ""
             }
            },
            "type": "scattercarpet"
           }
          ],
          "scattergeo": [
           {
            "marker": {
             "colorbar": {
              "outlinewidth": 0,
              "ticks": ""
             }
            },
            "type": "scattergeo"
           }
          ],
          "scattergl": [
           {
            "marker": {
             "colorbar": {
              "outlinewidth": 0,
              "ticks": ""
             }
            },
            "type": "scattergl"
           }
          ],
          "scattermapbox": [
           {
            "marker": {
             "colorbar": {
              "outlinewidth": 0,
              "ticks": ""
             }
            },
            "type": "scattermapbox"
           }
          ],
          "scatterpolar": [
           {
            "marker": {
             "colorbar": {
              "outlinewidth": 0,
              "ticks": ""
             }
            },
            "type": "scatterpolar"
           }
          ],
          "scatterpolargl": [
           {
            "marker": {
             "colorbar": {
              "outlinewidth": 0,
              "ticks": ""
             }
            },
            "type": "scatterpolargl"
           }
          ],
          "scatterternary": [
           {
            "marker": {
             "colorbar": {
              "outlinewidth": 0,
              "ticks": ""
             }
            },
            "type": "scatterternary"
           }
          ],
          "surface": [
           {
            "colorbar": {
             "outlinewidth": 0,
             "ticks": ""
            },
            "colorscale": [
             [
              0,
              "#0d0887"
             ],
             [
              0.1111111111111111,
              "#46039f"
             ],
             [
              0.2222222222222222,
              "#7201a8"
             ],
             [
              0.3333333333333333,
              "#9c179e"
             ],
             [
              0.4444444444444444,
              "#bd3786"
             ],
             [
              0.5555555555555556,
              "#d8576b"
             ],
             [
              0.6666666666666666,
              "#ed7953"
             ],
             [
              0.7777777777777778,
              "#fb9f3a"
             ],
             [
              0.8888888888888888,
              "#fdca26"
             ],
             [
              1,
              "#f0f921"
             ]
            ],
            "type": "surface"
           }
          ],
          "table": [
           {
            "cells": {
             "fill": {
              "color": "#EBF0F8"
             },
             "line": {
              "color": "white"
             }
            },
            "header": {
             "fill": {
              "color": "#C8D4E3"
             },
             "line": {
              "color": "white"
             }
            },
            "type": "table"
           }
          ]
         },
         "layout": {
          "annotationdefaults": {
           "arrowcolor": "#2a3f5f",
           "arrowhead": 0,
           "arrowwidth": 1
          },
          "autotypenumbers": "strict",
          "coloraxis": {
           "colorbar": {
            "outlinewidth": 0,
            "ticks": ""
           }
          },
          "colorscale": {
           "diverging": [
            [
             0,
             "#8e0152"
            ],
            [
             0.1,
             "#c51b7d"
            ],
            [
             0.2,
             "#de77ae"
            ],
            [
             0.3,
             "#f1b6da"
            ],
            [
             0.4,
             "#fde0ef"
            ],
            [
             0.5,
             "#f7f7f7"
            ],
            [
             0.6,
             "#e6f5d0"
            ],
            [
             0.7,
             "#b8e186"
            ],
            [
             0.8,
             "#7fbc41"
            ],
            [
             0.9,
             "#4d9221"
            ],
            [
             1,
             "#276419"
            ]
           ],
           "sequential": [
            [
             0,
             "#0d0887"
            ],
            [
             0.1111111111111111,
             "#46039f"
            ],
            [
             0.2222222222222222,
             "#7201a8"
            ],
            [
             0.3333333333333333,
             "#9c179e"
            ],
            [
             0.4444444444444444,
             "#bd3786"
            ],
            [
             0.5555555555555556,
             "#d8576b"
            ],
            [
             0.6666666666666666,
             "#ed7953"
            ],
            [
             0.7777777777777778,
             "#fb9f3a"
            ],
            [
             0.8888888888888888,
             "#fdca26"
            ],
            [
             1,
             "#f0f921"
            ]
           ],
           "sequentialminus": [
            [
             0,
             "#0d0887"
            ],
            [
             0.1111111111111111,
             "#46039f"
            ],
            [
             0.2222222222222222,
             "#7201a8"
            ],
            [
             0.3333333333333333,
             "#9c179e"
            ],
            [
             0.4444444444444444,
             "#bd3786"
            ],
            [
             0.5555555555555556,
             "#d8576b"
            ],
            [
             0.6666666666666666,
             "#ed7953"
            ],
            [
             0.7777777777777778,
             "#fb9f3a"
            ],
            [
             0.8888888888888888,
             "#fdca26"
            ],
            [
             1,
             "#f0f921"
            ]
           ]
          },
          "colorway": [
           "#636efa",
           "#EF553B",
           "#00cc96",
           "#ab63fa",
           "#FFA15A",
           "#19d3f3",
           "#FF6692",
           "#B6E880",
           "#FF97FF",
           "#FECB52"
          ],
          "font": {
           "color": "#2a3f5f"
          },
          "geo": {
           "bgcolor": "white",
           "lakecolor": "white",
           "landcolor": "#E5ECF6",
           "showlakes": true,
           "showland": true,
           "subunitcolor": "white"
          },
          "hoverlabel": {
           "align": "left"
          },
          "hovermode": "closest",
          "mapbox": {
           "style": "light"
          },
          "paper_bgcolor": "white",
          "plot_bgcolor": "#E5ECF6",
          "polar": {
           "angularaxis": {
            "gridcolor": "white",
            "linecolor": "white",
            "ticks": ""
           },
           "bgcolor": "#E5ECF6",
           "radialaxis": {
            "gridcolor": "white",
            "linecolor": "white",
            "ticks": ""
           }
          },
          "scene": {
           "xaxis": {
            "backgroundcolor": "#E5ECF6",
            "gridcolor": "white",
            "gridwidth": 2,
            "linecolor": "white",
            "showbackground": true,
            "ticks": "",
            "zerolinecolor": "white"
           },
           "yaxis": {
            "backgroundcolor": "#E5ECF6",
            "gridcolor": "white",
            "gridwidth": 2,
            "linecolor": "white",
            "showbackground": true,
            "ticks": "",
            "zerolinecolor": "white"
           },
           "zaxis": {
            "backgroundcolor": "#E5ECF6",
            "gridcolor": "white",
            "gridwidth": 2,
            "linecolor": "white",
            "showbackground": true,
            "ticks": "",
            "zerolinecolor": "white"
           }
          },
          "shapedefaults": {
           "line": {
            "color": "#2a3f5f"
           }
          },
          "ternary": {
           "aaxis": {
            "gridcolor": "white",
            "linecolor": "white",
            "ticks": ""
           },
           "baxis": {
            "gridcolor": "white",
            "linecolor": "white",
            "ticks": ""
           },
           "bgcolor": "#E5ECF6",
           "caxis": {
            "gridcolor": "white",
            "linecolor": "white",
            "ticks": ""
           }
          },
          "title": {
           "x": 0.05
          },
          "xaxis": {
           "automargin": true,
           "gridcolor": "white",
           "linecolor": "white",
           "ticks": "",
           "title": {
            "standoff": 15
           },
           "zerolinecolor": "white",
           "zerolinewidth": 2
          },
          "yaxis": {
           "automargin": true,
           "gridcolor": "white",
           "linecolor": "white",
           "ticks": "",
           "title": {
            "standoff": 15
           },
           "zerolinecolor": "white",
           "zerolinewidth": 2
          }
         }
        },
        "title": {
         "text": "Распределение зарплат DS в USD",
         "x": 0.5
        },
        "width": 1000,
        "xaxis": {
         "anchor": "y",
         "domain": [
          0,
          1
         ],
         "title": {
          "text": "Размер зарплат"
         }
        },
        "xaxis2": {
         "anchor": "y2",
         "domain": [
          0,
          1
         ],
         "matches": "x",
         "showgrid": true,
         "showticklabels": false
        },
        "yaxis": {
         "anchor": "x",
         "domain": [
          0,
          0.8316
         ],
         "title": {
          "text": "Частота"
         }
        },
        "yaxis2": {
         "anchor": "x2",
         "domain": [
          0.8416,
          1
         ],
         "matches": "y2",
         "showgrid": false,
         "showline": false,
         "showticklabels": false,
         "ticks": ""
        }
       }
      },
      "text/html": [
       "<div>                            <div id=\"efcf3d77-05bc-4e0f-81c1-4d5823c4d33e\" class=\"plotly-graph-div\" style=\"height:700px; width:1000px;\"></div>            <script type=\"text/javascript\">                require([\"plotly\"], function(Plotly) {                    window.PLOTLYENV=window.PLOTLYENV || {};                                    if (document.getElementById(\"efcf3d77-05bc-4e0f-81c1-4d5823c4d33e\")) {                    Plotly.newPlot(                        \"efcf3d77-05bc-4e0f-81c1-4d5823c4d33e\",                        [{\"alignmentgroup\":\"True\",\"bingroup\":\"x\",\"hovertemplate\":\"salary_in_usd=%{x}\\u003cbr\\u003ecount=%{y}\\u003cextra\\u003e\\u003c\\u002fextra\\u003e\",\"legendgroup\":\"\",\"marker\":{\"color\":\"lightskyblue\",\"pattern\":{\"shape\":\"\"}},\"name\":\"\",\"nbinsx\":100,\"offsetgroup\":\"\",\"orientation\":\"v\",\"showlegend\":false,\"x\":[79833,260000,109024,20000,150000,72000,190000,35735,135000,125000,51321,40481,39916,87000,85000,8000,41689,114047,5707,56000,43331,6072,47899,98000,115000,325000,42000,33511,100000,117104,59303,70000,68428,450000,46759,74130,103000,250000,10000,138000,45760,79833,50180,106000,112872,15966,76958,188000,105000,70139,6072,91000,45896,54742,60000,148261,38776,118000,120000,138350,110000,130800,21669,412000,45618,62726,49268,190200,105000,91237,62726,42197,82528,150000,235000,53192,100000,5409,270000,80000,79197,140000,54238,47282,153667,28476,59102,110000,170000,80000,88654,76833,19609,276000,29751,89294,12000,450000,70000,95746,75000,150000,36259,62000,73000,51519,187442,115000,150000,30428,94564,113476,103160,12000,45391,225000,50000,40189,90000,200000,60000,200000,50000,110037,10354,151000,120000,9466,20000,40570,100000,49646,38400,24000,100000,90000,63711,77364,220000,80000,135000,240000,150000,82500,100000,82744,62649,90000,153000,160000,168000,150000,75774,13400,144000,127221,119059,423000,120000,125000,230000,85000,28369,63831,130026,165000,80000,250000,55000,150000,170000,82528,60000,235000,60757,174000,2859,40038,81000,5679,22611,90734,26005,61896,12000,4000,50000,69741,76833,74000,152000,21844,18000,174000,96113,147000,9272,24342,54094,90000,61467,195000,37825,50000,160000,12901,200000,165000,20000,120000,24823,56738,66022,5882,24823,185000,28609,88654,140000,46597,116914,33808,56256,225000,416000,87738,88654,135000,71786,16228,256000,200000,200000,180000,110000,63810,46809,4000,21637,103691,80000,110000,165000,18053,72212,36643,12103,96282,170000,115000,90000,600000,28399,93000,99703,173762,185000,141846,130000,63831,16904,66265,25532,160000,93150,111775,28016,65013,72500,18907,76833,85000,77684,100000,58000,55000,20171,59102,112000,100000,69741,105000,69999,94665,102839,109000,51064,135000,155000,120600,130000,90000,170000,150000,102100,84900,136620,99360,117789,104702,146000,123000,52351,99000,116000,106260,126500,242000,200000,65438,39263,78526,52351,165220,45807,120160,90320,181940,132320,220110,160080,180000,120000,124190,130000,110000,170000,115500,112900,165400,132320,167000,243900,136600,109280,128875,93700,224000,167875,175000,156600,108800,95550,113000,135000,161342,137141,167000,78526,65438,150000,211500,192400,90700,130000,61300,160000,138600,136000,58000,135000,170000,189650,164996,54957,118187,132000,208775,147800,136994,101570,128875,93700,79039,37300,164000,155000,124333,98158,120000,145000,105400,87932,117789,215300,158200,209100,154600,115934,81666,175000,98158,183600,52351,180000,71982,45807,65949,49461,78526,58894,260000,60000,63900,160000,112300,241000,159000,180000,80000,82900,100800,49461,140400,39263,43966,32974,87932,76940,104702,91614,65949,87932,43966,32974,98158,215300,76940,180000,21983,80000,78791,196979,120000,125000,37236,105000,87932,18442,31615,58255,100000,54957,18442,162674,120000,144000,104890,100000,140000,135000,50000,220000,183228,91614,185100,220000,200000,120000,120000,65000,324000,216000,210000,120000,230000,100000,100000,31875,200000,75000,35590,78791,100000,153000,58035,165000,93427,52396,62651,32974,40000,87425,115000,86703,75000,64849,120000,157000,150000,70912,65000,71444,20000,48000,152500,68147,122346,380000,69336,10000,20000,405000,135000,177000,78000,100000,85000,75000,214000,192600,266400,213120,141300,102100,115934,81666,206699,99100,130000,110500,99050,160000,205300,176000,144000,200100,145000,70500,205300,140400,205300,184700,175100,140250,116150,54000,65438,80000,210000,69000,150075,25000,126500,106260,220110,160080,105000,110925,45807,60000,192564,144854,150000,150260,109280,160000,130000,67000,52000,154000,126000,129000,150000,200000],\"xaxis\":\"x\",\"yaxis\":\"y\",\"type\":\"histogram\"},{\"alignmentgroup\":\"True\",\"hovertemplate\":\"salary_in_usd=%{x}\\u003cextra\\u003e\\u003c\\u002fextra\\u003e\",\"legendgroup\":\"\",\"marker\":{\"color\":\"lightskyblue\"},\"name\":\"\",\"notched\":true,\"offsetgroup\":\"\",\"showlegend\":false,\"x\":[79833,260000,109024,20000,150000,72000,190000,35735,135000,125000,51321,40481,39916,87000,85000,8000,41689,114047,5707,56000,43331,6072,47899,98000,115000,325000,42000,33511,100000,117104,59303,70000,68428,450000,46759,74130,103000,250000,10000,138000,45760,79833,50180,106000,112872,15966,76958,188000,105000,70139,6072,91000,45896,54742,60000,148261,38776,118000,120000,138350,110000,130800,21669,412000,45618,62726,49268,190200,105000,91237,62726,42197,82528,150000,235000,53192,100000,5409,270000,80000,79197,140000,54238,47282,153667,28476,59102,110000,170000,80000,88654,76833,19609,276000,29751,89294,12000,450000,70000,95746,75000,150000,36259,62000,73000,51519,187442,115000,150000,30428,94564,113476,103160,12000,45391,225000,50000,40189,90000,200000,60000,200000,50000,110037,10354,151000,120000,9466,20000,40570,100000,49646,38400,24000,100000,90000,63711,77364,220000,80000,135000,240000,150000,82500,100000,82744,62649,90000,153000,160000,168000,150000,75774,13400,144000,127221,119059,423000,120000,125000,230000,85000,28369,63831,130026,165000,80000,250000,55000,150000,170000,82528,60000,235000,60757,174000,2859,40038,81000,5679,22611,90734,26005,61896,12000,4000,50000,69741,76833,74000,152000,21844,18000,174000,96113,147000,9272,24342,54094,90000,61467,195000,37825,50000,160000,12901,200000,165000,20000,120000,24823,56738,66022,5882,24823,185000,28609,88654,140000,46597,116914,33808,56256,225000,416000,87738,88654,135000,71786,16228,256000,200000,200000,180000,110000,63810,46809,4000,21637,103691,80000,110000,165000,18053,72212,36643,12103,96282,170000,115000,90000,600000,28399,93000,99703,173762,185000,141846,130000,63831,16904,66265,25532,160000,93150,111775,28016,65013,72500,18907,76833,85000,77684,100000,58000,55000,20171,59102,112000,100000,69741,105000,69999,94665,102839,109000,51064,135000,155000,120600,130000,90000,170000,150000,102100,84900,136620,99360,117789,104702,146000,123000,52351,99000,116000,106260,126500,242000,200000,65438,39263,78526,52351,165220,45807,120160,90320,181940,132320,220110,160080,180000,120000,124190,130000,110000,170000,115500,112900,165400,132320,167000,243900,136600,109280,128875,93700,224000,167875,175000,156600,108800,95550,113000,135000,161342,137141,167000,78526,65438,150000,211500,192400,90700,130000,61300,160000,138600,136000,58000,135000,170000,189650,164996,54957,118187,132000,208775,147800,136994,101570,128875,93700,79039,37300,164000,155000,124333,98158,120000,145000,105400,87932,117789,215300,158200,209100,154600,115934,81666,175000,98158,183600,52351,180000,71982,45807,65949,49461,78526,58894,260000,60000,63900,160000,112300,241000,159000,180000,80000,82900,100800,49461,140400,39263,43966,32974,87932,76940,104702,91614,65949,87932,43966,32974,98158,215300,76940,180000,21983,80000,78791,196979,120000,125000,37236,105000,87932,18442,31615,58255,100000,54957,18442,162674,120000,144000,104890,100000,140000,135000,50000,220000,183228,91614,185100,220000,200000,120000,120000,65000,324000,216000,210000,120000,230000,100000,100000,31875,200000,75000,35590,78791,100000,153000,58035,165000,93427,52396,62651,32974,40000,87425,115000,86703,75000,64849,120000,157000,150000,70912,65000,71444,20000,48000,152500,68147,122346,380000,69336,10000,20000,405000,135000,177000,78000,100000,85000,75000,214000,192600,266400,213120,141300,102100,115934,81666,206699,99100,130000,110500,99050,160000,205300,176000,144000,200100,145000,70500,205300,140400,205300,184700,175100,140250,116150,54000,65438,80000,210000,69000,150075,25000,126500,106260,220110,160080,105000,110925,45807,60000,192564,144854,150000,150260,109280,160000,130000,67000,52000,154000,126000,129000,150000,200000],\"xaxis\":\"x2\",\"yaxis\":\"y2\",\"type\":\"box\"}],                        {\"template\":{\"data\":{\"histogram2dcontour\":[{\"type\":\"histogram2dcontour\",\"colorbar\":{\"outlinewidth\":0,\"ticks\":\"\"},\"colorscale\":[[0.0,\"#0d0887\"],[0.1111111111111111,\"#46039f\"],[0.2222222222222222,\"#7201a8\"],[0.3333333333333333,\"#9c179e\"],[0.4444444444444444,\"#bd3786\"],[0.5555555555555556,\"#d8576b\"],[0.6666666666666666,\"#ed7953\"],[0.7777777777777778,\"#fb9f3a\"],[0.8888888888888888,\"#fdca26\"],[1.0,\"#f0f921\"]]}],\"choropleth\":[{\"type\":\"choropleth\",\"colorbar\":{\"outlinewidth\":0,\"ticks\":\"\"}}],\"histogram2d\":[{\"type\":\"histogram2d\",\"colorbar\":{\"outlinewidth\":0,\"ticks\":\"\"},\"colorscale\":[[0.0,\"#0d0887\"],[0.1111111111111111,\"#46039f\"],[0.2222222222222222,\"#7201a8\"],[0.3333333333333333,\"#9c179e\"],[0.4444444444444444,\"#bd3786\"],[0.5555555555555556,\"#d8576b\"],[0.6666666666666666,\"#ed7953\"],[0.7777777777777778,\"#fb9f3a\"],[0.8888888888888888,\"#fdca26\"],[1.0,\"#f0f921\"]]}],\"heatmap\":[{\"type\":\"heatmap\",\"colorbar\":{\"outlinewidth\":0,\"ticks\":\"\"},\"colorscale\":[[0.0,\"#0d0887\"],[0.1111111111111111,\"#46039f\"],[0.2222222222222222,\"#7201a8\"],[0.3333333333333333,\"#9c179e\"],[0.4444444444444444,\"#bd3786\"],[0.5555555555555556,\"#d8576b\"],[0.6666666666666666,\"#ed7953\"],[0.7777777777777778,\"#fb9f3a\"],[0.8888888888888888,\"#fdca26\"],[1.0,\"#f0f921\"]]}],\"heatmapgl\":[{\"type\":\"heatmapgl\",\"colorbar\":{\"outlinewidth\":0,\"ticks\":\"\"},\"colorscale\":[[0.0,\"#0d0887\"],[0.1111111111111111,\"#46039f\"],[0.2222222222222222,\"#7201a8\"],[0.3333333333333333,\"#9c179e\"],[0.4444444444444444,\"#bd3786\"],[0.5555555555555556,\"#d8576b\"],[0.6666666666666666,\"#ed7953\"],[0.7777777777777778,\"#fb9f3a\"],[0.8888888888888888,\"#fdca26\"],[1.0,\"#f0f921\"]]}],\"contourcarpet\":[{\"type\":\"contourcarpet\",\"colorbar\":{\"outlinewidth\":0,\"ticks\":\"\"}}],\"contour\":[{\"type\":\"contour\",\"colorbar\":{\"outlinewidth\":0,\"ticks\":\"\"},\"colorscale\":[[0.0,\"#0d0887\"],[0.1111111111111111,\"#46039f\"],[0.2222222222222222,\"#7201a8\"],[0.3333333333333333,\"#9c179e\"],[0.4444444444444444,\"#bd3786\"],[0.5555555555555556,\"#d8576b\"],[0.6666666666666666,\"#ed7953\"],[0.7777777777777778,\"#fb9f3a\"],[0.8888888888888888,\"#fdca26\"],[1.0,\"#f0f921\"]]}],\"surface\":[{\"type\":\"surface\",\"colorbar\":{\"outlinewidth\":0,\"ticks\":\"\"},\"colorscale\":[[0.0,\"#0d0887\"],[0.1111111111111111,\"#46039f\"],[0.2222222222222222,\"#7201a8\"],[0.3333333333333333,\"#9c179e\"],[0.4444444444444444,\"#bd3786\"],[0.5555555555555556,\"#d8576b\"],[0.6666666666666666,\"#ed7953\"],[0.7777777777777778,\"#fb9f3a\"],[0.8888888888888888,\"#fdca26\"],[1.0,\"#f0f921\"]]}],\"mesh3d\":[{\"type\":\"mesh3d\",\"colorbar\":{\"outlinewidth\":0,\"ticks\":\"\"}}],\"scatter\":[{\"fillpattern\":{\"fillmode\":\"overlay\",\"size\":10,\"solidity\":0.2},\"type\":\"scatter\"}],\"parcoords\":[{\"type\":\"parcoords\",\"line\":{\"colorbar\":{\"outlinewidth\":0,\"ticks\":\"\"}}}],\"scatterpolargl\":[{\"type\":\"scatterpolargl\",\"marker\":{\"colorbar\":{\"outlinewidth\":0,\"ticks\":\"\"}}}],\"bar\":[{\"error_x\":{\"color\":\"#2a3f5f\"},\"error_y\":{\"color\":\"#2a3f5f\"},\"marker\":{\"line\":{\"color\":\"#E5ECF6\",\"width\":0.5},\"pattern\":{\"fillmode\":\"overlay\",\"size\":10,\"solidity\":0.2}},\"type\":\"bar\"}],\"scattergeo\":[{\"type\":\"scattergeo\",\"marker\":{\"colorbar\":{\"outlinewidth\":0,\"ticks\":\"\"}}}],\"scatterpolar\":[{\"type\":\"scatterpolar\",\"marker\":{\"colorbar\":{\"outlinewidth\":0,\"ticks\":\"\"}}}],\"histogram\":[{\"marker\":{\"pattern\":{\"fillmode\":\"overlay\",\"size\":10,\"solidity\":0.2}},\"type\":\"histogram\"}],\"scattergl\":[{\"type\":\"scattergl\",\"marker\":{\"colorbar\":{\"outlinewidth\":0,\"ticks\":\"\"}}}],\"scatter3d\":[{\"type\":\"scatter3d\",\"line\":{\"colorbar\":{\"outlinewidth\":0,\"ticks\":\"\"}},\"marker\":{\"colorbar\":{\"outlinewidth\":0,\"ticks\":\"\"}}}],\"scattermapbox\":[{\"type\":\"scattermapbox\",\"marker\":{\"colorbar\":{\"outlinewidth\":0,\"ticks\":\"\"}}}],\"scatterternary\":[{\"type\":\"scatterternary\",\"marker\":{\"colorbar\":{\"outlinewidth\":0,\"ticks\":\"\"}}}],\"scattercarpet\":[{\"type\":\"scattercarpet\",\"marker\":{\"colorbar\":{\"outlinewidth\":0,\"ticks\":\"\"}}}],\"carpet\":[{\"aaxis\":{\"endlinecolor\":\"#2a3f5f\",\"gridcolor\":\"white\",\"linecolor\":\"white\",\"minorgridcolor\":\"white\",\"startlinecolor\":\"#2a3f5f\"},\"baxis\":{\"endlinecolor\":\"#2a3f5f\",\"gridcolor\":\"white\",\"linecolor\":\"white\",\"minorgridcolor\":\"white\",\"startlinecolor\":\"#2a3f5f\"},\"type\":\"carpet\"}],\"table\":[{\"cells\":{\"fill\":{\"color\":\"#EBF0F8\"},\"line\":{\"color\":\"white\"}},\"header\":{\"fill\":{\"color\":\"#C8D4E3\"},\"line\":{\"color\":\"white\"}},\"type\":\"table\"}],\"barpolar\":[{\"marker\":{\"line\":{\"color\":\"#E5ECF6\",\"width\":0.5},\"pattern\":{\"fillmode\":\"overlay\",\"size\":10,\"solidity\":0.2}},\"type\":\"barpolar\"}],\"pie\":[{\"automargin\":true,\"type\":\"pie\"}]},\"layout\":{\"autotypenumbers\":\"strict\",\"colorway\":[\"#636efa\",\"#EF553B\",\"#00cc96\",\"#ab63fa\",\"#FFA15A\",\"#19d3f3\",\"#FF6692\",\"#B6E880\",\"#FF97FF\",\"#FECB52\"],\"font\":{\"color\":\"#2a3f5f\"},\"hovermode\":\"closest\",\"hoverlabel\":{\"align\":\"left\"},\"paper_bgcolor\":\"white\",\"plot_bgcolor\":\"#E5ECF6\",\"polar\":{\"bgcolor\":\"#E5ECF6\",\"angularaxis\":{\"gridcolor\":\"white\",\"linecolor\":\"white\",\"ticks\":\"\"},\"radialaxis\":{\"gridcolor\":\"white\",\"linecolor\":\"white\",\"ticks\":\"\"}},\"ternary\":{\"bgcolor\":\"#E5ECF6\",\"aaxis\":{\"gridcolor\":\"white\",\"linecolor\":\"white\",\"ticks\":\"\"},\"baxis\":{\"gridcolor\":\"white\",\"linecolor\":\"white\",\"ticks\":\"\"},\"caxis\":{\"gridcolor\":\"white\",\"linecolor\":\"white\",\"ticks\":\"\"}},\"coloraxis\":{\"colorbar\":{\"outlinewidth\":0,\"ticks\":\"\"}},\"colorscale\":{\"sequential\":[[0.0,\"#0d0887\"],[0.1111111111111111,\"#46039f\"],[0.2222222222222222,\"#7201a8\"],[0.3333333333333333,\"#9c179e\"],[0.4444444444444444,\"#bd3786\"],[0.5555555555555556,\"#d8576b\"],[0.6666666666666666,\"#ed7953\"],[0.7777777777777778,\"#fb9f3a\"],[0.8888888888888888,\"#fdca26\"],[1.0,\"#f0f921\"]],\"sequentialminus\":[[0.0,\"#0d0887\"],[0.1111111111111111,\"#46039f\"],[0.2222222222222222,\"#7201a8\"],[0.3333333333333333,\"#9c179e\"],[0.4444444444444444,\"#bd3786\"],[0.5555555555555556,\"#d8576b\"],[0.6666666666666666,\"#ed7953\"],[0.7777777777777778,\"#fb9f3a\"],[0.8888888888888888,\"#fdca26\"],[1.0,\"#f0f921\"]],\"diverging\":[[0,\"#8e0152\"],[0.1,\"#c51b7d\"],[0.2,\"#de77ae\"],[0.3,\"#f1b6da\"],[0.4,\"#fde0ef\"],[0.5,\"#f7f7f7\"],[0.6,\"#e6f5d0\"],[0.7,\"#b8e186\"],[0.8,\"#7fbc41\"],[0.9,\"#4d9221\"],[1,\"#276419\"]]},\"xaxis\":{\"gridcolor\":\"white\",\"linecolor\":\"white\",\"ticks\":\"\",\"title\":{\"standoff\":15},\"zerolinecolor\":\"white\",\"automargin\":true,\"zerolinewidth\":2},\"yaxis\":{\"gridcolor\":\"white\",\"linecolor\":\"white\",\"ticks\":\"\",\"title\":{\"standoff\":15},\"zerolinecolor\":\"white\",\"automargin\":true,\"zerolinewidth\":2},\"scene\":{\"xaxis\":{\"backgroundcolor\":\"#E5ECF6\",\"gridcolor\":\"white\",\"linecolor\":\"white\",\"showbackground\":true,\"ticks\":\"\",\"zerolinecolor\":\"white\",\"gridwidth\":2},\"yaxis\":{\"backgroundcolor\":\"#E5ECF6\",\"gridcolor\":\"white\",\"linecolor\":\"white\",\"showbackground\":true,\"ticks\":\"\",\"zerolinecolor\":\"white\",\"gridwidth\":2},\"zaxis\":{\"backgroundcolor\":\"#E5ECF6\",\"gridcolor\":\"white\",\"linecolor\":\"white\",\"showbackground\":true,\"ticks\":\"\",\"zerolinecolor\":\"white\",\"gridwidth\":2}},\"shapedefaults\":{\"line\":{\"color\":\"#2a3f5f\"}},\"annotationdefaults\":{\"arrowcolor\":\"#2a3f5f\",\"arrowhead\":0,\"arrowwidth\":1},\"geo\":{\"bgcolor\":\"white\",\"landcolor\":\"#E5ECF6\",\"subunitcolor\":\"white\",\"showland\":true,\"showlakes\":true,\"lakecolor\":\"white\"},\"title\":{\"x\":0.05},\"mapbox\":{\"style\":\"light\"}}},\"xaxis\":{\"anchor\":\"y\",\"domain\":[0.0,1.0],\"title\":{\"text\":\"\\u0420\\u0430\\u0437\\u043c\\u0435\\u0440 \\u0437\\u0430\\u0440\\u043f\\u043b\\u0430\\u0442\"}},\"yaxis\":{\"anchor\":\"x\",\"domain\":[0.0,0.8316],\"title\":{\"text\":\"\\u0427\\u0430\\u0441\\u0442\\u043e\\u0442\\u0430\"}},\"xaxis2\":{\"anchor\":\"y2\",\"domain\":[0.0,1.0],\"matches\":\"x\",\"showticklabels\":false,\"showgrid\":true},\"yaxis2\":{\"anchor\":\"x2\",\"domain\":[0.8416,1.0],\"matches\":\"y2\",\"showticklabels\":false,\"showline\":false,\"ticks\":\"\",\"showgrid\":false},\"legend\":{\"tracegroupgap\":0},\"title\":{\"text\":\"\\u0420\\u0430\\u0441\\u043f\\u0440\\u0435\\u0434\\u0435\\u043b\\u0435\\u043d\\u0438\\u0435 \\u0437\\u0430\\u0440\\u043f\\u043b\\u0430\\u0442 DS \\u0432 USD\",\"x\":0.5},\"barmode\":\"relative\",\"height\":700,\"width\":1000,\"shapes\":[{\"line\":{\"color\":\"green\",\"dash\":\"dash\",\"width\":1},\"type\":\"line\",\"x0\":110610.34336283186,\"x1\":110610.34336283186,\"xref\":\"x\",\"y0\":0,\"y1\":1,\"yref\":\"y domain\"},{\"line\":{\"color\":\"green\",\"dash\":\"dash\",\"width\":1},\"type\":\"line\",\"x0\":110610.34336283186,\"x1\":110610.34336283186,\"xref\":\"x2\",\"y0\":0,\"y1\":1,\"yref\":\"y2 domain\"}],\"annotations\":[{\"showarrow\":false,\"text\":\"mean of salary - 110610\",\"x\":110610.34336283186,\"xanchor\":\"left\",\"xref\":\"x\",\"y\":1,\"yanchor\":\"top\",\"yref\":\"y domain\"},{\"showarrow\":false,\"text\":\"mean of salary - 110610\",\"x\":110610.34336283186,\"xanchor\":\"left\",\"xref\":\"x2\",\"y\":1,\"yanchor\":\"top\",\"yref\":\"y2 domain\"}]},                        {\"responsive\": true}                    ).then(function(){\n",
       "                            \n",
       "var gd = document.getElementById('efcf3d77-05bc-4e0f-81c1-4d5823c4d33e');\n",
       "var x = new MutationObserver(function (mutations, observer) {{\n",
       "        var display = window.getComputedStyle(gd).display;\n",
       "        if (!display || display === 'none') {{\n",
       "            console.log([gd, 'removed!']);\n",
       "            Plotly.purge(gd);\n",
       "            observer.disconnect();\n",
       "        }}\n",
       "}});\n",
       "\n",
       "// Listen for the removal of the full notebook cells\n",
       "var notebookContainer = gd.closest('#notebook-container');\n",
       "if (notebookContainer) {{\n",
       "    x.observe(notebookContainer, {childList: true});\n",
       "}}\n",
       "\n",
       "// Listen for the clearing of the current output cell\n",
       "var outputEl = gd.closest('.output');\n",
       "if (outputEl) {{\n",
       "    x.observe(outputEl, {childList: true});\n",
       "}}\n",
       "\n",
       "                        })                };                });            </script>        </div>"
      ]
     },
     "metadata": {},
     "output_type": "display_data"
    },
    {
     "data": {
      "image/jpeg": "[encoded data removed]"
     },
     "metadata": {},
     "output_type": "display_data"
    }
   ],
   "source": [
    "# Так как у нас зарплаты выплачиваються в разных валютах, у нас есть параметр который\n",
    "# приводит все зарплаты в долларах - воспользуемся им.\n",
    "fig = px.histogram(data, \n",
    "                    nbins=100,\n",
    "                    x=\"salary_in_usd\",\n",
    "                    title=\"Распределение зарплат DS в USD\",\n",
    "                    width = 1000, \n",
    "                    height = 700, \n",
    "                    color_discrete_sequence=[\"lightskyblue\"],\n",
    "                    marginal='box',\n",
    "                )\n",
    "\n",
    "# Нарисуем линию среднего salary_in_usd\n",
    "fig.add_vline(x=data['salary_in_usd'].mean(), \n",
    "              line_width=1,\n",
    "              line_dash=\"dash\", \n",
    "              annotation_text = 'mean of salary - 110610', \n",
    "              line_color=\"green\")\n",
    "\n",
    "# Обновим данные для осей и названия\n",
    "fig.update_layout(title_x = 0.5,\n",
    "                    xaxis_title=\"Размер зарплат\", \n",
    "                    yaxis_title=\"Частота\",\n",
    "                 )\n",
    "\n",
    "\n",
    "fig.show('jpeg')\n",
    "#fig.write_html(\"data/plotly/001_scheduling_salary_histogram.html\")"
   ]
  },
  {
   "cell_type": "code",
   "execution_count": 50,
   "id": "6108a6fc",
   "metadata": {
    "ExecuteTime": {
     "end_time": "2023-08-31T13:40:08.544500Z",
     "start_time": "2023-08-31T13:40:08.476274Z"
    }
   },
   "outputs": [
    {
     "data": {
      "text/html": [
       "<div>\n",
       "<style scoped>\n",
       "    .dataframe tbody tr th:only-of-type {\n",
       "        vertical-align: middle;\n",
       "    }\n",
       "\n",
       "    .dataframe tbody tr th {\n",
       "        vertical-align: top;\n",
       "    }\n",
       "\n",
       "    .dataframe thead th {\n",
       "        text-align: right;\n",
       "    }\n",
       "</style>\n",
       "<table border=\"1\" class=\"dataframe\">\n",
       "  <thead>\n",
       "    <tr style=\"text-align: right;\">\n",
       "      <th></th>\n",
       "      <th>Размер зарплат в USD</th>\n",
       "    </tr>\n",
       "  </thead>\n",
       "  <tbody>\n",
       "    <tr>\n",
       "      <th>count</th>\n",
       "      <td>565.00</td>\n",
       "    </tr>\n",
       "    <tr>\n",
       "      <th>mean</th>\n",
       "      <td>110610.34</td>\n",
       "    </tr>\n",
       "    <tr>\n",
       "      <th>std</th>\n",
       "      <td>72280.70</td>\n",
       "    </tr>\n",
       "    <tr>\n",
       "      <th>min</th>\n",
       "      <td>2859.00</td>\n",
       "    </tr>\n",
       "    <tr>\n",
       "      <th>25%</th>\n",
       "      <td>60757.00</td>\n",
       "    </tr>\n",
       "    <tr>\n",
       "      <th>50%</th>\n",
       "      <td>100000.00</td>\n",
       "    </tr>\n",
       "    <tr>\n",
       "      <th>75%</th>\n",
       "      <td>150000.00</td>\n",
       "    </tr>\n",
       "    <tr>\n",
       "      <th>max</th>\n",
       "      <td>600000.00</td>\n",
       "    </tr>\n",
       "  </tbody>\n",
       "</table>\n",
       "</div>"
      ],
      "text/plain": [
       "       Размер зарплат в USD\n",
       "count                565.00\n",
       "mean              110610.34\n",
       "std                72280.70\n",
       "min                 2859.00\n",
       "25%                60757.00\n",
       "50%               100000.00\n",
       "75%               150000.00\n",
       "max               600000.00"
      ]
     },
     "execution_count": 50,
     "metadata": {},
     "output_type": "execute_result"
    }
   ],
   "source": [
    "# Посмотрим числовые характеристики\n",
    "data_agg = data['salary_in_usd'].describe().round(2).to_frame()\n",
    "data_agg.columns = ['Размер зарплат в USD']\n",
    "data_agg"
   ]
  },
  {
   "cell_type": "markdown",
   "id": "6fd74b7a",
   "metadata": {},
   "source": [
    "<hr style=\"border-style: dashed;\">\n",
    "\n",
    "__Вывод:__\n",
    "- Распределение у нас ненормальное как видно по графику, не совпадает медианна (100 тысяч) и среднее (среднее - пунктирная зеленая линия 110610)  \n",
    "- Крайние значения: слева - 2859, справа - 600 тысяч.\n",
    "- Присутствуют выбросы\n",
    "\n",
    "<hr style=\"border-style: dashed;\">"
   ]
  },
  {
   "cell_type": "markdown",
   "id": "4bcfa033",
   "metadata": {
    "ExecuteTime": {
     "end_time": "2023-08-31T12:30:37.149444Z",
     "start_time": "2023-08-31T12:30:37.033900Z"
    }
   },
   "source": [
    "#### Год, в котором была выплачена зарплата (work_year)."
   ]
  },
  {
   "cell_type": "code",
   "execution_count": 44,
   "id": "1a44faa5",
   "metadata": {
    "ExecuteTime": {
     "end_time": "2023-08-31T13:23:08.748349Z",
     "start_time": "2023-08-31T13:23:08.687703Z"
    }
   },
   "outputs": [
    {
     "data": {
      "text/plain": [
       "2022    278\n",
       "2021    215\n",
       "2020     72\n",
       "Name: work_year, dtype: int64"
      ]
     },
     "metadata": {},
     "output_type": "display_data"
    }
   ],
   "source": [
    "# Посмотрим признак\n",
    "salary_year = data['work_year'].value_counts()\n",
    "display(salary_year)"
   ]
  },
  {
   "cell_type": "code",
   "execution_count": 48,
   "id": "b09004e7",
   "metadata": {
    "ExecuteTime": {
     "end_time": "2023-08-31T13:26:59.887071Z",
     "start_time": "2023-08-31T13:26:59.674889Z"
    }
   },
   "outputs": [
    {
     "data": {
      "application/vnd.plotly.v1+json": {
       "config": {
        "plotlyServerURL": "https://plot.ly"
       },
       "data": [
        {
         "domain": {
          "x": [
           0,
           1
          ],
          "y": [
           0,
           1
          ]
         },
         "hovertemplate": "label=%{label}<br>value=%{value}<extra></extra>",
         "labels": [
          2022,
          2021,
          2020
         ],
         "legendgroup": "",
         "marker": {
          "line": {
           "color": "lightskyblue",
           "width": 1
          }
         },
         "name": "",
         "showlegend": true,
         "textfont": {
          "size": 18
         },
         "textinfo": "label+percent+value",
         "type": "pie",
         "values": [
          278,
          215,
          72
         ]
        }
       ],
       "layout": {
        "legend": {
         "tracegroupgap": 0
        },
        "piecolorway": [
         "rgb(255,247,251)",
         "rgb(236,231,242)",
         "rgb(208,209,230)",
         "rgb(166,189,219)",
         "rgb(116,169,207)",
         "rgb(54,144,192)",
         "rgb(5,112,176)",
         "rgb(4,90,141)",
         "rgb(2,56,88)"
        ],
        "template": {
         "data": {
          "pie": [
           {
            "automargin": true,
            "type": "pie"
           }
          ],
          "scatter": [
           {
            "line": {
             "width": 3
            },
            "marker": {
             "size": 9
            },
            "type": "scatter"
           }
          ],
          "scatter3d": [
           {
            "line": {
             "width": 3
            },
            "marker": {
             "size": 9
            },
            "type": "scatter3d"
           }
          ],
          "scattergeo": [
           {
            "line": {
             "width": 3
            },
            "marker": {
             "size": 9
            },
            "type": "scattergeo"
           }
          ],
          "scattergl": [
           {
            "line": {
             "width": 3
            },
            "marker": {
             "size": 9
            },
            "type": "scattergl"
           }
          ],
          "scatterpolar": [
           {
            "line": {
             "width": 3
            },
            "marker": {
             "size": 9
            },
            "type": "scatterpolar"
           }
          ],
          "scatterpolargl": [
           {
            "line": {
             "width": 3
            },
            "marker": {
             "size": 9
            },
            "type": "scatterpolargl"
           }
          ],
          "scatterternary": [
           {
            "line": {
             "width": 3
            },
            "marker": {
             "size": 9
            },
            "type": "scatterternary"
           }
          ],
          "table": [
           {
            "cells": {
             "height": 30
            },
            "header": {
             "height": 36
            },
            "type": "table"
           }
          ]
         },
         "layout": {
          "font": {
           "size": 18
          },
          "xaxis": {
           "title": {
            "standoff": 15
           }
          },
          "yaxis": {
           "title": {
            "standoff": 15
           }
          }
         }
        },
        "title": {
         "text": "Выплаты зарплат по годам"
        }
       }
      },
      "text/html": [
       "<div>                            <div id=\"fdb147de-63af-4836-ac46-a30fc50be08b\" class=\"plotly-graph-div\" style=\"height:525px; width:100%;\"></div>            <script type=\"text/javascript\">                require([\"plotly\"], function(Plotly) {                    window.PLOTLYENV=window.PLOTLYENV || {};                                    if (document.getElementById(\"fdb147de-63af-4836-ac46-a30fc50be08b\")) {                    Plotly.newPlot(                        \"fdb147de-63af-4836-ac46-a30fc50be08b\",                        [{\"domain\":{\"x\":[0.0,1.0],\"y\":[0.0,1.0]},\"hovertemplate\":\"label=%{label}\\u003cbr\\u003evalue=%{value}\\u003cextra\\u003e\\u003c\\u002fextra\\u003e\",\"labels\":[2022,2021,2020],\"legendgroup\":\"\",\"name\":\"\",\"showlegend\":true,\"values\":[278,215,72],\"type\":\"pie\",\"textfont\":{\"size\":18},\"marker\":{\"line\":{\"color\":\"lightskyblue\",\"width\":1}},\"textinfo\":\"label+percent+value\"}],                        {\"template\":{\"data\":{\"pie\":[{\"automargin\":true,\"type\":\"pie\"}],\"scatter3d\":[{\"line\":{\"width\":3},\"marker\":{\"size\":9},\"type\":\"scatter3d\"}],\"scattergeo\":[{\"line\":{\"width\":3},\"marker\":{\"size\":9},\"type\":\"scattergeo\"}],\"scattergl\":[{\"line\":{\"width\":3},\"marker\":{\"size\":9},\"type\":\"scattergl\"}],\"scatterpolargl\":[{\"line\":{\"width\":3},\"marker\":{\"size\":9},\"type\":\"scatterpolargl\"}],\"scatterpolar\":[{\"line\":{\"width\":3},\"marker\":{\"size\":9},\"type\":\"scatterpolar\"}],\"scatter\":[{\"line\":{\"width\":3},\"marker\":{\"size\":9},\"type\":\"scatter\"}],\"scatterternary\":[{\"line\":{\"width\":3},\"marker\":{\"size\":9},\"type\":\"scatterternary\"}],\"table\":[{\"cells\":{\"height\":30},\"header\":{\"height\":36},\"type\":\"table\"}]},\"layout\":{\"font\":{\"size\":18},\"xaxis\":{\"title\":{\"standoff\":15}},\"yaxis\":{\"title\":{\"standoff\":15}}}},\"legend\":{\"tracegroupgap\":0},\"title\":{\"text\":\"\\u0412\\u044b\\u043f\\u043b\\u0430\\u0442\\u044b \\u0437\\u0430\\u0440\\u043f\\u043b\\u0430\\u0442 \\u043f\\u043e \\u0433\\u043e\\u0434\\u0430\\u043c\"},\"piecolorway\":[\"rgb(255,247,251)\",\"rgb(236,231,242)\",\"rgb(208,209,230)\",\"rgb(166,189,219)\",\"rgb(116,169,207)\",\"rgb(54,144,192)\",\"rgb(5,112,176)\",\"rgb(4,90,141)\",\"rgb(2,56,88)\"]},                        {\"responsive\": true}                    ).then(function(){\n",
       "                            \n",
       "var gd = document.getElementById('fdb147de-63af-4836-ac46-a30fc50be08b');\n",
       "var x = new MutationObserver(function (mutations, observer) {{\n",
       "        var display = window.getComputedStyle(gd).display;\n",
       "        if (!display || display === 'none') {{\n",
       "            console.log([gd, 'removed!']);\n",
       "            Plotly.purge(gd);\n",
       "            observer.disconnect();\n",
       "        }}\n",
       "}});\n",
       "\n",
       "// Listen for the removal of the full notebook cells\n",
       "var notebookContainer = gd.closest('#notebook-container');\n",
       "if (notebookContainer) {{\n",
       "    x.observe(notebookContainer, {childList: true});\n",
       "}}\n",
       "\n",
       "// Listen for the clearing of the current output cell\n",
       "var outputEl = gd.closest('.output');\n",
       "if (outputEl) {{\n",
       "    x.observe(outputEl, {childList: true});\n",
       "}}\n",
       "\n",
       "                        })                };                });            </script>        </div>"
      ]
     },
     "metadata": {},
     "output_type": "display_data"
    },
    {
     "data": {
      "image/jpeg": "[encoded data removed]"
     },
     "metadata": {},
     "output_type": "display_data"
    }
   ],
   "source": [
    "# Посмотрим пропорцию годов - выберем круговую диаграмму \n",
    "fig = px.pie(values=salary_year.values, \n",
    "             names=salary_year.index, \n",
    "             color_discrete_sequence=px.colors.sequential.PuBu,\n",
    "             title= 'Выплаты зарплат по годам',\n",
    "             template='presentation'\n",
    "            )\n",
    "\n",
    "fig.update_traces(textinfo='label+percent+value', \n",
    "                  textfont_size=18,\n",
    "                  marker=dict(line=dict(color='lightskyblue', width=1)))\n",
    "\n",
    "\n",
    "fig.show('jpeg')\n",
    "#fig.write_html(\"data/plotly/002_salary_year_pie.html\")"
   ]
  },
  {
   "cell_type": "markdown",
   "id": "f4027330",
   "metadata": {},
   "source": [
    "<hr style=\"border-style: dashed;\">\n",
    "\n",
    "__Вывод:__   \n",
    "Как видим около половины у нас занимает 2022 год, затем идет 2021 и замыкает 2020.\n",
    "\n",
    "Могу предположить, что с 2020 года начался рост популярности профессий DS и начали массов набирать специалистов.\n",
    "<hr style=\"border-style: dashed;\">\n",
    "\n",
    "#### Общая выплаченная валовая сумма заработной платы (salary)    \n",
    "Данный столбец у нас также отражает зарплату, но здесь есть нюанс, он отражает зарплату в разных валютах. А валюты у нас храняться в категориальном столбце (salary_currency). "
   ]
  },
  {
   "cell_type": "code",
   "execution_count": 51,
   "id": "ee5b09fb",
   "metadata": {
    "ExecuteTime": {
     "end_time": "2023-08-31T13:40:14.620201Z",
     "start_time": "2023-08-31T13:40:14.555055Z"
    }
   },
   "outputs": [
    {
     "data": {
      "text/html": [
       "<div>\n",
       "<style scoped>\n",
       "    .dataframe tbody tr th:only-of-type {\n",
       "        vertical-align: middle;\n",
       "    }\n",
       "\n",
       "    .dataframe tbody tr th {\n",
       "        vertical-align: top;\n",
       "    }\n",
       "\n",
       "    .dataframe thead th {\n",
       "        text-align: right;\n",
       "    }\n",
       "</style>\n",
       "<table border=\"1\" class=\"dataframe\">\n",
       "  <thead>\n",
       "    <tr style=\"text-align: right;\">\n",
       "      <th></th>\n",
       "      <th>Размер зарплат</th>\n",
       "    </tr>\n",
       "  </thead>\n",
       "  <tbody>\n",
       "    <tr>\n",
       "      <th>count</th>\n",
       "      <td>565.00</td>\n",
       "    </tr>\n",
       "    <tr>\n",
       "      <th>mean</th>\n",
       "      <td>338115.99</td>\n",
       "    </tr>\n",
       "    <tr>\n",
       "      <th>std</th>\n",
       "      <td>1599878.79</td>\n",
       "    </tr>\n",
       "    <tr>\n",
       "      <th>min</th>\n",
       "      <td>4000.00</td>\n",
       "    </tr>\n",
       "    <tr>\n",
       "      <th>25%</th>\n",
       "      <td>67000.00</td>\n",
       "    </tr>\n",
       "    <tr>\n",
       "      <th>50%</th>\n",
       "      <td>110925.00</td>\n",
       "    </tr>\n",
       "    <tr>\n",
       "      <th>75%</th>\n",
       "      <td>165000.00</td>\n",
       "    </tr>\n",
       "    <tr>\n",
       "      <th>max</th>\n",
       "      <td>30400000.00</td>\n",
       "    </tr>\n",
       "  </tbody>\n",
       "</table>\n",
       "</div>"
      ],
      "text/plain": [
       "       Размер зарплат\n",
       "count          565.00\n",
       "mean        338115.99\n",
       "std        1599878.79\n",
       "min           4000.00\n",
       "25%          67000.00\n",
       "50%         110925.00\n",
       "75%         165000.00\n",
       "max       30400000.00"
      ]
     },
     "execution_count": 51,
     "metadata": {},
     "output_type": "execute_result"
    }
   ],
   "source": [
    "# Посмотрим числовые характеристики\n",
    "data_agg = data['salary'].describe().round(2).to_frame()\n",
    "data_agg.columns = ['Размер зарплат']\n",
    "data_agg"
   ]
  },
  {
   "cell_type": "code",
   "execution_count": 56,
   "id": "89c22cbb",
   "metadata": {
    "ExecuteTime": {
     "end_time": "2023-08-31T13:48:56.423103Z",
     "start_time": "2023-08-31T13:48:56.181956Z"
    },
    "scrolled": false
   },
   "outputs": [
    {
     "data": {
      "application/vnd.plotly.v1+json": {
       "config": {
        "plotlyServerURL": "https://plot.ly"
       },
       "data": [
        {
         "alignmentgroup": "True",
         "bingroup": "x",
         "hovertemplate": "salary=%{x}<br>count=%{y}<extra></extra>",
         "legendgroup": "",
         "marker": {
          "color": "lightskyblue",
          "pattern": {
           "shape": ""
          }
         },
         "name": "",
         "nbinsx": 100,
         "offsetgroup": "",
         "orientation": "v",
         "showlegend": false,
         "type": "histogram",
         "x": [
          70000,
          260000,
          85000,
          20000,
          150000,
          72000,
          190000,
          11000000,
          135000,
          125000,
          45000,
          3000000,
          35000,
          87000,
          85000,
          8000,
          4450000,
          100000,
          423000,
          56000,
          299000,
          450000,
          42000,
          98000,
          115000,
          325000,
          42000,
          720000,
          100000,
          157000,
          51999,
          70000,
          60000,
          450000,
          41000,
          65000,
          103000,
          250000,
          10000,
          138000,
          45760,
          70000,
          44000,
          106000,
          88000,
          14000,
          60000,
          188000,
          105000,
          61500,
          450000,
          91000,
          300000,
          48000,
          60000,
          130000,
          34000,
          118000,
          120000,
          138350,
          110000,
          130800,
          19000,
          412000,
          40000,
          55000,
          43200,
          190200,
          105000,
          80000,
          55000,
          37000,
          60000,
          150000,
          235000,
          45000,
          100000,
          400000,
          270000,
          80000,
          67000,
          140000,
          68000,
          40000,
          130000,
          110000,
          50000,
          110000,
          170000,
          80000,
          75000,
          65000,
          1450000,
          276000,
          2200000,
          120000,
          12000,
          450000,
          70000,
          81000,
          75000,
          150000,
          11000000,
          62000,
          73000,
          37456,
          235000,
          115000,
          150000,
          2250000,
          80000,
          82500,
          75000,
          12000,
          38400,
          225000,
          50000,
          34000,
          90000,
          200000,
          60000,
          200000,
          50000,
          80000,
          8760,
          151000,
          120000,
          700000,
          20000,
          3000000,
          100000,
          42000,
          38400,
          24000,
          100000,
          90000,
          7000000,
          8500000,
          220000,
          80000,
          135000,
          240000,
          150000,
          82500,
          100000,
          70000,
          53000,
          90000,
          153000,
          160000,
          168000,
          150000,
          95000,
          13400,
          144000,
          159500,
          160000,
          423000,
          120000,
          125000,
          230000,
          85000,
          24000,
          54000,
          110000,
          165000,
          80000,
          250000,
          55000,
          150000,
          170000,
          60000,
          60000,
          235000,
          51400,
          174000,
          58000,
          30400000,
          81000,
          420000,
          1672000,
          76760,
          22000,
          45000,
          12000,
          4000,
          50000,
          59000,
          65000,
          74000,
          152000,
          21844,
          18000,
          174000,
          120500,
          147000,
          9272,
          1799997,
          4000000,
          90000,
          52000,
          195000,
          32000,
          50000,
          160000,
          69600,
          200000,
          165000,
          20000,
          120000,
          21000,
          48000,
          48000,
          435000,
          21000,
          185000,
          180000,
          75000,
          140000,
          180000,
          85000,
          2500000,
          40900,
          225000,
          416000,
          110000,
          75000,
          135000,
          90000,
          1200000,
          256000,
          200000,
          200000,
          180000,
          110000,
          80000,
          39600,
          4000,
          1600000,
          130000,
          80000,
          110000,
          165000,
          1335000,
          52500,
          31000,
          108000,
          70000,
          170000,
          115000,
          90000,
          600000,
          2100000,
          93000,
          125000,
          147000,
          185000,
          120000,
          130000,
          54000,
          1250000,
          4900000,
          21600,
          160000,
          93150,
          111775,
          250000,
          55000,
          72500,
          102000,
          65000,
          85000,
          65720,
          100000,
          58000,
          55000,
          180000,
          50000,
          112000,
          100000,
          59000,
          105000,
          69999,
          7000000,
          87000,
          109000,
          43200,
          135000,
          155000,
          120600,
          130000,
          90000,
          170000,
          150000,
          102100,
          84900,
          136620,
          99360,
          90000,
          80000,
          146000,
          123000,
          40000,
          99000,
          116000,
          106260,
          126500,
          242000,
          200000,
          50000,
          30000,
          60000,
          40000,
          165220,
          35000,
          120160,
          90320,
          181940,
          132320,
          220110,
          160080,
          180000,
          120000,
          124190,
          130000,
          110000,
          170000,
          115500,
          112900,
          165400,
          132320,
          167000,
          243900,
          136600,
          109280,
          128875,
          93700,
          224000,
          167875,
          175000,
          156600,
          108800,
          95550,
          113000,
          135000,
          161342,
          137141,
          167000,
          60000,
          50000,
          150000,
          211500,
          192400,
          90700,
          130000,
          61300,
          160000,
          138600,
          136000,
          58000,
          135000,
          170000,
          189650,
          164996,
          50000,
          150000,
          132000,
          208775,
          147800,
          136994,
          101570,
          128875,
          93700,
          6000000,
          28500,
          164000,
          155000,
          95000,
          75000,
          120000,
          145000,
          105400,
          80000,
          90000,
          215300,
          158200,
          209100,
          154600,
          115934,
          81666,
          175000,
          75000,
          183600,
          40000,
          180000,
          55000,
          35000,
          60000,
          45000,
          60000,
          45000,
          260000,
          60000,
          63900,
          160000,
          112300,
          241000,
          159000,
          180000,
          80000,
          82900,
          100800,
          45000,
          140400,
          30000,
          40000,
          30000,
          80000,
          70000,
          80000,
          70000,
          60000,
          80000,
          40000,
          30000,
          75000,
          215300,
          70000,
          180000,
          20000,
          80000,
          100000,
          250000,
          120000,
          125000,
          240000,
          105000,
          80000,
          1400000,
          2400000,
          53000,
          100000,
          50000,
          1400000,
          148000,
          120000,
          144000,
          104890,
          100000,
          140000,
          135000,
          50000,
          220000,
          140000,
          70000,
          185100,
          220000,
          200000,
          120000,
          120000,
          65000,
          324000,
          216000,
          210000,
          120000,
          230000,
          100000,
          100000,
          29000,
          200000,
          75000,
          150000,
          100000,
          100000,
          153000,
          52800,
          165000,
          85000,
          66500,
          57000,
          30000,
          40000,
          121000,
          115000,
          120000,
          75000,
          59000,
          120000,
          157000,
          150000,
          90000,
          65000,
          65000,
          20000,
          48000,
          152500,
          62000,
          115000,
          380000,
          88000,
          10000,
          20000,
          405000,
          135000,
          177000,
          78000,
          100000,
          85000,
          75000,
          214000,
          192600,
          266400,
          213120,
          141300,
          102100,
          115934,
          81666,
          206699,
          99100,
          130000,
          110500,
          99050,
          160000,
          205300,
          176000,
          144000,
          200100,
          145000,
          70500,
          205300,
          140400,
          205300,
          184700,
          175100,
          140250,
          116150,
          54000,
          50000,
          80000,
          210000,
          69000,
          150075,
          25000,
          126500,
          106260,
          220110,
          160080,
          105000,
          110925,
          35000,
          60000,
          192564,
          144854,
          150000,
          150260,
          109280,
          160000,
          130000,
          67000,
          52000,
          154000,
          126000,
          129000,
          150000,
          200000
         ],
         "xaxis": "x",
         "yaxis": "y"
        },
        {
         "alignmentgroup": "True",
         "hovertemplate": "salary=%{x}<extra></extra>",
         "legendgroup": "",
         "marker": {
          "color": "lightskyblue"
         },
         "name": "",
         "notched": true,
         "offsetgroup": "",
         "showlegend": false,
         "type": "box",
         "x": [
          70000,
          260000,
          85000,
          20000,
          150000,
          72000,
          190000,
          11000000,
          135000,
          125000,
          45000,
          3000000,
          35000,
          87000,
          85000,
          8000,
          4450000,
          100000,
          423000,
          56000,
          299000,
          450000,
          42000,
          98000,
          115000,
          325000,
          42000,
          720000,
          100000,
          157000,
          51999,
          70000,
          60000,
          450000,
          41000,
          65000,
          103000,
          250000,
          10000,
          138000,
          45760,
          70000,
          44000,
          106000,
          88000,
          14000,
          60000,
          188000,
          105000,
          61500,
          450000,
          91000,
          300000,
          48000,
          60000,
          130000,
          34000,
          118000,
          120000,
          138350,
          110000,
          130800,
          19000,
          412000,
          40000,
          55000,
          43200,
          190200,
          105000,
          80000,
          55000,
          37000,
          60000,
          150000,
          235000,
          45000,
          100000,
          400000,
          270000,
          80000,
          67000,
          140000,
          68000,
          40000,
          130000,
          110000,
          50000,
          110000,
          170000,
          80000,
          75000,
          65000,
          1450000,
          276000,
          2200000,
          120000,
          12000,
          450000,
          70000,
          81000,
          75000,
          150000,
          11000000,
          62000,
          73000,
          37456,
          235000,
          115000,
          150000,
          2250000,
          80000,
          82500,
          75000,
          12000,
          38400,
          225000,
          50000,
          34000,
          90000,
          200000,
          60000,
          200000,
          50000,
          80000,
          8760,
          151000,
          120000,
          700000,
          20000,
          3000000,
          100000,
          42000,
          38400,
          24000,
          100000,
          90000,
          7000000,
          8500000,
          220000,
          80000,
          135000,
          240000,
          150000,
          82500,
          100000,
          70000,
          53000,
          90000,
          153000,
          160000,
          168000,
          150000,
          95000,
          13400,
          144000,
          159500,
          160000,
          423000,
          120000,
          125000,
          230000,
          85000,
          24000,
          54000,
          110000,
          165000,
          80000,
          250000,
          55000,
          150000,
          170000,
          60000,
          60000,
          235000,
          51400,
          174000,
          58000,
          30400000,
          81000,
          420000,
          1672000,
          76760,
          22000,
          45000,
          12000,
          4000,
          50000,
          59000,
          65000,
          74000,
          152000,
          21844,
          18000,
          174000,
          120500,
          147000,
          9272,
          1799997,
          4000000,
          90000,
          52000,
          195000,
          32000,
          50000,
          160000,
          69600,
          200000,
          165000,
          20000,
          120000,
          21000,
          48000,
          48000,
          435000,
          21000,
          185000,
          180000,
          75000,
          140000,
          180000,
          85000,
          2500000,
          40900,
          225000,
          416000,
          110000,
          75000,
          135000,
          90000,
          1200000,
          256000,
          200000,
          200000,
          180000,
          110000,
          80000,
          39600,
          4000,
          1600000,
          130000,
          80000,
          110000,
          165000,
          1335000,
          52500,
          31000,
          108000,
          70000,
          170000,
          115000,
          90000,
          600000,
          2100000,
          93000,
          125000,
          147000,
          185000,
          120000,
          130000,
          54000,
          1250000,
          4900000,
          21600,
          160000,
          93150,
          111775,
          250000,
          55000,
          72500,
          102000,
          65000,
          85000,
          65720,
          100000,
          58000,
          55000,
          180000,
          50000,
          112000,
          100000,
          59000,
          105000,
          69999,
          7000000,
          87000,
          109000,
          43200,
          135000,
          155000,
          120600,
          130000,
          90000,
          170000,
          150000,
          102100,
          84900,
          136620,
          99360,
          90000,
          80000,
          146000,
          123000,
          40000,
          99000,
          116000,
          106260,
          126500,
          242000,
          200000,
          50000,
          30000,
          60000,
          40000,
          165220,
          35000,
          120160,
          90320,
          181940,
          132320,
          220110,
          160080,
          180000,
          120000,
          124190,
          130000,
          110000,
          170000,
          115500,
          112900,
          165400,
          132320,
          167000,
          243900,
          136600,
          109280,
          128875,
          93700,
          224000,
          167875,
          175000,
          156600,
          108800,
          95550,
          113000,
          135000,
          161342,
          137141,
          167000,
          60000,
          50000,
          150000,
          211500,
          192400,
          90700,
          130000,
          61300,
          160000,
          138600,
          136000,
          58000,
          135000,
          170000,
          189650,
          164996,
          50000,
          150000,
          132000,
          208775,
          147800,
          136994,
          101570,
          128875,
          93700,
          6000000,
          28500,
          164000,
          155000,
          95000,
          75000,
          120000,
          145000,
          105400,
          80000,
          90000,
          215300,
          158200,
          209100,
          154600,
          115934,
          81666,
          175000,
          75000,
          183600,
          40000,
          180000,
          55000,
          35000,
          60000,
          45000,
          60000,
          45000,
          260000,
          60000,
          63900,
          160000,
          112300,
          241000,
          159000,
          180000,
          80000,
          82900,
          100800,
          45000,
          140400,
          30000,
          40000,
          30000,
          80000,
          70000,
          80000,
          70000,
          60000,
          80000,
          40000,
          30000,
          75000,
          215300,
          70000,
          180000,
          20000,
          80000,
          100000,
          250000,
          120000,
          125000,
          240000,
          105000,
          80000,
          1400000,
          2400000,
          53000,
          100000,
          50000,
          1400000,
          148000,
          120000,
          144000,
          104890,
          100000,
          140000,
          135000,
          50000,
          220000,
          140000,
          70000,
          185100,
          220000,
          200000,
          120000,
          120000,
          65000,
          324000,
          216000,
          210000,
          120000,
          230000,
          100000,
          100000,
          29000,
          200000,
          75000,
          150000,
          100000,
          100000,
          153000,
          52800,
          165000,
          85000,
          66500,
          57000,
          30000,
          40000,
          121000,
          115000,
          120000,
          75000,
          59000,
          120000,
          157000,
          150000,
          90000,
          65000,
          65000,
          20000,
          48000,
          152500,
          62000,
          115000,
          380000,
          88000,
          10000,
          20000,
          405000,
          135000,
          177000,
          78000,
          100000,
          85000,
          75000,
          214000,
          192600,
          266400,
          213120,
          141300,
          102100,
          115934,
          81666,
          206699,
          99100,
          130000,
          110500,
          99050,
          160000,
          205300,
          176000,
          144000,
          200100,
          145000,
          70500,
          205300,
          140400,
          205300,
          184700,
          175100,
          140250,
          116150,
          54000,
          50000,
          80000,
          210000,
          69000,
          150075,
          25000,
          126500,
          106260,
          220110,
          160080,
          105000,
          110925,
          35000,
          60000,
          192564,
          144854,
          150000,
          150260,
          109280,
          160000,
          130000,
          67000,
          52000,
          154000,
          126000,
          129000,
          150000,
          200000
         ],
         "xaxis": "x2",
         "yaxis": "y2"
        }
       ],
       "layout": {
        "annotations": [
         {
          "showarrow": false,
          "text": "mean of salary - 338116",
          "x": 338115.98584070796,
          "xanchor": "left",
          "xref": "x",
          "y": 1,
          "yanchor": "top",
          "yref": "y domain"
         },
         {
          "showarrow": false,
          "text": "mean of salary - 338116",
          "x": 338115.98584070796,
          "xanchor": "left",
          "xref": "x2",
          "y": 1,
          "yanchor": "top",
          "yref": "y2 domain"
         }
        ],
        "barmode": "relative",
        "height": 700,
        "legend": {
         "tracegroupgap": 0
        },
        "shapes": [
         {
          "line": {
           "color": "green",
           "dash": "dash",
           "width": 1
          },
          "type": "line",
          "x0": 338115.98584070796,
          "x1": 338115.98584070796,
          "xref": "x",
          "y0": 0,
          "y1": 1,
          "yref": "y domain"
         },
         {
          "line": {
           "color": "green",
           "dash": "dash",
           "width": 1
          },
          "type": "line",
          "x0": 338115.98584070796,
          "x1": 338115.98584070796,
          "xref": "x2",
          "y0": 0,
          "y1": 1,
          "yref": "y2 domain"
         }
        ],
        "template": {
         "data": {
          "bar": [
           {
            "error_x": {
             "color": "#2a3f5f"
            },
            "error_y": {
             "color": "#2a3f5f"
            },
            "marker": {
             "line": {
              "color": "#E5ECF6",
              "width": 0.5
             },
             "pattern": {
              "fillmode": "overlay",
              "size": 10,
              "solidity": 0.2
             }
            },
            "type": "bar"
           }
          ],
          "barpolar": [
           {
            "marker": {
             "line": {
              "color": "#E5ECF6",
              "width": 0.5
             },
             "pattern": {
              "fillmode": "overlay",
              "size": 10,
              "solidity": 0.2
             }
            },
            "type": "barpolar"
           }
          ],
          "carpet": [
           {
            "aaxis": {
             "endlinecolor": "#2a3f5f",
             "gridcolor": "white",
             "linecolor": "white",
             "minorgridcolor": "white",
             "startlinecolor": "#2a3f5f"
            },
            "baxis": {
             "endlinecolor": "#2a3f5f",
             "gridcolor": "white",
             "linecolor": "white",
             "minorgridcolor": "white",
             "startlinecolor": "#2a3f5f"
            },
            "type": "carpet"
           }
          ],
          "choropleth": [
           {
            "colorbar": {
             "outlinewidth": 0,
             "ticks": ""
            },
            "type": "choropleth"
           }
          ],
          "contour": [
           {
            "colorbar": {
             "outlinewidth": 0,
             "ticks": ""
            },
            "colorscale": [
             [
              0,
              "#0d0887"
             ],
             [
              0.1111111111111111,
              "#46039f"
             ],
             [
              0.2222222222222222,
              "#7201a8"
             ],
             [
              0.3333333333333333,
              "#9c179e"
             ],
             [
              0.4444444444444444,
              "#bd3786"
             ],
             [
              0.5555555555555556,
              "#d8576b"
             ],
             [
              0.6666666666666666,
              "#ed7953"
             ],
             [
              0.7777777777777778,
              "#fb9f3a"
             ],
             [
              0.8888888888888888,
              "#fdca26"
             ],
             [
              1,
              "#f0f921"
             ]
            ],
            "type": "contour"
           }
          ],
          "contourcarpet": [
           {
            "colorbar": {
             "outlinewidth": 0,
             "ticks": ""
            },
            "type": "contourcarpet"
           }
          ],
          "heatmap": [
           {
            "colorbar": {
             "outlinewidth": 0,
             "ticks": ""
            },
            "colorscale": [
             [
              0,
              "#0d0887"
             ],
             [
              0.1111111111111111,
              "#46039f"
             ],
             [
              0.2222222222222222,
              "#7201a8"
             ],
             [
              0.3333333333333333,
              "#9c179e"
             ],
             [
              0.4444444444444444,
              "#bd3786"
             ],
             [
              0.5555555555555556,
              "#d8576b"
             ],
             [
              0.6666666666666666,
              "#ed7953"
             ],
             [
              0.7777777777777778,
              "#fb9f3a"
             ],
             [
              0.8888888888888888,
              "#fdca26"
             ],
             [
              1,
              "#f0f921"
             ]
            ],
            "type": "heatmap"
           }
          ],
          "heatmapgl": [
           {
            "colorbar": {
             "outlinewidth": 0,
             "ticks": ""
            },
            "colorscale": [
             [
              0,
              "#0d0887"
             ],
             [
              0.1111111111111111,
              "#46039f"
             ],
             [
              0.2222222222222222,
              "#7201a8"
             ],
             [
              0.3333333333333333,
              "#9c179e"
             ],
             [
              0.4444444444444444,
              "#bd3786"
             ],
             [
              0.5555555555555556,
              "#d8576b"
             ],
             [
              0.6666666666666666,
              "#ed7953"
             ],
             [
              0.7777777777777778,
              "#fb9f3a"
             ],
             [
              0.8888888888888888,
              "#fdca26"
             ],
             [
              1,
              "#f0f921"
             ]
            ],
            "type": "heatmapgl"
           }
          ],
          "histogram": [
           {
            "marker": {
             "pattern": {
              "fillmode": "overlay",
              "size": 10,
              "solidity": 0.2
             }
            },
            "type": "histogram"
           }
          ],
          "histogram2d": [
           {
            "colorbar": {
             "outlinewidth": 0,
             "ticks": ""
            },
            "colorscale": [
             [
              0,
              "#0d0887"
             ],
             [
              0.1111111111111111,
              "#46039f"
             ],
             [
              0.2222222222222222,
              "#7201a8"
             ],
             [
              0.3333333333333333,
              "#9c179e"
             ],
             [
              0.4444444444444444,
              "#bd3786"
             ],
             [
              0.5555555555555556,
              "#d8576b"
             ],
             [
              0.6666666666666666,
              "#ed7953"
             ],
             [
              0.7777777777777778,
              "#fb9f3a"
             ],
             [
              0.8888888888888888,
              "#fdca26"
             ],
             [
              1,
              "#f0f921"
             ]
            ],
            "type": "histogram2d"
           }
          ],
          "histogram2dcontour": [
           {
            "colorbar": {
             "outlinewidth": 0,
             "ticks": ""
            },
            "colorscale": [
             [
              0,
              "#0d0887"
             ],
             [
              0.1111111111111111,
              "#46039f"
             ],
             [
              0.2222222222222222,
              "#7201a8"
             ],
             [
              0.3333333333333333,
              "#9c179e"
             ],
             [
              0.4444444444444444,
              "#bd3786"
             ],
             [
              0.5555555555555556,
              "#d8576b"
             ],
             [
              0.6666666666666666,
              "#ed7953"
             ],
             [
              0.7777777777777778,
              "#fb9f3a"
             ],
             [
              0.8888888888888888,
              "#fdca26"
             ],
             [
              1,
              "#f0f921"
             ]
            ],
            "type": "histogram2dcontour"
           }
          ],
          "mesh3d": [
           {
            "colorbar": {
             "outlinewidth": 0,
             "ticks": ""
            },
            "type": "mesh3d"
           }
          ],
          "parcoords": [
           {
            "line": {
             "colorbar": {
              "outlinewidth": 0,
              "ticks": ""
             }
            },
            "type": "parcoords"
           }
          ],
          "pie": [
           {
            "automargin": true,
            "type": "pie"
           }
          ],
          "scatter": [
           {
            "fillpattern": {
             "fillmode": "overlay",
             "size": 10,
             "solidity": 0.2
            },
            "type": "scatter"
           }
          ],
          "scatter3d": [
           {
            "line": {
             "colorbar": {
              "outlinewidth": 0,
              "ticks": ""
             }
            },
            "marker": {
             "colorbar": {
              "outlinewidth": 0,
              "ticks": ""
             }
            },
            "type": "scatter3d"
           }
          ],
          "scattercarpet": [
           {
            "marker": {
             "colorbar": {
              "outlinewidth": 0,
              "ticks": ""
             }
            },
            "type": "scattercarpet"
           }
          ],
          "scattergeo": [
           {
            "marker": {
             "colorbar": {
              "outlinewidth": 0,
              "ticks": ""
             }
            },
            "type": "scattergeo"
           }
          ],
          "scattergl": [
           {
            "marker": {
             "colorbar": {
              "outlinewidth": 0,
              "ticks": ""
             }
            },
            "type": "scattergl"
           }
          ],
          "scattermapbox": [
           {
            "marker": {
             "colorbar": {
              "outlinewidth": 0,
              "ticks": ""
             }
            },
            "type": "scattermapbox"
           }
          ],
          "scatterpolar": [
           {
            "marker": {
             "colorbar": {
              "outlinewidth": 0,
              "ticks": ""
             }
            },
            "type": "scatterpolar"
           }
          ],
          "scatterpolargl": [
           {
            "marker": {
             "colorbar": {
              "outlinewidth": 0,
              "ticks": ""
             }
            },
            "type": "scatterpolargl"
           }
          ],
          "scatterternary": [
           {
            "marker": {
             "colorbar": {
              "outlinewidth": 0,
              "ticks": ""
             }
            },
            "type": "scatterternary"
           }
          ],
          "surface": [
           {
            "colorbar": {
             "outlinewidth": 0,
             "ticks": ""
            },
            "colorscale": [
             [
              0,
              "#0d0887"
             ],
             [
              0.1111111111111111,
              "#46039f"
             ],
             [
              0.2222222222222222,
              "#7201a8"
             ],
             [
              0.3333333333333333,
              "#9c179e"
             ],
             [
              0.4444444444444444,
              "#bd3786"
             ],
             [
              0.5555555555555556,
              "#d8576b"
             ],
             [
              0.6666666666666666,
              "#ed7953"
             ],
             [
              0.7777777777777778,
              "#fb9f3a"
             ],
             [
              0.8888888888888888,
              "#fdca26"
             ],
             [
              1,
              "#f0f921"
             ]
            ],
            "type": "surface"
           }
          ],
          "table": [
           {
            "cells": {
             "fill": {
              "color": "#EBF0F8"
             },
             "line": {
              "color": "white"
             }
            },
            "header": {
             "fill": {
              "color": "#C8D4E3"
             },
             "line": {
              "color": "white"
             }
            },
            "type": "table"
           }
          ]
         },
         "layout": {
          "annotationdefaults": {
           "arrowcolor": "#2a3f5f",
           "arrowhead": 0,
           "arrowwidth": 1
          },
          "autotypenumbers": "strict",
          "coloraxis": {
           "colorbar": {
            "outlinewidth": 0,
            "ticks": ""
           }
          },
          "colorscale": {
           "diverging": [
            [
             0,
             "#8e0152"
            ],
            [
             0.1,
             "#c51b7d"
            ],
            [
             0.2,
             "#de77ae"
            ],
            [
             0.3,
             "#f1b6da"
            ],
            [
             0.4,
             "#fde0ef"
            ],
            [
             0.5,
             "#f7f7f7"
            ],
            [
             0.6,
             "#e6f5d0"
            ],
            [
             0.7,
             "#b8e186"
            ],
            [
             0.8,
             "#7fbc41"
            ],
            [
             0.9,
             "#4d9221"
            ],
            [
             1,
             "#276419"
            ]
           ],
           "sequential": [
            [
             0,
             "#0d0887"
            ],
            [
             0.1111111111111111,
             "#46039f"
            ],
            [
             0.2222222222222222,
             "#7201a8"
            ],
            [
             0.3333333333333333,
             "#9c179e"
            ],
            [
             0.4444444444444444,
             "#bd3786"
            ],
            [
             0.5555555555555556,
             "#d8576b"
            ],
            [
             0.6666666666666666,
             "#ed7953"
            ],
            [
             0.7777777777777778,
             "#fb9f3a"
            ],
            [
             0.8888888888888888,
             "#fdca26"
            ],
            [
             1,
             "#f0f921"
            ]
           ],
           "sequentialminus": [
            [
             0,
             "#0d0887"
            ],
            [
             0.1111111111111111,
             "#46039f"
            ],
            [
             0.2222222222222222,
             "#7201a8"
            ],
            [
             0.3333333333333333,
             "#9c179e"
            ],
            [
             0.4444444444444444,
             "#bd3786"
            ],
            [
             0.5555555555555556,
             "#d8576b"
            ],
            [
             0.6666666666666666,
             "#ed7953"
            ],
            [
             0.7777777777777778,
             "#fb9f3a"
            ],
            [
             0.8888888888888888,
             "#fdca26"
            ],
            [
             1,
             "#f0f921"
            ]
           ]
          },
          "colorway": [
           "#636efa",
           "#EF553B",
           "#00cc96",
           "#ab63fa",
           "#FFA15A",
           "#19d3f3",
           "#FF6692",
           "#B6E880",
           "#FF97FF",
           "#FECB52"
          ],
          "font": {
           "color": "#2a3f5f"
          },
          "geo": {
           "bgcolor": "white",
           "lakecolor": "white",
           "landcolor": "#E5ECF6",
           "showlakes": true,
           "showland": true,
           "subunitcolor": "white"
          },
          "hoverlabel": {
           "align": "left"
          },
          "hovermode": "closest",
          "mapbox": {
           "style": "light"
          },
          "paper_bgcolor": "white",
          "plot_bgcolor": "#E5ECF6",
          "polar": {
           "angularaxis": {
            "gridcolor": "white",
            "linecolor": "white",
            "ticks": ""
           },
           "bgcolor": "#E5ECF6",
           "radialaxis": {
            "gridcolor": "white",
            "linecolor": "white",
            "ticks": ""
           }
          },
          "scene": {
           "xaxis": {
            "backgroundcolor": "#E5ECF6",
            "gridcolor": "white",
            "gridwidth": 2,
            "linecolor": "white",
            "showbackground": true,
            "ticks": "",
            "zerolinecolor": "white"
           },
           "yaxis": {
            "backgroundcolor": "#E5ECF6",
            "gridcolor": "white",
            "gridwidth": 2,
            "linecolor": "white",
            "showbackground": true,
            "ticks": "",
            "zerolinecolor": "white"
           },
           "zaxis": {
            "backgroundcolor": "#E5ECF6",
            "gridcolor": "white",
            "gridwidth": 2,
            "linecolor": "white",
            "showbackground": true,
            "ticks": "",
            "zerolinecolor": "white"
           }
          },
          "shapedefaults": {
           "line": {
            "color": "#2a3f5f"
           }
          },
          "ternary": {
           "aaxis": {
            "gridcolor": "white",
            "linecolor": "white",
            "ticks": ""
           },
           "baxis": {
            "gridcolor": "white",
            "linecolor": "white",
            "ticks": ""
           },
           "bgcolor": "#E5ECF6",
           "caxis": {
            "gridcolor": "white",
            "linecolor": "white",
            "ticks": ""
           }
          },
          "title": {
           "x": 0.05
          },
          "xaxis": {
           "automargin": true,
           "gridcolor": "white",
           "linecolor": "white",
           "ticks": "",
           "title": {
            "standoff": 15
           },
           "zerolinecolor": "white",
           "zerolinewidth": 2
          },
          "yaxis": {
           "automargin": true,
           "gridcolor": "white",
           "linecolor": "white",
           "ticks": "",
           "title": {
            "standoff": 15
           },
           "zerolinecolor": "white",
           "zerolinewidth": 2
          }
         }
        },
        "title": {
         "text": "Распределение зарплат DS"
        },
        "width": 1000,
        "xaxis": {
         "anchor": "y",
         "domain": [
          0,
          1
         ],
         "title": {
          "text": "salary"
         }
        },
        "xaxis2": {
         "anchor": "y2",
         "domain": [
          0,
          1
         ],
         "matches": "x",
         "showgrid": true,
         "showticklabels": false
        },
        "yaxis": {
         "anchor": "x",
         "domain": [
          0,
          0.8316
         ],
         "title": {
          "text": "count"
         }
        },
        "yaxis2": {
         "anchor": "x2",
         "domain": [
          0.8416,
          1
         ],
         "matches": "y2",
         "showgrid": false,
         "showline": false,
         "showticklabels": false,
         "ticks": ""
        }
       }
      },
      "text/html": [
       "<div>                            <div id=\"e79d12b6-059b-43ce-b1c5-9ac0f6e15e66\" class=\"plotly-graph-div\" style=\"height:700px; width:1000px;\"></div>            <script type=\"text/javascript\">                require([\"plotly\"], function(Plotly) {                    window.PLOTLYENV=window.PLOTLYENV || {};                                    if (document.getElementById(\"e79d12b6-059b-43ce-b1c5-9ac0f6e15e66\")) {                    Plotly.newPlot(                        \"e79d12b6-059b-43ce-b1c5-9ac0f6e15e66\",                        [{\"alignmentgroup\":\"True\",\"bingroup\":\"x\",\"hovertemplate\":\"salary=%{x}\\u003cbr\\u003ecount=%{y}\\u003cextra\\u003e\\u003c\\u002fextra\\u003e\",\"legendgroup\":\"\",\"marker\":{\"color\":\"lightskyblue\",\"pattern\":{\"shape\":\"\"}},\"name\":\"\",\"nbinsx\":100,\"offsetgroup\":\"\",\"orientation\":\"v\",\"showlegend\":false,\"x\":[70000,260000,85000,20000,150000,72000,190000,11000000,135000,125000,45000,3000000,35000,87000,85000,8000,4450000,100000,423000,56000,299000,450000,42000,98000,115000,325000,42000,720000,100000,157000,51999,70000,60000,450000,41000,65000,103000,250000,10000,138000,45760,70000,44000,106000,88000,14000,60000,188000,105000,61500,450000,91000,300000,48000,60000,130000,34000,118000,120000,138350,110000,130800,19000,412000,40000,55000,43200,190200,105000,80000,55000,37000,60000,150000,235000,45000,100000,400000,270000,80000,67000,140000,68000,40000,130000,110000,50000,110000,170000,80000,75000,65000,1450000,276000,2200000,120000,12000,450000,70000,81000,75000,150000,11000000,62000,73000,37456,235000,115000,150000,2250000,80000,82500,75000,12000,38400,225000,50000,34000,90000,200000,60000,200000,50000,80000,8760,151000,120000,700000,20000,3000000,100000,42000,38400,24000,100000,90000,7000000,8500000,220000,80000,135000,240000,150000,82500,100000,70000,53000,90000,153000,160000,168000,150000,95000,13400,144000,159500,160000,423000,120000,125000,230000,85000,24000,54000,110000,165000,80000,250000,55000,150000,170000,60000,60000,235000,51400,174000,58000,30400000,81000,420000,1672000,76760,22000,45000,12000,4000,50000,59000,65000,74000,152000,21844,18000,174000,120500,147000,9272,1799997,4000000,90000,52000,195000,32000,50000,160000,69600,200000,165000,20000,120000,21000,48000,48000,435000,21000,185000,180000,75000,140000,180000,85000,2500000,40900,225000,416000,110000,75000,135000,90000,1200000,256000,200000,200000,180000,110000,80000,39600,4000,1600000,130000,80000,110000,165000,1335000,52500,31000,108000,70000,170000,115000,90000,600000,2100000,93000,125000,147000,185000,120000,130000,54000,1250000,4900000,21600,160000,93150,111775,250000,55000,72500,102000,65000,85000,65720,100000,58000,55000,180000,50000,112000,100000,59000,105000,69999,7000000,87000,109000,43200,135000,155000,120600,130000,90000,170000,150000,102100,84900,136620,99360,90000,80000,146000,123000,40000,99000,116000,106260,126500,242000,200000,50000,30000,60000,40000,165220,35000,120160,90320,181940,132320,220110,160080,180000,120000,124190,130000,110000,170000,115500,112900,165400,132320,167000,243900,136600,109280,128875,93700,224000,167875,175000,156600,108800,95550,113000,135000,161342,137141,167000,60000,50000,150000,211500,192400,90700,130000,61300,160000,138600,136000,58000,135000,170000,189650,164996,50000,150000,132000,208775,147800,136994,101570,128875,93700,6000000,28500,164000,155000,95000,75000,120000,145000,105400,80000,90000,215300,158200,209100,154600,115934,81666,175000,75000,183600,40000,180000,55000,35000,60000,45000,60000,45000,260000,60000,63900,160000,112300,241000,159000,180000,80000,82900,100800,45000,140400,30000,40000,30000,80000,70000,80000,70000,60000,80000,40000,30000,75000,215300,70000,180000,20000,80000,100000,250000,120000,125000,240000,105000,80000,1400000,2400000,53000,100000,50000,1400000,148000,120000,144000,104890,100000,140000,135000,50000,220000,140000,70000,185100,220000,200000,120000,120000,65000,324000,216000,210000,120000,230000,100000,100000,29000,200000,75000,150000,100000,100000,153000,52800,165000,85000,66500,57000,30000,40000,121000,115000,120000,75000,59000,120000,157000,150000,90000,65000,65000,20000,48000,152500,62000,115000,380000,88000,10000,20000,405000,135000,177000,78000,100000,85000,75000,214000,192600,266400,213120,141300,102100,115934,81666,206699,99100,130000,110500,99050,160000,205300,176000,144000,200100,145000,70500,205300,140400,205300,184700,175100,140250,116150,54000,50000,80000,210000,69000,150075,25000,126500,106260,220110,160080,105000,110925,35000,60000,192564,144854,150000,150260,109280,160000,130000,67000,52000,154000,126000,129000,150000,200000],\"xaxis\":\"x\",\"yaxis\":\"y\",\"type\":\"histogram\"},{\"alignmentgroup\":\"True\",\"hovertemplate\":\"salary=%{x}\\u003cextra\\u003e\\u003c\\u002fextra\\u003e\",\"legendgroup\":\"\",\"marker\":{\"color\":\"lightskyblue\"},\"name\":\"\",\"notched\":true,\"offsetgroup\":\"\",\"showlegend\":false,\"x\":[70000,260000,85000,20000,150000,72000,190000,11000000,135000,125000,45000,3000000,35000,87000,85000,8000,4450000,100000,423000,56000,299000,450000,42000,98000,115000,325000,42000,720000,100000,157000,51999,70000,60000,450000,41000,65000,103000,250000,10000,138000,45760,70000,44000,106000,88000,14000,60000,188000,105000,61500,450000,91000,300000,48000,60000,130000,34000,118000,120000,138350,110000,130800,19000,412000,40000,55000,43200,190200,105000,80000,55000,37000,60000,150000,235000,45000,100000,400000,270000,80000,67000,140000,68000,40000,130000,110000,50000,110000,170000,80000,75000,65000,1450000,276000,2200000,120000,12000,450000,70000,81000,75000,150000,11000000,62000,73000,37456,235000,115000,150000,2250000,80000,82500,75000,12000,38400,225000,50000,34000,90000,200000,60000,200000,50000,80000,8760,151000,120000,700000,20000,3000000,100000,42000,38400,24000,100000,90000,7000000,8500000,220000,80000,135000,240000,150000,82500,100000,70000,53000,90000,153000,160000,168000,150000,95000,13400,144000,159500,160000,423000,120000,125000,230000,85000,24000,54000,110000,165000,80000,250000,55000,150000,170000,60000,60000,235000,51400,174000,58000,30400000,81000,420000,1672000,76760,22000,45000,12000,4000,50000,59000,65000,74000,152000,21844,18000,174000,120500,147000,9272,1799997,4000000,90000,52000,195000,32000,50000,160000,69600,200000,165000,20000,120000,21000,48000,48000,435000,21000,185000,180000,75000,140000,180000,85000,2500000,40900,225000,416000,110000,75000,135000,90000,1200000,256000,200000,200000,180000,110000,80000,39600,4000,1600000,130000,80000,110000,165000,1335000,52500,31000,108000,70000,170000,115000,90000,600000,2100000,93000,125000,147000,185000,120000,130000,54000,1250000,4900000,21600,160000,93150,111775,250000,55000,72500,102000,65000,85000,65720,100000,58000,55000,180000,50000,112000,100000,59000,105000,69999,7000000,87000,109000,43200,135000,155000,120600,130000,90000,170000,150000,102100,84900,136620,99360,90000,80000,146000,123000,40000,99000,116000,106260,126500,242000,200000,50000,30000,60000,40000,165220,35000,120160,90320,181940,132320,220110,160080,180000,120000,124190,130000,110000,170000,115500,112900,165400,132320,167000,243900,136600,109280,128875,93700,224000,167875,175000,156600,108800,95550,113000,135000,161342,137141,167000,60000,50000,150000,211500,192400,90700,130000,61300,160000,138600,136000,58000,135000,170000,189650,164996,50000,150000,132000,208775,147800,136994,101570,128875,93700,6000000,28500,164000,155000,95000,75000,120000,145000,105400,80000,90000,215300,158200,209100,154600,115934,81666,175000,75000,183600,40000,180000,55000,35000,60000,45000,60000,45000,260000,60000,63900,160000,112300,241000,159000,180000,80000,82900,100800,45000,140400,30000,40000,30000,80000,70000,80000,70000,60000,80000,40000,30000,75000,215300,70000,180000,20000,80000,100000,250000,120000,125000,240000,105000,80000,1400000,2400000,53000,100000,50000,1400000,148000,120000,144000,104890,100000,140000,135000,50000,220000,140000,70000,185100,220000,200000,120000,120000,65000,324000,216000,210000,120000,230000,100000,100000,29000,200000,75000,150000,100000,100000,153000,52800,165000,85000,66500,57000,30000,40000,121000,115000,120000,75000,59000,120000,157000,150000,90000,65000,65000,20000,48000,152500,62000,115000,380000,88000,10000,20000,405000,135000,177000,78000,100000,85000,75000,214000,192600,266400,213120,141300,102100,115934,81666,206699,99100,130000,110500,99050,160000,205300,176000,144000,200100,145000,70500,205300,140400,205300,184700,175100,140250,116150,54000,50000,80000,210000,69000,150075,25000,126500,106260,220110,160080,105000,110925,35000,60000,192564,144854,150000,150260,109280,160000,130000,67000,52000,154000,126000,129000,150000,200000],\"xaxis\":\"x2\",\"yaxis\":\"y2\",\"type\":\"box\"}],                        {\"template\":{\"data\":{\"histogram2dcontour\":[{\"type\":\"histogram2dcontour\",\"colorbar\":{\"outlinewidth\":0,\"ticks\":\"\"},\"colorscale\":[[0.0,\"#0d0887\"],[0.1111111111111111,\"#46039f\"],[0.2222222222222222,\"#7201a8\"],[0.3333333333333333,\"#9c179e\"],[0.4444444444444444,\"#bd3786\"],[0.5555555555555556,\"#d8576b\"],[0.6666666666666666,\"#ed7953\"],[0.7777777777777778,\"#fb9f3a\"],[0.8888888888888888,\"#fdca26\"],[1.0,\"#f0f921\"]]}],\"choropleth\":[{\"type\":\"choropleth\",\"colorbar\":{\"outlinewidth\":0,\"ticks\":\"\"}}],\"histogram2d\":[{\"type\":\"histogram2d\",\"colorbar\":{\"outlinewidth\":0,\"ticks\":\"\"},\"colorscale\":[[0.0,\"#0d0887\"],[0.1111111111111111,\"#46039f\"],[0.2222222222222222,\"#7201a8\"],[0.3333333333333333,\"#9c179e\"],[0.4444444444444444,\"#bd3786\"],[0.5555555555555556,\"#d8576b\"],[0.6666666666666666,\"#ed7953\"],[0.7777777777777778,\"#fb9f3a\"],[0.8888888888888888,\"#fdca26\"],[1.0,\"#f0f921\"]]}],\"heatmap\":[{\"type\":\"heatmap\",\"colorbar\":{\"outlinewidth\":0,\"ticks\":\"\"},\"colorscale\":[[0.0,\"#0d0887\"],[0.1111111111111111,\"#46039f\"],[0.2222222222222222,\"#7201a8\"],[0.3333333333333333,\"#9c179e\"],[0.4444444444444444,\"#bd3786\"],[0.5555555555555556,\"#d8576b\"],[0.6666666666666666,\"#ed7953\"],[0.7777777777777778,\"#fb9f3a\"],[0.8888888888888888,\"#fdca26\"],[1.0,\"#f0f921\"]]}],\"heatmapgl\":[{\"type\":\"heatmapgl\",\"colorbar\":{\"outlinewidth\":0,\"ticks\":\"\"},\"colorscale\":[[0.0,\"#0d0887\"],[0.1111111111111111,\"#46039f\"],[0.2222222222222222,\"#7201a8\"],[0.3333333333333333,\"#9c179e\"],[0.4444444444444444,\"#bd3786\"],[0.5555555555555556,\"#d8576b\"],[0.6666666666666666,\"#ed7953\"],[0.7777777777777778,\"#fb9f3a\"],[0.8888888888888888,\"#fdca26\"],[1.0,\"#f0f921\"]]}],\"contourcarpet\":[{\"type\":\"contourcarpet\",\"colorbar\":{\"outlinewidth\":0,\"ticks\":\"\"}}],\"contour\":[{\"type\":\"contour\",\"colorbar\":{\"outlinewidth\":0,\"ticks\":\"\"},\"colorscale\":[[0.0,\"#0d0887\"],[0.1111111111111111,\"#46039f\"],[0.2222222222222222,\"#7201a8\"],[0.3333333333333333,\"#9c179e\"],[0.4444444444444444,\"#bd3786\"],[0.5555555555555556,\"#d8576b\"],[0.6666666666666666,\"#ed7953\"],[0.7777777777777778,\"#fb9f3a\"],[0.8888888888888888,\"#fdca26\"],[1.0,\"#f0f921\"]]}],\"surface\":[{\"type\":\"surface\",\"colorbar\":{\"outlinewidth\":0,\"ticks\":\"\"},\"colorscale\":[[0.0,\"#0d0887\"],[0.1111111111111111,\"#46039f\"],[0.2222222222222222,\"#7201a8\"],[0.3333333333333333,\"#9c179e\"],[0.4444444444444444,\"#bd3786\"],[0.5555555555555556,\"#d8576b\"],[0.6666666666666666,\"#ed7953\"],[0.7777777777777778,\"#fb9f3a\"],[0.8888888888888888,\"#fdca26\"],[1.0,\"#f0f921\"]]}],\"mesh3d\":[{\"type\":\"mesh3d\",\"colorbar\":{\"outlinewidth\":0,\"ticks\":\"\"}}],\"scatter\":[{\"fillpattern\":{\"fillmode\":\"overlay\",\"size\":10,\"solidity\":0.2},\"type\":\"scatter\"}],\"parcoords\":[{\"type\":\"parcoords\",\"line\":{\"colorbar\":{\"outlinewidth\":0,\"ticks\":\"\"}}}],\"scatterpolargl\":[{\"type\":\"scatterpolargl\",\"marker\":{\"colorbar\":{\"outlinewidth\":0,\"ticks\":\"\"}}}],\"bar\":[{\"error_x\":{\"color\":\"#2a3f5f\"},\"error_y\":{\"color\":\"#2a3f5f\"},\"marker\":{\"line\":{\"color\":\"#E5ECF6\",\"width\":0.5},\"pattern\":{\"fillmode\":\"overlay\",\"size\":10,\"solidity\":0.2}},\"type\":\"bar\"}],\"scattergeo\":[{\"type\":\"scattergeo\",\"marker\":{\"colorbar\":{\"outlinewidth\":0,\"ticks\":\"\"}}}],\"scatterpolar\":[{\"type\":\"scatterpolar\",\"marker\":{\"colorbar\":{\"outlinewidth\":0,\"ticks\":\"\"}}}],\"histogram\":[{\"marker\":{\"pattern\":{\"fillmode\":\"overlay\",\"size\":10,\"solidity\":0.2}},\"type\":\"histogram\"}],\"scattergl\":[{\"type\":\"scattergl\",\"marker\":{\"colorbar\":{\"outlinewidth\":0,\"ticks\":\"\"}}}],\"scatter3d\":[{\"type\":\"scatter3d\",\"line\":{\"colorbar\":{\"outlinewidth\":0,\"ticks\":\"\"}},\"marker\":{\"colorbar\":{\"outlinewidth\":0,\"ticks\":\"\"}}}],\"scattermapbox\":[{\"type\":\"scattermapbox\",\"marker\":{\"colorbar\":{\"outlinewidth\":0,\"ticks\":\"\"}}}],\"scatterternary\":[{\"type\":\"scatterternary\",\"marker\":{\"colorbar\":{\"outlinewidth\":0,\"ticks\":\"\"}}}],\"scattercarpet\":[{\"type\":\"scattercarpet\",\"marker\":{\"colorbar\":{\"outlinewidth\":0,\"ticks\":\"\"}}}],\"carpet\":[{\"aaxis\":{\"endlinecolor\":\"#2a3f5f\",\"gridcolor\":\"white\",\"linecolor\":\"white\",\"minorgridcolor\":\"white\",\"startlinecolor\":\"#2a3f5f\"},\"baxis\":{\"endlinecolor\":\"#2a3f5f\",\"gridcolor\":\"white\",\"linecolor\":\"white\",\"minorgridcolor\":\"white\",\"startlinecolor\":\"#2a3f5f\"},\"type\":\"carpet\"}],\"table\":[{\"cells\":{\"fill\":{\"color\":\"#EBF0F8\"},\"line\":{\"color\":\"white\"}},\"header\":{\"fill\":{\"color\":\"#C8D4E3\"},\"line\":{\"color\":\"white\"}},\"type\":\"table\"}],\"barpolar\":[{\"marker\":{\"line\":{\"color\":\"#E5ECF6\",\"width\":0.5},\"pattern\":{\"fillmode\":\"overlay\",\"size\":10,\"solidity\":0.2}},\"type\":\"barpolar\"}],\"pie\":[{\"automargin\":true,\"type\":\"pie\"}]},\"layout\":{\"autotypenumbers\":\"strict\",\"colorway\":[\"#636efa\",\"#EF553B\",\"#00cc96\",\"#ab63fa\",\"#FFA15A\",\"#19d3f3\",\"#FF6692\",\"#B6E880\",\"#FF97FF\",\"#FECB52\"],\"font\":{\"color\":\"#2a3f5f\"},\"hovermode\":\"closest\",\"hoverlabel\":{\"align\":\"left\"},\"paper_bgcolor\":\"white\",\"plot_bgcolor\":\"#E5ECF6\",\"polar\":{\"bgcolor\":\"#E5ECF6\",\"angularaxis\":{\"gridcolor\":\"white\",\"linecolor\":\"white\",\"ticks\":\"\"},\"radialaxis\":{\"gridcolor\":\"white\",\"linecolor\":\"white\",\"ticks\":\"\"}},\"ternary\":{\"bgcolor\":\"#E5ECF6\",\"aaxis\":{\"gridcolor\":\"white\",\"linecolor\":\"white\",\"ticks\":\"\"},\"baxis\":{\"gridcolor\":\"white\",\"linecolor\":\"white\",\"ticks\":\"\"},\"caxis\":{\"gridcolor\":\"white\",\"linecolor\":\"white\",\"ticks\":\"\"}},\"coloraxis\":{\"colorbar\":{\"outlinewidth\":0,\"ticks\":\"\"}},\"colorscale\":{\"sequential\":[[0.0,\"#0d0887\"],[0.1111111111111111,\"#46039f\"],[0.2222222222222222,\"#7201a8\"],[0.3333333333333333,\"#9c179e\"],[0.4444444444444444,\"#bd3786\"],[0.5555555555555556,\"#d8576b\"],[0.6666666666666666,\"#ed7953\"],[0.7777777777777778,\"#fb9f3a\"],[0.8888888888888888,\"#fdca26\"],[1.0,\"#f0f921\"]],\"sequentialminus\":[[0.0,\"#0d0887\"],[0.1111111111111111,\"#46039f\"],[0.2222222222222222,\"#7201a8\"],[0.3333333333333333,\"#9c179e\"],[0.4444444444444444,\"#bd3786\"],[0.5555555555555556,\"#d8576b\"],[0.6666666666666666,\"#ed7953\"],[0.7777777777777778,\"#fb9f3a\"],[0.8888888888888888,\"#fdca26\"],[1.0,\"#f0f921\"]],\"diverging\":[[0,\"#8e0152\"],[0.1,\"#c51b7d\"],[0.2,\"#de77ae\"],[0.3,\"#f1b6da\"],[0.4,\"#fde0ef\"],[0.5,\"#f7f7f7\"],[0.6,\"#e6f5d0\"],[0.7,\"#b8e186\"],[0.8,\"#7fbc41\"],[0.9,\"#4d9221\"],[1,\"#276419\"]]},\"xaxis\":{\"gridcolor\":\"white\",\"linecolor\":\"white\",\"ticks\":\"\",\"title\":{\"standoff\":15},\"zerolinecolor\":\"white\",\"automargin\":true,\"zerolinewidth\":2},\"yaxis\":{\"gridcolor\":\"white\",\"linecolor\":\"white\",\"ticks\":\"\",\"title\":{\"standoff\":15},\"zerolinecolor\":\"white\",\"automargin\":true,\"zerolinewidth\":2},\"scene\":{\"xaxis\":{\"backgroundcolor\":\"#E5ECF6\",\"gridcolor\":\"white\",\"linecolor\":\"white\",\"showbackground\":true,\"ticks\":\"\",\"zerolinecolor\":\"white\",\"gridwidth\":2},\"yaxis\":{\"backgroundcolor\":\"#E5ECF6\",\"gridcolor\":\"white\",\"linecolor\":\"white\",\"showbackground\":true,\"ticks\":\"\",\"zerolinecolor\":\"white\",\"gridwidth\":2},\"zaxis\":{\"backgroundcolor\":\"#E5ECF6\",\"gridcolor\":\"white\",\"linecolor\":\"white\",\"showbackground\":true,\"ticks\":\"\",\"zerolinecolor\":\"white\",\"gridwidth\":2}},\"shapedefaults\":{\"line\":{\"color\":\"#2a3f5f\"}},\"annotationdefaults\":{\"arrowcolor\":\"#2a3f5f\",\"arrowhead\":0,\"arrowwidth\":1},\"geo\":{\"bgcolor\":\"white\",\"landcolor\":\"#E5ECF6\",\"subunitcolor\":\"white\",\"showland\":true,\"showlakes\":true,\"lakecolor\":\"white\"},\"title\":{\"x\":0.05},\"mapbox\":{\"style\":\"light\"}}},\"xaxis\":{\"anchor\":\"y\",\"domain\":[0.0,1.0],\"title\":{\"text\":\"salary\"}},\"yaxis\":{\"anchor\":\"x\",\"domain\":[0.0,0.8316],\"title\":{\"text\":\"count\"}},\"xaxis2\":{\"anchor\":\"y2\",\"domain\":[0.0,1.0],\"matches\":\"x\",\"showticklabels\":false,\"showgrid\":true},\"yaxis2\":{\"anchor\":\"x2\",\"domain\":[0.8416,1.0],\"matches\":\"y2\",\"showticklabels\":false,\"showline\":false,\"ticks\":\"\",\"showgrid\":false},\"legend\":{\"tracegroupgap\":0},\"title\":{\"text\":\"\\u0420\\u0430\\u0441\\u043f\\u0440\\u0435\\u0434\\u0435\\u043b\\u0435\\u043d\\u0438\\u0435 \\u0437\\u0430\\u0440\\u043f\\u043b\\u0430\\u0442 DS\"},\"barmode\":\"relative\",\"height\":700,\"width\":1000,\"shapes\":[{\"line\":{\"color\":\"green\",\"dash\":\"dash\",\"width\":1},\"type\":\"line\",\"x0\":338115.98584070796,\"x1\":338115.98584070796,\"xref\":\"x\",\"y0\":0,\"y1\":1,\"yref\":\"y domain\"},{\"line\":{\"color\":\"green\",\"dash\":\"dash\",\"width\":1},\"type\":\"line\",\"x0\":338115.98584070796,\"x1\":338115.98584070796,\"xref\":\"x2\",\"y0\":0,\"y1\":1,\"yref\":\"y2 domain\"}],\"annotations\":[{\"showarrow\":false,\"text\":\"mean of salary - 338116\",\"x\":338115.98584070796,\"xanchor\":\"left\",\"xref\":\"x\",\"y\":1,\"yanchor\":\"top\",\"yref\":\"y domain\"},{\"showarrow\":false,\"text\":\"mean of salary - 338116\",\"x\":338115.98584070796,\"xanchor\":\"left\",\"xref\":\"x2\",\"y\":1,\"yanchor\":\"top\",\"yref\":\"y2 domain\"}]},                        {\"responsive\": true}                    ).then(function(){\n",
       "                            \n",
       "var gd = document.getElementById('e79d12b6-059b-43ce-b1c5-9ac0f6e15e66');\n",
       "var x = new MutationObserver(function (mutations, observer) {{\n",
       "        var display = window.getComputedStyle(gd).display;\n",
       "        if (!display || display === 'none') {{\n",
       "            console.log([gd, 'removed!']);\n",
       "            Plotly.purge(gd);\n",
       "            observer.disconnect();\n",
       "        }}\n",
       "}});\n",
       "\n",
       "// Listen for the removal of the full notebook cells\n",
       "var notebookContainer = gd.closest('#notebook-container');\n",
       "if (notebookContainer) {{\n",
       "    x.observe(notebookContainer, {childList: true});\n",
       "}}\n",
       "\n",
       "// Listen for the clearing of the current output cell\n",
       "var outputEl = gd.closest('.output');\n",
       "if (outputEl) {{\n",
       "    x.observe(outputEl, {childList: true});\n",
       "}}\n",
       "\n",
       "                        })                };                });            </script>        </div>"
      ]
     },
     "metadata": {},
     "output_type": "display_data"
    },
    {
     "data": {
      "application/vnd.plotly.v1+json": {
       "config": {
        "plotlyServerURL": "https://plot.ly"
       },
       "data": [
        {
         "alignmentgroup": "True",
         "bingroup": "x",
         "hovertemplate": "salary=%{x}<br>count=%{y}<extra></extra>",
         "legendgroup": "",
         "marker": {
          "color": "lightskyblue",
          "pattern": {
           "shape": ""
          }
         },
         "name": "",
         "nbinsx": 100,
         "offsetgroup": "",
         "orientation": "v",
         "showlegend": false,
         "type": "histogram",
         "x": [
          70000,
          260000,
          85000,
          20000,
          150000,
          72000,
          190000,
          11000000,
          135000,
          125000,
          45000,
          3000000,
          35000,
          87000,
          85000,
          8000,
          4450000,
          100000,
          423000,
          56000,
          299000,
          450000,
          42000,
          98000,
          115000,
          325000,
          42000,
          720000,
          100000,
          157000,
          51999,
          70000,
          60000,
          450000,
          41000,
          65000,
          103000,
          250000,
          10000,
          138000,
          45760,
          70000,
          44000,
          106000,
          88000,
          14000,
          60000,
          188000,
          105000,
          61500,
          450000,
          91000,
          300000,
          48000,
          60000,
          130000,
          34000,
          118000,
          120000,
          138350,
          110000,
          130800,
          19000,
          412000,
          40000,
          55000,
          43200,
          190200,
          105000,
          80000,
          55000,
          37000,
          60000,
          150000,
          235000,
          45000,
          100000,
          400000,
          270000,
          80000,
          67000,
          140000,
          68000,
          40000,
          130000,
          110000,
          50000,
          110000,
          170000,
          80000,
          75000,
          65000,
          1450000,
          276000,
          2200000,
          120000,
          12000,
          450000,
          70000,
          81000,
          75000,
          150000,
          11000000,
          62000,
          73000,
          37456,
          235000,
          115000,
          150000,
          2250000,
          80000,
          82500,
          75000,
          12000,
          38400,
          225000,
          50000,
          34000,
          90000,
          200000,
          60000,
          200000,
          50000,
          80000,
          8760,
          151000,
          120000,
          700000,
          20000,
          3000000,
          100000,
          42000,
          38400,
          24000,
          100000,
          90000,
          7000000,
          8500000,
          220000,
          80000,
          135000,
          240000,
          150000,
          82500,
          100000,
          70000,
          53000,
          90000,
          153000,
          160000,
          168000,
          150000,
          95000,
          13400,
          144000,
          159500,
          160000,
          423000,
          120000,
          125000,
          230000,
          85000,
          24000,
          54000,
          110000,
          165000,
          80000,
          250000,
          55000,
          150000,
          170000,
          60000,
          60000,
          235000,
          51400,
          174000,
          58000,
          30400000,
          81000,
          420000,
          1672000,
          76760,
          22000,
          45000,
          12000,
          4000,
          50000,
          59000,
          65000,
          74000,
          152000,
          21844,
          18000,
          174000,
          120500,
          147000,
          9272,
          1799997,
          4000000,
          90000,
          52000,
          195000,
          32000,
          50000,
          160000,
          69600,
          200000,
          165000,
          20000,
          120000,
          21000,
          48000,
          48000,
          435000,
          21000,
          185000,
          180000,
          75000,
          140000,
          180000,
          85000,
          2500000,
          40900,
          225000,
          416000,
          110000,
          75000,
          135000,
          90000,
          1200000,
          256000,
          200000,
          200000,
          180000,
          110000,
          80000,
          39600,
          4000,
          1600000,
          130000,
          80000,
          110000,
          165000,
          1335000,
          52500,
          31000,
          108000,
          70000,
          170000,
          115000,
          90000,
          600000,
          2100000,
          93000,
          125000,
          147000,
          185000,
          120000,
          130000,
          54000,
          1250000,
          4900000,
          21600,
          160000,
          93150,
          111775,
          250000,
          55000,
          72500,
          102000,
          65000,
          85000,
          65720,
          100000,
          58000,
          55000,
          180000,
          50000,
          112000,
          100000,
          59000,
          105000,
          69999,
          7000000,
          87000,
          109000,
          43200,
          135000,
          155000,
          120600,
          130000,
          90000,
          170000,
          150000,
          102100,
          84900,
          136620,
          99360,
          90000,
          80000,
          146000,
          123000,
          40000,
          99000,
          116000,
          106260,
          126500,
          242000,
          200000,
          50000,
          30000,
          60000,
          40000,
          165220,
          35000,
          120160,
          90320,
          181940,
          132320,
          220110,
          160080,
          180000,
          120000,
          124190,
          130000,
          110000,
          170000,
          115500,
          112900,
          165400,
          132320,
          167000,
          243900,
          136600,
          109280,
          128875,
          93700,
          224000,
          167875,
          175000,
          156600,
          108800,
          95550,
          113000,
          135000,
          161342,
          137141,
          167000,
          60000,
          50000,
          150000,
          211500,
          192400,
          90700,
          130000,
          61300,
          160000,
          138600,
          136000,
          58000,
          135000,
          170000,
          189650,
          164996,
          50000,
          150000,
          132000,
          208775,
          147800,
          136994,
          101570,
          128875,
          93700,
          6000000,
          28500,
          164000,
          155000,
          95000,
          75000,
          120000,
          145000,
          105400,
          80000,
          90000,
          215300,
          158200,
          209100,
          154600,
          115934,
          81666,
          175000,
          75000,
          183600,
          40000,
          180000,
          55000,
          35000,
          60000,
          45000,
          60000,
          45000,
          260000,
          60000,
          63900,
          160000,
          112300,
          241000,
          159000,
          180000,
          80000,
          82900,
          100800,
          45000,
          140400,
          30000,
          40000,
          30000,
          80000,
          70000,
          80000,
          70000,
          60000,
          80000,
          40000,
          30000,
          75000,
          215300,
          70000,
          180000,
          20000,
          80000,
          100000,
          250000,
          120000,
          125000,
          240000,
          105000,
          80000,
          1400000,
          2400000,
          53000,
          100000,
          50000,
          1400000,
          148000,
          120000,
          144000,
          104890,
          100000,
          140000,
          135000,
          50000,
          220000,
          140000,
          70000,
          185100,
          220000,
          200000,
          120000,
          120000,
          65000,
          324000,
          216000,
          210000,
          120000,
          230000,
          100000,
          100000,
          29000,
          200000,
          75000,
          150000,
          100000,
          100000,
          153000,
          52800,
          165000,
          85000,
          66500,
          57000,
          30000,
          40000,
          121000,
          115000,
          120000,
          75000,
          59000,
          120000,
          157000,
          150000,
          90000,
          65000,
          65000,
          20000,
          48000,
          152500,
          62000,
          115000,
          380000,
          88000,
          10000,
          20000,
          405000,
          135000,
          177000,
          78000,
          100000,
          85000,
          75000,
          214000,
          192600,
          266400,
          213120,
          141300,
          102100,
          115934,
          81666,
          206699,
          99100,
          130000,
          110500,
          99050,
          160000,
          205300,
          176000,
          144000,
          200100,
          145000,
          70500,
          205300,
          140400,
          205300,
          184700,
          175100,
          140250,
          116150,
          54000,
          50000,
          80000,
          210000,
          69000,
          150075,
          25000,
          126500,
          106260,
          220110,
          160080,
          105000,
          110925,
          35000,
          60000,
          192564,
          144854,
          150000,
          150260,
          109280,
          160000,
          130000,
          67000,
          52000,
          154000,
          126000,
          129000,
          150000,
          200000
         ],
         "xaxis": "x",
         "yaxis": "y"
        },
        {
         "alignmentgroup": "True",
         "hovertemplate": "salary=%{x}<extra></extra>",
         "legendgroup": "",
         "marker": {
          "color": "lightskyblue"
         },
         "name": "",
         "notched": true,
         "offsetgroup": "",
         "showlegend": false,
         "type": "box",
         "x": [
          70000,
          260000,
          85000,
          20000,
          150000,
          72000,
          190000,
          11000000,
          135000,
          125000,
          45000,
          3000000,
          35000,
          87000,
          85000,
          8000,
          4450000,
          100000,
          423000,
          56000,
          299000,
          450000,
          42000,
          98000,
          115000,
          325000,
          42000,
          720000,
          100000,
          157000,
          51999,
          70000,
          60000,
          450000,
          41000,
          65000,
          103000,
          250000,
          10000,
          138000,
          45760,
          70000,
          44000,
          106000,
          88000,
          14000,
          60000,
          188000,
          105000,
          61500,
          450000,
          91000,
          300000,
          48000,
          60000,
          130000,
          34000,
          118000,
          120000,
          138350,
          110000,
          130800,
          19000,
          412000,
          40000,
          55000,
          43200,
          190200,
          105000,
          80000,
          55000,
          37000,
          60000,
          150000,
          235000,
          45000,
          100000,
          400000,
          270000,
          80000,
          67000,
          140000,
          68000,
          40000,
          130000,
          110000,
          50000,
          110000,
          170000,
          80000,
          75000,
          65000,
          1450000,
          276000,
          2200000,
          120000,
          12000,
          450000,
          70000,
          81000,
          75000,
          150000,
          11000000,
          62000,
          73000,
          37456,
          235000,
          115000,
          150000,
          2250000,
          80000,
          82500,
          75000,
          12000,
          38400,
          225000,
          50000,
          34000,
          90000,
          200000,
          60000,
          200000,
          50000,
          80000,
          8760,
          151000,
          120000,
          700000,
          20000,
          3000000,
          100000,
          42000,
          38400,
          24000,
          100000,
          90000,
          7000000,
          8500000,
          220000,
          80000,
          135000,
          240000,
          150000,
          82500,
          100000,
          70000,
          53000,
          90000,
          153000,
          160000,
          168000,
          150000,
          95000,
          13400,
          144000,
          159500,
          160000,
          423000,
          120000,
          125000,
          230000,
          85000,
          24000,
          54000,
          110000,
          165000,
          80000,
          250000,
          55000,
          150000,
          170000,
          60000,
          60000,
          235000,
          51400,
          174000,
          58000,
          30400000,
          81000,
          420000,
          1672000,
          76760,
          22000,
          45000,
          12000,
          4000,
          50000,
          59000,
          65000,
          74000,
          152000,
          21844,
          18000,
          174000,
          120500,
          147000,
          9272,
          1799997,
          4000000,
          90000,
          52000,
          195000,
          32000,
          50000,
          160000,
          69600,
          200000,
          165000,
          20000,
          120000,
          21000,
          48000,
          48000,
          435000,
          21000,
          185000,
          180000,
          75000,
          140000,
          180000,
          85000,
          2500000,
          40900,
          225000,
          416000,
          110000,
          75000,
          135000,
          90000,
          1200000,
          256000,
          200000,
          200000,
          180000,
          110000,
          80000,
          39600,
          4000,
          1600000,
          130000,
          80000,
          110000,
          165000,
          1335000,
          52500,
          31000,
          108000,
          70000,
          170000,
          115000,
          90000,
          600000,
          2100000,
          93000,
          125000,
          147000,
          185000,
          120000,
          130000,
          54000,
          1250000,
          4900000,
          21600,
          160000,
          93150,
          111775,
          250000,
          55000,
          72500,
          102000,
          65000,
          85000,
          65720,
          100000,
          58000,
          55000,
          180000,
          50000,
          112000,
          100000,
          59000,
          105000,
          69999,
          7000000,
          87000,
          109000,
          43200,
          135000,
          155000,
          120600,
          130000,
          90000,
          170000,
          150000,
          102100,
          84900,
          136620,
          99360,
          90000,
          80000,
          146000,
          123000,
          40000,
          99000,
          116000,
          106260,
          126500,
          242000,
          200000,
          50000,
          30000,
          60000,
          40000,
          165220,
          35000,
          120160,
          90320,
          181940,
          132320,
          220110,
          160080,
          180000,
          120000,
          124190,
          130000,
          110000,
          170000,
          115500,
          112900,
          165400,
          132320,
          167000,
          243900,
          136600,
          109280,
          128875,
          93700,
          224000,
          167875,
          175000,
          156600,
          108800,
          95550,
          113000,
          135000,
          161342,
          137141,
          167000,
          60000,
          50000,
          150000,
          211500,
          192400,
          90700,
          130000,
          61300,
          160000,
          138600,
          136000,
          58000,
          135000,
          170000,
          189650,
          164996,
          50000,
          150000,
          132000,
          208775,
          147800,
          136994,
          101570,
          128875,
          93700,
          6000000,
          28500,
          164000,
          155000,
          95000,
          75000,
          120000,
          145000,
          105400,
          80000,
          90000,
          215300,
          158200,
          209100,
          154600,
          115934,
          81666,
          175000,
          75000,
          183600,
          40000,
          180000,
          55000,
          35000,
          60000,
          45000,
          60000,
          45000,
          260000,
          60000,
          63900,
          160000,
          112300,
          241000,
          159000,
          180000,
          80000,
          82900,
          100800,
          45000,
          140400,
          30000,
          40000,
          30000,
          80000,
          70000,
          80000,
          70000,
          60000,
          80000,
          40000,
          30000,
          75000,
          215300,
          70000,
          180000,
          20000,
          80000,
          100000,
          250000,
          120000,
          125000,
          240000,
          105000,
          80000,
          1400000,
          2400000,
          53000,
          100000,
          50000,
          1400000,
          148000,
          120000,
          144000,
          104890,
          100000,
          140000,
          135000,
          50000,
          220000,
          140000,
          70000,
          185100,
          220000,
          200000,
          120000,
          120000,
          65000,
          324000,
          216000,
          210000,
          120000,
          230000,
          100000,
          100000,
          29000,
          200000,
          75000,
          150000,
          100000,
          100000,
          153000,
          52800,
          165000,
          85000,
          66500,
          57000,
          30000,
          40000,
          121000,
          115000,
          120000,
          75000,
          59000,
          120000,
          157000,
          150000,
          90000,
          65000,
          65000,
          20000,
          48000,
          152500,
          62000,
          115000,
          380000,
          88000,
          10000,
          20000,
          405000,
          135000,
          177000,
          78000,
          100000,
          85000,
          75000,
          214000,
          192600,
          266400,
          213120,
          141300,
          102100,
          115934,
          81666,
          206699,
          99100,
          130000,
          110500,
          99050,
          160000,
          205300,
          176000,
          144000,
          200100,
          145000,
          70500,
          205300,
          140400,
          205300,
          184700,
          175100,
          140250,
          116150,
          54000,
          50000,
          80000,
          210000,
          69000,
          150075,
          25000,
          126500,
          106260,
          220110,
          160080,
          105000,
          110925,
          35000,
          60000,
          192564,
          144854,
          150000,
          150260,
          109280,
          160000,
          130000,
          67000,
          52000,
          154000,
          126000,
          129000,
          150000,
          200000
         ],
         "xaxis": "x2",
         "yaxis": "y2"
        }
       ],
       "layout": {
        "annotations": [
         {
          "showarrow": false,
          "text": "mean of salary - 338116",
          "x": 338115.98584070796,
          "xanchor": "left",
          "xref": "x",
          "y": 1,
          "yanchor": "top",
          "yref": "y domain"
         },
         {
          "showarrow": false,
          "text": "mean of salary - 338116",
          "x": 338115.98584070796,
          "xanchor": "left",
          "xref": "x2",
          "y": 1,
          "yanchor": "top",
          "yref": "y2 domain"
         }
        ],
        "barmode": "relative",
        "height": 700,
        "legend": {
         "tracegroupgap": 0
        },
        "shapes": [
         {
          "line": {
           "color": "green",
           "dash": "dash",
           "width": 1
          },
          "type": "line",
          "x0": 338115.98584070796,
          "x1": 338115.98584070796,
          "xref": "x",
          "y0": 0,
          "y1": 1,
          "yref": "y domain"
         },
         {
          "line": {
           "color": "green",
           "dash": "dash",
           "width": 1
          },
          "type": "line",
          "x0": 338115.98584070796,
          "x1": 338115.98584070796,
          "xref": "x2",
          "y0": 0,
          "y1": 1,
          "yref": "y2 domain"
         }
        ],
        "template": {
         "data": {
          "bar": [
           {
            "error_x": {
             "color": "#2a3f5f"
            },
            "error_y": {
             "color": "#2a3f5f"
            },
            "marker": {
             "line": {
              "color": "#E5ECF6",
              "width": 0.5
             },
             "pattern": {
              "fillmode": "overlay",
              "size": 10,
              "solidity": 0.2
             }
            },
            "type": "bar"
           }
          ],
          "barpolar": [
           {
            "marker": {
             "line": {
              "color": "#E5ECF6",
              "width": 0.5
             },
             "pattern": {
              "fillmode": "overlay",
              "size": 10,
              "solidity": 0.2
             }
            },
            "type": "barpolar"
           }
          ],
          "carpet": [
           {
            "aaxis": {
             "endlinecolor": "#2a3f5f",
             "gridcolor": "white",
             "linecolor": "white",
             "minorgridcolor": "white",
             "startlinecolor": "#2a3f5f"
            },
            "baxis": {
             "endlinecolor": "#2a3f5f",
             "gridcolor": "white",
             "linecolor": "white",
             "minorgridcolor": "white",
             "startlinecolor": "#2a3f5f"
            },
            "type": "carpet"
           }
          ],
          "choropleth": [
           {
            "colorbar": {
             "outlinewidth": 0,
             "ticks": ""
            },
            "type": "choropleth"
           }
          ],
          "contour": [
           {
            "colorbar": {
             "outlinewidth": 0,
             "ticks": ""
            },
            "colorscale": [
             [
              0,
              "#0d0887"
             ],
             [
              0.1111111111111111,
              "#46039f"
             ],
             [
              0.2222222222222222,
              "#7201a8"
             ],
             [
              0.3333333333333333,
              "#9c179e"
             ],
             [
              0.4444444444444444,
              "#bd3786"
             ],
             [
              0.5555555555555556,
              "#d8576b"
             ],
             [
              0.6666666666666666,
              "#ed7953"
             ],
             [
              0.7777777777777778,
              "#fb9f3a"
             ],
             [
              0.8888888888888888,
              "#fdca26"
             ],
             [
              1,
              "#f0f921"
             ]
            ],
            "type": "contour"
           }
          ],
          "contourcarpet": [
           {
            "colorbar": {
             "outlinewidth": 0,
             "ticks": ""
            },
            "type": "contourcarpet"
           }
          ],
          "heatmap": [
           {
            "colorbar": {
             "outlinewidth": 0,
             "ticks": ""
            },
            "colorscale": [
             [
              0,
              "#0d0887"
             ],
             [
              0.1111111111111111,
              "#46039f"
             ],
             [
              0.2222222222222222,
              "#7201a8"
             ],
             [
              0.3333333333333333,
              "#9c179e"
             ],
             [
              0.4444444444444444,
              "#bd3786"
             ],
             [
              0.5555555555555556,
              "#d8576b"
             ],
             [
              0.6666666666666666,
              "#ed7953"
             ],
             [
              0.7777777777777778,
              "#fb9f3a"
             ],
             [
              0.8888888888888888,
              "#fdca26"
             ],
             [
              1,
              "#f0f921"
             ]
            ],
            "type": "heatmap"
           }
          ],
          "heatmapgl": [
           {
            "colorbar": {
             "outlinewidth": 0,
             "ticks": ""
            },
            "colorscale": [
             [
              0,
              "#0d0887"
             ],
             [
              0.1111111111111111,
              "#46039f"
             ],
             [
              0.2222222222222222,
              "#7201a8"
             ],
             [
              0.3333333333333333,
              "#9c179e"
             ],
             [
              0.4444444444444444,
              "#bd3786"
             ],
             [
              0.5555555555555556,
              "#d8576b"
             ],
             [
              0.6666666666666666,
              "#ed7953"
             ],
             [
              0.7777777777777778,
              "#fb9f3a"
             ],
             [
              0.8888888888888888,
              "#fdca26"
             ],
             [
              1,
              "#f0f921"
             ]
            ],
            "type": "heatmapgl"
           }
          ],
          "histogram": [
           {
            "marker": {
             "pattern": {
              "fillmode": "overlay",
              "size": 10,
              "solidity": 0.2
             }
            },
            "type": "histogram"
           }
          ],
          "histogram2d": [
           {
            "colorbar": {
             "outlinewidth": 0,
             "ticks": ""
            },
            "colorscale": [
             [
              0,
              "#0d0887"
             ],
             [
              0.1111111111111111,
              "#46039f"
             ],
             [
              0.2222222222222222,
              "#7201a8"
             ],
             [
              0.3333333333333333,
              "#9c179e"
             ],
             [
              0.4444444444444444,
              "#bd3786"
             ],
             [
              0.5555555555555556,
              "#d8576b"
             ],
             [
              0.6666666666666666,
              "#ed7953"
             ],
             [
              0.7777777777777778,
              "#fb9f3a"
             ],
             [
              0.8888888888888888,
              "#fdca26"
             ],
             [
              1,
              "#f0f921"
             ]
            ],
            "type": "histogram2d"
           }
          ],
          "histogram2dcontour": [
           {
            "colorbar": {
             "outlinewidth": 0,
             "ticks": ""
            },
            "colorscale": [
             [
              0,
              "#0d0887"
             ],
             [
              0.1111111111111111,
              "#46039f"
             ],
             [
              0.2222222222222222,
              "#7201a8"
             ],
             [
              0.3333333333333333,
              "#9c179e"
             ],
             [
              0.4444444444444444,
              "#bd3786"
             ],
             [
              0.5555555555555556,
              "#d8576b"
             ],
             [
              0.6666666666666666,
              "#ed7953"
             ],
             [
              0.7777777777777778,
              "#fb9f3a"
             ],
             [
              0.8888888888888888,
              "#fdca26"
             ],
             [
              1,
              "#f0f921"
             ]
            ],
            "type": "histogram2dcontour"
           }
          ],
          "mesh3d": [
           {
            "colorbar": {
             "outlinewidth": 0,
             "ticks": ""
            },
            "type": "mesh3d"
           }
          ],
          "parcoords": [
           {
            "line": {
             "colorbar": {
              "outlinewidth": 0,
              "ticks": ""
             }
            },
            "type": "parcoords"
           }
          ],
          "pie": [
           {
            "automargin": true,
            "type": "pie"
           }
          ],
          "scatter": [
           {
            "fillpattern": {
             "fillmode": "overlay",
             "size": 10,
             "solidity": 0.2
            },
            "type": "scatter"
           }
          ],
          "scatter3d": [
           {
            "line": {
             "colorbar": {
              "outlinewidth": 0,
              "ticks": ""
             }
            },
            "marker": {
             "colorbar": {
              "outlinewidth": 0,
              "ticks": ""
             }
            },
            "type": "scatter3d"
           }
          ],
          "scattercarpet": [
           {
            "marker": {
             "colorbar": {
              "outlinewidth": 0,
              "ticks": ""
             }
            },
            "type": "scattercarpet"
           }
          ],
          "scattergeo": [
           {
            "marker": {
             "colorbar": {
              "outlinewidth": 0,
              "ticks": ""
             }
            },
            "type": "scattergeo"
           }
          ],
          "scattergl": [
           {
            "marker": {
             "colorbar": {
              "outlinewidth": 0,
              "ticks": ""
             }
            },
            "type": "scattergl"
           }
          ],
          "scattermapbox": [
           {
            "marker": {
             "colorbar": {
              "outlinewidth": 0,
              "ticks": ""
             }
            },
            "type": "scattermapbox"
           }
          ],
          "scatterpolar": [
           {
            "marker": {
             "colorbar": {
              "outlinewidth": 0,
              "ticks": ""
             }
            },
            "type": "scatterpolar"
           }
          ],
          "scatterpolargl": [
           {
            "marker": {
             "colorbar": {
              "outlinewidth": 0,
              "ticks": ""
             }
            },
            "type": "scatterpolargl"
           }
          ],
          "scatterternary": [
           {
            "marker": {
             "colorbar": {
              "outlinewidth": 0,
              "ticks": ""
             }
            },
            "type": "scatterternary"
           }
          ],
          "surface": [
           {
            "colorbar": {
             "outlinewidth": 0,
             "ticks": ""
            },
            "colorscale": [
             [
              0,
              "#0d0887"
             ],
             [
              0.1111111111111111,
              "#46039f"
             ],
             [
              0.2222222222222222,
              "#7201a8"
             ],
             [
              0.3333333333333333,
              "#9c179e"
             ],
             [
              0.4444444444444444,
              "#bd3786"
             ],
             [
              0.5555555555555556,
              "#d8576b"
             ],
             [
              0.6666666666666666,
              "#ed7953"
             ],
             [
              0.7777777777777778,
              "#fb9f3a"
             ],
             [
              0.8888888888888888,
              "#fdca26"
             ],
             [
              1,
              "#f0f921"
             ]
            ],
            "type": "surface"
           }
          ],
          "table": [
           {
            "cells": {
             "fill": {
              "color": "#EBF0F8"
             },
             "line": {
              "color": "white"
             }
            },
            "header": {
             "fill": {
              "color": "#C8D4E3"
             },
             "line": {
              "color": "white"
             }
            },
            "type": "table"
           }
          ]
         },
         "layout": {
          "annotationdefaults": {
           "arrowcolor": "#2a3f5f",
           "arrowhead": 0,
           "arrowwidth": 1
          },
          "autotypenumbers": "strict",
          "coloraxis": {
           "colorbar": {
            "outlinewidth": 0,
            "ticks": ""
           }
          },
          "colorscale": {
           "diverging": [
            [
             0,
             "#8e0152"
            ],
            [
             0.1,
             "#c51b7d"
            ],
            [
             0.2,
             "#de77ae"
            ],
            [
             0.3,
             "#f1b6da"
            ],
            [
             0.4,
             "#fde0ef"
            ],
            [
             0.5,
             "#f7f7f7"
            ],
            [
             0.6,
             "#e6f5d0"
            ],
            [
             0.7,
             "#b8e186"
            ],
            [
             0.8,
             "#7fbc41"
            ],
            [
             0.9,
             "#4d9221"
            ],
            [
             1,
             "#276419"
            ]
           ],
           "sequential": [
            [
             0,
             "#0d0887"
            ],
            [
             0.1111111111111111,
             "#46039f"
            ],
            [
             0.2222222222222222,
             "#7201a8"
            ],
            [
             0.3333333333333333,
             "#9c179e"
            ],
            [
             0.4444444444444444,
             "#bd3786"
            ],
            [
             0.5555555555555556,
             "#d8576b"
            ],
            [
             0.6666666666666666,
             "#ed7953"
            ],
            [
             0.7777777777777778,
             "#fb9f3a"
            ],
            [
             0.8888888888888888,
             "#fdca26"
            ],
            [
             1,
             "#f0f921"
            ]
           ],
           "sequentialminus": [
            [
             0,
             "#0d0887"
            ],
            [
             0.1111111111111111,
             "#46039f"
            ],
            [
             0.2222222222222222,
             "#7201a8"
            ],
            [
             0.3333333333333333,
             "#9c179e"
            ],
            [
             0.4444444444444444,
             "#bd3786"
            ],
            [
             0.5555555555555556,
             "#d8576b"
            ],
            [
             0.6666666666666666,
             "#ed7953"
            ],
            [
             0.7777777777777778,
             "#fb9f3a"
            ],
            [
             0.8888888888888888,
             "#fdca26"
            ],
            [
             1,
             "#f0f921"
            ]
           ]
          },
          "colorway": [
           "#636efa",
           "#EF553B",
           "#00cc96",
           "#ab63fa",
           "#FFA15A",
           "#19d3f3",
           "#FF6692",
           "#B6E880",
           "#FF97FF",
           "#FECB52"
          ],
          "font": {
           "color": "#2a3f5f"
          },
          "geo": {
           "bgcolor": "white",
           "lakecolor": "white",
           "landcolor": "#E5ECF6",
           "showlakes": true,
           "showland": true,
           "subunitcolor": "white"
          },
          "hoverlabel": {
           "align": "left"
          },
          "hovermode": "closest",
          "mapbox": {
           "style": "light"
          },
          "paper_bgcolor": "white",
          "plot_bgcolor": "#E5ECF6",
          "polar": {
           "angularaxis": {
            "gridcolor": "white",
            "linecolor": "white",
            "ticks": ""
           },
           "bgcolor": "#E5ECF6",
           "radialaxis": {
            "gridcolor": "white",
            "linecolor": "white",
            "ticks": ""
           }
          },
          "scene": {
           "xaxis": {
            "backgroundcolor": "#E5ECF6",
            "gridcolor": "white",
            "gridwidth": 2,
            "linecolor": "white",
            "showbackground": true,
            "ticks": "",
            "zerolinecolor": "white"
           },
           "yaxis": {
            "backgroundcolor": "#E5ECF6",
            "gridcolor": "white",
            "gridwidth": 2,
            "linecolor": "white",
            "showbackground": true,
            "ticks": "",
            "zerolinecolor": "white"
           },
           "zaxis": {
            "backgroundcolor": "#E5ECF6",
            "gridcolor": "white",
            "gridwidth": 2,
            "linecolor": "white",
            "showbackground": true,
            "ticks": "",
            "zerolinecolor": "white"
           }
          },
          "shapedefaults": {
           "line": {
            "color": "#2a3f5f"
           }
          },
          "ternary": {
           "aaxis": {
            "gridcolor": "white",
            "linecolor": "white",
            "ticks": ""
           },
           "baxis": {
            "gridcolor": "white",
            "linecolor": "white",
            "ticks": ""
           },
           "bgcolor": "#E5ECF6",
           "caxis": {
            "gridcolor": "white",
            "linecolor": "white",
            "ticks": ""
           }
          },
          "title": {
           "x": 0.05
          },
          "xaxis": {
           "automargin": true,
           "gridcolor": "white",
           "linecolor": "white",
           "ticks": "",
           "title": {
            "standoff": 15
           },
           "zerolinecolor": "white",
           "zerolinewidth": 2
          },
          "yaxis": {
           "automargin": true,
           "gridcolor": "white",
           "linecolor": "white",
           "ticks": "",
           "title": {
            "standoff": 15
           },
           "zerolinecolor": "white",
           "zerolinewidth": 2
          }
         }
        },
        "title": {
         "text": "Распределение зарплат DS",
         "x": 0.5
        },
        "width": 1000,
        "xaxis": {
         "anchor": "y",
         "domain": [
          0,
          1
         ],
         "title": {
          "text": "Размер зарплат"
         }
        },
        "xaxis2": {
         "anchor": "y2",
         "domain": [
          0,
          1
         ],
         "matches": "x",
         "showgrid": true,
         "showticklabels": false
        },
        "yaxis": {
         "anchor": "x",
         "domain": [
          0,
          0.8316
         ],
         "title": {
          "text": "Частота"
         }
        },
        "yaxis2": {
         "anchor": "x2",
         "domain": [
          0.8416,
          1
         ],
         "matches": "y2",
         "showgrid": false,
         "showline": false,
         "showticklabels": false,
         "ticks": ""
        }
       }
      },
      "text/html": [
       "<div>                            <div id=\"408b4d82-b6cf-4b8a-8eaa-f795439b517b\" class=\"plotly-graph-div\" style=\"height:700px; width:1000px;\"></div>            <script type=\"text/javascript\">                require([\"plotly\"], function(Plotly) {                    window.PLOTLYENV=window.PLOTLYENV || {};                                    if (document.getElementById(\"408b4d82-b6cf-4b8a-8eaa-f795439b517b\")) {                    Plotly.newPlot(                        \"408b4d82-b6cf-4b8a-8eaa-f795439b517b\",                        [{\"alignmentgroup\":\"True\",\"bingroup\":\"x\",\"hovertemplate\":\"salary=%{x}\\u003cbr\\u003ecount=%{y}\\u003cextra\\u003e\\u003c\\u002fextra\\u003e\",\"legendgroup\":\"\",\"marker\":{\"color\":\"lightskyblue\",\"pattern\":{\"shape\":\"\"}},\"name\":\"\",\"nbinsx\":100,\"offsetgroup\":\"\",\"orientation\":\"v\",\"showlegend\":false,\"x\":[70000,260000,85000,20000,150000,72000,190000,11000000,135000,125000,45000,3000000,35000,87000,85000,8000,4450000,100000,423000,56000,299000,450000,42000,98000,115000,325000,42000,720000,100000,157000,51999,70000,60000,450000,41000,65000,103000,250000,10000,138000,45760,70000,44000,106000,88000,14000,60000,188000,105000,61500,450000,91000,300000,48000,60000,130000,34000,118000,120000,138350,110000,130800,19000,412000,40000,55000,43200,190200,105000,80000,55000,37000,60000,150000,235000,45000,100000,400000,270000,80000,67000,140000,68000,40000,130000,110000,50000,110000,170000,80000,75000,65000,1450000,276000,2200000,120000,12000,450000,70000,81000,75000,150000,11000000,62000,73000,37456,235000,115000,150000,2250000,80000,82500,75000,12000,38400,225000,50000,34000,90000,200000,60000,200000,50000,80000,8760,151000,120000,700000,20000,3000000,100000,42000,38400,24000,100000,90000,7000000,8500000,220000,80000,135000,240000,150000,82500,100000,70000,53000,90000,153000,160000,168000,150000,95000,13400,144000,159500,160000,423000,120000,125000,230000,85000,24000,54000,110000,165000,80000,250000,55000,150000,170000,60000,60000,235000,51400,174000,58000,30400000,81000,420000,1672000,76760,22000,45000,12000,4000,50000,59000,65000,74000,152000,21844,18000,174000,120500,147000,9272,1799997,4000000,90000,52000,195000,32000,50000,160000,69600,200000,165000,20000,120000,21000,48000,48000,435000,21000,185000,180000,75000,140000,180000,85000,2500000,40900,225000,416000,110000,75000,135000,90000,1200000,256000,200000,200000,180000,110000,80000,39600,4000,1600000,130000,80000,110000,165000,1335000,52500,31000,108000,70000,170000,115000,90000,600000,2100000,93000,125000,147000,185000,120000,130000,54000,1250000,4900000,21600,160000,93150,111775,250000,55000,72500,102000,65000,85000,65720,100000,58000,55000,180000,50000,112000,100000,59000,105000,69999,7000000,87000,109000,43200,135000,155000,120600,130000,90000,170000,150000,102100,84900,136620,99360,90000,80000,146000,123000,40000,99000,116000,106260,126500,242000,200000,50000,30000,60000,40000,165220,35000,120160,90320,181940,132320,220110,160080,180000,120000,124190,130000,110000,170000,115500,112900,165400,132320,167000,243900,136600,109280,128875,93700,224000,167875,175000,156600,108800,95550,113000,135000,161342,137141,167000,60000,50000,150000,211500,192400,90700,130000,61300,160000,138600,136000,58000,135000,170000,189650,164996,50000,150000,132000,208775,147800,136994,101570,128875,93700,6000000,28500,164000,155000,95000,75000,120000,145000,105400,80000,90000,215300,158200,209100,154600,115934,81666,175000,75000,183600,40000,180000,55000,35000,60000,45000,60000,45000,260000,60000,63900,160000,112300,241000,159000,180000,80000,82900,100800,45000,140400,30000,40000,30000,80000,70000,80000,70000,60000,80000,40000,30000,75000,215300,70000,180000,20000,80000,100000,250000,120000,125000,240000,105000,80000,1400000,2400000,53000,100000,50000,1400000,148000,120000,144000,104890,100000,140000,135000,50000,220000,140000,70000,185100,220000,200000,120000,120000,65000,324000,216000,210000,120000,230000,100000,100000,29000,200000,75000,150000,100000,100000,153000,52800,165000,85000,66500,57000,30000,40000,121000,115000,120000,75000,59000,120000,157000,150000,90000,65000,65000,20000,48000,152500,62000,115000,380000,88000,10000,20000,405000,135000,177000,78000,100000,85000,75000,214000,192600,266400,213120,141300,102100,115934,81666,206699,99100,130000,110500,99050,160000,205300,176000,144000,200100,145000,70500,205300,140400,205300,184700,175100,140250,116150,54000,50000,80000,210000,69000,150075,25000,126500,106260,220110,160080,105000,110925,35000,60000,192564,144854,150000,150260,109280,160000,130000,67000,52000,154000,126000,129000,150000,200000],\"xaxis\":\"x\",\"yaxis\":\"y\",\"type\":\"histogram\"},{\"alignmentgroup\":\"True\",\"hovertemplate\":\"salary=%{x}\\u003cextra\\u003e\\u003c\\u002fextra\\u003e\",\"legendgroup\":\"\",\"marker\":{\"color\":\"lightskyblue\"},\"name\":\"\",\"notched\":true,\"offsetgroup\":\"\",\"showlegend\":false,\"x\":[70000,260000,85000,20000,150000,72000,190000,11000000,135000,125000,45000,3000000,35000,87000,85000,8000,4450000,100000,423000,56000,299000,450000,42000,98000,115000,325000,42000,720000,100000,157000,51999,70000,60000,450000,41000,65000,103000,250000,10000,138000,45760,70000,44000,106000,88000,14000,60000,188000,105000,61500,450000,91000,300000,48000,60000,130000,34000,118000,120000,138350,110000,130800,19000,412000,40000,55000,43200,190200,105000,80000,55000,37000,60000,150000,235000,45000,100000,400000,270000,80000,67000,140000,68000,40000,130000,110000,50000,110000,170000,80000,75000,65000,1450000,276000,2200000,120000,12000,450000,70000,81000,75000,150000,11000000,62000,73000,37456,235000,115000,150000,2250000,80000,82500,75000,12000,38400,225000,50000,34000,90000,200000,60000,200000,50000,80000,8760,151000,120000,700000,20000,3000000,100000,42000,38400,24000,100000,90000,7000000,8500000,220000,80000,135000,240000,150000,82500,100000,70000,53000,90000,153000,160000,168000,150000,95000,13400,144000,159500,160000,423000,120000,125000,230000,85000,24000,54000,110000,165000,80000,250000,55000,150000,170000,60000,60000,235000,51400,174000,58000,30400000,81000,420000,1672000,76760,22000,45000,12000,4000,50000,59000,65000,74000,152000,21844,18000,174000,120500,147000,9272,1799997,4000000,90000,52000,195000,32000,50000,160000,69600,200000,165000,20000,120000,21000,48000,48000,435000,21000,185000,180000,75000,140000,180000,85000,2500000,40900,225000,416000,110000,75000,135000,90000,1200000,256000,200000,200000,180000,110000,80000,39600,4000,1600000,130000,80000,110000,165000,1335000,52500,31000,108000,70000,170000,115000,90000,600000,2100000,93000,125000,147000,185000,120000,130000,54000,1250000,4900000,21600,160000,93150,111775,250000,55000,72500,102000,65000,85000,65720,100000,58000,55000,180000,50000,112000,100000,59000,105000,69999,7000000,87000,109000,43200,135000,155000,120600,130000,90000,170000,150000,102100,84900,136620,99360,90000,80000,146000,123000,40000,99000,116000,106260,126500,242000,200000,50000,30000,60000,40000,165220,35000,120160,90320,181940,132320,220110,160080,180000,120000,124190,130000,110000,170000,115500,112900,165400,132320,167000,243900,136600,109280,128875,93700,224000,167875,175000,156600,108800,95550,113000,135000,161342,137141,167000,60000,50000,150000,211500,192400,90700,130000,61300,160000,138600,136000,58000,135000,170000,189650,164996,50000,150000,132000,208775,147800,136994,101570,128875,93700,6000000,28500,164000,155000,95000,75000,120000,145000,105400,80000,90000,215300,158200,209100,154600,115934,81666,175000,75000,183600,40000,180000,55000,35000,60000,45000,60000,45000,260000,60000,63900,160000,112300,241000,159000,180000,80000,82900,100800,45000,140400,30000,40000,30000,80000,70000,80000,70000,60000,80000,40000,30000,75000,215300,70000,180000,20000,80000,100000,250000,120000,125000,240000,105000,80000,1400000,2400000,53000,100000,50000,1400000,148000,120000,144000,104890,100000,140000,135000,50000,220000,140000,70000,185100,220000,200000,120000,120000,65000,324000,216000,210000,120000,230000,100000,100000,29000,200000,75000,150000,100000,100000,153000,52800,165000,85000,66500,57000,30000,40000,121000,115000,120000,75000,59000,120000,157000,150000,90000,65000,65000,20000,48000,152500,62000,115000,380000,88000,10000,20000,405000,135000,177000,78000,100000,85000,75000,214000,192600,266400,213120,141300,102100,115934,81666,206699,99100,130000,110500,99050,160000,205300,176000,144000,200100,145000,70500,205300,140400,205300,184700,175100,140250,116150,54000,50000,80000,210000,69000,150075,25000,126500,106260,220110,160080,105000,110925,35000,60000,192564,144854,150000,150260,109280,160000,130000,67000,52000,154000,126000,129000,150000,200000],\"xaxis\":\"x2\",\"yaxis\":\"y2\",\"type\":\"box\"}],                        {\"template\":{\"data\":{\"histogram2dcontour\":[{\"type\":\"histogram2dcontour\",\"colorbar\":{\"outlinewidth\":0,\"ticks\":\"\"},\"colorscale\":[[0.0,\"#0d0887\"],[0.1111111111111111,\"#46039f\"],[0.2222222222222222,\"#7201a8\"],[0.3333333333333333,\"#9c179e\"],[0.4444444444444444,\"#bd3786\"],[0.5555555555555556,\"#d8576b\"],[0.6666666666666666,\"#ed7953\"],[0.7777777777777778,\"#fb9f3a\"],[0.8888888888888888,\"#fdca26\"],[1.0,\"#f0f921\"]]}],\"choropleth\":[{\"type\":\"choropleth\",\"colorbar\":{\"outlinewidth\":0,\"ticks\":\"\"}}],\"histogram2d\":[{\"type\":\"histogram2d\",\"colorbar\":{\"outlinewidth\":0,\"ticks\":\"\"},\"colorscale\":[[0.0,\"#0d0887\"],[0.1111111111111111,\"#46039f\"],[0.2222222222222222,\"#7201a8\"],[0.3333333333333333,\"#9c179e\"],[0.4444444444444444,\"#bd3786\"],[0.5555555555555556,\"#d8576b\"],[0.6666666666666666,\"#ed7953\"],[0.7777777777777778,\"#fb9f3a\"],[0.8888888888888888,\"#fdca26\"],[1.0,\"#f0f921\"]]}],\"heatmap\":[{\"type\":\"heatmap\",\"colorbar\":{\"outlinewidth\":0,\"ticks\":\"\"},\"colorscale\":[[0.0,\"#0d0887\"],[0.1111111111111111,\"#46039f\"],[0.2222222222222222,\"#7201a8\"],[0.3333333333333333,\"#9c179e\"],[0.4444444444444444,\"#bd3786\"],[0.5555555555555556,\"#d8576b\"],[0.6666666666666666,\"#ed7953\"],[0.7777777777777778,\"#fb9f3a\"],[0.8888888888888888,\"#fdca26\"],[1.0,\"#f0f921\"]]}],\"heatmapgl\":[{\"type\":\"heatmapgl\",\"colorbar\":{\"outlinewidth\":0,\"ticks\":\"\"},\"colorscale\":[[0.0,\"#0d0887\"],[0.1111111111111111,\"#46039f\"],[0.2222222222222222,\"#7201a8\"],[0.3333333333333333,\"#9c179e\"],[0.4444444444444444,\"#bd3786\"],[0.5555555555555556,\"#d8576b\"],[0.6666666666666666,\"#ed7953\"],[0.7777777777777778,\"#fb9f3a\"],[0.8888888888888888,\"#fdca26\"],[1.0,\"#f0f921\"]]}],\"contourcarpet\":[{\"type\":\"contourcarpet\",\"colorbar\":{\"outlinewidth\":0,\"ticks\":\"\"}}],\"contour\":[{\"type\":\"contour\",\"colorbar\":{\"outlinewidth\":0,\"ticks\":\"\"},\"colorscale\":[[0.0,\"#0d0887\"],[0.1111111111111111,\"#46039f\"],[0.2222222222222222,\"#7201a8\"],[0.3333333333333333,\"#9c179e\"],[0.4444444444444444,\"#bd3786\"],[0.5555555555555556,\"#d8576b\"],[0.6666666666666666,\"#ed7953\"],[0.7777777777777778,\"#fb9f3a\"],[0.8888888888888888,\"#fdca26\"],[1.0,\"#f0f921\"]]}],\"surface\":[{\"type\":\"surface\",\"colorbar\":{\"outlinewidth\":0,\"ticks\":\"\"},\"colorscale\":[[0.0,\"#0d0887\"],[0.1111111111111111,\"#46039f\"],[0.2222222222222222,\"#7201a8\"],[0.3333333333333333,\"#9c179e\"],[0.4444444444444444,\"#bd3786\"],[0.5555555555555556,\"#d8576b\"],[0.6666666666666666,\"#ed7953\"],[0.7777777777777778,\"#fb9f3a\"],[0.8888888888888888,\"#fdca26\"],[1.0,\"#f0f921\"]]}],\"mesh3d\":[{\"type\":\"mesh3d\",\"colorbar\":{\"outlinewidth\":0,\"ticks\":\"\"}}],\"scatter\":[{\"fillpattern\":{\"fillmode\":\"overlay\",\"size\":10,\"solidity\":0.2},\"type\":\"scatter\"}],\"parcoords\":[{\"type\":\"parcoords\",\"line\":{\"colorbar\":{\"outlinewidth\":0,\"ticks\":\"\"}}}],\"scatterpolargl\":[{\"type\":\"scatterpolargl\",\"marker\":{\"colorbar\":{\"outlinewidth\":0,\"ticks\":\"\"}}}],\"bar\":[{\"error_x\":{\"color\":\"#2a3f5f\"},\"error_y\":{\"color\":\"#2a3f5f\"},\"marker\":{\"line\":{\"color\":\"#E5ECF6\",\"width\":0.5},\"pattern\":{\"fillmode\":\"overlay\",\"size\":10,\"solidity\":0.2}},\"type\":\"bar\"}],\"scattergeo\":[{\"type\":\"scattergeo\",\"marker\":{\"colorbar\":{\"outlinewidth\":0,\"ticks\":\"\"}}}],\"scatterpolar\":[{\"type\":\"scatterpolar\",\"marker\":{\"colorbar\":{\"outlinewidth\":0,\"ticks\":\"\"}}}],\"histogram\":[{\"marker\":{\"pattern\":{\"fillmode\":\"overlay\",\"size\":10,\"solidity\":0.2}},\"type\":\"histogram\"}],\"scattergl\":[{\"type\":\"scattergl\",\"marker\":{\"colorbar\":{\"outlinewidth\":0,\"ticks\":\"\"}}}],\"scatter3d\":[{\"type\":\"scatter3d\",\"line\":{\"colorbar\":{\"outlinewidth\":0,\"ticks\":\"\"}},\"marker\":{\"colorbar\":{\"outlinewidth\":0,\"ticks\":\"\"}}}],\"scattermapbox\":[{\"type\":\"scattermapbox\",\"marker\":{\"colorbar\":{\"outlinewidth\":0,\"ticks\":\"\"}}}],\"scatterternary\":[{\"type\":\"scatterternary\",\"marker\":{\"colorbar\":{\"outlinewidth\":0,\"ticks\":\"\"}}}],\"scattercarpet\":[{\"type\":\"scattercarpet\",\"marker\":{\"colorbar\":{\"outlinewidth\":0,\"ticks\":\"\"}}}],\"carpet\":[{\"aaxis\":{\"endlinecolor\":\"#2a3f5f\",\"gridcolor\":\"white\",\"linecolor\":\"white\",\"minorgridcolor\":\"white\",\"startlinecolor\":\"#2a3f5f\"},\"baxis\":{\"endlinecolor\":\"#2a3f5f\",\"gridcolor\":\"white\",\"linecolor\":\"white\",\"minorgridcolor\":\"white\",\"startlinecolor\":\"#2a3f5f\"},\"type\":\"carpet\"}],\"table\":[{\"cells\":{\"fill\":{\"color\":\"#EBF0F8\"},\"line\":{\"color\":\"white\"}},\"header\":{\"fill\":{\"color\":\"#C8D4E3\"},\"line\":{\"color\":\"white\"}},\"type\":\"table\"}],\"barpolar\":[{\"marker\":{\"line\":{\"color\":\"#E5ECF6\",\"width\":0.5},\"pattern\":{\"fillmode\":\"overlay\",\"size\":10,\"solidity\":0.2}},\"type\":\"barpolar\"}],\"pie\":[{\"automargin\":true,\"type\":\"pie\"}]},\"layout\":{\"autotypenumbers\":\"strict\",\"colorway\":[\"#636efa\",\"#EF553B\",\"#00cc96\",\"#ab63fa\",\"#FFA15A\",\"#19d3f3\",\"#FF6692\",\"#B6E880\",\"#FF97FF\",\"#FECB52\"],\"font\":{\"color\":\"#2a3f5f\"},\"hovermode\":\"closest\",\"hoverlabel\":{\"align\":\"left\"},\"paper_bgcolor\":\"white\",\"plot_bgcolor\":\"#E5ECF6\",\"polar\":{\"bgcolor\":\"#E5ECF6\",\"angularaxis\":{\"gridcolor\":\"white\",\"linecolor\":\"white\",\"ticks\":\"\"},\"radialaxis\":{\"gridcolor\":\"white\",\"linecolor\":\"white\",\"ticks\":\"\"}},\"ternary\":{\"bgcolor\":\"#E5ECF6\",\"aaxis\":{\"gridcolor\":\"white\",\"linecolor\":\"white\",\"ticks\":\"\"},\"baxis\":{\"gridcolor\":\"white\",\"linecolor\":\"white\",\"ticks\":\"\"},\"caxis\":{\"gridcolor\":\"white\",\"linecolor\":\"white\",\"ticks\":\"\"}},\"coloraxis\":{\"colorbar\":{\"outlinewidth\":0,\"ticks\":\"\"}},\"colorscale\":{\"sequential\":[[0.0,\"#0d0887\"],[0.1111111111111111,\"#46039f\"],[0.2222222222222222,\"#7201a8\"],[0.3333333333333333,\"#9c179e\"],[0.4444444444444444,\"#bd3786\"],[0.5555555555555556,\"#d8576b\"],[0.6666666666666666,\"#ed7953\"],[0.7777777777777778,\"#fb9f3a\"],[0.8888888888888888,\"#fdca26\"],[1.0,\"#f0f921\"]],\"sequentialminus\":[[0.0,\"#0d0887\"],[0.1111111111111111,\"#46039f\"],[0.2222222222222222,\"#7201a8\"],[0.3333333333333333,\"#9c179e\"],[0.4444444444444444,\"#bd3786\"],[0.5555555555555556,\"#d8576b\"],[0.6666666666666666,\"#ed7953\"],[0.7777777777777778,\"#fb9f3a\"],[0.8888888888888888,\"#fdca26\"],[1.0,\"#f0f921\"]],\"diverging\":[[0,\"#8e0152\"],[0.1,\"#c51b7d\"],[0.2,\"#de77ae\"],[0.3,\"#f1b6da\"],[0.4,\"#fde0ef\"],[0.5,\"#f7f7f7\"],[0.6,\"#e6f5d0\"],[0.7,\"#b8e186\"],[0.8,\"#7fbc41\"],[0.9,\"#4d9221\"],[1,\"#276419\"]]},\"xaxis\":{\"gridcolor\":\"white\",\"linecolor\":\"white\",\"ticks\":\"\",\"title\":{\"standoff\":15},\"zerolinecolor\":\"white\",\"automargin\":true,\"zerolinewidth\":2},\"yaxis\":{\"gridcolor\":\"white\",\"linecolor\":\"white\",\"ticks\":\"\",\"title\":{\"standoff\":15},\"zerolinecolor\":\"white\",\"automargin\":true,\"zerolinewidth\":2},\"scene\":{\"xaxis\":{\"backgroundcolor\":\"#E5ECF6\",\"gridcolor\":\"white\",\"linecolor\":\"white\",\"showbackground\":true,\"ticks\":\"\",\"zerolinecolor\":\"white\",\"gridwidth\":2},\"yaxis\":{\"backgroundcolor\":\"#E5ECF6\",\"gridcolor\":\"white\",\"linecolor\":\"white\",\"showbackground\":true,\"ticks\":\"\",\"zerolinecolor\":\"white\",\"gridwidth\":2},\"zaxis\":{\"backgroundcolor\":\"#E5ECF6\",\"gridcolor\":\"white\",\"linecolor\":\"white\",\"showbackground\":true,\"ticks\":\"\",\"zerolinecolor\":\"white\",\"gridwidth\":2}},\"shapedefaults\":{\"line\":{\"color\":\"#2a3f5f\"}},\"annotationdefaults\":{\"arrowcolor\":\"#2a3f5f\",\"arrowhead\":0,\"arrowwidth\":1},\"geo\":{\"bgcolor\":\"white\",\"landcolor\":\"#E5ECF6\",\"subunitcolor\":\"white\",\"showland\":true,\"showlakes\":true,\"lakecolor\":\"white\"},\"title\":{\"x\":0.05},\"mapbox\":{\"style\":\"light\"}}},\"xaxis\":{\"anchor\":\"y\",\"domain\":[0.0,1.0],\"title\":{\"text\":\"\\u0420\\u0430\\u0437\\u043c\\u0435\\u0440 \\u0437\\u0430\\u0440\\u043f\\u043b\\u0430\\u0442\"}},\"yaxis\":{\"anchor\":\"x\",\"domain\":[0.0,0.8316],\"title\":{\"text\":\"\\u0427\\u0430\\u0441\\u0442\\u043e\\u0442\\u0430\"}},\"xaxis2\":{\"anchor\":\"y2\",\"domain\":[0.0,1.0],\"matches\":\"x\",\"showticklabels\":false,\"showgrid\":true},\"yaxis2\":{\"anchor\":\"x2\",\"domain\":[0.8416,1.0],\"matches\":\"y2\",\"showticklabels\":false,\"showline\":false,\"ticks\":\"\",\"showgrid\":false},\"legend\":{\"tracegroupgap\":0},\"title\":{\"text\":\"\\u0420\\u0430\\u0441\\u043f\\u0440\\u0435\\u0434\\u0435\\u043b\\u0435\\u043d\\u0438\\u0435 \\u0437\\u0430\\u0440\\u043f\\u043b\\u0430\\u0442 DS\",\"x\":0.5},\"barmode\":\"relative\",\"height\":700,\"width\":1000,\"shapes\":[{\"line\":{\"color\":\"green\",\"dash\":\"dash\",\"width\":1},\"type\":\"line\",\"x0\":338115.98584070796,\"x1\":338115.98584070796,\"xref\":\"x\",\"y0\":0,\"y1\":1,\"yref\":\"y domain\"},{\"line\":{\"color\":\"green\",\"dash\":\"dash\",\"width\":1},\"type\":\"line\",\"x0\":338115.98584070796,\"x1\":338115.98584070796,\"xref\":\"x2\",\"y0\":0,\"y1\":1,\"yref\":\"y2 domain\"}],\"annotations\":[{\"showarrow\":false,\"text\":\"mean of salary - 338116\",\"x\":338115.98584070796,\"xanchor\":\"left\",\"xref\":\"x\",\"y\":1,\"yanchor\":\"top\",\"yref\":\"y domain\"},{\"showarrow\":false,\"text\":\"mean of salary - 338116\",\"x\":338115.98584070796,\"xanchor\":\"left\",\"xref\":\"x2\",\"y\":1,\"yanchor\":\"top\",\"yref\":\"y2 domain\"}]},                        {\"responsive\": true}                    ).then(function(){\n",
       "                            \n",
       "var gd = document.getElementById('408b4d82-b6cf-4b8a-8eaa-f795439b517b');\n",
       "var x = new MutationObserver(function (mutations, observer) {{\n",
       "        var display = window.getComputedStyle(gd).display;\n",
       "        if (!display || display === 'none') {{\n",
       "            console.log([gd, 'removed!']);\n",
       "            Plotly.purge(gd);\n",
       "            observer.disconnect();\n",
       "        }}\n",
       "}});\n",
       "\n",
       "// Listen for the removal of the full notebook cells\n",
       "var notebookContainer = gd.closest('#notebook-container');\n",
       "if (notebookContainer) {{\n",
       "    x.observe(notebookContainer, {childList: true});\n",
       "}}\n",
       "\n",
       "// Listen for the clearing of the current output cell\n",
       "var outputEl = gd.closest('.output');\n",
       "if (outputEl) {{\n",
       "    x.observe(outputEl, {childList: true});\n",
       "}}\n",
       "\n",
       "                        })                };                });            </script>        </div>"
      ]
     },
     "metadata": {},
     "output_type": "display_data"
    },
    {
     "data": {
      "image/jpeg": "[encoded data removed]"
     },
     "metadata": {},
     "output_type": "display_data"
    }
   ],
   "source": [
    "# Посмотрим распределение числового признака - выебрем гистограмму\n",
    "fig = px.histogram(data, \n",
    "                    nbins=100,\n",
    "                    x=\"salary\",\n",
    "                    title=\"Распределение зарплат DS\",\n",
    "                    width = 1000, \n",
    "                    height = 700, \n",
    "                    color_discrete_sequence=[\"lightskyblue\"],\n",
    "                    marginal='box',\n",
    "                )\n",
    "\n",
    "# Нарисуем линию среднего salary_in_usd\n",
    "fig.add_vline(x=data['salary'].mean(), line_width=1, line_dash=\"dash\", \n",
    "              annotation_text = 'mean of salary - 338116', \n",
    "              line_color=\"green\")\n",
    "\n",
    "# Обновим данные для осей и названия\n",
    "fig.update_layout(title_x = 0.5,\n",
    "                    xaxis_title=\"Размер зарплат\", \n",
    "                    yaxis_title=\"Частота\",\n",
    "                 )\n",
    "\n",
    "\n",
    "fig.show('jpeg')\n",
    "#fig.write_html(\"data/plotly/003_scheduling_salary_histogram.html\")"
   ]
  },
  {
   "cell_type": "markdown",
   "id": "9930e18e",
   "metadata": {},
   "source": [
    "__Вывод:__   \n",
    "- Как мы видим распределение не нормальное, медианна (110.9 тысяч) не совпадает со средним (338.1 тысяч)\n",
    "- Крайние значения: слева - 4000, справа - 30.4 миллиона\n",
    "\n",
    "Скорее всего данный столбец мы удалим."
   ]
  },
  {
   "cell_type": "code",
   "execution_count": 53,
   "id": "03fc3944",
   "metadata": {
    "ExecuteTime": {
     "end_time": "2023-08-31T13:42:23.018652Z",
     "start_time": "2023-08-31T13:42:22.959459Z"
    }
   },
   "outputs": [
    {
     "data": {
      "text/plain": [
       "338116.0"
      ]
     },
     "execution_count": 53,
     "metadata": {},
     "output_type": "execute_result"
    }
   ],
   "source": []
  },
  {
   "cell_type": "code",
   "execution_count": null,
   "id": "53c9d447",
   "metadata": {},
   "outputs": [],
   "source": []
  },
  {
   "cell_type": "code",
   "execution_count": null,
   "id": "8cb44c79",
   "metadata": {},
   "outputs": [],
   "source": []
  },
  {
   "cell_type": "code",
   "execution_count": null,
   "id": "bf508831",
   "metadata": {},
   "outputs": [],
   "source": []
  },
  {
   "cell_type": "code",
   "execution_count": null,
   "id": "df86b2dd",
   "metadata": {},
   "outputs": [],
   "source": []
  },
  {
   "cell_type": "code",
   "execution_count": null,
   "id": "109f62b2",
   "metadata": {},
   "outputs": [],
   "source": []
  },
  {
   "cell_type": "markdown",
   "id": "20e3f7a9",
   "metadata": {},
   "source": [
    "# Results\n",
    "Show graphs and stats here"
   ]
  },
  {
   "cell_type": "markdown",
   "id": "96b32419",
   "metadata": {},
   "source": [
    "# Conclusions and Next Steps\n",
    "Summarize findings here"
   ]
  },
  {
   "cell_type": "code",
   "execution_count": null,
   "id": "746784d2",
   "metadata": {},
   "outputs": [],
   "source": []
  }
 ],
 "metadata": {
  "kernelspec": {
   "display_name": "Python 3 (ipykernel)",
   "language": "python",
   "name": "python3"
  },
  "language_info": {
   "codemirror_mode": {
    "name": "ipython",
    "version": 3
   },
   "file_extension": ".py",
   "mimetype": "text/x-python",
   "name": "python",
   "nbconvert_exporter": "python",
   "pygments_lexer": "ipython3",
   "version": "3.11.4"
  }
 },
 "nbformat": 4,
 "nbformat_minor": 5
}
