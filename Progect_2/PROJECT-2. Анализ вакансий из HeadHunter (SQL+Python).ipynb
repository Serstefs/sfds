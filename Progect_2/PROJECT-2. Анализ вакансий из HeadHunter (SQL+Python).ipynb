{
 "cells": [
  {
   "cell_type": "markdown",
   "id": "42289889-bd57-434e-9637-d3e354756316",
   "metadata": {
    "id": "42289889-bd57-434e-9637-d3e354756316"
   },
   "source": [
    "<center> <img src = https://raw.githubusercontent.com/AndreyRysistov/DatasetsForPandas/main/hh%20label.jpg alt=\"drawing\" style=\"width:400px;\">"
   ]
  },
  {
   "cell_type": "markdown",
   "id": "829cb75b-f14e-4ba8-9195-7ba929a7d656",
   "metadata": {
    "id": "829cb75b-f14e-4ba8-9195-7ba929a7d656",
    "tags": []
   },
   "source": [
    "# <center> Проект: Анализ вакансий из HeadHunter\n",
    "   "
   ]
  },
  {
   "cell_type": "code",
   "execution_count": 1,
   "id": "dccfde33-2452-43fb-a8a5-5c6ebc02a71d",
   "metadata": {
    "ExecuteTime": {
     "end_time": "2023-08-19T20:52:17.590249Z",
     "start_time": "2023-08-19T20:52:16.408709Z"
    },
    "id": "dccfde33-2452-43fb-a8a5-5c6ebc02a71d"
   },
   "outputs": [],
   "source": [
    "# Data manipulation\n",
    "import pandas as pd\n",
    "# Connect to SQL database and implementation for a request\n",
    "import psycopg2\n",
    "# Parse URLs into components and work's it\n",
    "import urllib.parse as req\n",
    "# Visualization\n",
    "import plotly.express as px\n",
    "# Hiding message of user warnings  \n",
    "import warnings\n",
    "warnings.filterwarnings('ignore', category=UserWarning)"
   ]
  },
  {
   "cell_type": "code",
   "execution_count": 3,
   "id": "G4X_q8KBf7SF",
   "metadata": {
    "ExecuteTime": {
     "end_time": "2023-08-19T20:52:17.705910Z",
     "start_time": "2023-08-19T20:52:17.599075Z"
    },
    "id": "G4X_q8KBf7SF"
   },
   "outputs": [],
   "source": [
    "connection = psycopg2.connect(\n",
    "    dbname=DBNAME,\n",
    "    user=USER,\n",
    "    host=HOST,\n",
    "    password=PASSWORD,\n",
    "    port=PORT\n",
    ")"
   ]
  },
  {
   "cell_type": "markdown",
   "id": "0dc6476b-7a00-44f1-ac93-6e3baed33a29",
   "metadata": {
    "id": "0dc6476b-7a00-44f1-ac93-6e3baed33a29"
   },
   "source": [
    "# Юнит 3. Предварительный анализ данных"
   ]
  },
  {
   "cell_type": "markdown",
   "id": "889782b6-8d1c-410e-8920-e57f27917c64",
   "metadata": {
    "id": "889782b6-8d1c-410e-8920-e57f27917c64"
   },
   "source": [
    "1. Напишите запрос, который посчитает количество вакансий в нашей базе (вакансии находятся в таблице vacancies). "
   ]
  },
  {
   "cell_type": "code",
   "execution_count": 4,
   "id": "bc39e68e-ed02-4ee2-9235-7258a2f867a8",
   "metadata": {
    "ExecuteTime": {
     "end_time": "2023-08-19T20:52:17.714109Z",
     "start_time": "2023-08-19T20:52:17.710813Z"
    },
    "id": "bc39e68e-ed02-4ee2-9235-7258a2f867a8"
   },
   "outputs": [],
   "source": [
    "# Обрашаемся к таблице VACANCIES и подсчитываем кол-во уникальных id\n",
    "query_3_1 = f'''select \n",
    "                    count(id) amount\n",
    "                \n",
    "                from VACANCIES\n",
    "             '''"
   ]
  },
  {
   "cell_type": "code",
   "execution_count": 5,
   "id": "7mAwtsk4hEHY",
   "metadata": {
    "ExecuteTime": {
     "end_time": "2023-08-19T20:52:17.918851Z",
     "start_time": "2023-08-19T20:52:17.716396Z"
    },
    "id": "7mAwtsk4hEHY"
   },
   "outputs": [
    {
     "data": {
      "text/plain": [
       "49197"
      ]
     },
     "metadata": {},
     "output_type": "display_data"
    }
   ],
   "source": [
    "# Используем метод read_sql_query, чтобы получить результаты сразу в виде датафрейма\n",
    "df_3_1 = pd.read_sql_query(query_3_1, connection)\n",
    "display(df_3_1['amount'][0])"
   ]
  },
  {
   "cell_type": "markdown",
   "id": "ab4ae7c3",
   "metadata": {},
   "source": [
    "<hr style=\"border-style: dashed;\">\n",
    "В основном здесь представленны вакансий по ИТ, но встречаються и такие как -  \"Автор статей о спорте\", \"Руководитель отдела доставки\", \"юрист\" и т.д.\n",
    "<hr style=\"border-style: dashed;\">"
   ]
  },
  {
   "cell_type": "markdown",
   "id": "b583485d-1f9e-494e-ada4-80ffff7c53d6",
   "metadata": {
    "id": "b583485d-1f9e-494e-ada4-80ffff7c53d6"
   },
   "source": [
    "2. Напишите запрос, который посчитает количество работодателей (таблица employers). "
   ]
  },
  {
   "cell_type": "code",
   "execution_count": 6,
   "id": "5408c52c-3407-4a63-b25b-1aafa2322d28",
   "metadata": {
    "ExecuteTime": {
     "end_time": "2023-08-19T20:52:17.924972Z",
     "start_time": "2023-08-19T20:52:17.921790Z"
    },
    "id": "5408c52c-3407-4a63-b25b-1aafa2322d28"
   },
   "outputs": [],
   "source": [
    "# Обрашаемся к таблице EMPLOYERS и подсчитываем кол-во уникальных id\n",
    "query_3_2 = f'''select \n",
    "                    count(id) amount\n",
    "                \n",
    "                from EMPLOYERS\n",
    "             '''"
   ]
  },
  {
   "cell_type": "code",
   "execution_count": 7,
   "id": "jVL4eshKhdqc",
   "metadata": {
    "ExecuteTime": {
     "end_time": "2023-08-19T20:52:17.953616Z",
     "start_time": "2023-08-19T20:52:17.927228Z"
    },
    "id": "jVL4eshKhdqc"
   },
   "outputs": [
    {
     "data": {
      "text/plain": [
       "23501"
      ]
     },
     "metadata": {},
     "output_type": "display_data"
    }
   ],
   "source": [
    "# Используем метод read_sql_query, чтобы получить результаты сразу в виде датафрейма\n",
    "df_3_2 = pd.read_sql_query(query_3_2, connection)\n",
    "display(df_3_2['amount'][0])"
   ]
  },
  {
   "cell_type": "markdown",
   "id": "ae7d48ce",
   "metadata": {},
   "source": [
    "<hr style=\"border-style: dashed;\">\n",
    "Как мы видим в среднем у нас приходиться 2 заявки на одного работадателя, хотя если мы детально посмотрим, то увидим, что на крупных работадателей приходяться - сотни, иногда тысячи вакансий и бренды на слуху.  \n",
    "<hr style=\"border-style: dashed;\">\n"
   ]
  },
  {
   "cell_type": "markdown",
   "id": "a2bfff1f-c975-4bf6-84be-2185d79dcb76",
   "metadata": {
    "id": "a2bfff1f-c975-4bf6-84be-2185d79dcb76"
   },
   "source": [
    "3. Посчитате с помощью запроса количество регионов (таблица areas)."
   ]
  },
  {
   "cell_type": "code",
   "execution_count": 8,
   "id": "1m8QJwBYhey6",
   "metadata": {
    "ExecuteTime": {
     "end_time": "2023-08-19T20:52:17.960327Z",
     "start_time": "2023-08-19T20:52:17.956532Z"
    },
    "id": "1m8QJwBYhey6"
   },
   "outputs": [],
   "source": [
    "# Обрашаемся к таблице AREAS и подсчитываем кол-во уникальных id\n",
    "query_3_3 = f'''select \n",
    "                    count(id) amount\n",
    "                \n",
    "                from AREAS\n",
    "             '''"
   ]
  },
  {
   "cell_type": "code",
   "execution_count": 9,
   "id": "EZsn9tlfhe7f",
   "metadata": {
    "ExecuteTime": {
     "end_time": "2023-08-19T20:52:17.987256Z",
     "start_time": "2023-08-19T20:52:17.962667Z"
    },
    "id": "EZsn9tlfhe7f"
   },
   "outputs": [
    {
     "data": {
      "text/plain": [
       "1362"
      ]
     },
     "metadata": {},
     "output_type": "display_data"
    }
   ],
   "source": [
    "# Используем метод read_sql_query, чтобы получить результаты сразу в виде датафрейма\n",
    "df_3_3 = pd.read_sql_query(query_3_3, connection)\n",
    "display(df_3_3['amount'][0])"
   ]
  },
  {
   "cell_type": "markdown",
   "id": "63977167",
   "metadata": {},
   "source": [
    "<hr style=\"border-style: dashed;\">\n",
    "Сразу хочу сказать, то здесь под регионом имееться виду - населенный пункт, город, область, страна. Есть достаточно необыные названия - ВНИИССОК, Яя, Другие регионы и тд.. Также представленны страны - Таджикистан, США, и др.. Если  взять в среднем, то будет около 36 вакансий на регион, но здесь мы должны понимать, что большая часть вакансий будет расположена в крупных городах, а остальные либо в небольших городах, либо за рубежом. Также представленны регионы в которых нет вакансий - возможно районы, где зарегестрирован работадатель. И около 400 районов без вакансий и зарегистрированного работадателя.\n",
    "<hr style=\"border-style: dashed;\">"
   ]
  },
  {
   "cell_type": "markdown",
   "id": "41bb59f3-53cc-4a67-a5bc-bedf573955e4",
   "metadata": {
    "id": "41bb59f3-53cc-4a67-a5bc-bedf573955e4"
   },
   "source": [
    "4. Посчитате с помощью запроса количество сфер деятельности в базе (таблица industries)."
   ]
  },
  {
   "cell_type": "code",
   "execution_count": 10,
   "id": "d286cf4c-707b-4cd2-9190-7ab3587d04a1",
   "metadata": {
    "ExecuteTime": {
     "end_time": "2023-08-19T20:52:18.000977Z",
     "start_time": "2023-08-19T20:52:17.998407Z"
    },
    "id": "d286cf4c-707b-4cd2-9190-7ab3587d04a1"
   },
   "outputs": [],
   "source": [
    "# Обрашаемся к таблице INDUSTRIES и подсчитываем кол-во уникальных id\n",
    "query_3_4 = f'''select \n",
    "                    count(id) amount\n",
    "                \n",
    "                from INDUSTRIES\n",
    "             '''"
   ]
  },
  {
   "cell_type": "code",
   "execution_count": 11,
   "id": "JYAaoZ4qhfzW",
   "metadata": {
    "ExecuteTime": {
     "end_time": "2023-08-19T20:52:18.026596Z",
     "start_time": "2023-08-19T20:52:18.002826Z"
    },
    "id": "JYAaoZ4qhfzW"
   },
   "outputs": [
    {
     "data": {
      "text/plain": [
       "294"
      ]
     },
     "metadata": {},
     "output_type": "display_data"
    }
   ],
   "source": [
    "# Используем метод read_sql_query, чтобы получить результаты сразу в виде датафрейма\n",
    "df_3_4 = pd.read_sql_query(query_3_4, connection)\n",
    "display(df_3_4['amount'][0])"
   ]
  },
  {
   "cell_type": "markdown",
   "id": "32bd7f91",
   "metadata": {},
   "source": [
    "<hr style=\"border-style: dashed;\">\n",
    "Здесь у нас представленны самые разнообразные сферы деятельности: разработка, сфера услуг, промышленность, благотворительность и тд.. \n",
    "<hr style=\"border-style: dashed;\">"
   ]
  },
  {
   "cell_type": "markdown",
   "id": "9a8a2181-6914-448b-85f1-38f5f18b8a93",
   "metadata": {
    "id": "9a8a2181-6914-448b-85f1-38f5f18b8a93"
   },
   "source": [
    "***"
   ]
  },
  {
   "cell_type": "markdown",
   "id": "a8bac355",
   "metadata": {
    "id": "be4e9bd3-a4db-4a20-82fb-6b02fc2957e0"
   },
   "source": [
    "Как мы видиели из сделанных запросов по большей части, у нас здесь представленны вакансий связанные с IT, но есть и вкрапления других направлений (юрист и тд.). Большинство работадателей у нас из Россий, хотя встречаеться ближнее зарубежье, а так же из стран расположенные на других континентах. Количество сфер деятельности, где применяется IT самое разнообразное."
   ]
  },
  {
   "cell_type": "markdown",
   "id": "8d62a9f3-f64e-4fe7-bdac-c4dffa16155e",
   "metadata": {
    "id": "8d62a9f3-f64e-4fe7-bdac-c4dffa16155e"
   },
   "source": [
    "# Юнит 4. Детальный анализ вакансий"
   ]
  },
  {
   "cell_type": "markdown",
   "id": "93053d3d-b284-481a-9cf7-012d7014c0e0",
   "metadata": {
    "id": "93053d3d-b284-481a-9cf7-012d7014c0e0"
   },
   "source": [
    "1. Напишите запрос, который позволит узнать, сколько (cnt) вакансий в каждом регионе (area).\n",
    "Отсортируйте по количеству вакансий в порядке убывания."
   ]
  },
  {
   "cell_type": "code",
   "execution_count": 12,
   "id": "3f069da6-fdc9-4ae7-b514-fafe2675efd3",
   "metadata": {
    "ExecuteTime": {
     "end_time": "2023-08-19T20:52:18.032056Z",
     "start_time": "2023-08-19T20:52:18.029411Z"
    },
    "id": "3f069da6-fdc9-4ae7-b514-fafe2675efd3"
   },
   "outputs": [],
   "source": [
    "# Обрашаемся к таблице VACANCIES и AREAS\n",
    "query_4_1 = f'''select \n",
    "                    count(v.id) cnt, \n",
    "                    a.name area\n",
    "                \n",
    "                from VACANCIES v\n",
    "                   join AREAS a on v.area_id = a.id\n",
    "                \n",
    "                group by a.name\n",
    "                \n",
    "                order by cnt desc\n",
    "             '''"
   ]
  },
  {
   "cell_type": "code",
   "execution_count": 13,
   "id": "P7QL86hrjhRJ",
   "metadata": {
    "ExecuteTime": {
     "end_time": "2023-08-19T20:52:18.113509Z",
     "start_time": "2023-08-19T20:52:18.033927Z"
    },
    "id": "P7QL86hrjhRJ"
   },
   "outputs": [
    {
     "data": {
      "text/html": [
       "<div>\n",
       "<style scoped>\n",
       "    .dataframe tbody tr th:only-of-type {\n",
       "        vertical-align: middle;\n",
       "    }\n",
       "\n",
       "    .dataframe tbody tr th {\n",
       "        vertical-align: top;\n",
       "    }\n",
       "\n",
       "    .dataframe thead th {\n",
       "        text-align: right;\n",
       "    }\n",
       "</style>\n",
       "<table border=\"1\" class=\"dataframe\">\n",
       "  <thead>\n",
       "    <tr style=\"text-align: right;\">\n",
       "      <th></th>\n",
       "      <th>cnt</th>\n",
       "      <th>area</th>\n",
       "    </tr>\n",
       "  </thead>\n",
       "  <tbody>\n",
       "    <tr>\n",
       "      <th>0</th>\n",
       "      <td>5333</td>\n",
       "      <td>Москва</td>\n",
       "    </tr>\n",
       "    <tr>\n",
       "      <th>1</th>\n",
       "      <td>2851</td>\n",
       "      <td>Санкт-Петербург</td>\n",
       "    </tr>\n",
       "    <tr>\n",
       "      <th>2</th>\n",
       "      <td>2112</td>\n",
       "      <td>Минск</td>\n",
       "    </tr>\n",
       "    <tr>\n",
       "      <th>3</th>\n",
       "      <td>2006</td>\n",
       "      <td>Новосибирск</td>\n",
       "    </tr>\n",
       "    <tr>\n",
       "      <th>4</th>\n",
       "      <td>1892</td>\n",
       "      <td>Алматы</td>\n",
       "    </tr>\n",
       "    <tr>\n",
       "      <th>...</th>\n",
       "      <td>...</td>\n",
       "      <td>...</td>\n",
       "    </tr>\n",
       "    <tr>\n",
       "      <th>764</th>\n",
       "      <td>1</td>\n",
       "      <td>Тарко-Сале</td>\n",
       "    </tr>\n",
       "    <tr>\n",
       "      <th>765</th>\n",
       "      <td>1</td>\n",
       "      <td>Новоаннинский</td>\n",
       "    </tr>\n",
       "    <tr>\n",
       "      <th>766</th>\n",
       "      <td>1</td>\n",
       "      <td>Бирск</td>\n",
       "    </tr>\n",
       "    <tr>\n",
       "      <th>767</th>\n",
       "      <td>1</td>\n",
       "      <td>Сасово</td>\n",
       "    </tr>\n",
       "    <tr>\n",
       "      <th>768</th>\n",
       "      <td>1</td>\n",
       "      <td>Анна</td>\n",
       "    </tr>\n",
       "  </tbody>\n",
       "</table>\n",
       "<p>769 rows × 2 columns</p>\n",
       "</div>"
      ],
      "text/plain": [
       "      cnt             area\n",
       "0    5333           Москва\n",
       "1    2851  Санкт-Петербург\n",
       "2    2112            Минск\n",
       "3    2006      Новосибирск\n",
       "4    1892           Алматы\n",
       "..    ...              ...\n",
       "764     1       Тарко-Сале\n",
       "765     1    Новоаннинский\n",
       "766     1            Бирск\n",
       "767     1           Сасово\n",
       "768     1             Анна\n",
       "\n",
       "[769 rows x 2 columns]"
      ]
     },
     "metadata": {},
     "output_type": "display_data"
    }
   ],
   "source": [
    "# Используем метод read_sql_query, чтобы получить результаты сразу в виде датафрейма\n",
    "df_4_1 = pd.read_sql_query(query_4_1, connection)\n",
    "display(df_4_1)"
   ]
  },
  {
   "cell_type": "markdown",
   "id": "295e13d2",
   "metadata": {},
   "source": [
    "<hr style=\"border-style: dashed;\">\n",
    "Здесь мы видим, что большинство вакансий располагаеться в Россий в крупных городах евпропейской части, особенно отличается столица нашей Родины город Москва - у нее около 10.8% всех пресдставленных вакансий. В топ5 также присутствуют 2 города из-за рубежа: Минск (Республика Беларусь - 4.2%) и Алматы (Казахстан - 3.85%). Крупные города - это как правило развитые промышленные центры, и центры преоставления услуг, они аккамулируют в себе большое количество разнообразных ресурсов и поэтому 'здесь' всегда требуються в большом объеме 'рабочие руки'. Также хочу отметить, что топ5 показанных районов это около 29% всех представленных вакансий. \n",
    "Полагаю такая ситуация связанная с тем, что данные города оказались в русском HH, сложилась исторически и экономически. Как говорил Наполеон: \"География - это судьба.\"\n",
    "<hr style=\"border-style: dashed;\">"
   ]
  },
  {
   "cell_type": "markdown",
   "id": "4266f0b6-1646-492a-88b4-2f6a46502135",
   "metadata": {
    "id": "4266f0b6-1646-492a-88b4-2f6a46502135"
   },
   "source": [
    "2. Напишите запрос, чтобы определить у какого количества вакансий заполнено хотя бы одно из двух полей с зарплатой."
   ]
  },
  {
   "cell_type": "code",
   "execution_count": 14,
   "id": "0c44b350-72eb-4d65-8b54-a1fc449ba9fd",
   "metadata": {
    "ExecuteTime": {
     "end_time": "2023-08-19T20:52:18.118209Z",
     "start_time": "2023-08-19T20:52:18.115836Z"
    },
    "id": "0c44b350-72eb-4d65-8b54-a1fc449ba9fd"
   },
   "outputs": [],
   "source": [
    "# Обрашаемся к таблице VACANCIES и ставим условие not null и подсчитываем строки\n",
    "query_4_2 = f'''select \n",
    "                    count(*) amount\n",
    "                \n",
    "                from VACANCIES\n",
    "                \n",
    "                where \n",
    "                    salary_from is not NULL \n",
    "                    or salary_to is not NULL\n",
    "             '''"
   ]
  },
  {
   "cell_type": "code",
   "execution_count": 15,
   "id": "rhvwaMDkoWTi",
   "metadata": {
    "ExecuteTime": {
     "end_time": "2023-08-19T20:52:18.153876Z",
     "start_time": "2023-08-19T20:52:18.120159Z"
    },
    "id": "rhvwaMDkoWTi"
   },
   "outputs": [
    {
     "data": {
      "text/plain": [
       "24073"
      ]
     },
     "metadata": {},
     "output_type": "display_data"
    }
   ],
   "source": [
    "# Используем метод read_sql_query, чтобы получить результаты сразу в виде датафрейма\n",
    "df_4_2 = pd.read_sql_query(query_4_2, connection)\n",
    "display(df_4_2['amount'][0])"
   ]
  },
  {
   "cell_type": "markdown",
   "id": "f8dcd108",
   "metadata": {},
   "source": [
    "<hr style=\"border-style: dashed;\">\n",
    "Здесь у нас проблема, у половины вакансий не заполненно поле с зарплатной вилкой вообще. Если посмотреть более внимательно то окажеться, что большинство вакансий без указания ЗП при выборе какого-то параметра: это вакансий с опытом работы от 1 года до 3 лет (13.333), либо с полным рабочим днем (19.047), либо с полной занятостью (23.874).\n",
    "<hr style=\"border-style: dashed;\">"
   ]
  },
  {
   "cell_type": "markdown",
   "id": "635c4d5d-f323-4c66-b428-50a088120aa0",
   "metadata": {
    "id": "635c4d5d-f323-4c66-b428-50a088120aa0"
   },
   "source": [
    "3. Найдите средние значения для нижней и верхней границы зарплатной вилки. Округлите значения до целого."
   ]
  },
  {
   "cell_type": "code",
   "execution_count": 16,
   "id": "603cdbe4-0ec3-4106-8eaf-c73fcdd29165",
   "metadata": {
    "ExecuteTime": {
     "end_time": "2023-08-19T20:52:18.160535Z",
     "start_time": "2023-08-19T20:52:18.157004Z"
    },
    "id": "603cdbe4-0ec3-4106-8eaf-c73fcdd29165"
   },
   "outputs": [],
   "source": [
    "# Обрашаемся к таблице VACANCIES и ставим условие not null и подсчитываем строки\n",
    "query_4_3 = f'''select \n",
    "                    round(avg(salary_from)) low, \n",
    "                    round(avg(salary_to)) top\n",
    "                \n",
    "                from VACANCIES\n",
    "             '''"
   ]
  },
  {
   "cell_type": "code",
   "execution_count": 17,
   "id": "pswpAb66ovZZ",
   "metadata": {
    "ExecuteTime": {
     "end_time": "2023-08-19T20:52:18.199308Z",
     "start_time": "2023-08-19T20:52:18.163050Z"
    },
    "id": "pswpAb66ovZZ"
   },
   "outputs": [
    {
     "data": {
      "text/html": [
       "<div>\n",
       "<style scoped>\n",
       "    .dataframe tbody tr th:only-of-type {\n",
       "        vertical-align: middle;\n",
       "    }\n",
       "\n",
       "    .dataframe tbody tr th {\n",
       "        vertical-align: top;\n",
       "    }\n",
       "\n",
       "    .dataframe thead th {\n",
       "        text-align: right;\n",
       "    }\n",
       "</style>\n",
       "<table border=\"1\" class=\"dataframe\">\n",
       "  <thead>\n",
       "    <tr style=\"text-align: right;\">\n",
       "      <th></th>\n",
       "      <th>low</th>\n",
       "      <th>top</th>\n",
       "    </tr>\n",
       "  </thead>\n",
       "  <tbody>\n",
       "    <tr>\n",
       "      <th>0</th>\n",
       "      <td>71065.0</td>\n",
       "      <td>110537.0</td>\n",
       "    </tr>\n",
       "  </tbody>\n",
       "</table>\n",
       "</div>"
      ],
      "text/plain": [
       "       low       top\n",
       "0  71065.0  110537.0"
      ]
     },
     "metadata": {},
     "output_type": "display_data"
    }
   ],
   "source": [
    "# Используем метод read_sql_query, чтобы получить результаты сразу в виде датафрейма\n",
    "df_4_3 = pd.read_sql_query(query_4_3, connection)\n",
    "display(df_4_3)"
   ]
  },
  {
   "cell_type": "markdown",
   "id": "dab2557d",
   "metadata": {},
   "source": [
    "<hr style=\"border-style: dashed;\">\n",
    "Здесь мы видим что разница между средним уровнем, всего 40000, хотя в абсолюных цифрах минимум - 30, а максимум 1_000_000.\n",
    "<hr style=\"border-style: dashed;\">"
   ]
  },
  {
   "cell_type": "markdown",
   "id": "f3fdaec9-5fd3-4260-9cf5-1d7406b628a5",
   "metadata": {
    "id": "f3fdaec9-5fd3-4260-9cf5-1d7406b628a5"
   },
   "source": [
    "4. Напишите запрос, который выведет количество вакансий для каждого сочетания типа рабочего графика (schedule) и типа трудоустройства (employment), используемого в вакансиях. Результат отсортируйте по убыванию количества.\n"
   ]
  },
  {
   "cell_type": "code",
   "execution_count": 18,
   "id": "1ea710ec-871b-431e-9462-c7d0fd87011b",
   "metadata": {
    "ExecuteTime": {
     "end_time": "2023-08-19T20:52:18.204147Z",
     "start_time": "2023-08-19T20:52:18.201449Z"
    },
    "id": "1ea710ec-871b-431e-9462-c7d0fd87011b"
   },
   "outputs": [],
   "source": [
    "# Обрашаемся к таблице VACANCIES групируем по условиям и подсчитываем id\n",
    "query_4_4 = f'''select \n",
    "                    schedule, \n",
    "                    employment, \n",
    "                    count(id) amount\n",
    "                \n",
    "                from VACANCIES\n",
    "                \n",
    "                group by schedule, employment\n",
    "                \n",
    "                order by amount desc\n",
    "             '''"
   ]
  },
  {
   "cell_type": "code",
   "execution_count": 19,
   "id": "lGUVqavdo4JQ",
   "metadata": {
    "ExecuteTime": {
     "end_time": "2023-08-19T20:52:18.250980Z",
     "start_time": "2023-08-19T20:52:18.206076Z"
    },
    "id": "lGUVqavdo4JQ"
   },
   "outputs": [
    {
     "data": {
      "text/html": [
       "<div>\n",
       "<style scoped>\n",
       "    .dataframe tbody tr th:only-of-type {\n",
       "        vertical-align: middle;\n",
       "    }\n",
       "\n",
       "    .dataframe tbody tr th {\n",
       "        vertical-align: top;\n",
       "    }\n",
       "\n",
       "    .dataframe thead th {\n",
       "        text-align: right;\n",
       "    }\n",
       "</style>\n",
       "<table border=\"1\" class=\"dataframe\">\n",
       "  <thead>\n",
       "    <tr style=\"text-align: right;\">\n",
       "      <th></th>\n",
       "      <th>schedule</th>\n",
       "      <th>employment</th>\n",
       "      <th>amount</th>\n",
       "    </tr>\n",
       "  </thead>\n",
       "  <tbody>\n",
       "    <tr>\n",
       "      <th>0</th>\n",
       "      <td>Полный день</td>\n",
       "      <td>Полная занятость</td>\n",
       "      <td>35367</td>\n",
       "    </tr>\n",
       "    <tr>\n",
       "      <th>1</th>\n",
       "      <td>Удаленная работа</td>\n",
       "      <td>Полная занятость</td>\n",
       "      <td>7802</td>\n",
       "    </tr>\n",
       "    <tr>\n",
       "      <th>2</th>\n",
       "      <td>Гибкий график</td>\n",
       "      <td>Полная занятость</td>\n",
       "      <td>1593</td>\n",
       "    </tr>\n",
       "    <tr>\n",
       "      <th>3</th>\n",
       "      <td>Удаленная работа</td>\n",
       "      <td>Частичная занятость</td>\n",
       "      <td>1312</td>\n",
       "    </tr>\n",
       "    <tr>\n",
       "      <th>4</th>\n",
       "      <td>Сменный график</td>\n",
       "      <td>Полная занятость</td>\n",
       "      <td>940</td>\n",
       "    </tr>\n",
       "    <tr>\n",
       "      <th>5</th>\n",
       "      <td>Полный день</td>\n",
       "      <td>Стажировка</td>\n",
       "      <td>569</td>\n",
       "    </tr>\n",
       "    <tr>\n",
       "      <th>6</th>\n",
       "      <td>Вахтовый метод</td>\n",
       "      <td>Полная занятость</td>\n",
       "      <td>367</td>\n",
       "    </tr>\n",
       "    <tr>\n",
       "      <th>7</th>\n",
       "      <td>Полный день</td>\n",
       "      <td>Частичная занятость</td>\n",
       "      <td>347</td>\n",
       "    </tr>\n",
       "    <tr>\n",
       "      <th>8</th>\n",
       "      <td>Гибкий график</td>\n",
       "      <td>Частичная занятость</td>\n",
       "      <td>312</td>\n",
       "    </tr>\n",
       "    <tr>\n",
       "      <th>9</th>\n",
       "      <td>Полный день</td>\n",
       "      <td>Проектная работа</td>\n",
       "      <td>141</td>\n",
       "    </tr>\n",
       "    <tr>\n",
       "      <th>10</th>\n",
       "      <td>Удаленная работа</td>\n",
       "      <td>Проектная работа</td>\n",
       "      <td>133</td>\n",
       "    </tr>\n",
       "    <tr>\n",
       "      <th>11</th>\n",
       "      <td>Гибкий график</td>\n",
       "      <td>Стажировка</td>\n",
       "      <td>116</td>\n",
       "    </tr>\n",
       "    <tr>\n",
       "      <th>12</th>\n",
       "      <td>Сменный график</td>\n",
       "      <td>Частичная занятость</td>\n",
       "      <td>101</td>\n",
       "    </tr>\n",
       "    <tr>\n",
       "      <th>13</th>\n",
       "      <td>Удаленная работа</td>\n",
       "      <td>Стажировка</td>\n",
       "      <td>64</td>\n",
       "    </tr>\n",
       "    <tr>\n",
       "      <th>14</th>\n",
       "      <td>Гибкий график</td>\n",
       "      <td>Проектная работа</td>\n",
       "      <td>18</td>\n",
       "    </tr>\n",
       "    <tr>\n",
       "      <th>15</th>\n",
       "      <td>Сменный график</td>\n",
       "      <td>Стажировка</td>\n",
       "      <td>12</td>\n",
       "    </tr>\n",
       "    <tr>\n",
       "      <th>16</th>\n",
       "      <td>Вахтовый метод</td>\n",
       "      <td>Проектная работа</td>\n",
       "      <td>2</td>\n",
       "    </tr>\n",
       "    <tr>\n",
       "      <th>17</th>\n",
       "      <td>Сменный график</td>\n",
       "      <td>Проектная работа</td>\n",
       "      <td>1</td>\n",
       "    </tr>\n",
       "  </tbody>\n",
       "</table>\n",
       "</div>"
      ],
      "text/plain": [
       "            schedule           employment  amount\n",
       "0        Полный день     Полная занятость   35367\n",
       "1   Удаленная работа     Полная занятость    7802\n",
       "2      Гибкий график     Полная занятость    1593\n",
       "3   Удаленная работа  Частичная занятость    1312\n",
       "4     Сменный график     Полная занятость     940\n",
       "5        Полный день           Стажировка     569\n",
       "6     Вахтовый метод     Полная занятость     367\n",
       "7        Полный день  Частичная занятость     347\n",
       "8      Гибкий график  Частичная занятость     312\n",
       "9        Полный день     Проектная работа     141\n",
       "10  Удаленная работа     Проектная работа     133\n",
       "11     Гибкий график           Стажировка     116\n",
       "12    Сменный график  Частичная занятость     101\n",
       "13  Удаленная работа           Стажировка      64\n",
       "14     Гибкий график     Проектная работа      18\n",
       "15    Сменный график           Стажировка      12\n",
       "16    Вахтовый метод     Проектная работа       2\n",
       "17    Сменный график     Проектная работа       1"
      ]
     },
     "metadata": {},
     "output_type": "display_data"
    }
   ],
   "source": [
    "# Используем метод read_sql_query, чтобы получить результаты сразу в виде датафрейма\n",
    "df_4_4 = pd.read_sql_query(query_4_4, connection)\n",
    "display(df_4_4)"
   ]
  },
  {
   "cell_type": "markdown",
   "id": "db33f656",
   "metadata": {},
   "source": [
    "<hr style=\"border-style: dashed;\">\n",
    "Особым сюрпризом не стало, что лидирует полный рабочий день, при полной занятости. Популярность 2 позиций удаленная работа, в принципе объяснима - как правило с помощью текуших технологий можно работать из любой точки мира, где есть выход в сеть, а также мировозрение на тип такого графика изменил covid.\n",
    "<hr style=\"border-style: dashed;\">"
   ]
  },
  {
   "cell_type": "markdown",
   "id": "0136ffee-0ead-4a6b-b608-61d1c753a438",
   "metadata": {
    "id": "0136ffee-0ead-4a6b-b608-61d1c753a438"
   },
   "source": [
    "5. Напишите запрос, выводящий значения поля Требуемый опыт работы (experience) в порядке возрастания количества вакансий, в которых указан данный вариант опыта. "
   ]
  },
  {
   "cell_type": "code",
   "execution_count": 20,
   "id": "5b3a8e79-f7ab-4008-b767-12aea3a205ea",
   "metadata": {
    "ExecuteTime": {
     "end_time": "2023-08-19T20:52:18.256057Z",
     "start_time": "2023-08-19T20:52:18.252874Z"
    },
    "id": "5b3a8e79-f7ab-4008-b767-12aea3a205ea"
   },
   "outputs": [],
   "source": [
    "# Обрашаемся к таблице VACANCIES групируем по условиям и подсчитываем id\n",
    "query_4_5 = f'''select \n",
    "                    experience,\n",
    "                    count(id) amount\n",
    "                \n",
    "                from VACANCIES\n",
    "                \n",
    "                group by experience\n",
    "                \n",
    "                order by amount \n",
    "             '''"
   ]
  },
  {
   "cell_type": "code",
   "execution_count": 21,
   "id": "3Is64Y-hpDpq",
   "metadata": {
    "ExecuteTime": {
     "end_time": "2023-08-19T20:52:18.301236Z",
     "start_time": "2023-08-19T20:52:18.259131Z"
    },
    "id": "3Is64Y-hpDpq"
   },
   "outputs": [
    {
     "data": {
      "text/html": [
       "<div>\n",
       "<style scoped>\n",
       "    .dataframe tbody tr th:only-of-type {\n",
       "        vertical-align: middle;\n",
       "    }\n",
       "\n",
       "    .dataframe tbody tr th {\n",
       "        vertical-align: top;\n",
       "    }\n",
       "\n",
       "    .dataframe thead th {\n",
       "        text-align: right;\n",
       "    }\n",
       "</style>\n",
       "<table border=\"1\" class=\"dataframe\">\n",
       "  <thead>\n",
       "    <tr style=\"text-align: right;\">\n",
       "      <th></th>\n",
       "      <th>experience</th>\n",
       "      <th>amount</th>\n",
       "    </tr>\n",
       "  </thead>\n",
       "  <tbody>\n",
       "    <tr>\n",
       "      <th>0</th>\n",
       "      <td>Более 6 лет</td>\n",
       "      <td>1337</td>\n",
       "    </tr>\n",
       "    <tr>\n",
       "      <th>1</th>\n",
       "      <td>Нет опыта</td>\n",
       "      <td>7197</td>\n",
       "    </tr>\n",
       "    <tr>\n",
       "      <th>2</th>\n",
       "      <td>От 3 до 6 лет</td>\n",
       "      <td>14511</td>\n",
       "    </tr>\n",
       "    <tr>\n",
       "      <th>3</th>\n",
       "      <td>От 1 года до 3 лет</td>\n",
       "      <td>26152</td>\n",
       "    </tr>\n",
       "  </tbody>\n",
       "</table>\n",
       "</div>"
      ],
      "text/plain": [
       "           experience  amount\n",
       "0         Более 6 лет    1337\n",
       "1           Нет опыта    7197\n",
       "2       От 3 до 6 лет   14511\n",
       "3  От 1 года до 3 лет   26152"
      ]
     },
     "metadata": {},
     "output_type": "display_data"
    }
   ],
   "source": [
    "# Используем метод read_sql_query, чтобы получить результаты сразу в виде датафрейма\n",
    "df_4_5 = pd.read_sql_query(query_4_5, connection)\n",
    "display(df_4_5)"
   ]
  },
  {
   "cell_type": "markdown",
   "id": "a39fd69b",
   "metadata": {},
   "source": [
    "<hr style=\"border-style: dashed;\">\n",
    "Как видим в основном работадателей интересует опыт работы от 1 до 3 лет - это основные рабочие лошадки. Затем идут более опытные кандидаты с опытом от 3 до 6 лет. И видимо самые опытные, задействованы на крупных проектах, которых по сравнению с остальной массой мало.    \n",
    "<hr style=\"border-style: dashed;\">"
   ]
  },
  {
   "cell_type": "markdown",
   "id": "oq2b7n1QpIka",
   "metadata": {
    "id": "oq2b7n1QpIka"
   },
   "source": [
    "***"
   ]
  },
  {
   "cell_type": "markdown",
   "id": "94794d14",
   "metadata": {
    "id": "e91f87ed-e25c-4f96-9f92-b642e8c0b4fa"
   },
   "source": [
    "Подводя кратко итоги можно сказать, что большинство вакансий требуют крупные города. В половине вакансий не указанна видка зарплаты вообще.\n",
    "Средняя зарплата от 70 тысяч до 110 тысяч, вроде и выше средней по Россий (63 тысячи), но в то же время ниже средней по Москве (111 тысяч). Как видим работадатель придерживается проверенного графика работы - полного рабочего дня, но в то же время набирает популярность и удаленная работа. Также работадателям требуються и они готовы платить в основном 'рабочим лошадкам', хотя и встречаются крупные проекты где необходимы специалисты с большим опытом.  "
   ]
  },
  {
   "cell_type": "markdown",
   "id": "7ea20ab6-04a7-40a0-adec-443a0e5a42c3",
   "metadata": {
    "id": "7ea20ab6-04a7-40a0-adec-443a0e5a42c3"
   },
   "source": [
    "# Юнит 5. Анализ работодателей"
   ]
  },
  {
   "cell_type": "markdown",
   "id": "968aed80-74ef-4ffb-b5bf-c65b84e9caea",
   "metadata": {
    "id": "968aed80-74ef-4ffb-b5bf-c65b84e9caea"
   },
   "source": [
    "1. Напишите запрос, который позволит узнать, какие работодатели находятся на первом и пятом месте по количеству вакансий."
   ]
  },
  {
   "cell_type": "code",
   "execution_count": 22,
   "id": "f2d62796-d400-4ec1-a675-88112739a50e",
   "metadata": {
    "ExecuteTime": {
     "end_time": "2023-08-19T20:52:18.306580Z",
     "start_time": "2023-08-19T20:52:18.303790Z"
    },
    "id": "f2d62796-d400-4ec1-a675-88112739a50e"
   },
   "outputs": [],
   "source": [
    "# Обрашаемся к таблице VACANCIES и EMPLOYERS\n",
    "query_5_1 = f'''select \n",
    "                    e.name,\n",
    "                    count(v.id) v_amount\n",
    "                \n",
    "                from VACANCIES v \n",
    "                    join EMPLOYERS e on v.employer_id = e.id\n",
    "                \n",
    "                group by e.name\n",
    "                \n",
    "                order by v_amount desc\n",
    "                \n",
    "                limit 5\n",
    "             '''"
   ]
  },
  {
   "cell_type": "code",
   "execution_count": null,
   "id": "c6ef36e0",
   "metadata": {},
   "outputs": [],
   "source": [
    "# Или так - здесь с помощью CTE делаем подзапрос и потом из него вытаскиваем нужную \n",
    "# нам информацию, обрашаясь непосредственно к необходимым позициям\n",
    "alter_query = f''' with CTE as (select \n",
    "                                    e.name employee_name,\n",
    "                                    row_number() \n",
    "                                        over (order by count(e.name) desc\n",
    "                                                                    ) as rn\n",
    "                    \n",
    "                                from VACANCIES v\n",
    "                                    join employers e on v.employer_id = e.id\n",
    "                                \n",
    "                                group by e.name)\n",
    "                    \n",
    "                    select c.employee_name\n",
    "                    \n",
    "                    from CTE c\n",
    "                    \n",
    "                    where rn in (1, 5)\n",
    "                '''"
   ]
  },
  {
   "cell_type": "code",
   "execution_count": 23,
   "id": "64tOMkAxqkQk",
   "metadata": {
    "ExecuteTime": {
     "end_time": "2023-08-19T20:52:18.380270Z",
     "start_time": "2023-08-19T20:52:18.308843Z"
    },
    "id": "64tOMkAxqkQk"
   },
   "outputs": [
    {
     "data": {
      "text/html": [
       "<div>\n",
       "<style scoped>\n",
       "    .dataframe tbody tr th:only-of-type {\n",
       "        vertical-align: middle;\n",
       "    }\n",
       "\n",
       "    .dataframe tbody tr th {\n",
       "        vertical-align: top;\n",
       "    }\n",
       "\n",
       "    .dataframe thead th {\n",
       "        text-align: right;\n",
       "    }\n",
       "</style>\n",
       "<table border=\"1\" class=\"dataframe\">\n",
       "  <thead>\n",
       "    <tr style=\"text-align: right;\">\n",
       "      <th></th>\n",
       "      <th>name</th>\n",
       "      <th>v_amount</th>\n",
       "    </tr>\n",
       "  </thead>\n",
       "  <tbody>\n",
       "    <tr>\n",
       "      <th>0</th>\n",
       "      <td>Яндекс</td>\n",
       "      <td>1933</td>\n",
       "    </tr>\n",
       "    <tr>\n",
       "      <th>1</th>\n",
       "      <td>Ростелеком</td>\n",
       "      <td>491</td>\n",
       "    </tr>\n",
       "    <tr>\n",
       "      <th>2</th>\n",
       "      <td>Тинькофф</td>\n",
       "      <td>444</td>\n",
       "    </tr>\n",
       "    <tr>\n",
       "      <th>3</th>\n",
       "      <td>СБЕР</td>\n",
       "      <td>428</td>\n",
       "    </tr>\n",
       "    <tr>\n",
       "      <th>4</th>\n",
       "      <td>Газпром нефть</td>\n",
       "      <td>331</td>\n",
       "    </tr>\n",
       "  </tbody>\n",
       "</table>\n",
       "</div>"
      ],
      "text/plain": [
       "            name  v_amount\n",
       "0         Яндекс      1933\n",
       "1     Ростелеком       491\n",
       "2       Тинькофф       444\n",
       "3           СБЕР       428\n",
       "4  Газпром нефть       331"
      ]
     },
     "metadata": {},
     "output_type": "display_data"
    }
   ],
   "source": [
    "# Используем метод read_sql_query, чтобы получить результаты сразу в виде датафрейма\n",
    "df_5_1 = pd.read_sql_query(query_5_1, connection)\n",
    "display(df_5_1)"
   ]
  },
  {
   "cell_type": "markdown",
   "id": "50afde7b",
   "metadata": {},
   "source": [
    "<hr style=\"border-style: dashed;\">\n",
    "По поводу первого места, неудивительно Яндекс крупнейшая и старейшая IT компания РФ. Но также мы видим, что в топ5 входят Ростелеком (связь), 2 банка, а также и Газпром нефть (добывающая и перерабатывающая отрасль).\n",
    "<hr style=\"border-style: dashed;\">"
   ]
  },
  {
   "cell_type": "markdown",
   "id": "68377cfc-b378-43dc-ab7d-1195abf2c515",
   "metadata": {
    "id": "68377cfc-b378-43dc-ab7d-1195abf2c515"
   },
   "source": [
    "2. Напишите запрос, который для каждого региона выведет количество работодателей и вакансий в нём.\n",
    "Среди регионов, в которых нет вакансий, найдите тот, в котором наибольшее количество работодателей.\n"
   ]
  },
  {
   "cell_type": "code",
   "execution_count": 24,
   "id": "e75c9831",
   "metadata": {
    "ExecuteTime": {
     "end_time": "2023-08-19T20:52:18.385618Z",
     "start_time": "2023-08-19T20:52:18.382672Z"
    }
   },
   "outputs": [],
   "source": [
    "# запрос, который для каждого региона выведет количество работодателей и вакансий в нём\n",
    "query_5_20 = f'''select a.name,  \n",
    "                       count(distinct e.id) E_amount,\n",
    "                       count(distinct v.id) V_amount\n",
    "                \n",
    "                from AREAS a\n",
    "                    left join EMPLOYERS e ON e.area = a.id\n",
    "                    left join VACANCIES v ON v.area_id = a.id\n",
    "                                \n",
    "                group by a.id\n",
    "                \n",
    "                order by E_amount desc\n",
    "             '''"
   ]
  },
  {
   "cell_type": "code",
   "execution_count": 25,
   "id": "dd7df27a-e3e8-412e-a21a-5d389b71e891",
   "metadata": {
    "ExecuteTime": {
     "end_time": "2023-08-19T20:52:18.390548Z",
     "start_time": "2023-08-19T20:52:18.387621Z"
    },
    "id": "dd7df27a-e3e8-412e-a21a-5d389b71e891"
   },
   "outputs": [],
   "source": [
    "# Обрашаемся к таблице AREAS, VACANCIES и EMPLOYERS\n",
    "# Здесь запрос по кол-ву работадателей - вакансии по структуре такой же, надо только\n",
    "# убрать условие (null). Ниже приведу скрин работадателей - вакансий\n",
    "query_5_2 = f'''select a.name,  \n",
    "                       count(distinct e.id) E_amount,\n",
    "                       count(distinct v.id) V_amount\n",
    "                \n",
    "                from AREAS a\n",
    "                    left join EMPLOYERS e ON e.area = a.id\n",
    "                    left join VACANCIES v ON v.area_id = a.id\n",
    "                \n",
    "                where v.id is null\n",
    "                \n",
    "                group by a.id\n",
    "                \n",
    "                order by E_amount desc\n",
    "             '''"
   ]
  },
  {
   "cell_type": "code",
   "execution_count": 26,
   "id": "x1ikWbydrbf6",
   "metadata": {
    "ExecuteTime": {
     "end_time": "2023-08-19T20:52:54.033205Z",
     "start_time": "2023-08-19T20:52:18.392664Z"
    },
    "id": "x1ikWbydrbf6"
   },
   "outputs": [
    {
     "data": {
      "text/html": [
       "<div>\n",
       "<style scoped>\n",
       "    .dataframe tbody tr th:only-of-type {\n",
       "        vertical-align: middle;\n",
       "    }\n",
       "\n",
       "    .dataframe tbody tr th {\n",
       "        vertical-align: top;\n",
       "    }\n",
       "\n",
       "    .dataframe thead th {\n",
       "        text-align: right;\n",
       "    }\n",
       "</style>\n",
       "<table border=\"1\" class=\"dataframe\">\n",
       "  <thead>\n",
       "    <tr style=\"text-align: right;\">\n",
       "      <th></th>\n",
       "      <th>name</th>\n",
       "      <th>e_amount</th>\n",
       "      <th>v_amount</th>\n",
       "    </tr>\n",
       "  </thead>\n",
       "  <tbody>\n",
       "    <tr>\n",
       "      <th>0</th>\n",
       "      <td>Москва</td>\n",
       "      <td>5864</td>\n",
       "      <td>5333</td>\n",
       "    </tr>\n",
       "    <tr>\n",
       "      <th>1</th>\n",
       "      <td>Санкт-Петербург</td>\n",
       "      <td>2217</td>\n",
       "      <td>2851</td>\n",
       "    </tr>\n",
       "    <tr>\n",
       "      <th>2</th>\n",
       "      <td>Минск</td>\n",
       "      <td>1115</td>\n",
       "      <td>2112</td>\n",
       "    </tr>\n",
       "    <tr>\n",
       "      <th>3</th>\n",
       "      <td>Алматы</td>\n",
       "      <td>721</td>\n",
       "      <td>1892</td>\n",
       "    </tr>\n",
       "    <tr>\n",
       "      <th>4</th>\n",
       "      <td>Екатеринбург</td>\n",
       "      <td>609</td>\n",
       "      <td>1698</td>\n",
       "    </tr>\n",
       "    <tr>\n",
       "      <th>5</th>\n",
       "      <td>Новосибирск</td>\n",
       "      <td>573</td>\n",
       "      <td>2006</td>\n",
       "    </tr>\n",
       "    <tr>\n",
       "      <th>6</th>\n",
       "      <td>Казань</td>\n",
       "      <td>480</td>\n",
       "      <td>1415</td>\n",
       "    </tr>\n",
       "    <tr>\n",
       "      <th>7</th>\n",
       "      <td>Нижний Новгород</td>\n",
       "      <td>426</td>\n",
       "      <td>1670</td>\n",
       "    </tr>\n",
       "    <tr>\n",
       "      <th>8</th>\n",
       "      <td>Россия</td>\n",
       "      <td>410</td>\n",
       "      <td>0</td>\n",
       "    </tr>\n",
       "    <tr>\n",
       "      <th>9</th>\n",
       "      <td>Краснодар</td>\n",
       "      <td>409</td>\n",
       "      <td>1301</td>\n",
       "    </tr>\n",
       "    <tr>\n",
       "      <th>10</th>\n",
       "      <td>Ростов-на-Дону</td>\n",
       "      <td>335</td>\n",
       "      <td>1131</td>\n",
       "    </tr>\n",
       "    <tr>\n",
       "      <th>11</th>\n",
       "      <td>Красноярск</td>\n",
       "      <td>331</td>\n",
       "      <td>847</td>\n",
       "    </tr>\n",
       "    <tr>\n",
       "      <th>12</th>\n",
       "      <td>Ташкент</td>\n",
       "      <td>326</td>\n",
       "      <td>851</td>\n",
       "    </tr>\n",
       "    <tr>\n",
       "      <th>13</th>\n",
       "      <td>Самара</td>\n",
       "      <td>315</td>\n",
       "      <td>1144</td>\n",
       "    </tr>\n",
       "    <tr>\n",
       "      <th>14</th>\n",
       "      <td>Нур-Султан</td>\n",
       "      <td>312</td>\n",
       "      <td>840</td>\n",
       "    </tr>\n",
       "    <tr>\n",
       "      <th>15</th>\n",
       "      <td>Челябинск</td>\n",
       "      <td>310</td>\n",
       "      <td>786</td>\n",
       "    </tr>\n",
       "    <tr>\n",
       "      <th>16</th>\n",
       "      <td>Воронеж</td>\n",
       "      <td>292</td>\n",
       "      <td>1063</td>\n",
       "    </tr>\n",
       "    <tr>\n",
       "      <th>17</th>\n",
       "      <td>Уфа</td>\n",
       "      <td>252</td>\n",
       "      <td>767</td>\n",
       "    </tr>\n",
       "    <tr>\n",
       "      <th>18</th>\n",
       "      <td>Пермь</td>\n",
       "      <td>250</td>\n",
       "      <td>771</td>\n",
       "    </tr>\n",
       "    <tr>\n",
       "      <th>19</th>\n",
       "      <td>Тюмень</td>\n",
       "      <td>218</td>\n",
       "      <td>547</td>\n",
       "    </tr>\n",
       "  </tbody>\n",
       "</table>\n",
       "</div>"
      ],
      "text/plain": [
       "               name  e_amount  v_amount\n",
       "0            Москва      5864      5333\n",
       "1   Санкт-Петербург      2217      2851\n",
       "2             Минск      1115      2112\n",
       "3            Алматы       721      1892\n",
       "4      Екатеринбург       609      1698\n",
       "5       Новосибирск       573      2006\n",
       "6            Казань       480      1415\n",
       "7   Нижний Новгород       426      1670\n",
       "8            Россия       410         0\n",
       "9         Краснодар       409      1301\n",
       "10   Ростов-на-Дону       335      1131\n",
       "11       Красноярск       331       847\n",
       "12          Ташкент       326       851\n",
       "13           Самара       315      1144\n",
       "14       Нур-Султан       312       840\n",
       "15        Челябинск       310       786\n",
       "16          Воронеж       292      1063\n",
       "17              Уфа       252       767\n",
       "18            Пермь       250       771\n",
       "19           Тюмень       218       547"
      ]
     },
     "metadata": {},
     "output_type": "display_data"
    },
    {
     "data": {
      "text/html": [
       "<div>\n",
       "<style scoped>\n",
       "    .dataframe tbody tr th:only-of-type {\n",
       "        vertical-align: middle;\n",
       "    }\n",
       "\n",
       "    .dataframe tbody tr th {\n",
       "        vertical-align: top;\n",
       "    }\n",
       "\n",
       "    .dataframe thead th {\n",
       "        text-align: right;\n",
       "    }\n",
       "</style>\n",
       "<table border=\"1\" class=\"dataframe\">\n",
       "  <thead>\n",
       "    <tr style=\"text-align: right;\">\n",
       "      <th></th>\n",
       "      <th>name</th>\n",
       "      <th>e_amount</th>\n",
       "      <th>v_amount</th>\n",
       "    </tr>\n",
       "  </thead>\n",
       "  <tbody>\n",
       "    <tr>\n",
       "      <th>0</th>\n",
       "      <td>Россия</td>\n",
       "      <td>410</td>\n",
       "      <td>0</td>\n",
       "    </tr>\n",
       "    <tr>\n",
       "      <th>1</th>\n",
       "      <td>Казахстан</td>\n",
       "      <td>207</td>\n",
       "      <td>0</td>\n",
       "    </tr>\n",
       "    <tr>\n",
       "      <th>2</th>\n",
       "      <td>Московская область</td>\n",
       "      <td>75</td>\n",
       "      <td>0</td>\n",
       "    </tr>\n",
       "    <tr>\n",
       "      <th>3</th>\n",
       "      <td>Краснодарский край</td>\n",
       "      <td>19</td>\n",
       "      <td>0</td>\n",
       "    </tr>\n",
       "    <tr>\n",
       "      <th>4</th>\n",
       "      <td>Ростовская область</td>\n",
       "      <td>18</td>\n",
       "      <td>0</td>\n",
       "    </tr>\n",
       "    <tr>\n",
       "      <th>...</th>\n",
       "      <td>...</td>\n",
       "      <td>...</td>\n",
       "      <td>...</td>\n",
       "    </tr>\n",
       "    <tr>\n",
       "      <th>588</th>\n",
       "      <td>Скидель</td>\n",
       "      <td>0</td>\n",
       "      <td>0</td>\n",
       "    </tr>\n",
       "    <tr>\n",
       "      <th>589</th>\n",
       "      <td>Белоозерск</td>\n",
       "      <td>0</td>\n",
       "      <td>0</td>\n",
       "    </tr>\n",
       "    <tr>\n",
       "      <th>590</th>\n",
       "      <td>Орловский</td>\n",
       "      <td>0</td>\n",
       "      <td>0</td>\n",
       "    </tr>\n",
       "    <tr>\n",
       "      <th>591</th>\n",
       "      <td>Павловская</td>\n",
       "      <td>0</td>\n",
       "      <td>0</td>\n",
       "    </tr>\n",
       "    <tr>\n",
       "      <th>592</th>\n",
       "      <td>Таксимо</td>\n",
       "      <td>0</td>\n",
       "      <td>0</td>\n",
       "    </tr>\n",
       "  </tbody>\n",
       "</table>\n",
       "<p>593 rows × 3 columns</p>\n",
       "</div>"
      ],
      "text/plain": [
       "                   name  e_amount  v_amount\n",
       "0                Россия       410         0\n",
       "1             Казахстан       207         0\n",
       "2    Московская область        75         0\n",
       "3    Краснодарский край        19         0\n",
       "4    Ростовская область        18         0\n",
       "..                  ...       ...       ...\n",
       "588             Скидель         0         0\n",
       "589          Белоозерск         0         0\n",
       "590           Орловский         0         0\n",
       "591          Павловская         0         0\n",
       "592             Таксимо         0         0\n",
       "\n",
       "[593 rows x 3 columns]"
      ]
     },
     "metadata": {},
     "output_type": "display_data"
    }
   ],
   "source": [
    "# Используем метод read_sql_query, чтобы получить результаты сразу в виде датафрейма\n",
    "df_5_20 = pd.read_sql_query(query_5_20, connection)# долгий запрос\n",
    "display(df_5_20.head(20))\n",
    "df_5_2 = pd.read_sql_query(query_5_2, connection)\n",
    "display(df_5_2)"
   ]
  },
  {
   "cell_type": "markdown",
   "id": "6c9c7a68",
   "metadata": {},
   "source": [
    "<hr style=\"border-style: dashed;\">\n",
    "Как уже упоминалось ранее в основном работадатели из Россий, также мы видим Казахстан. Здесь мы можем предположить, что работадатели указывают в вакансий более мелкую административную единицу, чем та в которой они находятся. Например указывают субъект РФ, вместо Россия. Также возможно предлагают работу удаленно, либо в другом субъекте, а не в том в котором зарегестрированны.\n",
    "\n",
    "Также на скриншоте выше видно соотношение работадателей - вакансий по регионам топ 20. В Москве как видим у нас превалирует число работадателей, но основной тренд прослеживается такой, что как правило число вакансий превышает число местных работадателей. Отсюда делаем вывод, либо о нехватке подготовленных специалистов на рынке, либо о том, что предлагаются работы в других регионах, а возмодно и все сразу. \n",
    "<hr style=\"border-style: dashed;\">"
   ]
  },
  {
   "cell_type": "markdown",
   "id": "f2fe0acb-ab1a-4e15-9326-2560e22d73c1",
   "metadata": {
    "id": "f2fe0acb-ab1a-4e15-9326-2560e22d73c1"
   },
   "source": [
    "3. Для каждого работодателя посчитайте количество регионов, в которых он публикует свои вакансии. Отсортируйте результат по убыванию количества.\n"
   ]
  },
  {
   "cell_type": "code",
   "execution_count": 27,
   "id": "6271f8ad-bd2e-4196-ae4a-5b39c4c1010e",
   "metadata": {
    "ExecuteTime": {
     "end_time": "2023-08-19T20:52:54.038076Z",
     "start_time": "2023-08-19T20:52:54.035409Z"
    },
    "id": "6271f8ad-bd2e-4196-ae4a-5b39c4c1010e"
   },
   "outputs": [],
   "source": [
    "# Обрашаемся к таблице VACANCIES (здесь можно было обойтись только данной таблицей),\n",
    "# но для красоты задействуем еще название компанией EMPLOYERS\n",
    "query_5_3 = f'''select \n",
    "                    e.name employer, \n",
    "                    count(distinct v.area_id) area_amount\n",
    "                \n",
    "                from VACANCIES v \n",
    "                    join EMPLOYERS e on v.employer_id = e.id\n",
    "                    \n",
    "                group by e.name \n",
    "                \n",
    "                order by area_amount desc\n",
    "             '''"
   ]
  },
  {
   "cell_type": "code",
   "execution_count": 28,
   "id": "1EIvX3HasH4F",
   "metadata": {
    "ExecuteTime": {
     "end_time": "2023-08-19T20:52:54.471252Z",
     "start_time": "2023-08-19T20:52:54.050081Z"
    },
    "id": "1EIvX3HasH4F"
   },
   "outputs": [
    {
     "data": {
      "text/html": [
       "<div>\n",
       "<style scoped>\n",
       "    .dataframe tbody tr th:only-of-type {\n",
       "        vertical-align: middle;\n",
       "    }\n",
       "\n",
       "    .dataframe tbody tr th {\n",
       "        vertical-align: top;\n",
       "    }\n",
       "\n",
       "    .dataframe thead th {\n",
       "        text-align: right;\n",
       "    }\n",
       "</style>\n",
       "<table border=\"1\" class=\"dataframe\">\n",
       "  <thead>\n",
       "    <tr style=\"text-align: right;\">\n",
       "      <th></th>\n",
       "      <th>employer</th>\n",
       "      <th>area_amount</th>\n",
       "    </tr>\n",
       "  </thead>\n",
       "  <tbody>\n",
       "    <tr>\n",
       "      <th>0</th>\n",
       "      <td>Яндекс</td>\n",
       "      <td>181</td>\n",
       "    </tr>\n",
       "    <tr>\n",
       "      <th>1</th>\n",
       "      <td>Ростелеком</td>\n",
       "      <td>152</td>\n",
       "    </tr>\n",
       "    <tr>\n",
       "      <th>2</th>\n",
       "      <td>Спецремонт</td>\n",
       "      <td>116</td>\n",
       "    </tr>\n",
       "    <tr>\n",
       "      <th>3</th>\n",
       "      <td>Поляков Денис Иванович</td>\n",
       "      <td>88</td>\n",
       "    </tr>\n",
       "    <tr>\n",
       "      <th>4</th>\n",
       "      <td>ООО ЕФИН</td>\n",
       "      <td>71</td>\n",
       "    </tr>\n",
       "    <tr>\n",
       "      <th>5</th>\n",
       "      <td>Совкомбанк</td>\n",
       "      <td>63</td>\n",
       "    </tr>\n",
       "    <tr>\n",
       "      <th>6</th>\n",
       "      <td>МТС</td>\n",
       "      <td>55</td>\n",
       "    </tr>\n",
       "    <tr>\n",
       "      <th>7</th>\n",
       "      <td>ЭФКО, Управляющая компания</td>\n",
       "      <td>49</td>\n",
       "    </tr>\n",
       "    <tr>\n",
       "      <th>8</th>\n",
       "      <td>Почта России</td>\n",
       "      <td>48</td>\n",
       "    </tr>\n",
       "    <tr>\n",
       "      <th>9</th>\n",
       "      <td>КРОН</td>\n",
       "      <td>48</td>\n",
       "    </tr>\n",
       "    <tr>\n",
       "      <th>10</th>\n",
       "      <td>ИК СИБИНТЕК</td>\n",
       "      <td>46</td>\n",
       "    </tr>\n",
       "    <tr>\n",
       "      <th>11</th>\n",
       "      <td>MCORE</td>\n",
       "      <td>46</td>\n",
       "    </tr>\n",
       "    <tr>\n",
       "      <th>12</th>\n",
       "      <td>Сбербанк-Сервис</td>\n",
       "      <td>45</td>\n",
       "    </tr>\n",
       "    <tr>\n",
       "      <th>13</th>\n",
       "      <td>ANCOR</td>\n",
       "      <td>44</td>\n",
       "    </tr>\n",
       "    <tr>\n",
       "      <th>14</th>\n",
       "      <td>Тинькофф</td>\n",
       "      <td>43</td>\n",
       "    </tr>\n",
       "  </tbody>\n",
       "</table>\n",
       "</div>"
      ],
      "text/plain": [
       "                      employer  area_amount\n",
       "0                       Яндекс          181\n",
       "1                   Ростелеком          152\n",
       "2                   Спецремонт          116\n",
       "3       Поляков Денис Иванович           88\n",
       "4                    ООО ЕФИН            71\n",
       "5                   Совкомбанк           63\n",
       "6                          МТС           55\n",
       "7   ЭФКО, Управляющая компания           49\n",
       "8                 Почта России           48\n",
       "9                         КРОН           48\n",
       "10                 ИК СИБИНТЕК           46\n",
       "11                       MCORE           46\n",
       "12             Сбербанк-Сервис           45\n",
       "13                       ANCOR           44\n",
       "14                    Тинькофф           43"
      ]
     },
     "metadata": {},
     "output_type": "display_data"
    }
   ],
   "source": [
    "# Используем метод read_sql_query, чтобы получить результаты сразу в виде датафрейма\n",
    "# Покажем топ 15\n",
    "df_5_3 = pd.read_sql_query(query_5_3, connection)\n",
    "display(df_5_3.head(15))"
   ]
  },
  {
   "cell_type": "markdown",
   "id": "fa4d3bd7",
   "metadata": {},
   "source": [
    "<hr style=\"border-style: dashed;\">\n",
    "Как видим более меннее известные работадатели размешают свой вакансий во многих регионах, так как у них большой бизнес и он охватывает достаточно большую територию, либо они предоставляют удаленную работу. Хотя и среди них встречаються неодназначные представители (2 и 3 индекс) - с вакансиями 'Компьютерный мастер'.  \n",
    "<hr style=\"border-style: dashed;\">"
   ]
  },
  {
   "cell_type": "markdown",
   "id": "eab2206d-d95b-468b-8e5f-34381abf0ce7",
   "metadata": {
    "id": "eab2206d-d95b-468b-8e5f-34381abf0ce7"
   },
   "source": [
    "4. Напишите запрос для подсчёта количества работодателей, у которых не указана сфера деятельности. "
   ]
  },
  {
   "cell_type": "code",
   "execution_count": 29,
   "id": "80defb23-bfb1-4a18-8be6-bf36aa7165d5",
   "metadata": {
    "ExecuteTime": {
     "end_time": "2023-08-19T20:52:54.476149Z",
     "start_time": "2023-08-19T20:52:54.473261Z"
    },
    "id": "80defb23-bfb1-4a18-8be6-bf36aa7165d5"
   },
   "outputs": [],
   "source": [
    "# Обрашаемся к таблице EMPLOYERS и EMPLOYERS_INDUSTRIES\n",
    "query_5_4 = f'''select \n",
    "                    count(*) e_amout\n",
    "                \n",
    "                from EMPLOYERS e\n",
    "                    left join EMPLOYERS_INDUSTRIES ei on ei.employer_id = e.id\n",
    "                \n",
    "                where ei.industry_id is null\n",
    "             '''"
   ]
  },
  {
   "cell_type": "code",
   "execution_count": 30,
   "id": "Dp_yCx6ysQSu",
   "metadata": {
    "ExecuteTime": {
     "end_time": "2023-08-19T20:52:54.512524Z",
     "start_time": "2023-08-19T20:52:54.478049Z"
    },
    "id": "Dp_yCx6ysQSu"
   },
   "outputs": [
    {
     "data": {
      "text/plain": [
       "8419"
      ]
     },
     "metadata": {},
     "output_type": "display_data"
    }
   ],
   "source": [
    "# Используем метод read_sql_query, чтобы получить результаты сразу в виде датафрейма\n",
    "df_5_4 = pd.read_sql_query(query_5_4, connection)\n",
    "display(df_5_4['e_amout'][0])"
   ]
  },
  {
   "cell_type": "markdown",
   "id": "be794972",
   "metadata": {},
   "source": [
    "<hr style=\"border-style: dashed;\">\n",
    "Как видим около 36% работадателей не указывают сферу деятельности. Возможно это небрежность или непонимание рекрутеров, чем их компания занимается ? Либо как вариант, в глазах кандидатов, компание связанные не с IT выглядят не очень привлекательно ?\n",
    "<hr style=\"border-style: dashed;\">"
   ]
  },
  {
   "cell_type": "markdown",
   "id": "0112af31-f6b0-4e3b-82ab-71296e752e5e",
   "metadata": {
    "id": "0112af31-f6b0-4e3b-82ab-71296e752e5e"
   },
   "source": [
    "5. Напишите запрос, чтобы узнать название компании, находящейся на третьем месте в алфавитном списке (по названию) компаний, у которых указано четыре сферы деятельности. "
   ]
  },
  {
   "cell_type": "code",
   "execution_count": 31,
   "id": "973b0cfc-a972-470a-8b4a-68744ef220c4",
   "metadata": {
    "ExecuteTime": {
     "end_time": "2023-08-19T20:52:54.521725Z",
     "start_time": "2023-08-19T20:52:54.517930Z"
    },
    "id": "973b0cfc-a972-470a-8b4a-68744ef220c4"
   },
   "outputs": [],
   "source": [
    "# Обрашаемся к таблице EMPLOYERS, EMPLOYERS_INDUSTRIES и INDUSTRIES\n",
    "query_5_5 = f'''select \n",
    "                    e.name, \n",
    "                    count(i.name) \n",
    "                \n",
    "                from EMPLOYERS e\n",
    "                    left join EMPLOYERS_INDUSTRIES ei on ei.employer_id = e.id\n",
    "                    left join INDUSTRIES i on ei.industry_id = i.id\n",
    "                \n",
    "                group by e.name\n",
    "                \n",
    "                having count(i.name) = 4\n",
    "                \n",
    "                order by e.name \n",
    "                \n",
    "                offset 2\n",
    "                \n",
    "                limit 1\n",
    "             '''"
   ]
  },
  {
   "cell_type": "code",
   "execution_count": 32,
   "id": "xsPtpp8EsaED",
   "metadata": {
    "ExecuteTime": {
     "end_time": "2023-08-19T20:52:54.648278Z",
     "start_time": "2023-08-19T20:52:54.523677Z"
    },
    "id": "xsPtpp8EsaED"
   },
   "outputs": [
    {
     "data": {
      "text/plain": [
       "'2ГИС'"
      ]
     },
     "metadata": {},
     "output_type": "display_data"
    }
   ],
   "source": [
    "# Используем метод read_sql_query, чтобы получить результаты сразу в виде датафрейма\n",
    "df_5_5 = pd.read_sql_query(query_5_5, connection)\n",
    "display(df_5_5['name'][0])"
   ]
  },
  {
   "cell_type": "markdown",
   "id": "183dc88b",
   "metadata": {},
   "source": [
    "<hr style=\"border-style: dashed;\">\n",
    "Всего таких компаний 1136, что занимает около 5% от всех работадателей. Максимум сфер деятельности у компаний указанно 5 минимум 0.\n",
    "<hr style=\"border-style: dashed;\">"
   ]
  },
  {
   "cell_type": "markdown",
   "id": "3bfcfdaf-755d-4d2b-8ed8-326201dc07ab",
   "metadata": {
    "id": "3bfcfdaf-755d-4d2b-8ed8-326201dc07ab"
   },
   "source": [
    "6. С помощью запроса выясните, у какого количества работодателей в качестве сферы деятельности указана Разработка программного обеспечения.\n"
   ]
  },
  {
   "cell_type": "code",
   "execution_count": 33,
   "id": "ad3f270f-2991-47eb-929b-e8f88a55b0d1",
   "metadata": {
    "ExecuteTime": {
     "end_time": "2023-08-19T20:52:54.654409Z",
     "start_time": "2023-08-19T20:52:54.650999Z"
    },
    "id": "ad3f270f-2991-47eb-929b-e8f88a55b0d1"
   },
   "outputs": [],
   "source": [
    "# Обрашаемся к таблице EMPLOYERS, EMPLOYERS_INDUSTRIES и INDUSTRIES\n",
    "query_5_6 = f'''select \n",
    "                    count(e.id)\n",
    "                \n",
    "                from EMPLOYERS e\n",
    "                    left join EMPLOYERS_INDUSTRIES ei on ei.employer_id = e.id\n",
    "                    left join INDUSTRIES i on ei.industry_id = i.id\n",
    "                \n",
    "                Where i.name = 'Разработка программного обеспечения'\n",
    "             '''"
   ]
  },
  {
   "cell_type": "code",
   "execution_count": 34,
   "id": "H72qxWM0shPR",
   "metadata": {
    "ExecuteTime": {
     "end_time": "2023-08-19T20:52:54.687713Z",
     "start_time": "2023-08-19T20:52:54.656417Z"
    },
    "id": "H72qxWM0shPR"
   },
   "outputs": [
    {
     "data": {
      "text/plain": [
       "3553"
      ]
     },
     "metadata": {},
     "output_type": "display_data"
    }
   ],
   "source": [
    "# Используем метод read_sql_query, чтобы получить результаты сразу в виде датафрейма\n",
    "df_5_6 = pd.read_sql_query(query_5_6, connection)\n",
    "display(df_5_6['count'][0])"
   ]
  },
  {
   "cell_type": "markdown",
   "id": "0785bd8b",
   "metadata": {
    "ExecuteTime": {
     "end_time": "2023-08-17T08:44:10.183286Z",
     "start_time": "2023-08-17T08:44:10.174201Z"
    }
   },
   "source": [
    "<hr style=\"border-style: dashed;\">\n",
    "На 1 месте идут компаний, у которых не обозначен вид деятельности около 36%. Далее смотря на цифры надо помнить, что компаний могут указывать не одну сферу деятельности, а до пяти как мы выяснили. 15% от всех представленных работадателей занимаються разработкой ПО. Затем с 12,7% идет системная интеграция и автоматизация, ит- консалтинг, далее с 7% Интернет-компаний далее с около 3,5% дизайнерские, рекламные и event компаний и замыкают Консалтинговые услуги c 2,8%. Ну и далее идут компаний с разнообразными родами деятельности, которые занимают 1% или меньше например - Ритуальные услуги, Рыболовство и рыбоводство. См. доп исследование внизу ноутбука.\n",
    "<hr style=\"border-style: dashed;\">"
   ]
  },
  {
   "cell_type": "markdown",
   "id": "7b02bb86-0546-40fb-94a4-242f050a5c57",
   "metadata": {
    "id": "7b02bb86-0546-40fb-94a4-242f050a5c57"
   },
   "source": [
    "7. Для компании «Яндекс» выведите список регионов-миллионников, в которых представлены вакансии компании, вместе с количеством вакансий в этих регионах. Также добавьте строку Total с общим количеством вакансий компании. Результат отсортируйте по возрастанию количества.\n",
    "\n",
    "Список городов-милионников надо взять [отсюда](https://ru.wikipedia.org/wiki/%D0%93%D0%BE%D1%80%D0%BE%D0%B4%D0%B0-%D0%BC%D0%B8%D0%BB%D0%BB%D0%B8%D0%BE%D0%BD%D0%B5%D1%80%D1%8B_%D0%A0%D0%BE%D1%81%D1%81%D0%B8%D0%B8). \n",
    "\n",
    "Если возникнут трудности с этим задание посмотрите материалы модуля  PYTHON-17. Как получать данные из веб-источников и API. "
   ]
  },
  {
   "cell_type": "code",
   "execution_count": 35,
   "id": "ZdfrL6gIs1Pn",
   "metadata": {
    "ExecuteTime": {
     "end_time": "2023-08-19T20:52:55.442579Z",
     "start_time": "2023-08-19T20:52:54.690419Z"
    },
    "id": "ZdfrL6gIs1Pn"
   },
   "outputs": [
    {
     "data": {
      "text/plain": [
       "ParseResult(scheme='https', netloc='ru.wikipedia.org', path='/wiki/Города-миллионеры_России', params='', query='', fragment='')"
      ]
     },
     "metadata": {},
     "output_type": "display_data"
    },
    {
     "data": {
      "text/plain": [
       "('Москва',\n",
       " 'Санкт-Петербург',\n",
       " 'Новосибирск',\n",
       " 'Екатеринбург',\n",
       " 'Казань',\n",
       " 'Нижний Новгород',\n",
       " 'Красноярск',\n",
       " 'Челябинск',\n",
       " 'Самара',\n",
       " 'Уфа',\n",
       " 'Ростов-на-Дону',\n",
       " 'Краснодар',\n",
       " 'Омск',\n",
       " 'Воронеж',\n",
       " 'Пермь',\n",
       " 'Волгоград')"
      ]
     },
     "metadata": {},
     "output_type": "display_data"
    }
   ],
   "source": [
    "# У нас есть ссылка на города, но там присуствует кирилица \n",
    "# Считываем наш URL\n",
    "cities = req.urlparse('https://ru.wikipedia.org/wiki/Города-миллионеры_России')\n",
    "# Мы считали данные, они у нас бъются на 6 параметров (индексов), смотрим какой нам\n",
    "# надо изменить (параметр path (индекс 2))\n",
    "display(cities)\n",
    "# С помощью quote заменяем специальные символы (кирилицу) на ASCII символы \n",
    "update = req.quote(cities[2])\n",
    "# Здесь используем конструктор urljoin он находит соответсвия в параметрах и \n",
    "# конструирует URL заново вместе с преобразованным параметром\n",
    "url = req.urljoin('https://ru.wikipedia.org/wiki/Города-миллионеры_России',update)\n",
    "# Считываем URL страницу\n",
    "tableau = pd.read_html(url)\n",
    "# Просмотрев информацию мы определили что нужная нам информация находится в индексе 1, \n",
    "# в параметре \"Город\", переводим все это в tuple.\n",
    "tpl = tuple(tableau[1]['Город'])\n",
    "display(tpl)"
   ]
  },
  {
   "cell_type": "code",
   "execution_count": 36,
   "id": "5a0e32a4-e68a-4365-8a39-2fe24c542c36",
   "metadata": {
    "ExecuteTime": {
     "end_time": "2023-08-19T20:52:55.448671Z",
     "start_time": "2023-08-19T20:52:55.445490Z"
    },
    "id": "5a0e32a4-e68a-4365-8a39-2fe24c542c36"
   },
   "outputs": [],
   "source": [
    "# Обрашаемся к таблице VACANCIES, AREAS и EMPLOYERS\n",
    "# Здесь для краткости воспользуемся подзапросом CTE, напишем наш запрос, дадим ему имя\n",
    "#  и дальше по имени будем обрашаться к нему в запросах\n",
    "query_5_7 = f'''with query as(select \n",
    "                                a.name, \n",
    "                                count(*) cnt\n",
    "                            \n",
    "                            from VACANCIES v\n",
    "                                join AREAS a on v.area_id = a.id\n",
    "                                join EMPLOYERS e on v.employer_id = e.id\n",
    "                            \n",
    "                            where e.name = 'Яндекс' \n",
    "                                  and a.name IN {tpl}\n",
    "                            \n",
    "                            group by a.name\n",
    "                            )\n",
    "                            \n",
    "                select *\n",
    "                \n",
    "                from query\n",
    "                \n",
    "                union all\n",
    "                \n",
    "                select 'Total', sum(cnt)  \n",
    "                \n",
    "                from query\n",
    "            '''"
   ]
  },
  {
   "cell_type": "code",
   "execution_count": 37,
   "id": "ttPhiO1rsvPq",
   "metadata": {
    "ExecuteTime": {
     "end_time": "2023-08-19T20:52:55.526190Z",
     "start_time": "2023-08-19T20:52:55.450634Z"
    },
    "id": "ttPhiO1rsvPq"
   },
   "outputs": [
    {
     "data": {
      "text/html": [
       "<div>\n",
       "<style scoped>\n",
       "    .dataframe tbody tr th:only-of-type {\n",
       "        vertical-align: middle;\n",
       "    }\n",
       "\n",
       "    .dataframe tbody tr th {\n",
       "        vertical-align: top;\n",
       "    }\n",
       "\n",
       "    .dataframe thead th {\n",
       "        text-align: right;\n",
       "    }\n",
       "</style>\n",
       "<table border=\"1\" class=\"dataframe\">\n",
       "  <thead>\n",
       "    <tr style=\"text-align: right;\">\n",
       "      <th></th>\n",
       "      <th>name</th>\n",
       "      <th>cnt</th>\n",
       "    </tr>\n",
       "  </thead>\n",
       "  <tbody>\n",
       "    <tr>\n",
       "      <th>0</th>\n",
       "      <td>Волгоград</td>\n",
       "      <td>24.0</td>\n",
       "    </tr>\n",
       "    <tr>\n",
       "      <th>1</th>\n",
       "      <td>Воронеж</td>\n",
       "      <td>32.0</td>\n",
       "    </tr>\n",
       "    <tr>\n",
       "      <th>2</th>\n",
       "      <td>Екатеринбург</td>\n",
       "      <td>39.0</td>\n",
       "    </tr>\n",
       "    <tr>\n",
       "      <th>3</th>\n",
       "      <td>Казань</td>\n",
       "      <td>25.0</td>\n",
       "    </tr>\n",
       "    <tr>\n",
       "      <th>4</th>\n",
       "      <td>Краснодар</td>\n",
       "      <td>30.0</td>\n",
       "    </tr>\n",
       "    <tr>\n",
       "      <th>5</th>\n",
       "      <td>Красноярск</td>\n",
       "      <td>23.0</td>\n",
       "    </tr>\n",
       "    <tr>\n",
       "      <th>6</th>\n",
       "      <td>Москва</td>\n",
       "      <td>54.0</td>\n",
       "    </tr>\n",
       "    <tr>\n",
       "      <th>7</th>\n",
       "      <td>Нижний Новгород</td>\n",
       "      <td>36.0</td>\n",
       "    </tr>\n",
       "    <tr>\n",
       "      <th>8</th>\n",
       "      <td>Новосибирск</td>\n",
       "      <td>35.0</td>\n",
       "    </tr>\n",
       "    <tr>\n",
       "      <th>9</th>\n",
       "      <td>Омск</td>\n",
       "      <td>21.0</td>\n",
       "    </tr>\n",
       "    <tr>\n",
       "      <th>10</th>\n",
       "      <td>Пермь</td>\n",
       "      <td>25.0</td>\n",
       "    </tr>\n",
       "    <tr>\n",
       "      <th>11</th>\n",
       "      <td>Ростов-на-Дону</td>\n",
       "      <td>25.0</td>\n",
       "    </tr>\n",
       "    <tr>\n",
       "      <th>12</th>\n",
       "      <td>Самара</td>\n",
       "      <td>26.0</td>\n",
       "    </tr>\n",
       "    <tr>\n",
       "      <th>13</th>\n",
       "      <td>Санкт-Петербург</td>\n",
       "      <td>42.0</td>\n",
       "    </tr>\n",
       "    <tr>\n",
       "      <th>14</th>\n",
       "      <td>Уфа</td>\n",
       "      <td>26.0</td>\n",
       "    </tr>\n",
       "    <tr>\n",
       "      <th>15</th>\n",
       "      <td>Челябинск</td>\n",
       "      <td>22.0</td>\n",
       "    </tr>\n",
       "    <tr>\n",
       "      <th>16</th>\n",
       "      <td>Total</td>\n",
       "      <td>485.0</td>\n",
       "    </tr>\n",
       "  </tbody>\n",
       "</table>\n",
       "</div>"
      ],
      "text/plain": [
       "               name    cnt\n",
       "0         Волгоград   24.0\n",
       "1           Воронеж   32.0\n",
       "2      Екатеринбург   39.0\n",
       "3            Казань   25.0\n",
       "4         Краснодар   30.0\n",
       "5        Красноярск   23.0\n",
       "6            Москва   54.0\n",
       "7   Нижний Новгород   36.0\n",
       "8       Новосибирск   35.0\n",
       "9              Омск   21.0\n",
       "10            Пермь   25.0\n",
       "11   Ростов-на-Дону   25.0\n",
       "12           Самара   26.0\n",
       "13  Санкт-Петербург   42.0\n",
       "14              Уфа   26.0\n",
       "15        Челябинск   22.0\n",
       "16            Total  485.0"
      ]
     },
     "metadata": {},
     "output_type": "display_data"
    }
   ],
   "source": [
    "# Используем метод read_sql_query, чтобы получить результаты сразу в виде датафрейма\n",
    "df_5_7 = pd.read_sql_query(query_5_7, connection)\n",
    "display(df_5_7)"
   ]
  },
  {
   "cell_type": "markdown",
   "id": "0ee0134e",
   "metadata": {},
   "source": [
    "<hr style=\"border-style: dashed;\">\n",
    "Компания Яндекс присутствует во всех крупных города РФ, но учитывая количество вакансий, которые она предоставляет это меньше половины, она также представленна в других региональных центрах. Если посмотреть другие крупные компаний, то они также представленны вакансиями в городах миллиониках, конечно не 'богато'. Это нам показывает, что таланты людей ищут по всем регионам, те компаний которые могут себе позволить. \n",
    "<hr style=\"border-style: dashed;\">"
   ]
  },
  {
   "cell_type": "markdown",
   "id": "04966e40-3bc3-4dc8-9ba2-e80580ce3abc",
   "metadata": {
    "id": "04966e40-3bc3-4dc8-9ba2-e80580ce3abc"
   },
   "source": [
    "***"
   ]
  },
  {
   "cell_type": "markdown",
   "id": "8480e52d",
   "metadata": {
    "id": "aGGyER-yt4SR"
   },
   "source": [
    "Итак подведем кратко итоги. Мы увидели, что лидер по вакансиям с большим отрывом у нас IT компания 'Яндекс'. Но телеком и финтех, а также промышленность идут за ним следом, им тоже нужны специалисты IT, так как в современном мире - это позволяет извлекать дополнительную прибыль и сокращать издержки. Также мы видим, что работадатели могут быть в одном регионе, а работу предлагать в другом - здесь либо открытие филиалов, либо 'сдвиг мышления' на удаленную работу. А также как правило есть тренд, что количество вакансий в регионе больше, чем количество работадателей. Следовательно в одну и туже компанию требуеться несколько человек (нехватка специалистов или рынок переживает рост (на это может косвенно указывать, что не публикуют зарплатную вилку)!). Также крупные игроки размешаються в большом количестве регионов, как правило это компаний которые на слуху. Также мы увидели, что около 1/3 работадателей не указывают сферу деятельности у себя, что это небрежность ? Возможно это маленькие компаний, которые не заполняют полностью профиль считая это излишним или от нехватки времени (так как там на нескольких позициях может работать 1 человек). У компаний которые указывают сферы деятельности - чаще всего от 1 до 3 сфер деятельности, 4 сферы деятельности всего около 5% компаний, а 5 и более еще меньше в процентном соотношение. 15% от компаний занимаються Разработкой ПО (топ1), затем идет системный интеграторы и оптимизаторы (около 13%) и интернет компаний (около 7%), и вот 1/3 компаний всех у нас оказывается связанна непосредственно с IT, можно сказать на острие. Также крупные компаний охватывают большое количество регионов в поисках кандидатов, да в принципе благодаря интернету ивозможности удаленно работать и остальной бизнес может себе это позволить. "
   ]
  },
  {
   "cell_type": "markdown",
   "id": "b1ef156a-efcb-49ce-bb23-90763e7f35b2",
   "metadata": {
    "id": "b1ef156a-efcb-49ce-bb23-90763e7f35b2",
    "tags": []
   },
   "source": [
    "# Юнит 6. Предметный анализ"
   ]
  },
  {
   "cell_type": "markdown",
   "id": "b9cd50a0-992d-4988-8463-2b2b1c4629b4",
   "metadata": {
    "id": "b9cd50a0-992d-4988-8463-2b2b1c4629b4"
   },
   "source": [
    "1. Сколько вакансий имеет отношение к данным?\n",
    "\n",
    "Считаем, что вакансия имеет отношение к данным, если в её названии содержатся слова 'data' или 'данн'.\n",
    "\n",
    "*Подсказка: Обратите внимание, что названия вакансий могут быть написаны в любом регистре.* \n"
   ]
  },
  {
   "cell_type": "code",
   "execution_count": 38,
   "id": "54ab0e50-c0f1-47cc-a54b-bc5c8bc363f9",
   "metadata": {
    "ExecuteTime": {
     "end_time": "2023-08-19T20:52:55.531162Z",
     "start_time": "2023-08-19T20:52:55.528432Z"
    },
    "id": "54ab0e50-c0f1-47cc-a54b-bc5c8bc363f9"
   },
   "outputs": [],
   "source": [
    "# Обрашаемся к таблице VACANCIES, в условий ищем вхождение данных примеров\n",
    "# (% - этот символ нам помогает) в слова вакансий или отдельные такие слова \n",
    "# в независмиости от регистра с помощью ключа ilike \n",
    "query_6_1 = f'''select \n",
    "                    count(*) amount\n",
    "\n",
    "            from VACANCIES\n",
    "            \n",
    "            where \n",
    "                lower(name) ilike '%data%' \n",
    "                OR lower(name) ilike '%данн%'\n",
    "            '''"
   ]
  },
  {
   "cell_type": "code",
   "execution_count": 39,
   "id": "9F1meAqsuUjd",
   "metadata": {
    "ExecuteTime": {
     "end_time": "2023-08-19T20:52:55.722553Z",
     "start_time": "2023-08-19T20:52:55.533223Z"
    },
    "id": "9F1meAqsuUjd"
   },
   "outputs": [
    {
     "data": {
      "text/plain": [
       "1771"
      ]
     },
     "metadata": {},
     "output_type": "display_data"
    }
   ],
   "source": [
    "# Используем метод read_sql_query, чтобы получить результаты сразу в виде датафрейма\n",
    "df_6_1 = pd.read_sql_query(query_6_1, connection)\n",
    "display(df_6_1['amount'][0])"
   ]
  },
  {
   "cell_type": "markdown",
   "id": "8400005c",
   "metadata": {},
   "source": [
    "<hr style=\"border-style: dashed;\">\n",
    "Как мы видим из 49197 вакансий только 1771 имеет наличие данных слов или сочетаний в название вакансия, что составляет всего около 3,5%.  Если взять другие примеры - например разработка (research), то будет всего 148 вакансий.\n",
    "<hr style=\"border-style: dashed;\">"
   ]
  },
  {
   "cell_type": "markdown",
   "id": "4dea20cb-a36b-474a-a0b9-e08e8e3857a5",
   "metadata": {
    "id": "4dea20cb-a36b-474a-a0b9-e08e8e3857a5"
   },
   "source": [
    "2. Сколько есть подходящих вакансий для начинающего дата-сайентиста? \n",
    "Будем считать вакансиями для дата-сайентистов такие, в названии которых есть хотя бы одно из следующих сочетаний:\n",
    "* 'data scientist'\n",
    "* 'data science'\n",
    "* 'исследователь данных'\n",
    "* 'ML' (здесь не нужно брать вакансии по HTML)\n",
    "* 'machine learning'\n",
    "* 'машинн%обучен%'\n",
    "\n",
    "** В следующих заданиях мы продолжим работать с вакансиями по этому условию.*\n",
    "\n",
    "Считаем вакансиями для специалистов уровня Junior следующие:\n",
    "* в названии есть слово 'junior' *или*\n",
    "* требуемый опыт — Нет опыта *или*\n",
    "* тип трудоустройства — Стажировка.\n",
    " "
   ]
  },
  {
   "cell_type": "code",
   "execution_count": 40,
   "id": "9c61b3c0-bb66-46c9-ae1e-81d3f5752b4a",
   "metadata": {
    "ExecuteTime": {
     "end_time": "2023-08-19T20:52:55.729500Z",
     "start_time": "2023-08-19T20:52:55.725335Z"
    },
    "id": "9c61b3c0-bb66-46c9-ae1e-81d3f5752b4a"
   },
   "outputs": [],
   "source": [
    "# Обрашаемся к таблице VACANCIES, и применяем обозначенные условия\n",
    "query_6_2 = f'''select \n",
    "                    count(*) amount\n",
    "                \n",
    "                from VACANCIES\n",
    "                \n",
    "                where (name ilike '%data scientist%' \n",
    "                    or name ilike '%data science%' \n",
    "                    or name ilike '%исследователь данных%' \n",
    "                    or (name ilike '%ML%' \n",
    "                        and name not ilike '%HTML%') \n",
    "                    or name ilike '%machine learning%'\n",
    "                    or name ilike '%машинн%обучен%')\n",
    "                    and (name ilike '%junior%' \n",
    "                        or experience ilike '%Нет опыта%' \n",
    "                        or employment ilike '%Стажировка%')\n",
    "            '''"
   ]
  },
  {
   "cell_type": "code",
   "execution_count": 41,
   "id": "ZNM-LLYuu1dj",
   "metadata": {
    "ExecuteTime": {
     "end_time": "2023-08-19T20:52:55.928385Z",
     "start_time": "2023-08-19T20:52:55.731852Z"
    },
    "id": "ZNM-LLYuu1dj"
   },
   "outputs": [
    {
     "data": {
      "text/plain": [
       "51"
      ]
     },
     "metadata": {},
     "output_type": "display_data"
    }
   ],
   "source": [
    "# Используем метод read_sql_query, чтобы получить результаты сразу в виде датафрейма\n",
    "df_6_2 = pd.read_sql_query(query_6_2, connection)\n",
    "display(df_6_2['amount'][0])"
   ]
  },
  {
   "cell_type": "markdown",
   "id": "2de59b40",
   "metadata": {},
   "source": [
    "<hr style=\"border-style: dashed;\">\n",
    "Всего 51 вариант из около 49197 вакансий, это около 0,1 процента. Ну могу предположить, что работадателю нужны готовые специалисты, на которых не надо будем тратить ресурсы для обучения и которые уже могли поработать в данной сфере (классика :)), вакансий без джуна и тд, в 10 раз больше. Либо как вариант работадатель не указывает в название вакансий джунов, тобы иметь более богатый выбор, особенно если еще и ЗП не указанна.\n",
    "<hr style=\"border-style: dashed;\">"
   ]
  },
  {
   "cell_type": "markdown",
   "id": "eedceb80-c5ca-480e-b27a-278dfb8b4438",
   "metadata": {
    "id": "eedceb80-c5ca-480e-b27a-278dfb8b4438"
   },
   "source": [
    "3. Сколько есть вакансий для DS, в которых в качестве ключевого навыка указан SQL или postgres?\n",
    "\n",
    "** Критерии для отнесения вакансии к DS указаны в предыдущем задании.*"
   ]
  },
  {
   "cell_type": "code",
   "execution_count": 42,
   "id": "69621713-0cc5-4f1b-a1d7-bb144fa6148c",
   "metadata": {
    "ExecuteTime": {
     "end_time": "2023-08-19T20:52:55.934900Z",
     "start_time": "2023-08-19T20:52:55.931272Z"
    },
    "id": "69621713-0cc5-4f1b-a1d7-bb144fa6148c"
   },
   "outputs": [],
   "source": [
    "# Обрашаемся к таблице VACANCIES, и применяем обозначенные условия\n",
    "# Здесь нюанс %ML% - учет вакансий в название которых есть ML (like в текущем регистре)\n",
    "query_6_3 = f'''select\n",
    "                    count(*) amount\n",
    "            \n",
    "                from VACANCIES\n",
    "                \n",
    "                where (name ilike '%data scientist%' \n",
    "                    or name ilike '%data science%' \n",
    "                    or name ilike '%исследователь данных%' \n",
    "                    or (name LIKE '%ML%' \n",
    "                        and name not ilike '%HTML%') \n",
    "                    or name ilike '%machine learning%' \n",
    "                    or name ilike '%машинн%обучен%')\n",
    "                    and (key_skills ilike '%SQL%' \n",
    "                        or key_skills ilike '%postgres%')\n",
    "            '''"
   ]
  },
  {
   "cell_type": "code",
   "execution_count": 43,
   "id": "alA8WEAAvGdf",
   "metadata": {
    "ExecuteTime": {
     "end_time": "2023-08-19T20:52:56.187906Z",
     "start_time": "2023-08-19T20:52:55.937090Z"
    },
    "id": "alA8WEAAvGdf"
   },
   "outputs": [
    {
     "data": {
      "text/plain": [
       "201"
      ]
     },
     "metadata": {},
     "output_type": "display_data"
    }
   ],
   "source": [
    "# Используем метод read_sql_query, чтобы получить результаты сразу в виде датафрейма\n",
    "df_6_3 = pd.read_sql_query(query_6_3, connection)\n",
    "display(df_6_3['amount'][0])"
   ]
  },
  {
   "cell_type": "markdown",
   "id": "28957529",
   "metadata": {},
   "source": [
    "<hr style=\"border-style: dashed;\">\n",
    "Ситуация получше чем в предыдущем случае, как мы видим практически в 2/5 вакансиях требуються навыки связанные с работой в SQL. Возможно в остальных случаях работадатель имеет ввиду знание работы с SQL по дефолту или указывает в название вакансий (хотя здесь может быть пересечение с администраторами sql и т.д.)\n",
    "<hr style=\"border-style: dashed;\">"
   ]
  },
  {
   "cell_type": "markdown",
   "id": "1be1e9c6-37cf-4a5f-bfeb-04cab799dc80",
   "metadata": {
    "id": "1be1e9c6-37cf-4a5f-bfeb-04cab799dc80"
   },
   "source": [
    "4. Проверьте, насколько популярен Python в требованиях работодателей к DS.Для этого вычислите количество вакансий, в которых в качестве ключевого навыка указан Python.\n",
    "\n",
    "** Это можно сделать помощью запроса, аналогичного предыдущему.*"
   ]
  },
  {
   "cell_type": "code",
   "execution_count": 44,
   "id": "0036a355-9ccf-4564-8b01-73d8194297e7",
   "metadata": {
    "ExecuteTime": {
     "end_time": "2023-08-19T20:52:56.193679Z",
     "start_time": "2023-08-19T20:52:56.189960Z"
    },
    "id": "0036a355-9ccf-4564-8b01-73d8194297e7"
   },
   "outputs": [],
   "source": [
    "# Обрашаемся к таблице VACANCIES, и применяем обозначенные условия\n",
    "query_6_4 = f'''select\n",
    "                    count(*) amount\n",
    "            \n",
    "                from VACANCIES\n",
    "                \n",
    "                where (name ilike '%data scientist%' \n",
    "                    or name ilike '%data science%' \n",
    "                    or name ilike '%исследователь данных%' \n",
    "                    or (name LIKE '%ML%' \n",
    "                        and name not ilike '%HTML%') \n",
    "                    or name ilike '%machine learning%' \n",
    "                    or name ilike '%машинн%обучен%')\n",
    "                    and key_skills ilike '%Python%'\n",
    "            '''"
   ]
  },
  {
   "cell_type": "code",
   "execution_count": 45,
   "id": "1i-5WyucvQ6v",
   "metadata": {
    "ExecuteTime": {
     "end_time": "2023-08-19T20:52:56.326925Z",
     "start_time": "2023-08-19T20:52:56.196196Z"
    },
    "id": "1i-5WyucvQ6v"
   },
   "outputs": [
    {
     "data": {
      "text/plain": [
       "351"
      ]
     },
     "metadata": {},
     "output_type": "display_data"
    }
   ],
   "source": [
    "# Используем метод read_sql_query, чтобы получить результаты сразу в виде датафрейма\n",
    "df_6_4 = pd.read_sql_query(query_6_4, connection)\n",
    "display(df_6_4['amount'][0])"
   ]
  },
  {
   "cell_type": "markdown",
   "id": "11d51b3e",
   "metadata": {},
   "source": [
    "<hr style=\"border-style: dashed;\">\n",
    "Навык владения Python намного популярнее более половины вакансий DS имеют его в ключевых навыках, в остальных С++, Java и т.д. (я посмотрел)\n",
    "<hr style=\"border-style: dashed;\">"
   ]
  },
  {
   "cell_type": "markdown",
   "id": "ec3c8db7-fa21-4a41-a994-1af63742a642",
   "metadata": {
    "id": "ec3c8db7-fa21-4a41-a994-1af63742a642"
   },
   "source": [
    "5. Сколько ключевых навыков в среднем указывают в вакансиях для DS?\n",
    "Ответ округлите до двух знаков после точки-разделителя."
   ]
  },
  {
   "cell_type": "code",
   "execution_count": 46,
   "id": "949132bc-d5b6-4611-8218-0b9a504d74f4",
   "metadata": {
    "ExecuteTime": {
     "end_time": "2023-08-19T20:52:56.333049Z",
     "start_time": "2023-08-19T20:52:56.329554Z"
    },
    "id": "949132bc-d5b6-4611-8218-0b9a504d74f4"
   },
   "outputs": [],
   "source": [
    "# Обрашаемся к таблице VACANCIES, и применяем обозначенные условия\n",
    "# lenght - подсчитываем количество символов в строке, затем replace убираем символ\n",
    "# CHR(9) (в данном случае символ разделения между навыками), считаем разницу и узнаем \n",
    "# кол-во CHR(9) и прибавляем + 1 узнаем - кол-во навыков в строке\n",
    "query_6_5 = f'''select \n",
    "                    round(avg(length(key_skills)-length(replace(key_skills, \n",
    "                                                        CHR(9), ''))+1), 2)\n",
    "                from VACANCIES\n",
    "            \n",
    "                where (name ilike '%data scientist%' \n",
    "                    or name ilike '%data science%' \n",
    "                    or name ilike '%исследователь данных%' \n",
    "                    or (name LIKE '%ML%' \n",
    "                        and name not ilike '%HTML%') \n",
    "                    or name ilike '%machine learning%' \n",
    "                    or name ilike '%машинн%обучен%')\n",
    "                    and key_skills is not NULL\n",
    "            '''"
   ]
  },
  {
   "cell_type": "code",
   "execution_count": 47,
   "id": "a3V24Tvmviqk",
   "metadata": {
    "ExecuteTime": {
     "end_time": "2023-08-19T20:52:56.596631Z",
     "start_time": "2023-08-19T20:52:56.335100Z"
    },
    "id": "a3V24Tvmviqk"
   },
   "outputs": [
    {
     "data": {
      "text/plain": [
       "6.41"
      ]
     },
     "metadata": {},
     "output_type": "display_data"
    }
   ],
   "source": [
    "# Используем метод read_sql_query, чтобы получить результаты сразу в виде датафрейма\n",
    "df_6_5 = pd.read_sql_query(query_6_5, connection)\n",
    "display(df_6_5['round'][0])"
   ]
  },
  {
   "cell_type": "markdown",
   "id": "44536c56",
   "metadata": {},
   "source": [
    "<hr style=\"border-style: dashed;\">\n",
    "В среднем 6.41 ключевых навыков на вакансию чуть больше чем в среднем по всем предоставленным вакансиям (6.37).\n",
    "<hr style=\"border-style: dashed;\">"
   ]
  },
  {
   "cell_type": "markdown",
   "id": "1041c17a-ca8f-4543-a0ca-32778914fb00",
   "metadata": {
    "id": "1041c17a-ca8f-4543-a0ca-32778914fb00"
   },
   "source": [
    "6. Напишите запрос, позволяющий вычислить, какую зарплату для DS в **среднем** указывают для каждого типа требуемого опыта (уникальное значение из поля *experience*). \n",
    "\n",
    "При решении задачи примите во внимание следующее:\n",
    "1. Рассматриваем только вакансии, у которых заполнено хотя бы одно из двух полей с зарплатой.\n",
    "2. Если заполнены оба поля с зарплатой, то считаем зарплату по каждой вакансии как сумму двух полей, делённую на 2. Если заполнено только одно из полей, то его и считаем зарплатой по вакансии.\n",
    "3. Если в расчётах участвует null, в результате он тоже даст null (посмотрите, что возвращает запрос select 1 + null). Чтобы избежать этой ситуацию, мы воспользуемся функцией [coalesce](https://postgrespro.ru/docs/postgresql/9.5/functions-conditional#functions-coalesce-nvl-ifnull), которая заменит null на значение, которое мы передадим. Например, посмотрите, что возвращает запрос `select 1 + coalesce(null, 0)`\n",
    "\n",
    "Выясните, на какую зарплату в среднем может рассчитывать дата-сайентист с опытом работы от 3 до 6 лет. Результат округлите до целого числа. "
   ]
  },
  {
   "cell_type": "code",
   "execution_count": 48,
   "id": "6a743d39-5204-48d3-8271-b9f88e68d40e",
   "metadata": {
    "ExecuteTime": {
     "end_time": "2023-08-19T20:52:56.602005Z",
     "start_time": "2023-08-19T20:52:56.598657Z"
    },
    "id": "6a743d39-5204-48d3-8271-b9f88e68d40e"
   },
   "outputs": [],
   "source": [
    "# Обрашаемся к таблице VACANCIES, и применяем обозначенные условия\n",
    "# Используем coalesce, он возврашает 1-е значение, которое имеет not null,\n",
    "# В данной строке 3 позиций - он смотрит каждую и если видит что там нет NULL, то\n",
    "# возврашает ее, сумма у нас поставленна 1 значением - т/к если там все ок, то она и\n",
    "# возврашается. Если есть проблемы, то идем дальше и смотрим там (в where у нас \n",
    "# указанно, что что-то будет без NULL)\n",
    "query_6_6 = f'''select round(avg(coalesce((salary_from+salary_to)/2, \n",
    "                                                salary_from, salary_to, 0)))\n",
    "                from VACANCIES\n",
    "                \n",
    "                where (name ilike '%data scientist%' \n",
    "                    or name ilike '%data science%' \n",
    "                    or name ilike '%исследователь данных%' \n",
    "                    or (name like '%ML%' \n",
    "                        AND name not ilike '%HTML%') \n",
    "                    or name ilike '%machine learning%' \n",
    "                    or name ilike '%машинн%обучен%')\n",
    "                    and (salary_from is not NULL \n",
    "                        or salary_to is not NULL)\n",
    "                    and experience = 'От 3 до 6 лет'\n",
    "            '''"
   ]
  },
  {
   "cell_type": "code",
   "execution_count": 49,
   "id": "aRIJ0mZEwU1_",
   "metadata": {
    "ExecuteTime": {
     "end_time": "2023-08-19T20:52:56.690533Z",
     "start_time": "2023-08-19T20:52:56.604028Z"
    },
    "id": "aRIJ0mZEwU1_"
   },
   "outputs": [
    {
     "data": {
      "text/html": [
       "<div>\n",
       "<style scoped>\n",
       "    .dataframe tbody tr th:only-of-type {\n",
       "        vertical-align: middle;\n",
       "    }\n",
       "\n",
       "    .dataframe tbody tr th {\n",
       "        vertical-align: top;\n",
       "    }\n",
       "\n",
       "    .dataframe thead th {\n",
       "        text-align: right;\n",
       "    }\n",
       "</style>\n",
       "<table border=\"1\" class=\"dataframe\">\n",
       "  <thead>\n",
       "    <tr style=\"text-align: right;\">\n",
       "      <th></th>\n",
       "      <th>round</th>\n",
       "    </tr>\n",
       "  </thead>\n",
       "  <tbody>\n",
       "    <tr>\n",
       "      <th>0</th>\n",
       "      <td>243115.0</td>\n",
       "    </tr>\n",
       "  </tbody>\n",
       "</table>\n",
       "</div>"
      ],
      "text/plain": [
       "      round\n",
       "0  243115.0"
      ]
     },
     "metadata": {},
     "output_type": "display_data"
    }
   ],
   "source": [
    "# Используем метод read_sql_query, чтобы получить результаты сразу в виде датафрейма\n",
    "df_6_6 = pd.read_sql_query(query_6_6, connection)\n",
    "display(df_6_6)"
   ]
  },
  {
   "cell_type": "markdown",
   "id": "1d0f4f9c",
   "metadata": {},
   "source": [
    "<hr style=\"border-style: dashed;\">\n",
    "Как видим в среднем по рынку ЗП достаточно приятная, но это с учетом регионов думаю в Москве и других крупных городах ЗП будет побольше.\n",
    "<hr style=\"border-style: dashed;\">"
   ]
  },
  {
   "cell_type": "markdown",
   "id": "6a7892b4-4113-4746-adce-18aa2844f18e",
   "metadata": {
    "id": "6a7892b4-4113-4746-adce-18aa2844f18e"
   },
   "source": [
    "***"
   ]
  },
  {
   "cell_type": "markdown",
   "id": "c435e841",
   "metadata": {
    "id": "UjLWUptVwY1o"
   },
   "source": [
    "Как мы узнали всего 1771(3,5%) вакансии имеют отношения к данным. Также мы посмотрели вакансий DS (536 строк) из них вакансии джунов явно указанных в название всего 51 (0,1%) от обшего кол-во вакансии. С бнавыками SQL у нас работают 2/5 из вакансий DS 201 строка, в этом плане Python популярнее 351 строка, больше половины указывают этот ключевой навык. Так же средний показатель по количеству ключевых навыков 6.41 превышает средний показатель ключевых навыков во всех вакансиях 6.37. Это показывает, что для вхождения в данные направления деятельности, необходимо предпринимать больше усилий. Ну и вишенкой на торт будет ЗП в среднем выше по рынку после 3 лет работы в данной области. "
   ]
  },
  {
   "cell_type": "markdown",
   "id": "c0ED6fh7wiBT",
   "metadata": {
    "id": "c0ED6fh7wiBT"
   },
   "source": [
    "# Общий вывод по проекту"
   ]
  },
  {
   "cell_type": "markdown",
   "id": "adb7afb7",
   "metadata": {
    "id": "h9B3BL-wwj18"
   },
   "source": [
    "# подведем итог исследования\n",
    "\n",
    "- Как мы видиели из сделанных запросов по большей части, у нас здесь представленны вакансий связанные с IT, но есть и вкрапления других направлений (юрист и тд.). Большинство работадателей у нас из Россий, хотя встречаеться ближнее зарубежье, а так же из стран расположенные на других континентах всего 1362 региона. Количество сфер деятельности, где применяется IT самое разнообразное.\n",
    "- Большинство вакансий ориентированно на крупные города. Около половины вакансий без указания заработной вилке, в остальных может быть заполнена только одна позиция. Средняя зарплата в предоставленных вакансиях от 70 тысяч до 110 тысяч. Работадатель  в основном желает, чтобы кандидаты работали полный рабочий день, но также мы видим, что на втором месте по графику рабочего дня идет удаленная работа. Работадателям требуються уже достаточно опытные специалисты. В среде самих работадателей, лидер по вакансиям с большим отрывом у нас IT компания 'Яндекс'. Но телеком и финтех, а также промышленность идут за ним следом, им тоже нужны специалисты IT, так как в современном мире - это позволяет извлекать дополнительную прибыль и сокращать издержки. \n",
    "- Сами работадатели могут быть в одном регионе, а работу предлагать в другом - здесь либо открытие филиалов, либо удаленная работу. Также как есть тренд, что количество вакансий в регионе больше, чем количество работадателей. Следовательно в одну и туже компанию требуеться несколько человек (нехватка специалистов или рынок переживает рост (на это может косвенно указывать, что не публикуют зарплатную вилку)!). Крупные игроки размешаються в большом количестве регионов - это компаний которые на слуху, хотя не обходится и без казусов здесь. Около 1/3 работадателей не указывают сферу деятельности у себя, что это небрежность ? Возможно это маленькие компаний, которые не заполняют полностью профиль считая это излишним или от нехватки времени (так как там на нескольких позициях может работать 1 человек). \n",
    "- У компаний которые указывают сферы деятельности - чаще всего от 1 до 3 сфер деятельности, 4 сферы деятельности всего около 5% компаний, а 5 и более еще меньше в процентном соотношение. 15% работадателей занимаються Разработкой ПО (топ1), затем идет системный интеграторы и оптимизаторы (около 13%) и интернет компаний (около 7%), около 1/3 работадателей связанна непосредственно с IT отраслью. Крупные компаний охватывают большое количество регионов в поисках кандидатов, чтобы выборка и возможностей было больше.\n",
    "- Всего 1771(3,5%) вакансии имеют отношения к данным. Если посмотреть вакансий DS, то всего будет 536 - из них вакансии джунов явно указанных в название всего 51 (0,1%). С навыками SQL у нас работают 2/5 из вакансий DS, в этом плане Python популярнее там больше половину указанн этот ключевой навык. Так же средний показатель по количеству ключевых навыков превышает средний показатель ключевых навыков в вакансии. Это показывает, что для вхождения в данные направления деятельности, необходимо предпринимать больше усилий. Ну и вишенкой на торт будет ЗП она будет выше по рынку после 3 лет работы в данной области разница будет 3,5 раза.\n",
    "***\n",
    "\n",
    "Если говорить о дальнейшем исследование, то можно дальше углубиться, в детали посмотреть соотношение и сделать некоторые выводы. Можем просмотреть зависимость ЗП от навыков и опыта работы. Также посмотреть какие компаний сейчас набирают DS, а какие нет. Также узнать куда следует обрашаться 'неофитам' и где их с большей вероятностью возмут, а где возмут с меньшей вероятностью.  "
   ]
  },
  {
   "cell_type": "code",
   "execution_count": 50,
   "id": "95e04fe9",
   "metadata": {
    "ExecuteTime": {
     "end_time": "2023-08-19T20:52:56.702837Z",
     "start_time": "2023-08-19T20:52:56.695639Z"
    }
   },
   "outputs": [],
   "source": [
    "# посмотрим связь зарплаты с опытом и навыками\n",
    "# здесь применим подсчет навыков с заменой NULL на 1 и 2, так как затем это нам даст\n",
    "# 1-2+1 = 0. В итоге там где не обозначены навыки мы получим 0\n",
    "heatmap = f'''select \n",
    "                experience, \n",
    "                (length(coalesce(key_skills, '1')) - length(\n",
    "                    replace(coalesce(key_skills, ' 2'), CHR(9), '')))::int \n",
    "                                                                + 1 skills,\n",
    "                coalesce((salary_from+salary_to)/2, salary_from,\n",
    "                                                        salary_to, 0) salary\n",
    "                from VACANCIES\n",
    "                \n",
    "                where\n",
    "                    salary_from is not null \n",
    "                    or salary_to is not null\n",
    "\n",
    "                order by skills \n",
    "            '''"
   ]
  },
  {
   "cell_type": "code",
   "execution_count": 51,
   "id": "4228b46d",
   "metadata": {
    "ExecuteTime": {
     "end_time": "2023-08-19T20:52:57.101506Z",
     "start_time": "2023-08-19T20:52:56.706512Z"
    }
   },
   "outputs": [
    {
     "data": {
      "text/html": [
       "<div>\n",
       "<style scoped>\n",
       "    .dataframe tbody tr th:only-of-type {\n",
       "        vertical-align: middle;\n",
       "    }\n",
       "\n",
       "    .dataframe tbody tr th {\n",
       "        vertical-align: top;\n",
       "    }\n",
       "\n",
       "    .dataframe thead th {\n",
       "        text-align: right;\n",
       "    }\n",
       "</style>\n",
       "<table border=\"1\" class=\"dataframe\">\n",
       "  <thead>\n",
       "    <tr style=\"text-align: right;\">\n",
       "      <th></th>\n",
       "      <th>experience</th>\n",
       "      <th>skills</th>\n",
       "      <th>salary</th>\n",
       "    </tr>\n",
       "  </thead>\n",
       "  <tbody>\n",
       "    <tr>\n",
       "      <th>0</th>\n",
       "      <td>От 3 до 6 лет</td>\n",
       "      <td>0</td>\n",
       "      <td>135000</td>\n",
       "    </tr>\n",
       "    <tr>\n",
       "      <th>1</th>\n",
       "      <td>От 3 до 6 лет</td>\n",
       "      <td>0</td>\n",
       "      <td>95000</td>\n",
       "    </tr>\n",
       "    <tr>\n",
       "      <th>2</th>\n",
       "      <td>Нет опыта</td>\n",
       "      <td>0</td>\n",
       "      <td>75000</td>\n",
       "    </tr>\n",
       "    <tr>\n",
       "      <th>3</th>\n",
       "      <td>От 1 года до 3 лет</td>\n",
       "      <td>0</td>\n",
       "      <td>69000</td>\n",
       "    </tr>\n",
       "    <tr>\n",
       "      <th>4</th>\n",
       "      <td>Нет опыта</td>\n",
       "      <td>0</td>\n",
       "      <td>15000</td>\n",
       "    </tr>\n",
       "    <tr>\n",
       "      <th>...</th>\n",
       "      <td>...</td>\n",
       "      <td>...</td>\n",
       "      <td>...</td>\n",
       "    </tr>\n",
       "    <tr>\n",
       "      <th>24068</th>\n",
       "      <td>От 1 года до 3 лет</td>\n",
       "      <td>30</td>\n",
       "      <td>180000</td>\n",
       "    </tr>\n",
       "    <tr>\n",
       "      <th>24069</th>\n",
       "      <td>От 1 года до 3 лет</td>\n",
       "      <td>30</td>\n",
       "      <td>40000</td>\n",
       "    </tr>\n",
       "    <tr>\n",
       "      <th>24070</th>\n",
       "      <td>Нет опыта</td>\n",
       "      <td>30</td>\n",
       "      <td>36000</td>\n",
       "    </tr>\n",
       "    <tr>\n",
       "      <th>24071</th>\n",
       "      <td>От 1 года до 3 лет</td>\n",
       "      <td>30</td>\n",
       "      <td>70000</td>\n",
       "    </tr>\n",
       "    <tr>\n",
       "      <th>24072</th>\n",
       "      <td>От 1 года до 3 лет</td>\n",
       "      <td>30</td>\n",
       "      <td>30511</td>\n",
       "    </tr>\n",
       "  </tbody>\n",
       "</table>\n",
       "<p>24073 rows × 3 columns</p>\n",
       "</div>"
      ],
      "text/plain": [
       "               experience  skills  salary\n",
       "0           От 3 до 6 лет       0  135000\n",
       "1           От 3 до 6 лет       0   95000\n",
       "2               Нет опыта       0   75000\n",
       "3      От 1 года до 3 лет       0   69000\n",
       "4               Нет опыта       0   15000\n",
       "...                   ...     ...     ...\n",
       "24068  От 1 года до 3 лет      30  180000\n",
       "24069  От 1 года до 3 лет      30   40000\n",
       "24070           Нет опыта      30   36000\n",
       "24071  От 1 года до 3 лет      30   70000\n",
       "24072  От 1 года до 3 лет      30   30511\n",
       "\n",
       "[24073 rows x 3 columns]"
      ]
     },
     "metadata": {},
     "output_type": "display_data"
    }
   ],
   "source": [
    "df_heatmap = pd.read_sql_query(heatmap, connection)\n",
    "display(df_heatmap)"
   ]
  },
  {
   "cell_type": "code",
   "execution_count": 52,
   "id": "1a409af3",
   "metadata": {
    "ExecuteTime": {
     "end_time": "2023-08-19T20:52:57.137459Z",
     "start_time": "2023-08-19T20:52:57.103852Z"
    }
   },
   "outputs": [
    {
     "data": {
      "text/html": [
       "<div>\n",
       "<style scoped>\n",
       "    .dataframe tbody tr th:only-of-type {\n",
       "        vertical-align: middle;\n",
       "    }\n",
       "\n",
       "    .dataframe tbody tr th {\n",
       "        vertical-align: top;\n",
       "    }\n",
       "\n",
       "    .dataframe thead th {\n",
       "        text-align: right;\n",
       "    }\n",
       "</style>\n",
       "<table border=\"1\" class=\"dataframe\">\n",
       "  <thead>\n",
       "    <tr style=\"text-align: right;\">\n",
       "      <th>skills</th>\n",
       "      <th>0</th>\n",
       "      <th>1</th>\n",
       "      <th>2</th>\n",
       "      <th>3</th>\n",
       "      <th>4</th>\n",
       "      <th>5</th>\n",
       "      <th>6</th>\n",
       "      <th>7</th>\n",
       "      <th>8</th>\n",
       "      <th>9</th>\n",
       "      <th>...</th>\n",
       "      <th>21</th>\n",
       "      <th>22</th>\n",
       "      <th>23</th>\n",
       "      <th>24</th>\n",
       "      <th>25</th>\n",
       "      <th>26</th>\n",
       "      <th>27</th>\n",
       "      <th>28</th>\n",
       "      <th>29</th>\n",
       "      <th>30</th>\n",
       "    </tr>\n",
       "    <tr>\n",
       "      <th>experience</th>\n",
       "      <th></th>\n",
       "      <th></th>\n",
       "      <th></th>\n",
       "      <th></th>\n",
       "      <th></th>\n",
       "      <th></th>\n",
       "      <th></th>\n",
       "      <th></th>\n",
       "      <th></th>\n",
       "      <th></th>\n",
       "      <th></th>\n",
       "      <th></th>\n",
       "      <th></th>\n",
       "      <th></th>\n",
       "      <th></th>\n",
       "      <th></th>\n",
       "      <th></th>\n",
       "      <th></th>\n",
       "      <th></th>\n",
       "      <th></th>\n",
       "      <th></th>\n",
       "    </tr>\n",
       "  </thead>\n",
       "  <tbody>\n",
       "    <tr>\n",
       "      <th>Более 6 лет</th>\n",
       "      <td>110000.0</td>\n",
       "      <td>145000.0</td>\n",
       "      <td>113000.0</td>\n",
       "      <td>170000.0</td>\n",
       "      <td>150000.0</td>\n",
       "      <td>122047.0</td>\n",
       "      <td>215000.0</td>\n",
       "      <td>192880.0</td>\n",
       "      <td>110000.0</td>\n",
       "      <td>117500.0</td>\n",
       "      <td>...</td>\n",
       "      <td>220000.0</td>\n",
       "      <td>130807.0</td>\n",
       "      <td>266635.0</td>\n",
       "      <td>150000.0</td>\n",
       "      <td>315000.0</td>\n",
       "      <td>NaN</td>\n",
       "      <td>NaN</td>\n",
       "      <td>60000.0</td>\n",
       "      <td>NaN</td>\n",
       "      <td>51427.0</td>\n",
       "    </tr>\n",
       "    <tr>\n",
       "      <th>Нет опыта</th>\n",
       "      <td>26000.0</td>\n",
       "      <td>38000.0</td>\n",
       "      <td>35000.0</td>\n",
       "      <td>37500.0</td>\n",
       "      <td>36000.0</td>\n",
       "      <td>40000.0</td>\n",
       "      <td>40000.0</td>\n",
       "      <td>38832.5</td>\n",
       "      <td>36000.0</td>\n",
       "      <td>60000.0</td>\n",
       "      <td>...</td>\n",
       "      <td>30000.0</td>\n",
       "      <td>66000.0</td>\n",
       "      <td>56250.0</td>\n",
       "      <td>NaN</td>\n",
       "      <td>75000.0</td>\n",
       "      <td>35500.0</td>\n",
       "      <td>35500.0</td>\n",
       "      <td>90000.0</td>\n",
       "      <td>NaN</td>\n",
       "      <td>30000.0</td>\n",
       "    </tr>\n",
       "    <tr>\n",
       "      <th>От 1 года до 3 лет</th>\n",
       "      <td>55000.0</td>\n",
       "      <td>55000.0</td>\n",
       "      <td>60000.0</td>\n",
       "      <td>60000.0</td>\n",
       "      <td>60000.0</td>\n",
       "      <td>60000.0</td>\n",
       "      <td>65000.0</td>\n",
       "      <td>65000.0</td>\n",
       "      <td>67171.0</td>\n",
       "      <td>65000.0</td>\n",
       "      <td>...</td>\n",
       "      <td>65000.0</td>\n",
       "      <td>102500.0</td>\n",
       "      <td>60000.0</td>\n",
       "      <td>50000.0</td>\n",
       "      <td>66250.0</td>\n",
       "      <td>60000.0</td>\n",
       "      <td>40000.0</td>\n",
       "      <td>42500.0</td>\n",
       "      <td>82500.0</td>\n",
       "      <td>46250.0</td>\n",
       "    </tr>\n",
       "    <tr>\n",
       "      <th>От 3 до 6 лет</th>\n",
       "      <td>100000.0</td>\n",
       "      <td>135000.0</td>\n",
       "      <td>176658.5</td>\n",
       "      <td>120000.0</td>\n",
       "      <td>116897.0</td>\n",
       "      <td>100000.0</td>\n",
       "      <td>125000.0</td>\n",
       "      <td>123000.0</td>\n",
       "      <td>120000.0</td>\n",
       "      <td>115000.0</td>\n",
       "      <td>...</td>\n",
       "      <td>212500.0</td>\n",
       "      <td>115000.0</td>\n",
       "      <td>85433.0</td>\n",
       "      <td>100000.0</td>\n",
       "      <td>150000.0</td>\n",
       "      <td>150000.0</td>\n",
       "      <td>200000.0</td>\n",
       "      <td>122500.0</td>\n",
       "      <td>175346.0</td>\n",
       "      <td>86000.0</td>\n",
       "    </tr>\n",
       "  </tbody>\n",
       "</table>\n",
       "<p>4 rows × 31 columns</p>\n",
       "</div>"
      ],
      "text/plain": [
       "skills                    0         1         2         3         4   \\\n",
       "experience                                                             \n",
       "Более 6 лет         110000.0  145000.0  113000.0  170000.0  150000.0   \n",
       "Нет опыта            26000.0   38000.0   35000.0   37500.0   36000.0   \n",
       "От 1 года до 3 лет   55000.0   55000.0   60000.0   60000.0   60000.0   \n",
       "От 3 до 6 лет       100000.0  135000.0  176658.5  120000.0  116897.0   \n",
       "\n",
       "skills                    5         6         7         8         9   ...  \\\n",
       "experience                                                            ...   \n",
       "Более 6 лет         122047.0  215000.0  192880.0  110000.0  117500.0  ...   \n",
       "Нет опыта            40000.0   40000.0   38832.5   36000.0   60000.0  ...   \n",
       "От 1 года до 3 лет   60000.0   65000.0   65000.0   67171.0   65000.0  ...   \n",
       "От 3 до 6 лет       100000.0  125000.0  123000.0  120000.0  115000.0  ...   \n",
       "\n",
       "skills                    21        22        23        24        25  \\\n",
       "experience                                                             \n",
       "Более 6 лет         220000.0  130807.0  266635.0  150000.0  315000.0   \n",
       "Нет опыта            30000.0   66000.0   56250.0       NaN   75000.0   \n",
       "От 1 года до 3 лет   65000.0  102500.0   60000.0   50000.0   66250.0   \n",
       "От 3 до 6 лет       212500.0  115000.0   85433.0  100000.0  150000.0   \n",
       "\n",
       "skills                    26        27        28        29       30  \n",
       "experience                                                           \n",
       "Более 6 лет              NaN       NaN   60000.0       NaN  51427.0  \n",
       "Нет опыта            35500.0   35500.0   90000.0       NaN  30000.0  \n",
       "От 1 года до 3 лет   60000.0   40000.0   42500.0   82500.0  46250.0  \n",
       "От 3 до 6 лет       150000.0  200000.0  122500.0  175346.0  86000.0  \n",
       "\n",
       "[4 rows x 31 columns]"
      ]
     },
     "metadata": {},
     "output_type": "display_data"
    }
   ],
   "source": [
    "# Сделаем сводную таблицу, чтобы подсчитать срднию ЗП для опыта и кол-во скилов\n",
    "pivot_heatmap = pd.pivot_table(\n",
    "                                data = df_heatmap,\n",
    "                                values = 'salary',\n",
    "                                index = 'experience',\n",
    "                                columns = 'skills',\n",
    "                                aggfunc='median'\n",
    "                                )\n",
    "display(pivot_heatmap)"
   ]
  },
  {
   "cell_type": "code",
   "execution_count": 53,
   "id": "dcad77ef",
   "metadata": {
    "ExecuteTime": {
     "end_time": "2023-08-19T20:52:58.879272Z",
     "start_time": "2023-08-19T20:52:57.139734Z"
    }
   },
   "outputs": [
    {
     "data": {
      "image/png": "[encoded data removed]"
     },
     "metadata": {},
     "output_type": "display_data"
    }
   ],
   "source": [
    "# Нарисуем таблицу в тепловой карте\n",
    "fig = px.imshow(pivot_heatmap, # датафрейм\n",
    "                # изменение контраста (сейчас используються экстремумы)\n",
    "                labels=dict(color=\"Уровень ЗП в рублях\",x='Количество навыков',\n",
    "                           y='Опыт работы'),\n",
    "                title='Связь зарплаты с количеством навыков и опытом рабоыт',\n",
    "                # изменение контраста (сейчас используються экстремумы)\n",
    "                contrast_rescaling='minmax',\n",
    "                width = 1200, # Ширина графика\n",
    "                height = 600\n",
    "               )\n",
    "# Вывод графика\n",
    "fig.show('png')"
   ]
  },
  {
   "cell_type": "markdown",
   "id": "55a38d21",
   "metadata": {},
   "source": [
    "Как видим в количестве навыков нет какого либо ярко выраженного тренда, на зарплату влияет больше опыт работы."
   ]
  },
  {
   "cell_type": "code",
   "execution_count": 54,
   "id": "9e3e9374",
   "metadata": {
    "ExecuteTime": {
     "end_time": "2023-08-19T20:52:58.887122Z",
     "start_time": "2023-08-19T20:52:58.882942Z"
    }
   },
   "outputs": [],
   "source": [
    "# Распределение по experience заполнености вилки зарплат и средние зарплаты\n",
    "experience_salary = f'''select \n",
    "                            experience,\n",
    "                            count(*) amount,\n",
    "                            round(avg(coalesce((salary_from+salary_to)/2, \n",
    "                                                salary_from, salary_to, 0)))\n",
    "                \n",
    "                        from VACANCIES\n",
    "                \n",
    "                        where \n",
    "                            salary_from is not NULL \n",
    "                            or salary_to is not NULL\n",
    "                \n",
    "                        group by experience \n",
    "                \n",
    "                        order by amount desc\n",
    "                    '''"
   ]
  },
  {
   "cell_type": "code",
   "execution_count": 55,
   "id": "918d8647",
   "metadata": {
    "ExecuteTime": {
     "end_time": "2023-08-19T20:52:58.892311Z",
     "start_time": "2023-08-19T20:52:58.889209Z"
    }
   },
   "outputs": [],
   "source": [
    "exp_sal = f'''select \n",
    "                experience,\n",
    "                count(*) amount\n",
    "            \n",
    "            from VACANCIES\n",
    "                                \n",
    "            group by experience \n",
    "                \n",
    "            order by amount desc\n",
    "        '''"
   ]
  },
  {
   "cell_type": "code",
   "execution_count": 56,
   "id": "e019407d",
   "metadata": {
    "ExecuteTime": {
     "end_time": "2023-08-19T20:52:58.979792Z",
     "start_time": "2023-08-19T20:52:58.894287Z"
    }
   },
   "outputs": [
    {
     "data": {
      "text/html": [
       "<div>\n",
       "<style scoped>\n",
       "    .dataframe tbody tr th:only-of-type {\n",
       "        vertical-align: middle;\n",
       "    }\n",
       "\n",
       "    .dataframe tbody tr th {\n",
       "        vertical-align: top;\n",
       "    }\n",
       "\n",
       "    .dataframe thead th {\n",
       "        text-align: right;\n",
       "    }\n",
       "</style>\n",
       "<table border=\"1\" class=\"dataframe\">\n",
       "  <thead>\n",
       "    <tr style=\"text-align: right;\">\n",
       "      <th></th>\n",
       "      <th>experience</th>\n",
       "      <th>amount</th>\n",
       "      <th>round</th>\n",
       "    </tr>\n",
       "  </thead>\n",
       "  <tbody>\n",
       "    <tr>\n",
       "      <th>0</th>\n",
       "      <td>От 1 года до 3 лет</td>\n",
       "      <td>12819</td>\n",
       "      <td>76541.0</td>\n",
       "    </tr>\n",
       "    <tr>\n",
       "      <th>1</th>\n",
       "      <td>От 3 до 6 лет</td>\n",
       "      <td>5649</td>\n",
       "      <td>133211.0</td>\n",
       "    </tr>\n",
       "    <tr>\n",
       "      <th>2</th>\n",
       "      <td>Нет опыта</td>\n",
       "      <td>5055</td>\n",
       "      <td>40472.0</td>\n",
       "    </tr>\n",
       "    <tr>\n",
       "      <th>3</th>\n",
       "      <td>Более 6 лет</td>\n",
       "      <td>550</td>\n",
       "      <td>166256.0</td>\n",
       "    </tr>\n",
       "  </tbody>\n",
       "</table>\n",
       "</div>"
      ],
      "text/plain": [
       "           experience  amount     round\n",
       "0  От 1 года до 3 лет   12819   76541.0\n",
       "1       От 3 до 6 лет    5649  133211.0\n",
       "2           Нет опыта    5055   40472.0\n",
       "3         Более 6 лет     550  166256.0"
      ]
     },
     "metadata": {},
     "output_type": "display_data"
    },
    {
     "data": {
      "text/html": [
       "<div>\n",
       "<style scoped>\n",
       "    .dataframe tbody tr th:only-of-type {\n",
       "        vertical-align: middle;\n",
       "    }\n",
       "\n",
       "    .dataframe tbody tr th {\n",
       "        vertical-align: top;\n",
       "    }\n",
       "\n",
       "    .dataframe thead th {\n",
       "        text-align: right;\n",
       "    }\n",
       "</style>\n",
       "<table border=\"1\" class=\"dataframe\">\n",
       "  <thead>\n",
       "    <tr style=\"text-align: right;\">\n",
       "      <th></th>\n",
       "      <th>experience</th>\n",
       "      <th>amount</th>\n",
       "    </tr>\n",
       "  </thead>\n",
       "  <tbody>\n",
       "    <tr>\n",
       "      <th>0</th>\n",
       "      <td>От 1 года до 3 лет</td>\n",
       "      <td>26152</td>\n",
       "    </tr>\n",
       "    <tr>\n",
       "      <th>1</th>\n",
       "      <td>От 3 до 6 лет</td>\n",
       "      <td>14511</td>\n",
       "    </tr>\n",
       "    <tr>\n",
       "      <th>2</th>\n",
       "      <td>Нет опыта</td>\n",
       "      <td>7197</td>\n",
       "    </tr>\n",
       "    <tr>\n",
       "      <th>3</th>\n",
       "      <td>Более 6 лет</td>\n",
       "      <td>1337</td>\n",
       "    </tr>\n",
       "  </tbody>\n",
       "</table>\n",
       "</div>"
      ],
      "text/plain": [
       "           experience  amount\n",
       "0  От 1 года до 3 лет   26152\n",
       "1       От 3 до 6 лет   14511\n",
       "2           Нет опыта    7197\n",
       "3         Более 6 лет    1337"
      ]
     },
     "metadata": {},
     "output_type": "display_data"
    }
   ],
   "source": [
    "df_exp_sal = pd.read_sql_query(experience_salary, connection)\n",
    "display(df_exp_sal)\n",
    "df_exp_salf = pd.read_sql_query(exp_sal, connection)\n",
    "display(df_exp_salf)"
   ]
  },
  {
   "cell_type": "markdown",
   "id": "93ecf09b",
   "metadata": {},
   "source": [
    "В первом датафрейме видим, самые часто заполняемые вилки зарплат, а также их среднию заработную плату. Во втором выводится распределение вакансии по опыту работы. Как видим в половине случаев 49% указывают хотябы частично вилку при опыте работы от 1 года 3 лет, от 3 до 6 лет уже указывают только около в 40% случаев, при отстутсвие опыта уже указывают зп в 70% случаев, и при опыте более 6 лет указывают только в 40% случаев. Ну здесь мы видим тенденцию к тому что с опытом все меньше указывают зарплаты. Видимо есть примерная планка зарплат специалистов такого уровня и чем опытнее онистановятся, при +- одинаковых зарплатах начинают влиять другие бонусы ?"
   ]
  },
  {
   "cell_type": "code",
   "execution_count": 57,
   "id": "0be08dfc",
   "metadata": {
    "ExecuteTime": {
     "end_time": "2023-08-19T20:52:58.985337Z",
     "start_time": "2023-08-19T20:52:58.982402Z"
    }
   },
   "outputs": [],
   "source": [
    "# min и max зарплатной вилки\n",
    "min_max = f'''select \n",
    "                    min(salary_from),\n",
    "                    max(salary_to)\n",
    "                \n",
    "            from VACANCIES\n",
    "                 \n",
    "            '''"
   ]
  },
  {
   "cell_type": "code",
   "execution_count": 58,
   "id": "99b9498b",
   "metadata": {
    "ExecuteTime": {
     "end_time": "2023-08-19T20:52:59.021897Z",
     "start_time": "2023-08-19T20:52:58.987435Z"
    }
   },
   "outputs": [
    {
     "data": {
      "text/html": [
       "<div>\n",
       "<style scoped>\n",
       "    .dataframe tbody tr th:only-of-type {\n",
       "        vertical-align: middle;\n",
       "    }\n",
       "\n",
       "    .dataframe tbody tr th {\n",
       "        vertical-align: top;\n",
       "    }\n",
       "\n",
       "    .dataframe thead th {\n",
       "        text-align: right;\n",
       "    }\n",
       "</style>\n",
       "<table border=\"1\" class=\"dataframe\">\n",
       "  <thead>\n",
       "    <tr style=\"text-align: right;\">\n",
       "      <th></th>\n",
       "      <th>min</th>\n",
       "      <th>max</th>\n",
       "    </tr>\n",
       "  </thead>\n",
       "  <tbody>\n",
       "    <tr>\n",
       "      <th>0</th>\n",
       "      <td>30</td>\n",
       "      <td>1000000</td>\n",
       "    </tr>\n",
       "  </tbody>\n",
       "</table>\n",
       "</div>"
      ],
      "text/plain": [
       "   min      max\n",
       "0   30  1000000"
      ]
     },
     "metadata": {},
     "output_type": "display_data"
    }
   ],
   "source": [
    "df_min_max = pd.read_sql_query(min_max, connection)\n",
    "display(df_min_max)"
   ]
  },
  {
   "cell_type": "markdown",
   "id": "21204cb0",
   "metadata": {
    "ExecuteTime": {
     "end_time": "2023-08-18T19:00:08.099639Z",
     "start_time": "2023-08-18T19:00:08.097012Z"
    }
   },
   "source": [
    "Когда мы смотрели работодателя и количество регионов, в которых он публикует свои вакансии. У нас попались 2 работадателя которые публиковались во многих регионах но были неизвестны - Спецремонт\t(116) и Поляков Денис Иванович\t(88). Посмотрим кто это такие и чем занимаються."
   ]
  },
  {
   "cell_type": "code",
   "execution_count": 59,
   "id": "af5080fb",
   "metadata": {
    "ExecuteTime": {
     "end_time": "2023-08-19T20:52:59.027969Z",
     "start_time": "2023-08-19T20:52:59.024385Z"
    }
   },
   "outputs": [],
   "source": [
    "specification = f'''select \n",
    "                        e.name firm,\n",
    "                        v.name vacancy,\n",
    "                        v.key_skills,\n",
    "                        v.schedule,\n",
    "                        v.experience,\n",
    "                        v.salary_from,\n",
    "                        v.salary_to,\n",
    "                        i.name activities,\n",
    "                        a.name area_v\n",
    "                    \n",
    "                    from VACANCIES v\n",
    "                        left join EMPLOYERS e on v.employer_id = e.id\n",
    "                        left join employers_industries ei \n",
    "                                                    on e.id = ei.employer_id \n",
    "                        left join industries i on ei.industry_id = i.id\n",
    "                        left join areas a on v.area_id = a.id\n",
    "                    \n",
    "                    where \n",
    "                        e.name = 'Спецремонт' \n",
    "                        or e.name = 'Поляков Денис Иванович'\n",
    "                    \n",
    "                    group by firm, vacancy, v.key_skills, v.schedule, \n",
    "                                v.experience, v.salary_from, v.salary_to,\n",
    "                                activities, area_v\n",
    "                    \n",
    "                    order by firm\n",
    "                '''"
   ]
  },
  {
   "cell_type": "code",
   "execution_count": 60,
   "id": "df335fab",
   "metadata": {
    "ExecuteTime": {
     "end_time": "2023-08-19T20:52:59.129125Z",
     "start_time": "2023-08-19T20:52:59.030387Z"
    },
    "scrolled": false
   },
   "outputs": [
    {
     "data": {
      "text/html": [
       "<div>\n",
       "<style scoped>\n",
       "    .dataframe tbody tr th:only-of-type {\n",
       "        vertical-align: middle;\n",
       "    }\n",
       "\n",
       "    .dataframe tbody tr th {\n",
       "        vertical-align: top;\n",
       "    }\n",
       "\n",
       "    .dataframe thead th {\n",
       "        text-align: right;\n",
       "    }\n",
       "</style>\n",
       "<table border=\"1\" class=\"dataframe\">\n",
       "  <thead>\n",
       "    <tr style=\"text-align: right;\">\n",
       "      <th></th>\n",
       "      <th>firm</th>\n",
       "      <th>vacancy</th>\n",
       "      <th>key_skills</th>\n",
       "      <th>schedule</th>\n",
       "      <th>experience</th>\n",
       "      <th>salary_from</th>\n",
       "      <th>salary_to</th>\n",
       "      <th>activities</th>\n",
       "      <th>area_v</th>\n",
       "    </tr>\n",
       "  </thead>\n",
       "  <tbody>\n",
       "    <tr>\n",
       "      <th>0</th>\n",
       "      <td>Поляков Денис Иванович</td>\n",
       "      <td>Компьютерный мастер</td>\n",
       "      <td>Навыки продаж\\tНавыки работы с возражениями\\tУ...</td>\n",
       "      <td>Полный день</td>\n",
       "      <td>От 1 года до 3 лет</td>\n",
       "      <td>70000</td>\n",
       "      <td>NaN</td>\n",
       "      <td>None</td>\n",
       "      <td>Тула</td>\n",
       "    </tr>\n",
       "    <tr>\n",
       "      <th>1</th>\n",
       "      <td>Поляков Денис Иванович</td>\n",
       "      <td>Компьютерный мастер</td>\n",
       "      <td>Техники продаж\\tУверенный пользователь ПК\\tРем...</td>\n",
       "      <td>Сменный график</td>\n",
       "      <td>От 1 года до 3 лет</td>\n",
       "      <td>60000</td>\n",
       "      <td>NaN</td>\n",
       "      <td>None</td>\n",
       "      <td>Орел</td>\n",
       "    </tr>\n",
       "    <tr>\n",
       "      <th>2</th>\n",
       "      <td>Поляков Денис Иванович</td>\n",
       "      <td>Компьютерный мастер</td>\n",
       "      <td>Техники продаж\\tУверенный пользователь ПК\\tРем...</td>\n",
       "      <td>Сменный график</td>\n",
       "      <td>От 1 года до 3 лет</td>\n",
       "      <td>60000</td>\n",
       "      <td>NaN</td>\n",
       "      <td>None</td>\n",
       "      <td>Симферополь</td>\n",
       "    </tr>\n",
       "    <tr>\n",
       "      <th>3</th>\n",
       "      <td>Поляков Денис Иванович</td>\n",
       "      <td>Компьютерный мастер</td>\n",
       "      <td>Техники продаж\\tУверенный пользователь ПК\\tРем...</td>\n",
       "      <td>Сменный график</td>\n",
       "      <td>От 1 года до 3 лет</td>\n",
       "      <td>60000</td>\n",
       "      <td>NaN</td>\n",
       "      <td>None</td>\n",
       "      <td>Тамбов</td>\n",
       "    </tr>\n",
       "    <tr>\n",
       "      <th>4</th>\n",
       "      <td>Поляков Денис Иванович</td>\n",
       "      <td>Компьютерный мастер</td>\n",
       "      <td>Техники продаж\\tУверенный пользователь ПК\\tРем...</td>\n",
       "      <td>Сменный график</td>\n",
       "      <td>От 1 года до 3 лет</td>\n",
       "      <td>60000</td>\n",
       "      <td>NaN</td>\n",
       "      <td>None</td>\n",
       "      <td>Томск</td>\n",
       "    </tr>\n",
       "    <tr>\n",
       "      <th>...</th>\n",
       "      <td>...</td>\n",
       "      <td>...</td>\n",
       "      <td>...</td>\n",
       "      <td>...</td>\n",
       "      <td>...</td>\n",
       "      <td>...</td>\n",
       "      <td>...</td>\n",
       "      <td>...</td>\n",
       "      <td>...</td>\n",
       "    </tr>\n",
       "    <tr>\n",
       "      <th>270</th>\n",
       "      <td>Спецремонт</td>\n",
       "      <td>Ученик компьютерного мастера</td>\n",
       "      <td>Ремонт ПК\\tАктивные продажи\\tОбучение персонал...</td>\n",
       "      <td>Сменный график</td>\n",
       "      <td>Нет опыта</td>\n",
       "      <td>80000</td>\n",
       "      <td>NaN</td>\n",
       "      <td>None</td>\n",
       "      <td>Орск</td>\n",
       "    </tr>\n",
       "    <tr>\n",
       "      <th>271</th>\n",
       "      <td>Спецремонт</td>\n",
       "      <td>Ученик компьютерного мастера</td>\n",
       "      <td>Ремонт ПК\\tАктивные продажи\\tОбучение персонал...</td>\n",
       "      <td>Сменный график</td>\n",
       "      <td>Нет опыта</td>\n",
       "      <td>80000</td>\n",
       "      <td>NaN</td>\n",
       "      <td>None</td>\n",
       "      <td>Петропавловск-Камчатский</td>\n",
       "    </tr>\n",
       "    <tr>\n",
       "      <th>272</th>\n",
       "      <td>Спецремонт</td>\n",
       "      <td>Ученик компьютерного мастера</td>\n",
       "      <td>Ремонт ПК\\tАктивные продажи\\tОбучение персонал...</td>\n",
       "      <td>Сменный график</td>\n",
       "      <td>Нет опыта</td>\n",
       "      <td>85000</td>\n",
       "      <td>NaN</td>\n",
       "      <td>None</td>\n",
       "      <td>Южно-Сахалинск</td>\n",
       "    </tr>\n",
       "    <tr>\n",
       "      <th>273</th>\n",
       "      <td>Спецремонт</td>\n",
       "      <td>Ученик компьютерного мастера</td>\n",
       "      <td>Ремонт ПК\\tАктивные продажи\\tОбучение персонал...</td>\n",
       "      <td>Сменный график</td>\n",
       "      <td>Нет опыта</td>\n",
       "      <td>75000</td>\n",
       "      <td>NaN</td>\n",
       "      <td>None</td>\n",
       "      <td>Елец</td>\n",
       "    </tr>\n",
       "    <tr>\n",
       "      <th>274</th>\n",
       "      <td>Спецремонт</td>\n",
       "      <td>Ученик компьютерного мастера</td>\n",
       "      <td>Ремонт ПК\\tОбучение и развитие\\tДиагностика\\tР...</td>\n",
       "      <td>Сменный график</td>\n",
       "      <td>Нет опыта</td>\n",
       "      <td>110000</td>\n",
       "      <td>NaN</td>\n",
       "      <td>None</td>\n",
       "      <td>Норильск</td>\n",
       "    </tr>\n",
       "  </tbody>\n",
       "</table>\n",
       "<p>275 rows × 9 columns</p>\n",
       "</div>"
      ],
      "text/plain": [
       "                       firm                       vacancy  \\\n",
       "0    Поляков Денис Иванович           Компьютерный мастер   \n",
       "1    Поляков Денис Иванович           Компьютерный мастер   \n",
       "2    Поляков Денис Иванович           Компьютерный мастер   \n",
       "3    Поляков Денис Иванович           Компьютерный мастер   \n",
       "4    Поляков Денис Иванович           Компьютерный мастер   \n",
       "..                      ...                           ...   \n",
       "270              Спецремонт  Ученик компьютерного мастера   \n",
       "271              Спецремонт  Ученик компьютерного мастера   \n",
       "272              Спецремонт  Ученик компьютерного мастера   \n",
       "273              Спецремонт  Ученик компьютерного мастера   \n",
       "274              Спецремонт  Ученик компьютерного мастера   \n",
       "\n",
       "                                            key_skills        schedule  \\\n",
       "0    Навыки продаж\\tНавыки работы с возражениями\\tУ...     Полный день   \n",
       "1    Техники продаж\\tУверенный пользователь ПК\\tРем...  Сменный график   \n",
       "2    Техники продаж\\tУверенный пользователь ПК\\tРем...  Сменный график   \n",
       "3    Техники продаж\\tУверенный пользователь ПК\\tРем...  Сменный график   \n",
       "4    Техники продаж\\tУверенный пользователь ПК\\tРем...  Сменный график   \n",
       "..                                                 ...             ...   \n",
       "270  Ремонт ПК\\tАктивные продажи\\tОбучение персонал...  Сменный график   \n",
       "271  Ремонт ПК\\tАктивные продажи\\tОбучение персонал...  Сменный график   \n",
       "272  Ремонт ПК\\tАктивные продажи\\tОбучение персонал...  Сменный график   \n",
       "273  Ремонт ПК\\tАктивные продажи\\tОбучение персонал...  Сменный график   \n",
       "274  Ремонт ПК\\tОбучение и развитие\\tДиагностика\\tР...  Сменный график   \n",
       "\n",
       "             experience  salary_from  salary_to activities  \\\n",
       "0    От 1 года до 3 лет        70000        NaN       None   \n",
       "1    От 1 года до 3 лет        60000        NaN       None   \n",
       "2    От 1 года до 3 лет        60000        NaN       None   \n",
       "3    От 1 года до 3 лет        60000        NaN       None   \n",
       "4    От 1 года до 3 лет        60000        NaN       None   \n",
       "..                  ...          ...        ...        ...   \n",
       "270           Нет опыта        80000        NaN       None   \n",
       "271           Нет опыта        80000        NaN       None   \n",
       "272           Нет опыта        85000        NaN       None   \n",
       "273           Нет опыта        75000        NaN       None   \n",
       "274           Нет опыта       110000        NaN       None   \n",
       "\n",
       "                       area_v  \n",
       "0                        Тула  \n",
       "1                        Орел  \n",
       "2                 Симферополь  \n",
       "3                      Тамбов  \n",
       "4                       Томск  \n",
       "..                        ...  \n",
       "270                      Орск  \n",
       "271  Петропавловск-Камчатский  \n",
       "272            Южно-Сахалинск  \n",
       "273                      Елец  \n",
       "274                  Норильск  \n",
       "\n",
       "[275 rows x 9 columns]"
      ]
     },
     "metadata": {},
     "output_type": "display_data"
    }
   ],
   "source": [
    "df_specification = pd.read_sql_query(specification, connection)\n",
    "display(df_specification)"
   ]
  },
  {
   "cell_type": "markdown",
   "id": "29556bed",
   "metadata": {},
   "source": [
    "Как видим название вакансий Компьютерный мастер, либо Ученик компьютерного мастера. Мне сразу напоминает листовки на на дверях подъездов -  \"Живу рядом, приду быстро, пенсионерам скидки\". И навыки специфические - Навыки продаж, Навыки работы с возражениями. Набирают народ без опыта, либо с опытом от 1 года до 3 лет. Денег предлагают от 40 000 до 150 000. Сфера деятельности не указана. Но можно найти на этом сайте - https://egrul.nalog.ru/index.html. У Поляков Денис Иванович - найдем целых 7 видов деятельности, а вот организаций с названием Спецремонт по РФ достаточно много и не все из них занимаються деятельностью связанной с IT. С ИНН было бы проще найти."
   ]
  },
  {
   "cell_type": "code",
   "execution_count": 61,
   "id": "dea09a30",
   "metadata": {
    "ExecuteTime": {
     "end_time": "2023-08-19T20:52:59.134250Z",
     "start_time": "2023-08-19T20:52:59.131611Z"
    }
   },
   "outputs": [],
   "source": [
    "activities = f'''select\n",
    "                    i.name activities ,\n",
    "                    count(e.id)\n",
    "\n",
    "                from EMPLOYERS e\n",
    "                    left join EMPLOYERS_INDUSTRIES ei on ei.employer_id = e.id\n",
    "                    left join INDUSTRIES i on ei.industry_id = i.id\n",
    "                \n",
    "                group by activities\n",
    "                \n",
    "                order by count(e.id) desc\n",
    "              '''"
   ]
  },
  {
   "cell_type": "code",
   "execution_count": 62,
   "id": "fe9367d9",
   "metadata": {
    "ExecuteTime": {
     "end_time": "2023-08-19T20:52:59.194363Z",
     "start_time": "2023-08-19T20:52:59.138225Z"
    }
   },
   "outputs": [
    {
     "data": {
      "text/html": [
       "<div>\n",
       "<style scoped>\n",
       "    .dataframe tbody tr th:only-of-type {\n",
       "        vertical-align: middle;\n",
       "    }\n",
       "\n",
       "    .dataframe tbody tr th {\n",
       "        vertical-align: top;\n",
       "    }\n",
       "\n",
       "    .dataframe thead th {\n",
       "        text-align: right;\n",
       "    }\n",
       "</style>\n",
       "<table border=\"1\" class=\"dataframe\">\n",
       "  <thead>\n",
       "    <tr style=\"text-align: right;\">\n",
       "      <th></th>\n",
       "      <th>activities</th>\n",
       "      <th>count</th>\n",
       "    </tr>\n",
       "  </thead>\n",
       "  <tbody>\n",
       "    <tr>\n",
       "      <th>0</th>\n",
       "      <td>None</td>\n",
       "      <td>8419</td>\n",
       "    </tr>\n",
       "    <tr>\n",
       "      <th>1</th>\n",
       "      <td>Разработка программного обеспечения</td>\n",
       "      <td>3553</td>\n",
       "    </tr>\n",
       "    <tr>\n",
       "      <th>2</th>\n",
       "      <td>Системная интеграция,  автоматизации технологи...</td>\n",
       "      <td>2993</td>\n",
       "    </tr>\n",
       "    <tr>\n",
       "      <th>3</th>\n",
       "      <td>Интернет-компания (поисковики, платежные систе...</td>\n",
       "      <td>1675</td>\n",
       "    </tr>\n",
       "    <tr>\n",
       "      <th>4</th>\n",
       "      <td>Маркетинговые, рекламные, BTL, дизайнерские, E...</td>\n",
       "      <td>798</td>\n",
       "    </tr>\n",
       "    <tr>\n",
       "      <th>...</th>\n",
       "      <td>...</td>\n",
       "      <td>...</td>\n",
       "    </tr>\n",
       "    <tr>\n",
       "      <th>290</th>\n",
       "      <td>Ритуальные услуги</td>\n",
       "      <td>4</td>\n",
       "    </tr>\n",
       "    <tr>\n",
       "      <th>291</th>\n",
       "      <td>Лифтовое хозяйство (монтаж, сервис, ремонт)</td>\n",
       "      <td>4</td>\n",
       "    </tr>\n",
       "    <tr>\n",
       "      <th>292</th>\n",
       "      <td>Автошкола</td>\n",
       "      <td>3</td>\n",
       "    </tr>\n",
       "    <tr>\n",
       "      <th>293</th>\n",
       "      <td>Ботанический сад, зоопарк, заповедник</td>\n",
       "      <td>3</td>\n",
       "    </tr>\n",
       "    <tr>\n",
       "      <th>294</th>\n",
       "      <td>Ассоциация в сфере культуры, искусства</td>\n",
       "      <td>1</td>\n",
       "    </tr>\n",
       "  </tbody>\n",
       "</table>\n",
       "<p>295 rows × 2 columns</p>\n",
       "</div>"
      ],
      "text/plain": [
       "                                            activities  count\n",
       "0                                                 None   8419\n",
       "1                  Разработка программного обеспечения   3553\n",
       "2    Системная интеграция,  автоматизации технологи...   2993\n",
       "3    Интернет-компания (поисковики, платежные систе...   1675\n",
       "4    Маркетинговые, рекламные, BTL, дизайнерские, E...    798\n",
       "..                                                 ...    ...\n",
       "290                                  Ритуальные услуги      4\n",
       "291        Лифтовое хозяйство (монтаж, сервис, ремонт)      4\n",
       "292                                          Автошкола      3\n",
       "293              Ботанический сад, зоопарк, заповедник      3\n",
       "294             Ассоциация в сфере культуры, искусства      1\n",
       "\n",
       "[295 rows x 2 columns]"
      ]
     },
     "metadata": {},
     "output_type": "display_data"
    }
   ],
   "source": [
    "df_activities = pd.read_sql_query(activities, connection)\n",
    "display(df_activities)"
   ]
  },
  {
   "cell_type": "markdown",
   "id": "029d5f58",
   "metadata": {
    "ExecuteTime": {
     "end_time": "2023-08-19T14:17:49.164828Z",
     "start_time": "2023-08-19T14:17:49.160640Z"
    }
   },
   "source": [
    "Некоторыми результатами исследования я поделился в основном теле проекта.Ну а здесь можно наглядно посмотреть."
   ]
  },
  {
   "cell_type": "code",
   "execution_count": 63,
   "id": "b27882e1",
   "metadata": {
    "ExecuteTime": {
     "end_time": "2023-08-19T20:52:59.200568Z",
     "start_time": "2023-08-19T20:52:59.196844Z"
    }
   },
   "outputs": [],
   "source": [
    "# количество клучевых скилов в среднем, также max и min\n",
    "key_skills = f'''select \n",
    "                    'average'things,\n",
    "                    round(avg(length(key_skills)-length(replace(key_skills, \n",
    "                                            CHR(9), ''))+1), 2) calculating\n",
    "                from VACANCIES\n",
    "                \n",
    "                where key_skills is not NULL\n",
    "                \n",
    "                union all\n",
    "                \n",
    "                select\n",
    "                    'min',\n",
    "                    min(length(key_skills)-length(replace(key_skills, \n",
    "                                                        CHR(9), ''))+1)\n",
    "                from VACANCIES\n",
    "                \n",
    "                where key_skills is not NULL\n",
    "                \n",
    "                union all \n",
    "                \n",
    "                 select\n",
    "                    'max',\n",
    "                    max(length(key_skills)-length(replace(key_skills, \n",
    "                                                        CHR(9), ''))+1)\n",
    "                from VACANCIES\n",
    "                \n",
    "                where key_skills is not NULL\n",
    "            '''"
   ]
  },
  {
   "cell_type": "code",
   "execution_count": 64,
   "id": "dacdb9a1",
   "metadata": {
    "ExecuteTime": {
     "end_time": "2023-08-19T20:52:59.464300Z",
     "start_time": "2023-08-19T20:52:59.202152Z"
    }
   },
   "outputs": [
    {
     "data": {
      "text/html": [
       "<div>\n",
       "<style scoped>\n",
       "    .dataframe tbody tr th:only-of-type {\n",
       "        vertical-align: middle;\n",
       "    }\n",
       "\n",
       "    .dataframe tbody tr th {\n",
       "        vertical-align: top;\n",
       "    }\n",
       "\n",
       "    .dataframe thead th {\n",
       "        text-align: right;\n",
       "    }\n",
       "</style>\n",
       "<table border=\"1\" class=\"dataframe\">\n",
       "  <thead>\n",
       "    <tr style=\"text-align: right;\">\n",
       "      <th></th>\n",
       "      <th>things</th>\n",
       "      <th>calculating</th>\n",
       "    </tr>\n",
       "  </thead>\n",
       "  <tbody>\n",
       "    <tr>\n",
       "      <th>0</th>\n",
       "      <td>average</td>\n",
       "      <td>6.37</td>\n",
       "    </tr>\n",
       "    <tr>\n",
       "      <th>1</th>\n",
       "      <td>min</td>\n",
       "      <td>1.00</td>\n",
       "    </tr>\n",
       "    <tr>\n",
       "      <th>2</th>\n",
       "      <td>max</td>\n",
       "      <td>30.00</td>\n",
       "    </tr>\n",
       "  </tbody>\n",
       "</table>\n",
       "</div>"
      ],
      "text/plain": [
       "    things  calculating\n",
       "0  average         6.37\n",
       "1      min         1.00\n",
       "2      max        30.00"
      ]
     },
     "metadata": {},
     "output_type": "display_data"
    }
   ],
   "source": [
    "df_skills = pd.read_sql_query(key_skills, connection)\n",
    "display(df_skills)"
   ]
  },
  {
   "cell_type": "code",
   "execution_count": null,
   "id": "8db0da09",
   "metadata": {},
   "outputs": [],
   "source": [
    "# закрываем соединение\n",
    "connection.close()"
   ]
  }
 ],
 "metadata": {
  "colab": {
   "collapsed_sections": [
    "8d62a9f3-f64e-4fe7-bdac-c4dffa16155e"
   ],
   "provenance": []
  },
  "kernelspec": {
   "display_name": "Python 3 (ipykernel)",
   "language": "python",
   "name": "python3"
  },
  "language_info": {
   "codemirror_mode": {
    "name": "ipython",
    "version": 3
   },
   "file_extension": ".py",
   "mimetype": "text/x-python",
   "name": "python",
   "nbconvert_exporter": "python",
   "pygments_lexer": "ipython3",
   "version": "3.11.4"
  }
 },
 "nbformat": 4,
 "nbformat_minor": 5
}
